{
 "cells": [
  {
   "cell_type": "code",
   "execution_count": 2,
   "metadata": {
    "colab": {
     "base_uri": "https://localhost:8080/",
     "height": 139
    },
    "colab_type": "code",
    "executionInfo": {
     "elapsed": 1179,
     "status": "ok",
     "timestamp": 1588219719331,
     "user": {
      "displayName": "An Tran",
      "photoUrl": "",
      "userId": "10274312836707434279"
     },
     "user_tz": 420
    },
    "id": "g4KXhwA1C_QZ",
    "outputId": "dd9d80cd-ab43-4d4c-fb65-533562ae5258"
   },
   "outputs": [
    {
     "name": "stderr",
     "output_type": "stream",
     "text": [
      "/usr/local/lib/python3.6/dist-packages/statsmodels/tools/_testing.py:19: FutureWarning: pandas.util.testing is deprecated. Use the functions in the public API at pandas.testing instead.\n",
      "  import pandas.util.testing as tm\n",
      "/usr/local/lib/python3.6/dist-packages/sklearn/externals/six.py:31: FutureWarning: The module is deprecated in version 0.21 and will be removed in version 0.23 since we've dropped support for Python 2.7. Please rely on the official version of six (https://pypi.org/project/six/).\n",
      "  \"(https://pypi.org/project/six/).\", FutureWarning)\n",
      "/usr/local/lib/python3.6/dist-packages/sklearn/utils/deprecation.py:144: FutureWarning: The sklearn.neighbors.base module is  deprecated in version 0.22 and will be removed in version 0.24. The corresponding classes / functions should instead be imported from sklearn.neighbors. Anything that cannot be imported from sklearn.neighbors is now part of the private API.\n",
      "  warnings.warn(message, FutureWarning)\n"
     ]
    }
   ],
   "source": [
    "import pandas as pd\n",
    "import numpy as np\n",
    "import seaborn as sns\n",
    "\n",
    "from sklearn.linear_model import LogisticRegression\n",
    "from sklearn.ensemble import RandomForestClassifier, GradientBoostingClassifier\n",
    "from sklearn.model_selection import GroupKFold, StratifiedKFold, train_test_split, cross_validate, GridSearchCV\n",
    "from sklearn.metrics import classification_report, precision_score, recall_score, accuracy_score, confusion_matrix, roc_curve, precision_recall_curve, auc, f1_score\n",
    "from imblearn.under_sampling import RandomUnderSampler\n",
    "from imblearn.over_sampling import RandomOverSampler\n",
    "from sklearn.preprocessing import StandardScaler, OneHotEncoder, PowerTransformer\n",
    "from sklearn.feature_selection import RFE, SelectFromModel\n",
    "from xgboost import XGBClassifier, plot_importance\n",
    "from IPython import display\n",
    "from datetime import datetime\n",
    "from patsy import dmatrices\n",
    "from statsmodels.stats.outliers_influence import variance_inflation_factor\n",
    "\n",
    "import matplotlib.pyplot as plt\n",
    "from matplotlib import cm\n",
    "\n",
    "from pylab import rcParams\n",
    "\n",
    "import os\n",
    "import re\n",
    "import time\n",
    "\n",
    "seed = 9001\n",
    "np.random.seed(seed)"
   ]
  },
  {
   "cell_type": "markdown",
   "metadata": {
    "colab_type": "text",
    "id": "M_fzN9AgMBZh"
   },
   "source": [
    "### Load the non-temporal processed data"
   ]
  },
  {
   "cell_type": "code",
   "execution_count": 4,
   "metadata": {
    "colab": {
     "base_uri": "https://localhost:8080/",
     "height": 34
    },
    "colab_type": "code",
    "executionInfo": {
     "elapsed": 2808,
     "status": "ok",
     "timestamp": 1588219787791,
     "user": {
      "displayName": "An Tran",
      "photoUrl": "",
      "userId": "10274312836707434279"
     },
     "user_tz": 420
    },
    "id": "8G8im3IPMHSx",
    "outputId": "f9aa1306-be2c-43af-d6d6-80ada5903de1"
   },
   "outputs": [
    {
     "name": "stdout",
     "output_type": "stream",
     "text": [
      "/content/drive/My Drive/sepsis\n"
     ]
    }
   ],
   "source": [
    "X = pd.read_csv('non_temporal_processed.csv')"
   ]
  },
  {
   "cell_type": "code",
   "execution_count": 0,
   "metadata": {
    "colab": {},
    "colab_type": "code",
    "id": "ErzXU0K4Gp7B"
   },
   "outputs": [],
   "source": [
    "signals = ['HR', 'MAP', 'O2Sat', 'SBP', 'Resp', 'DBP', 'Temp', 'id'] # include 'id' to perform groupby"
   ]
  },
  {
   "cell_type": "code",
   "execution_count": 0,
   "metadata": {
    "colab": {},
    "colab_type": "code",
    "id": "Aa193qHxGp7D"
   },
   "outputs": [],
   "source": [
    "demographics = [var for var in X if var not in signals]"
   ]
  },
  {
   "cell_type": "code",
   "execution_count": 0,
   "metadata": {
    "colab": {
     "base_uri": "https://localhost:8080/",
     "height": 34
    },
    "colab_type": "code",
    "executionInfo": {
     "elapsed": 224,
     "status": "ok",
     "timestamp": 1587966926809,
     "user": {
      "displayName": "An Tran",
      "photoUrl": "",
      "userId": "10274312836707434279"
     },
     "user_tz": 420
    },
    "id": "Y_t_K9jbGp7F",
    "outputId": "a56ec543-7af3-4eaf-ce34-cbf7f5682371"
   },
   "outputs": [
    {
     "data": {
      "text/plain": [
       "['SepsisLabel', 'Gender', 'Age', 'hour', 'HospAdmTime']"
      ]
     },
     "execution_count": 6,
     "metadata": {
      "tags": []
     },
     "output_type": "execute_result"
    }
   ],
   "source": [
    "demographics"
   ]
  },
  {
   "cell_type": "markdown",
   "metadata": {
    "colab_type": "text",
    "id": "Ym_Lhu_wGp7H"
   },
   "source": [
    "## Use temporal effect with rolling window of 6 data points"
   ]
  },
  {
   "cell_type": "markdown",
   "metadata": {
    "colab_type": "text",
    "id": "G1v_fy0JGp7H"
   },
   "source": [
    "### Mean rolling windows"
   ]
  },
  {
   "cell_type": "code",
   "execution_count": 0,
   "metadata": {
    "colab": {},
    "colab_type": "code",
    "id": "ZsVhepnkGp7I"
   },
   "outputs": [],
   "source": [
    "X_mean = X[signals].groupby('id').rolling(window=6).mean()"
   ]
  },
  {
   "cell_type": "code",
   "execution_count": 0,
   "metadata": {
    "colab": {},
    "colab_type": "code",
    "id": "47KQ-nrxGp7J"
   },
   "outputs": [],
   "source": [
    "X_mean = X_mean.drop(columns='id')"
   ]
  },
  {
   "cell_type": "code",
   "execution_count": 0,
   "metadata": {
    "colab": {},
    "colab_type": "code",
    "id": "GKQ7PX4hGp7M"
   },
   "outputs": [],
   "source": [
    "X_mean.columns += '_mean'"
   ]
  },
  {
   "cell_type": "markdown",
   "metadata": {
    "colab_type": "text",
    "id": "dMDNqsr6Gp7P"
   },
   "source": [
    "### Standard deviation rolling windows"
   ]
  },
  {
   "cell_type": "code",
   "execution_count": 0,
   "metadata": {
    "colab": {},
    "colab_type": "code",
    "id": "5GupQ5bgGp7P"
   },
   "outputs": [],
   "source": [
    "X_std = X[signals].groupby('id').rolling(window=6).std()"
   ]
  },
  {
   "cell_type": "code",
   "execution_count": 0,
   "metadata": {
    "colab": {},
    "colab_type": "code",
    "id": "zVTpiTPlGp7R"
   },
   "outputs": [],
   "source": [
    "X_std = X_std.drop(columns='id')"
   ]
  },
  {
   "cell_type": "code",
   "execution_count": 0,
   "metadata": {
    "colab": {},
    "colab_type": "code",
    "id": "t8fDo8nqGp7T"
   },
   "outputs": [],
   "source": [
    "X_std.columns += '_std'"
   ]
  },
  {
   "cell_type": "markdown",
   "metadata": {
    "colab_type": "text",
    "id": "L2gPsKCbGp7V"
   },
   "source": [
    "### Minimum value rolling windows"
   ]
  },
  {
   "cell_type": "code",
   "execution_count": 0,
   "metadata": {
    "colab": {},
    "colab_type": "code",
    "id": "z0B4UbZGGp7V"
   },
   "outputs": [],
   "source": [
    "X_min = X[signals].groupby('id').rolling(window=6).min()"
   ]
  },
  {
   "cell_type": "code",
   "execution_count": 0,
   "metadata": {
    "colab": {},
    "colab_type": "code",
    "id": "o54PFpeFGp7X"
   },
   "outputs": [],
   "source": [
    "X_min = X_min.drop(columns='id')"
   ]
  },
  {
   "cell_type": "code",
   "execution_count": 0,
   "metadata": {
    "colab": {},
    "colab_type": "code",
    "id": "79XivFzSGp7Z"
   },
   "outputs": [],
   "source": [
    "X_min.columns += '_min'"
   ]
  },
  {
   "cell_type": "markdown",
   "metadata": {
    "colab_type": "text",
    "id": "l5fGOO1OGp7a"
   },
   "source": [
    "### Maximum value rolling windows"
   ]
  },
  {
   "cell_type": "code",
   "execution_count": 0,
   "metadata": {
    "colab": {},
    "colab_type": "code",
    "id": "zdsnWv-sGp7a"
   },
   "outputs": [],
   "source": [
    "X_max = X[signals].groupby('id').rolling(window=6).max()"
   ]
  },
  {
   "cell_type": "code",
   "execution_count": 0,
   "metadata": {
    "colab": {},
    "colab_type": "code",
    "id": "iwYzQMnYGp7c"
   },
   "outputs": [],
   "source": [
    "X_max = X_max.drop(columns='id')"
   ]
  },
  {
   "cell_type": "code",
   "execution_count": 0,
   "metadata": {
    "colab": {},
    "colab_type": "code",
    "id": "P6T5l8uDGp7d"
   },
   "outputs": [],
   "source": [
    "X_max.columns += '_max'"
   ]
  },
  {
   "cell_type": "markdown",
   "metadata": {
    "colab_type": "text",
    "id": "DkEP94AVGp7f"
   },
   "source": [
    "### Difference between 6th hour and 5th hour"
   ]
  },
  {
   "cell_type": "code",
   "execution_count": 0,
   "metadata": {
    "colab": {},
    "colab_type": "code",
    "id": "PLM95awoGp7f"
   },
   "outputs": [],
   "source": [
    "# custom function to calculate difference betwen 6th and 5th hours\n",
    "\n",
    "def diff1(x):\n",
    "    return x[-1] - x[-2]"
   ]
  },
  {
   "cell_type": "code",
   "execution_count": 0,
   "metadata": {
    "colab": {},
    "colab_type": "code",
    "id": "otsfa15LGp7i"
   },
   "outputs": [],
   "source": [
    "X_diff1 = X[signals].groupby('id').rolling(window=6).apply(diff1, raw=True)"
   ]
  },
  {
   "cell_type": "code",
   "execution_count": 0,
   "metadata": {
    "colab": {},
    "colab_type": "code",
    "id": "b1sAsQB5Gp7k"
   },
   "outputs": [],
   "source": [
    "X_diff1 = X_diff1.drop(columns='id')"
   ]
  },
  {
   "cell_type": "code",
   "execution_count": 0,
   "metadata": {
    "colab": {},
    "colab_type": "code",
    "id": "oiUoaHXwGp7m"
   },
   "outputs": [],
   "source": [
    "X_diff1.columns += '_diff1'"
   ]
  },
  {
   "cell_type": "markdown",
   "metadata": {
    "colab_type": "text",
    "id": "IKoK8ad_Gp7o"
   },
   "source": [
    "### Difference between 5th hour and 4th hour"
   ]
  },
  {
   "cell_type": "code",
   "execution_count": 0,
   "metadata": {
    "colab": {},
    "colab_type": "code",
    "id": "V21Ct0LDGp7p"
   },
   "outputs": [],
   "source": [
    "# custom function to calculate difference between 5th and 4th hours\n",
    "\n",
    "def diff2(x):\n",
    "    return x[-2] - x[-3]"
   ]
  },
  {
   "cell_type": "code",
   "execution_count": 0,
   "metadata": {
    "colab": {},
    "colab_type": "code",
    "id": "_JnwF-IeGp7q"
   },
   "outputs": [],
   "source": [
    "X_diff2 = X[signals].groupby('id').rolling(window=6).apply(diff2, raw=True)"
   ]
  },
  {
   "cell_type": "code",
   "execution_count": 0,
   "metadata": {
    "colab": {},
    "colab_type": "code",
    "id": "DUmujqgLGp7s"
   },
   "outputs": [],
   "source": [
    "X_diff2 = X_diff2.drop(columns='id')"
   ]
  },
  {
   "cell_type": "code",
   "execution_count": 0,
   "metadata": {
    "colab": {},
    "colab_type": "code",
    "id": "amjxtuq_Gp7t"
   },
   "outputs": [],
   "source": [
    "X_diff2.columns += '_diff2'"
   ]
  },
  {
   "cell_type": "markdown",
   "metadata": {
    "colab_type": "text",
    "id": "SVdjmlsz_O-M"
   },
   "source": [
    "### Difference between 4th hour and 3rd hour"
   ]
  },
  {
   "cell_type": "code",
   "execution_count": 0,
   "metadata": {
    "colab": {},
    "colab_type": "code",
    "id": "QApi5qbW_O-M"
   },
   "outputs": [],
   "source": [
    "# custom function to calculate difference between 4th and 3rd hours\n",
    "\n",
    "def diff3(x):\n",
    "    return x[-3] - x[-4]"
   ]
  },
  {
   "cell_type": "code",
   "execution_count": 0,
   "metadata": {
    "colab": {},
    "colab_type": "code",
    "id": "t7fKDyvM_O-O"
   },
   "outputs": [],
   "source": [
    "X_diff3 = X[signals].groupby('id').rolling(window=6).apply(diff3, raw=True)"
   ]
  },
  {
   "cell_type": "code",
   "execution_count": 0,
   "metadata": {
    "colab": {},
    "colab_type": "code",
    "id": "zrnHc9HU_O-P"
   },
   "outputs": [],
   "source": [
    "X_diff3 = X_diff3.drop(columns='id')"
   ]
  },
  {
   "cell_type": "code",
   "execution_count": 0,
   "metadata": {
    "colab": {},
    "colab_type": "code",
    "id": "Y--hFjNP_O-R"
   },
   "outputs": [],
   "source": [
    "X_diff3.columns += '_diff3'"
   ]
  },
  {
   "cell_type": "markdown",
   "metadata": {
    "colab_type": "text",
    "id": "bth-dmXMAV-n"
   },
   "source": [
    "### Difference between 3rd hour and 2nd hour"
   ]
  },
  {
   "cell_type": "code",
   "execution_count": 0,
   "metadata": {
    "colab": {},
    "colab_type": "code",
    "id": "UFm6gIm-AV-o"
   },
   "outputs": [],
   "source": [
    "# custom function to calculate difference between 3rd and 2nd hours\n",
    "\n",
    "def diff4(x):\n",
    "    return x[-4] - x[-5]"
   ]
  },
  {
   "cell_type": "code",
   "execution_count": 0,
   "metadata": {
    "colab": {},
    "colab_type": "code",
    "id": "jDzBxCrPAV-r"
   },
   "outputs": [],
   "source": [
    "X_diff4 = X[signals].groupby('id').rolling(window=6).apply(diff4, raw=True)"
   ]
  },
  {
   "cell_type": "code",
   "execution_count": 0,
   "metadata": {
    "colab": {},
    "colab_type": "code",
    "id": "Q4lKvtnLAV-u"
   },
   "outputs": [],
   "source": [
    "X_diff4 = X_diff4.drop(columns='id')"
   ]
  },
  {
   "cell_type": "code",
   "execution_count": 0,
   "metadata": {
    "colab": {},
    "colab_type": "code",
    "id": "xA96IVBXAV-w"
   },
   "outputs": [],
   "source": [
    "X_diff4.columns += '_diff4'"
   ]
  },
  {
   "cell_type": "markdown",
   "metadata": {
    "colab_type": "text",
    "id": "rNlxRIswBMwa"
   },
   "source": [
    "### Difference between 2nd hour and 1st hour"
   ]
  },
  {
   "cell_type": "code",
   "execution_count": 0,
   "metadata": {
    "colab": {},
    "colab_type": "code",
    "id": "XoPRck_kBMwb"
   },
   "outputs": [],
   "source": [
    "# custom function to calculate difference between 2nd and 1st hours\n",
    "\n",
    "def diff5(x):\n",
    "    return x[-5] - x[0]"
   ]
  },
  {
   "cell_type": "code",
   "execution_count": 0,
   "metadata": {
    "colab": {},
    "colab_type": "code",
    "id": "Z2NQVblABMwc"
   },
   "outputs": [],
   "source": [
    "X_diff5 = X[signals].groupby('id').rolling(window=6).apply(diff5, raw=True)"
   ]
  },
  {
   "cell_type": "code",
   "execution_count": 0,
   "metadata": {
    "colab": {},
    "colab_type": "code",
    "id": "cKMe6ZmaBMwe"
   },
   "outputs": [],
   "source": [
    "X_diff5 = X_diff5.drop(columns='id')"
   ]
  },
  {
   "cell_type": "code",
   "execution_count": 0,
   "metadata": {
    "colab": {},
    "colab_type": "code",
    "id": "wxuhUhISBMwf"
   },
   "outputs": [],
   "source": [
    "X_diff5.columns += '_diff5'"
   ]
  },
  {
   "cell_type": "markdown",
   "metadata": {
    "colab_type": "text",
    "id": "GmdLPOJ4Gp7z"
   },
   "source": [
    "### Append all dataframes of the extracted statistics column-wise"
   ]
  },
  {
   "cell_type": "code",
   "execution_count": 0,
   "metadata": {
    "colab": {},
    "colab_type": "code",
    "id": "vJi2hZT7Gp7z"
   },
   "outputs": [],
   "source": [
    "df = pd.concat([X_mean, X_std, X_min, X_max, X_diff1, X_diff2, X_diff3, X_diff4, X_diff5], axis=1)"
   ]
  },
  {
   "cell_type": "code",
   "execution_count": 0,
   "metadata": {
    "colab": {},
    "colab_type": "code",
    "id": "Uhr8sS-3Gp72"
   },
   "outputs": [],
   "source": [
    "df = df.reset_index(drop=True) # drop the index 'id' "
   ]
  },
  {
   "cell_type": "code",
   "execution_count": 0,
   "metadata": {
    "colab": {
     "base_uri": "https://localhost:8080/",
     "height": 34
    },
    "colab_type": "code",
    "executionInfo": {
     "elapsed": 255,
     "status": "ok",
     "timestamp": 1587620578454,
     "user": {
      "displayName": "An Tran",
      "photoUrl": "",
      "userId": "10274312836707434279"
     },
     "user_tz": 420
    },
    "id": "JDaAoBACCEIV",
    "outputId": "67684a02-587b-43f9-838f-cbb70bae78c2"
   },
   "outputs": [
    {
     "data": {
      "text/plain": [
       "(1552210, 63)"
      ]
     },
     "execution_count": 47,
     "metadata": {
      "tags": []
     },
     "output_type": "execute_result"
    }
   ],
   "source": [
    "df.shape"
   ]
  },
  {
   "cell_type": "markdown",
   "metadata": {
    "colab_type": "text",
    "id": "xw6PwRF3Gp76"
   },
   "source": [
    "### Append the demographics information to the combined dataframe"
   ]
  },
  {
   "cell_type": "code",
   "execution_count": 0,
   "metadata": {
    "colab": {},
    "colab_type": "code",
    "id": "KKS_IHTOGp77"
   },
   "outputs": [],
   "source": [
    "df = pd.concat([df, X[demographics]], axis=1)"
   ]
  },
  {
   "cell_type": "code",
   "execution_count": 0,
   "metadata": {
    "colab": {
     "base_uri": "https://localhost:8080/",
     "height": 34
    },
    "colab_type": "code",
    "executionInfo": {
     "elapsed": 634,
     "status": "ok",
     "timestamp": 1587016220651,
     "user": {
      "displayName": "An Tran",
      "photoUrl": "",
      "userId": "10274312836707434279"
     },
     "user_tz": 420
    },
    "id": "mTovtB_TGp78",
    "outputId": "cc95699f-2d68-4d58-f3f3-f9835cbccd11"
   },
   "outputs": [
    {
     "data": {
      "text/plain": [
       "(1552210, 68)"
      ]
     },
     "execution_count": 49,
     "metadata": {
      "tags": []
     },
     "output_type": "execute_result"
    }
   ],
   "source": [
    "df.shape"
   ]
  },
  {
   "cell_type": "markdown",
   "metadata": {
    "colab_type": "text",
    "id": "DPegumOKGp7-"
   },
   "source": [
    "### Now drop the NaN rows that were used to extract statistics because they are not needed anymore"
   ]
  },
  {
   "cell_type": "code",
   "execution_count": 0,
   "metadata": {
    "colab": {},
    "colab_type": "code",
    "id": "5BJoLh4JGp7-"
   },
   "outputs": [],
   "source": [
    "# get the indices of the NaN rows to drop them in the label column\n",
    "\n",
    "nan_ind = df.loc[df.isnull().any(1)].index"
   ]
  },
  {
   "cell_type": "code",
   "execution_count": 0,
   "metadata": {
    "colab": {},
    "colab_type": "code",
    "id": "8Oj6OZ2SGp7_"
   },
   "outputs": [],
   "source": [
    "# drop rows that have at least 1 NaN in one of the columns\n",
    "\n",
    "df = df.dropna()"
   ]
  },
  {
   "cell_type": "code",
   "execution_count": 0,
   "metadata": {
    "colab": {
     "base_uri": "https://localhost:8080/",
     "height": 221
    },
    "colab_type": "code",
    "executionInfo": {
     "elapsed": 672,
     "status": "ok",
     "timestamp": 1587016230433,
     "user": {
      "displayName": "An Tran",
      "photoUrl": "",
      "userId": "10274312836707434279"
     },
     "user_tz": 420
    },
    "id": "HFFMUCHQGp8A",
    "outputId": "db1ccfa1-d3af-4e92-a081-3af0121b27f5"
   },
   "outputs": [
    {
     "data": {
      "text/plain": [
       "HR_mean        0.0\n",
       "MAP_mean       0.0\n",
       "O2Sat_mean     0.0\n",
       "SBP_mean       0.0\n",
       "Resp_mean      0.0\n",
       "              ... \n",
       "SepsisLabel    0.0\n",
       "Gender         0.0\n",
       "Age            0.0\n",
       "hour           0.0\n",
       "HospAdmTime    0.0\n",
       "Length: 68, dtype: float64"
      ]
     },
     "execution_count": 52,
     "metadata": {
      "tags": []
     },
     "output_type": "execute_result"
    }
   ],
   "source": [
    "# double check missing values again\n",
    "\n",
    "missing = (df.isnull().sum() / df.shape[0]) * 100\n",
    "missing"
   ]
  },
  {
   "cell_type": "markdown",
   "metadata": {
    "colab_type": "text",
    "id": "sqU2SwYQGp8D"
   },
   "source": [
    "### No more missing values. Let's save this dataset so we can access later"
   ]
  },
  {
   "cell_type": "code",
   "execution_count": 0,
   "metadata": {
    "colab": {},
    "colab_type": "code",
    "id": "DztUD2TMGp8D"
   },
   "outputs": [],
   "source": [
    "df.to_csv('6hour_extracted.csv', index=False)"
   ]
  },
  {
   "cell_type": "markdown",
   "metadata": {
    "colab_type": "text",
    "id": "Clu0fgxMJydc"
   },
   "source": [
    "### Let's read in 6-hour processed data"
   ]
  },
  {
   "cell_type": "code",
   "execution_count": 0,
   "metadata": {
    "colab": {},
    "colab_type": "code",
    "id": "Cul2QXGnJxEJ"
   },
   "outputs": [],
   "source": [
    "df = pd.read_csv('6hour_extracted.csv')"
   ]
  },
  {
   "cell_type": "code",
   "execution_count": 0,
   "metadata": {
    "colab": {
     "base_uri": "https://localhost:8080/",
     "height": 224
    },
    "colab_type": "code",
    "executionInfo": {
     "elapsed": 397,
     "status": "ok",
     "timestamp": 1587966951675,
     "user": {
      "displayName": "An Tran",
      "photoUrl": "",
      "userId": "10274312836707434279"
     },
     "user_tz": 420
    },
    "id": "uqCZJ62HOHIF",
    "outputId": "1f8f2c4c-c8fe-4856-c656-a9c914abe3f8"
   },
   "outputs": [
    {
     "data": {
      "text/html": [
       "<div>\n",
       "<style scoped>\n",
       "    .dataframe tbody tr th:only-of-type {\n",
       "        vertical-align: middle;\n",
       "    }\n",
       "\n",
       "    .dataframe tbody tr th {\n",
       "        vertical-align: top;\n",
       "    }\n",
       "\n",
       "    .dataframe thead th {\n",
       "        text-align: right;\n",
       "    }\n",
       "</style>\n",
       "<table border=\"1\" class=\"dataframe\">\n",
       "  <thead>\n",
       "    <tr style=\"text-align: right;\">\n",
       "      <th></th>\n",
       "      <th>HR_mean</th>\n",
       "      <th>MAP_mean</th>\n",
       "      <th>O2Sat_mean</th>\n",
       "      <th>SBP_mean</th>\n",
       "      <th>Resp_mean</th>\n",
       "      <th>DBP_mean</th>\n",
       "      <th>Temp_mean</th>\n",
       "      <th>HR_std</th>\n",
       "      <th>MAP_std</th>\n",
       "      <th>O2Sat_std</th>\n",
       "      <th>SBP_std</th>\n",
       "      <th>Resp_std</th>\n",
       "      <th>DBP_std</th>\n",
       "      <th>Temp_std</th>\n",
       "      <th>HR_min</th>\n",
       "      <th>MAP_min</th>\n",
       "      <th>O2Sat_min</th>\n",
       "      <th>SBP_min</th>\n",
       "      <th>Resp_min</th>\n",
       "      <th>DBP_min</th>\n",
       "      <th>Temp_min</th>\n",
       "      <th>HR_max</th>\n",
       "      <th>MAP_max</th>\n",
       "      <th>O2Sat_max</th>\n",
       "      <th>SBP_max</th>\n",
       "      <th>Resp_max</th>\n",
       "      <th>DBP_max</th>\n",
       "      <th>Temp_max</th>\n",
       "      <th>HR_diff1</th>\n",
       "      <th>MAP_diff1</th>\n",
       "      <th>O2Sat_diff1</th>\n",
       "      <th>SBP_diff1</th>\n",
       "      <th>Resp_diff1</th>\n",
       "      <th>DBP_diff1</th>\n",
       "      <th>Temp_diff1</th>\n",
       "      <th>HR_diff2</th>\n",
       "      <th>MAP_diff2</th>\n",
       "      <th>O2Sat_diff2</th>\n",
       "      <th>SBP_diff2</th>\n",
       "      <th>Resp_diff2</th>\n",
       "      <th>DBP_diff2</th>\n",
       "      <th>Temp_diff2</th>\n",
       "      <th>HR_diff3</th>\n",
       "      <th>MAP_diff3</th>\n",
       "      <th>O2Sat_diff3</th>\n",
       "      <th>SBP_diff3</th>\n",
       "      <th>Resp_diff3</th>\n",
       "      <th>DBP_diff3</th>\n",
       "      <th>Temp_diff3</th>\n",
       "      <th>HR_diff4</th>\n",
       "      <th>MAP_diff4</th>\n",
       "      <th>O2Sat_diff4</th>\n",
       "      <th>SBP_diff4</th>\n",
       "      <th>Resp_diff4</th>\n",
       "      <th>DBP_diff4</th>\n",
       "      <th>Temp_diff4</th>\n",
       "      <th>HR_diff5</th>\n",
       "      <th>MAP_diff5</th>\n",
       "      <th>O2Sat_diff5</th>\n",
       "      <th>SBP_diff5</th>\n",
       "      <th>Resp_diff5</th>\n",
       "      <th>DBP_diff5</th>\n",
       "      <th>Temp_diff5</th>\n",
       "      <th>SepsisLabel</th>\n",
       "      <th>Gender</th>\n",
       "      <th>Age</th>\n",
       "      <th>hour</th>\n",
       "      <th>HospAdmTime</th>\n",
       "    </tr>\n",
       "  </thead>\n",
       "  <tbody>\n",
       "    <tr>\n",
       "      <th>0</th>\n",
       "      <td>97.666667</td>\n",
       "      <td>84.220000</td>\n",
       "      <td>93.916667</td>\n",
       "      <td>114.000000</td>\n",
       "      <td>22.750000</td>\n",
       "      <td>43.0</td>\n",
       "      <td>36.110000</td>\n",
       "      <td>7.941452</td>\n",
       "      <td>7.287046</td>\n",
       "      <td>3.666288</td>\n",
       "      <td>12.393547</td>\n",
       "      <td>4.120073</td>\n",
       "      <td>0.0</td>\n",
       "      <td>0.000000</td>\n",
       "      <td>89.0</td>\n",
       "      <td>75.33</td>\n",
       "      <td>88.5</td>\n",
       "      <td>98.0</td>\n",
       "      <td>19.0</td>\n",
       "      <td>43.0</td>\n",
       "      <td>36.11</td>\n",
       "      <td>110.0</td>\n",
       "      <td>91.33</td>\n",
       "      <td>99.0</td>\n",
       "      <td>122.0</td>\n",
       "      <td>30.0</td>\n",
       "      <td>43.0</td>\n",
       "      <td>36.11</td>\n",
       "      <td>7.0</td>\n",
       "      <td>0.00</td>\n",
       "      <td>2.5</td>\n",
       "      <td>0.0</td>\n",
       "      <td>-2.5</td>\n",
       "      <td>0.0</td>\n",
       "      <td>0.00</td>\n",
       "      <td>13.0</td>\n",
       "      <td>5.33</td>\n",
       "      <td>-6.5</td>\n",
       "      <td>0.0</td>\n",
       "      <td>-5.5</td>\n",
       "      <td>0.0</td>\n",
       "      <td>0.0</td>\n",
       "      <td>1.0</td>\n",
       "      <td>0.00</td>\n",
       "      <td>-4.0</td>\n",
       "      <td>0.0</td>\n",
       "      <td>8.0</td>\n",
       "      <td>0.0</td>\n",
       "      <td>0.0</td>\n",
       "      <td>-8.0</td>\n",
       "      <td>10.67</td>\n",
       "      <td>4.0</td>\n",
       "      <td>24.0</td>\n",
       "      <td>3.0</td>\n",
       "      <td>0.0</td>\n",
       "      <td>0.0</td>\n",
       "      <td>0.0</td>\n",
       "      <td>0.00</td>\n",
       "      <td>0.0</td>\n",
       "      <td>0.0</td>\n",
       "      <td>0.0</td>\n",
       "      <td>0.0</td>\n",
       "      <td>0.0</td>\n",
       "      <td>0</td>\n",
       "      <td>0</td>\n",
       "      <td>83.14</td>\n",
       "      <td>5</td>\n",
       "      <td>-0.03</td>\n",
       "    </tr>\n",
       "    <tr>\n",
       "      <th>1</th>\n",
       "      <td>99.500000</td>\n",
       "      <td>84.498333</td>\n",
       "      <td>93.416667</td>\n",
       "      <td>118.166667</td>\n",
       "      <td>24.416667</td>\n",
       "      <td>43.0</td>\n",
       "      <td>36.110000</td>\n",
       "      <td>8.961027</td>\n",
       "      <td>6.901256</td>\n",
       "      <td>3.693463</td>\n",
       "      <td>9.887703</td>\n",
       "      <td>4.317600</td>\n",
       "      <td>0.0</td>\n",
       "      <td>0.000000</td>\n",
       "      <td>89.0</td>\n",
       "      <td>75.33</td>\n",
       "      <td>88.5</td>\n",
       "      <td>98.0</td>\n",
       "      <td>19.0</td>\n",
       "      <td>43.0</td>\n",
       "      <td>36.11</td>\n",
       "      <td>110.0</td>\n",
       "      <td>91.33</td>\n",
       "      <td>99.0</td>\n",
       "      <td>123.0</td>\n",
       "      <td>30.0</td>\n",
       "      <td>43.0</td>\n",
       "      <td>36.11</td>\n",
       "      <td>-2.0</td>\n",
       "      <td>-14.33</td>\n",
       "      <td>1.0</td>\n",
       "      <td>1.0</td>\n",
       "      <td>7.0</td>\n",
       "      <td>0.0</td>\n",
       "      <td>0.00</td>\n",
       "      <td>7.0</td>\n",
       "      <td>0.00</td>\n",
       "      <td>2.5</td>\n",
       "      <td>0.0</td>\n",
       "      <td>-2.5</td>\n",
       "      <td>0.0</td>\n",
       "      <td>0.0</td>\n",
       "      <td>13.0</td>\n",
       "      <td>5.33</td>\n",
       "      <td>-6.5</td>\n",
       "      <td>0.0</td>\n",
       "      <td>-5.5</td>\n",
       "      <td>0.0</td>\n",
       "      <td>0.0</td>\n",
       "      <td>1.0</td>\n",
       "      <td>0.00</td>\n",
       "      <td>-4.0</td>\n",
       "      <td>0.0</td>\n",
       "      <td>8.0</td>\n",
       "      <td>0.0</td>\n",
       "      <td>0.0</td>\n",
       "      <td>-8.0</td>\n",
       "      <td>10.67</td>\n",
       "      <td>4.0</td>\n",
       "      <td>24.0</td>\n",
       "      <td>3.0</td>\n",
       "      <td>0.0</td>\n",
       "      <td>0.0</td>\n",
       "      <td>0</td>\n",
       "      <td>0</td>\n",
       "      <td>83.14</td>\n",
       "      <td>6</td>\n",
       "      <td>-0.03</td>\n",
       "    </tr>\n",
       "    <tr>\n",
       "      <th>2</th>\n",
       "      <td>101.000000</td>\n",
       "      <td>84.665000</td>\n",
       "      <td>92.666667</td>\n",
       "      <td>117.333333</td>\n",
       "      <td>26.083333</td>\n",
       "      <td>43.0</td>\n",
       "      <td>36.110000</td>\n",
       "      <td>9.208692</td>\n",
       "      <td>6.642791</td>\n",
       "      <td>3.763863</td>\n",
       "      <td>11.927559</td>\n",
       "      <td>3.693463</td>\n",
       "      <td>0.0</td>\n",
       "      <td>0.000000</td>\n",
       "      <td>89.0</td>\n",
       "      <td>76.33</td>\n",
       "      <td>88.5</td>\n",
       "      <td>93.0</td>\n",
       "      <td>22.0</td>\n",
       "      <td>43.0</td>\n",
       "      <td>36.11</td>\n",
       "      <td>110.0</td>\n",
       "      <td>91.33</td>\n",
       "      <td>99.0</td>\n",
       "      <td>123.0</td>\n",
       "      <td>30.0</td>\n",
       "      <td>43.0</td>\n",
       "      <td>36.11</td>\n",
       "      <td>-2.0</td>\n",
       "      <td>-0.67</td>\n",
       "      <td>-1.5</td>\n",
       "      <td>-30.0</td>\n",
       "      <td>0.0</td>\n",
       "      <td>0.0</td>\n",
       "      <td>0.00</td>\n",
       "      <td>-2.0</td>\n",
       "      <td>-14.33</td>\n",
       "      <td>1.0</td>\n",
       "      <td>1.0</td>\n",
       "      <td>7.0</td>\n",
       "      <td>0.0</td>\n",
       "      <td>0.0</td>\n",
       "      <td>7.0</td>\n",
       "      <td>0.00</td>\n",
       "      <td>2.5</td>\n",
       "      <td>0.0</td>\n",
       "      <td>-2.5</td>\n",
       "      <td>0.0</td>\n",
       "      <td>0.0</td>\n",
       "      <td>13.0</td>\n",
       "      <td>5.33</td>\n",
       "      <td>-6.5</td>\n",
       "      <td>0.0</td>\n",
       "      <td>-5.5</td>\n",
       "      <td>0.0</td>\n",
       "      <td>0.0</td>\n",
       "      <td>1.0</td>\n",
       "      <td>0.00</td>\n",
       "      <td>-4.0</td>\n",
       "      <td>0.0</td>\n",
       "      <td>8.0</td>\n",
       "      <td>0.0</td>\n",
       "      <td>0.0</td>\n",
       "      <td>0</td>\n",
       "      <td>0</td>\n",
       "      <td>83.14</td>\n",
       "      <td>7</td>\n",
       "      <td>-0.03</td>\n",
       "    </tr>\n",
       "    <tr>\n",
       "      <th>3</th>\n",
       "      <td>103.500000</td>\n",
       "      <td>85.053333</td>\n",
       "      <td>92.000000</td>\n",
       "      <td>119.166667</td>\n",
       "      <td>26.750000</td>\n",
       "      <td>43.0</td>\n",
       "      <td>36.110000</td>\n",
       "      <td>7.092249</td>\n",
       "      <td>6.802625</td>\n",
       "      <td>2.588436</td>\n",
       "      <td>13.526517</td>\n",
       "      <td>3.126500</td>\n",
       "      <td>0.0</td>\n",
       "      <td>0.000000</td>\n",
       "      <td>90.0</td>\n",
       "      <td>76.33</td>\n",
       "      <td>88.5</td>\n",
       "      <td>93.0</td>\n",
       "      <td>22.0</td>\n",
       "      <td>43.0</td>\n",
       "      <td>36.11</td>\n",
       "      <td>110.0</td>\n",
       "      <td>91.33</td>\n",
       "      <td>95.0</td>\n",
       "      <td>133.0</td>\n",
       "      <td>30.0</td>\n",
       "      <td>43.0</td>\n",
       "      <td>36.11</td>\n",
       "      <td>-2.0</td>\n",
       "      <td>12.00</td>\n",
       "      <td>4.5</td>\n",
       "      <td>40.0</td>\n",
       "      <td>-3.0</td>\n",
       "      <td>0.0</td>\n",
       "      <td>0.00</td>\n",
       "      <td>-2.0</td>\n",
       "      <td>-0.67</td>\n",
       "      <td>-1.5</td>\n",
       "      <td>-30.0</td>\n",
       "      <td>0.0</td>\n",
       "      <td>0.0</td>\n",
       "      <td>0.0</td>\n",
       "      <td>-2.0</td>\n",
       "      <td>-14.33</td>\n",
       "      <td>1.0</td>\n",
       "      <td>1.0</td>\n",
       "      <td>7.0</td>\n",
       "      <td>0.0</td>\n",
       "      <td>0.0</td>\n",
       "      <td>7.0</td>\n",
       "      <td>0.00</td>\n",
       "      <td>2.5</td>\n",
       "      <td>0.0</td>\n",
       "      <td>-2.5</td>\n",
       "      <td>0.0</td>\n",
       "      <td>0.0</td>\n",
       "      <td>13.0</td>\n",
       "      <td>5.33</td>\n",
       "      <td>-6.5</td>\n",
       "      <td>0.0</td>\n",
       "      <td>-5.5</td>\n",
       "      <td>0.0</td>\n",
       "      <td>0.0</td>\n",
       "      <td>0</td>\n",
       "      <td>0</td>\n",
       "      <td>83.14</td>\n",
       "      <td>8</td>\n",
       "      <td>-0.03</td>\n",
       "    </tr>\n",
       "    <tr>\n",
       "      <th>4</th>\n",
       "      <td>105.500000</td>\n",
       "      <td>85.275000</td>\n",
       "      <td>91.333333</td>\n",
       "      <td>121.166667</td>\n",
       "      <td>26.750000</td>\n",
       "      <td>43.0</td>\n",
       "      <td>36.286667</td>\n",
       "      <td>3.082207</td>\n",
       "      <td>6.861060</td>\n",
       "      <td>2.136976</td>\n",
       "      <td>14.851487</td>\n",
       "      <td>3.126500</td>\n",
       "      <td>0.0</td>\n",
       "      <td>0.432743</td>\n",
       "      <td>102.0</td>\n",
       "      <td>76.33</td>\n",
       "      <td>88.5</td>\n",
       "      <td>93.0</td>\n",
       "      <td>22.0</td>\n",
       "      <td>43.0</td>\n",
       "      <td>36.11</td>\n",
       "      <td>110.0</td>\n",
       "      <td>91.33</td>\n",
       "      <td>95.0</td>\n",
       "      <td>134.0</td>\n",
       "      <td>30.0</td>\n",
       "      <td>43.0</td>\n",
       "      <td>37.17</td>\n",
       "      <td>-2.0</td>\n",
       "      <td>-1.00</td>\n",
       "      <td>-4.0</td>\n",
       "      <td>1.0</td>\n",
       "      <td>4.0</td>\n",
       "      <td>0.0</td>\n",
       "      <td>1.06</td>\n",
       "      <td>-2.0</td>\n",
       "      <td>12.00</td>\n",
       "      <td>4.5</td>\n",
       "      <td>40.0</td>\n",
       "      <td>-3.0</td>\n",
       "      <td>0.0</td>\n",
       "      <td>0.0</td>\n",
       "      <td>-2.0</td>\n",
       "      <td>-0.67</td>\n",
       "      <td>-1.5</td>\n",
       "      <td>-30.0</td>\n",
       "      <td>0.0</td>\n",
       "      <td>0.0</td>\n",
       "      <td>0.0</td>\n",
       "      <td>-2.0</td>\n",
       "      <td>-14.33</td>\n",
       "      <td>1.0</td>\n",
       "      <td>1.0</td>\n",
       "      <td>7.0</td>\n",
       "      <td>0.0</td>\n",
       "      <td>0.0</td>\n",
       "      <td>7.0</td>\n",
       "      <td>0.00</td>\n",
       "      <td>2.5</td>\n",
       "      <td>0.0</td>\n",
       "      <td>-2.5</td>\n",
       "      <td>0.0</td>\n",
       "      <td>0.0</td>\n",
       "      <td>0</td>\n",
       "      <td>0</td>\n",
       "      <td>83.14</td>\n",
       "      <td>9</td>\n",
       "      <td>-0.03</td>\n",
       "    </tr>\n",
       "  </tbody>\n",
       "</table>\n",
       "</div>"
      ],
      "text/plain": [
       "      HR_mean   MAP_mean  O2Sat_mean  ...    Age  hour  HospAdmTime\n",
       "0   97.666667  84.220000   93.916667  ...  83.14     5        -0.03\n",
       "1   99.500000  84.498333   93.416667  ...  83.14     6        -0.03\n",
       "2  101.000000  84.665000   92.666667  ...  83.14     7        -0.03\n",
       "3  103.500000  85.053333   92.000000  ...  83.14     8        -0.03\n",
       "4  105.500000  85.275000   91.333333  ...  83.14     9        -0.03\n",
       "\n",
       "[5 rows x 68 columns]"
      ]
     },
     "execution_count": 8,
     "metadata": {
      "tags": []
     },
     "output_type": "execute_result"
    }
   ],
   "source": [
    "df.head()"
   ]
  },
  {
   "cell_type": "markdown",
   "metadata": {
    "colab_type": "text",
    "id": "WxqJhM9wGp8E"
   },
   "source": [
    "### Stratified Data Partition (to preserve the classes proportion)"
   ]
  },
  {
   "cell_type": "code",
   "execution_count": 0,
   "metadata": {
    "colab": {},
    "colab_type": "code",
    "id": "-007qLdXGp8E"
   },
   "outputs": [],
   "source": [
    "# data partition: 80/20 training, testing\n",
    "train_df, test_df = train_test_split(df, test_size=0.2, random_state=seed, stratify=df['SepsisLabel']) # stratified splitting to reserve the classes proportion"
   ]
  },
  {
   "cell_type": "markdown",
   "metadata": {
    "colab_type": "text",
    "id": "fFX-DPY7-tcJ"
   },
   "source": [
    "### Save the raw training and test splits before any pre-processing"
   ]
  },
  {
   "cell_type": "code",
   "execution_count": 0,
   "metadata": {
    "colab": {},
    "colab_type": "code",
    "id": "8_j3zG1o-zoH"
   },
   "outputs": [],
   "source": [
    "train_df.to_csv('6hour_traindf.csv', index=False)\n",
    "test_df.to_csv('6hour_testdf.csv', index=False)"
   ]
  },
  {
   "cell_type": "markdown",
   "metadata": {
    "colab_type": "text",
    "id": "GkeXbQGKGp8I"
   },
   "source": [
    "### Note: we are now classifying sepsis based on patterns (extracted characteristics from windows, NOT by hourly measurements or by patients)"
   ]
  },
  {
   "cell_type": "code",
   "execution_count": 0,
   "metadata": {
    "colab": {
     "base_uri": "https://localhost:8080/",
     "height": 68
    },
    "colab_type": "code",
    "executionInfo": {
     "elapsed": 291,
     "status": "ok",
     "timestamp": 1587966985241,
     "user": {
      "displayName": "An Tran",
      "photoUrl": "",
      "userId": "10274312836707434279"
     },
     "user_tz": 420
    },
    "id": "mK0M-JjdGp8J",
    "outputId": "c16672eb-5b16-4da1-9523-7d2d274990d7"
   },
   "outputs": [
    {
     "name": "stdout",
     "output_type": "stream",
     "text": [
      "Number of sepsis patterns:  20109\n",
      "Number of non-sepsis patterns:  1060315\n",
      "Distribution of sepsis events:  1.8612137457146454 %\n"
     ]
    }
   ],
   "source": [
    "# check distribution of sepsis patterns in training set\n",
    "\n",
    "print('Number of sepsis patterns: ', train_df['SepsisLabel'].value_counts()[1])\n",
    "print('Number of non-sepsis patterns: ', train_df['SepsisLabel'].value_counts()[0])\n",
    "\n",
    "distribution = (train_df['SepsisLabel'].value_counts()[1] / sum(train_df['SepsisLabel'].value_counts()))\n",
    "print('Distribution of sepsis events: ', distribution*100, '%')"
   ]
  },
  {
   "cell_type": "code",
   "execution_count": 0,
   "metadata": {
    "colab": {
     "base_uri": "https://localhost:8080/",
     "height": 68
    },
    "colab_type": "code",
    "executionInfo": {
     "elapsed": 218,
     "status": "ok",
     "timestamp": 1587966986570,
     "user": {
      "displayName": "An Tran",
      "photoUrl": "",
      "userId": "10274312836707434279"
     },
     "user_tz": 420
    },
    "id": "7zWJo7UXGp8L",
    "outputId": "2bc6c13a-a94d-4cf3-89fe-a8ade570a660"
   },
   "outputs": [
    {
     "name": "stdout",
     "output_type": "stream",
     "text": [
      "Number of sepsis patterns:  5027\n",
      "Number of non-sepsis patterns:  265079\n",
      "Distribution of sepsis events:  1.861121189458953 %\n"
     ]
    }
   ],
   "source": [
    "# check distribution of sepsis patterns in test set\n",
    "\n",
    "print('Number of sepsis patterns: ', test_df['SepsisLabel'].value_counts()[1])\n",
    "print('Number of non-sepsis patterns: ', test_df['SepsisLabel'].value_counts()[0])\n",
    "\n",
    "distribution = (test_df['SepsisLabel'].value_counts()[1] / sum(test_df['SepsisLabel'].value_counts()))\n",
    "print('Distribution of sepsis events: ', distribution*100, '%')"
   ]
  },
  {
   "cell_type": "markdown",
   "metadata": {
    "colab_type": "text",
    "id": "GxZtQSE3Gp8O"
   },
   "source": [
    "### Plot distribution of each feature"
   ]
  },
  {
   "cell_type": "code",
   "execution_count": 0,
   "metadata": {
    "colab": {
     "base_uri": "https://localhost:8080/",
     "height": 1000
    },
    "colab_type": "code",
    "executionInfo": {
     "elapsed": 20693,
     "status": "ok",
     "timestamp": 1587016551643,
     "user": {
      "displayName": "An Tran",
      "photoUrl": "",
      "userId": "10274312836707434279"
     },
     "user_tz": 420
    },
    "id": "bEA0yjcXGp8O",
    "outputId": "68980a2c-9c48-4f1a-86fd-f7a2cdb12686"
   },
   "outputs": [
    {
     "data": {
      "image/png": "[encoded data removed]",
      "text/plain": [
       "<Figure size 2880x2160 with 72 Axes>"
      ]
     },
     "metadata": {
      "needs_background": "light",
      "tags": []
     },
     "output_type": "display_data"
    }
   ],
   "source": [
    "train_df.hist(bins=50, figsize=(40,30))\n",
    "plt.show()"
   ]
  },
  {
   "cell_type": "markdown",
   "metadata": {
    "colab_type": "text",
    "id": "rTVgrZo4mgUd"
   },
   "source": [
    "### Take a look at the distribution of extracted patterns between sepsis & non-sepsis events"
   ]
  },
  {
   "cell_type": "code",
   "execution_count": 0,
   "metadata": {
    "colab": {},
    "colab_type": "code",
    "id": "OzbwTB2zNhCu"
   },
   "outputs": [],
   "source": [
    "import seaborn as sns\n",
    "plt.rcParams.update({'figure.max_open_warning': 0})\n",
    "\n",
    "cont_vars = [col for col in train_df.columns if col not in ['SepsisLabel', 'Gender', 'HospAdmTime', 'hour']]"
   ]
  },
  {
   "cell_type": "code",
   "execution_count": 0,
   "metadata": {
    "colab": {
     "base_uri": "https://localhost:8080/",
     "height": 119
    },
    "colab_type": "code",
    "executionInfo": {
     "elapsed": 284,
     "status": "ok",
     "timestamp": 1587968212233,
     "user": {
      "displayName": "An Tran",
      "photoUrl": "",
      "userId": "10274312836707434279"
     },
     "user_tz": 420
    },
    "id": "ozjOdHYnPS4V",
    "outputId": "da7f1054-fc0b-4774-8bd8-8b012ab31c13"
   },
   "outputs": [
    {
     "name": "stderr",
     "output_type": "stream",
     "text": [
      "/usr/local/lib/python3.6/dist-packages/pandas/core/indexing.py:966: SettingWithCopyWarning: \n",
      "A value is trying to be set on a copy of a slice from a DataFrame.\n",
      "Try using .loc[row_indexer,col_indexer] = value instead\n",
      "\n",
      "See the caveats in the documentation: https://pandas.pydata.org/pandas-docs/stable/user_guide/indexing.html#returning-a-view-versus-a-copy\n",
      "  self.obj[item] = s\n"
     ]
    }
   ],
   "source": [
    "train_df.loc[train_df['SepsisLabel'] == 1, 'HR_std'] = np.random.normal(loc=25, scale=25, size=train_df['SepsisLabel'].value_counts()[1])"
   ]
  },
  {
   "cell_type": "code",
   "execution_count": 0,
   "metadata": {
    "colab": {
     "base_uri": "https://localhost:8080/",
     "height": 279
    },
    "colab_type": "code",
    "executionInfo": {
     "elapsed": 2573,
     "status": "ok",
     "timestamp": 1587967912018,
     "user": {
      "displayName": "An Tran",
      "photoUrl": "",
      "userId": "10274312836707434279"
     },
     "user_tz": 420
    },
    "id": "G7GexlblQjwe",
    "outputId": "549f9ac5-f72b-45de-f2e7-3a279e0dcc83"
   },
   "outputs": [
    {
     "data": {
      "image/png": "[encoded data removed]",
      "text/plain": [
       "<Figure size 432x288 with 1 Axes>"
      ]
     },
     "metadata": {
      "needs_background": "light",
      "tags": []
     },
     "output_type": "display_data"
    }
   ],
   "source": [
    "ax = sns.boxplot(x=\"SepsisLabel\", y='HR_mean', data=train_df)"
   ]
  },
  {
   "cell_type": "code",
   "execution_count": 0,
   "metadata": {
    "colab": {
     "base_uri": "https://localhost:8080/",
     "height": 279
    },
    "colab_type": "code",
    "executionInfo": {
     "elapsed": 678,
     "status": "ok",
     "timestamp": 1587968223556,
     "user": {
      "displayName": "An Tran",
      "photoUrl": "",
      "userId": "10274312836707434279"
     },
     "user_tz": 420
    },
    "id": "OV_Qinr4SBDz",
    "outputId": "1e648f49-3850-43b1-9e71-666c0b4bcab1"
   },
   "outputs": [
    {
     "data": {
      "image/png": "[encoded data removed]",
      "text/plain": [
       "<Figure size 432x288 with 1 Axes>"
      ]
     },
     "metadata": {
      "needs_background": "light",
      "tags": []
     },
     "output_type": "display_data"
    }
   ],
   "source": [
    "ax = sns.boxplot(x=\"SepsisLabel\", y='HR_std', data=train_df)"
   ]
  },
  {
   "cell_type": "code",
   "execution_count": 0,
   "metadata": {
    "colab": {
     "base_uri": "https://localhost:8080/",
     "height": 1000
    },
    "colab_type": "code",
    "executionInfo": {
     "elapsed": 33259,
     "status": "ok",
     "timestamp": 1587967724768,
     "user": {
      "displayName": "An Tran",
      "photoUrl": "",
      "userId": "10274312836707434279"
     },
     "user_tz": 420
    },
    "id": "3qjoNUB9NW62",
    "outputId": "a51360e8-5a4b-4fce-b11d-f86321a585e9"
   },
   "outputs": [
    {
     "data": {
      "image/png": "[encoded data removed]",
      "text/plain": [
       "<Figure size 432x288 with 1 Axes>"
      ]
     },
     "metadata": {
      "needs_background": "light",
      "tags": []
     },
     "output_type": "display_data"
    },
    {
     "data": {
      "image/png": "[encoded data removed]",
      "text/plain": [
       "<Figure size 432x288 with 1 Axes>"
      ]
     },
     "metadata": {
      "needs_background": "light",
      "tags": []
     },
     "output_type": "display_data"
    },
    {
     "data": {
      "image/png": "[encoded data removed]",
      "text/plain": [
       "<Figure size 432x288 with 1 Axes>"
      ]
     },
     "metadata": {
      "needs_background": "light",
      "tags": []
     },
     "output_type": "display_data"
    },
    {
     "data": {
      "image/png": "[encoded data removed]",
      "text/plain": [
       "<Figure size 432x288 with 1 Axes>"
      ]
     },
     "metadata": {
      "needs_background": "light",
      "tags": []
     },
     "output_type": "display_data"
    },
    {
     "data": {
      "image/png": "[encoded data removed]",
      "text/plain": [
       "<Figure size 432x288 with 1 Axes>"
      ]
     },
     "metadata": {
      "needs_background": "light",
      "tags": []
     },
     "output_type": "display_data"
    },
    {
     "data": {
      "image/png": "[encoded data removed]",
      "text/plain": [
       "<Figure size 432x288 with 1 Axes>"
      ]
     },
     "metadata": {
      "needs_background": "light",
      "tags": []
     },
     "output_type": "display_data"
    },
    {
     "data": {
      "image/png": "[encoded data removed]",
      "text/plain": [
       "<Figure size 432x288 with 1 Axes>"
      ]
     },
     "metadata": {
      "needs_background": "light",
      "tags": []
     },
     "output_type": "display_data"
    },
    {
     "data": {
      "image/png": "[encoded data removed]",
      "text/plain": [
       "<Figure size 432x288 with 1 Axes>"
      ]
     },
     "metadata": {
      "needs_background": "light",
      "tags": []
     },
     "output_type": "display_data"
    },
    {
     "data": {
      "image/png": "[encoded data removed]",
      "text/plain": [
       "<Figure size 432x288 with 1 Axes>"
      ]
     },
     "metadata": {
      "needs_background": "light",
      "tags": []
     },
     "output_type": "display_data"
    },
    {
     "data": {
      "image/png": "[encoded data removed]",
      "text/plain": [
       "<Figure size 432x288 with 1 Axes>"
      ]
     },
     "metadata": {
      "needs_background": "light",
      "tags": []
     },
     "output_type": "display_data"
    },
    {
     "data": {
      "image/png": "[encoded data removed]",
      "text/plain": [
       "<Figure size 432x288 with 1 Axes>"
      ]
     },
     "metadata": {
      "needs_background": "light",
      "tags": []
     },
     "output_type": "display_data"
    },
    {
     "data": {
      "image/png": "[encoded data removed]",
      "text/plain": [
       "<Figure size 432x288 with 1 Axes>"
      ]
     },
     "metadata": {
      "needs_background": "light",
      "tags": []
     },
     "output_type": "display_data"
    },
    {
     "data": {
      "image/png": "[encoded data removed]",
      "text/plain": [
       "<Figure size 432x288 with 1 Axes>"
      ]
     },
     "metadata": {
      "needs_background": "light",
      "tags": []
     },
     "output_type": "display_data"
    },
    {
     "data": {
      "image/png": "[encoded data removed]",
      "text/plain": [
       "<Figure size 432x288 with 1 Axes>"
      ]
     },
     "metadata": {
      "needs_background": "light",
      "tags": []
     },
     "output_type": "display_data"
    },
    {
     "data": {
      "image/png": "[encoded data removed]",
      "text/plain": [
       "<Figure size 432x288 with 1 Axes>"
      ]
     },
     "metadata": {
      "needs_background": "light",
      "tags": []
     },
     "output_type": "display_data"
    },
    {
     "data": {
      "image/png": "[encoded data removed]",
      "text/plain": [
       "<Figure size 432x288 with 1 Axes>"
      ]
     },
     "metadata": {
      "needs_background": "light",
      "tags": []
     },
     "output_type": "display_data"
    },
    {
     "data": {
      "image/png": "[encoded data removed]",
      "text/plain": [
       "<Figure size 432x288 with 1 Axes>"
      ]
     },
     "metadata": {
      "needs_background": "light",
      "tags": []
     },
     "output_type": "display_data"
    },
    {
     "data": {
      "image/png": "[encoded data removed]",
      "text/plain": [
       "<Figure size 432x288 with 1 Axes>"
      ]
     },
     "metadata": {
      "needs_background": "light",
      "tags": []
     },
     "output_type": "display_data"
    },
    {
     "data": {
      "image/png": "[encoded data removed]",
      "text/plain": [
       "<Figure size 432x288 with 1 Axes>"
      ]
     },
     "metadata": {
      "needs_background": "light",
      "tags": []
     },
     "output_type": "display_data"
    },
    {
     "data": {
      "image/png": "[encoded data removed]",
      "text/plain": [
       "<Figure size 432x288 with 1 Axes>"
      ]
     },
     "metadata": {
      "needs_background": "light",
      "tags": []
     },
     "output_type": "display_data"
    },
    {
     "data": {
      "image/png": "[encoded data removed]",
      "text/plain": [
       "<Figure size 432x288 with 1 Axes>"
      ]
     },
     "metadata": {
      "needs_background": "light",
      "tags": []
     },
     "output_type": "display_data"
    },
    {
     "data": {
      "image/png": "[encoded data removed]",
      "text/plain": [
       "<Figure size 432x288 with 1 Axes>"
      ]
     },
     "metadata": {
      "needs_background": "light",
      "tags": []
     },
     "output_type": "display_data"
    },
    {
     "data": {
      "image/png": "[encoded data removed]",
      "text/plain": [
       "<Figure size 432x288 with 1 Axes>"
      ]
     },
     "metadata": {
      "needs_background": "light",
      "tags": []
     },
     "output_type": "display_data"
    },
    {
     "data": {
      "image/png": "[encoded data removed]",
      "text/plain": [
       "<Figure size 432x288 with 1 Axes>"
      ]
     },
     "metadata": {
      "needs_background": "light",
      "tags": []
     },
     "output_type": "display_data"
    },
    {
     "data": {
      "image/png": "[encoded data removed]",
      "text/plain": [
       "<Figure size 432x288 with 1 Axes>"
      ]
     },
     "metadata": {
      "needs_background": "light",
      "tags": []
     },
     "output_type": "display_data"
    },
    {
     "data": {
      "image/png": "[encoded data removed]",
      "text/plain": [
       "<Figure size 432x288 with 1 Axes>"
      ]
     },
     "metadata": {
      "needs_background": "light",
      "tags": []
     },
     "output_type": "display_data"
    },
    {
     "data": {
      "image/png": "[encoded data removed]",
      "text/plain": [
       "<Figure size 432x288 with 1 Axes>"
      ]
     },
     "metadata": {
      "needs_background": "light",
      "tags": []
     },
     "output_type": "display_data"
    },
    {
     "data": {
      "image/png": "[encoded data removed]",
      "text/plain": [
       "<Figure size 432x288 with 1 Axes>"
      ]
     },
     "metadata": {
      "needs_background": "light",
      "tags": []
     },
     "output_type": "display_data"
    },
    {
     "data": {
      "image/png": "[encoded data removed]",
      "text/plain": [
       "<Figure size 432x288 with 1 Axes>"
      ]
     },
     "metadata": {
      "needs_background": "light",
      "tags": []
     },
     "output_type": "display_data"
    },
    {
     "data": {
      "image/png": "[encoded data removed]",
      "text/plain": [
       "<Figure size 432x288 with 1 Axes>"
      ]
     },
     "metadata": {
      "needs_background": "light",
      "tags": []
     },
     "output_type": "display_data"
    },
    {
     "data": {
      "image/png": "[encoded data removed]",
      "text/plain": [
       "<Figure size 432x288 with 1 Axes>"
      ]
     },
     "metadata": {
      "needs_background": "light",
      "tags": []
     },
     "output_type": "display_data"
    },
    {
     "data": {
      "image/png": "[encoded data removed]",
      "text/plain": [
       "<Figure size 432x288 with 1 Axes>"
      ]
     },
     "metadata": {
      "needs_background": "light",
      "tags": []
     },
     "output_type": "display_data"
    },
    {
     "data": {
      "image/png": "[encoded data removed]",
      "text/plain": [
       "<Figure size 432x288 with 1 Axes>"
      ]
     },
     "metadata": {
      "needs_background": "light",
      "tags": []
     },
     "output_type": "display_data"
    },
    {
     "data": {
      "image/png": "[encoded data removed]",
      "text/plain": [
       "<Figure size 432x288 with 1 Axes>"
      ]
     },
     "metadata": {
      "needs_background": "light",
      "tags": []
     },
     "output_type": "display_data"
    },
    {
     "data": {
      "image/png": "[encoded data removed]",
      "text/plain": [
       "<Figure size 432x288 with 1 Axes>"
      ]
     },
     "metadata": {
      "needs_background": "light",
      "tags": []
     },
     "output_type": "display_data"
    },
    {
     "data": {
      "image/png": "[encoded data removed]",
      "text/plain": [
       "<Figure size 432x288 with 1 Axes>"
      ]
     },
     "metadata": {
      "needs_background": "light",
      "tags": []
     },
     "output_type": "display_data"
    },
    {
     "data": {
      "image/png": "[encoded data removed]",
      "text/plain": [
       "<Figure size 432x288 with 1 Axes>"
      ]
     },
     "metadata": {
      "needs_background": "light",
      "tags": []
     },
     "output_type": "display_data"
    },
    {
     "data": {
      "image/png": "[encoded data removed]",
      "text/plain": [
       "<Figure size 432x288 with 1 Axes>"
      ]
     },
     "metadata": {
      "needs_background": "light",
      "tags": []
     },
     "output_type": "display_data"
    },
    {
     "data": {
      "image/png": "[encoded data removed]",
      "text/plain": [
       "<Figure size 432x288 with 1 Axes>"
      ]
     },
     "metadata": {
      "needs_background": "light",
      "tags": []
     },
     "output_type": "display_data"
    },
    {
     "data": {
      "image/png": "[encoded data removed]",
      "text/plain": [
       "<Figure size 432x288 with 1 Axes>"
      ]
     },
     "metadata": {
      "needs_background": "light",
      "tags": []
     },
     "output_type": "display_data"
    },
    {
     "data": {
      "image/png": "[encoded data removed]",
      "text/plain": [
       "<Figure size 432x288 with 1 Axes>"
      ]
     },
     "metadata": {
      "needs_background": "light",
      "tags": []
     },
     "output_type": "display_data"
    },
    {
     "data": {
      "image/png": "[encoded data removed]",
      "text/plain": [
       "<Figure size 432x288 with 1 Axes>"
      ]
     },
     "metadata": {
      "needs_background": "light",
      "tags": []
     },
     "output_type": "display_data"
    },
    {
     "data": {
      "image/png": "[encoded data removed]",
      "text/plain": [
       "<Figure size 432x288 with 1 Axes>"
      ]
     },
     "metadata": {
      "needs_background": "light",
      "tags": []
     },
     "output_type": "display_data"
    },
    {
     "data": {
      "image/png": "[encoded data removed]",
      "text/plain": [
       "<Figure size 432x288 with 1 Axes>"
      ]
     },
     "metadata": {
      "needs_background": "light",
      "tags": []
     },
     "output_type": "display_data"
    },
    {
     "data": {
      "image/png": "[encoded data removed]",
      "text/plain": [
       "<Figure size 432x288 with 1 Axes>"
      ]
     },
     "metadata": {
      "needs_background": "light",
      "tags": []
     },
     "output_type": "display_data"
    },
    {
     "data": {
      "image/png": "[encoded data removed]",
      "text/plain": [
       "<Figure size 432x288 with 1 Axes>"
      ]
     },
     "metadata": {
      "needs_background": "light",
      "tags": []
     },
     "output_type": "display_data"
    },
    {
     "data": {
      "image/png": "[encoded data removed]",
      "text/plain": [
       "<Figure size 432x288 with 1 Axes>"
      ]
     },
     "metadata": {
      "needs_background": "light",
      "tags": []
     },
     "output_type": "display_data"
    },
    {
     "data": {
      "image/png": "[encoded data removed]",
      "text/plain": [
       "<Figure size 432x288 with 1 Axes>"
      ]
     },
     "metadata": {
      "needs_background": "light",
      "tags": []
     },
     "output_type": "display_data"
    },
    {
     "data": {
      "image/png": "[encoded data removed]",
      "text/plain": [
       "<Figure size 432x288 with 1 Axes>"
      ]
     },
     "metadata": {
      "needs_background": "light",
      "tags": []
     },
     "output_type": "display_data"
    },
    {
     "data": {
      "image/png": "[encoded data removed]",
      "text/plain": [
       "<Figure size 432x288 with 1 Axes>"
      ]
     },
     "metadata": {
      "needs_background": "light",
      "tags": []
     },
     "output_type": "display_data"
    },
    {
     "data": {
      "image/png": "[encoded data removed]",
      "text/plain": [
       "<Figure size 432x288 with 1 Axes>"
      ]
     },
     "metadata": {
      "needs_background": "light",
      "tags": []
     },
     "output_type": "display_data"
    },
    {
     "data": {
      "image/png": "[encoded data removed]",
      "text/plain": [
       "<Figure size 432x288 with 1 Axes>"
      ]
     },
     "metadata": {
      "needs_background": "light",
      "tags": []
     },
     "output_type": "display_data"
    },
    {
     "data": {
      "image/png": "[encoded data removed]",
      "text/plain": [
       "<Figure size 432x288 with 1 Axes>"
      ]
     },
     "metadata": {
      "needs_background": "light",
      "tags": []
     },
     "output_type": "display_data"
    },
    {
     "data": {
      "image/png": "[encoded data removed]",
      "text/plain": [
       "<Figure size 432x288 with 1 Axes>"
      ]
     },
     "metadata": {
      "needs_background": "light",
      "tags": []
     },
     "output_type": "display_data"
    },
    {
     "data": {
      "image/png": "[encoded data removed]",
      "text/plain": [
       "<Figure size 432x288 with 1 Axes>"
      ]
     },
     "metadata": {
      "needs_background": "light",
      "tags": []
     },
     "output_type": "display_data"
    },
    {
     "data": {
      "image/png": "[encoded data removed]",
      "text/plain": [
       "<Figure size 432x288 with 1 Axes>"
      ]
     },
     "metadata": {
      "needs_background": "light",
      "tags": []
     },
     "output_type": "display_data"
    },
    {
     "data": {
      "image/png": "[encoded data removed]",
      "text/plain": [
       "<Figure size 432x288 with 1 Axes>"
      ]
     },
     "metadata": {
      "needs_background": "light",
      "tags": []
     },
     "output_type": "display_data"
    },
    {
     "data": {
      "image/png": "[encoded data removed]",
      "text/plain": [
       "<Figure size 432x288 with 1 Axes>"
      ]
     },
     "metadata": {
      "needs_background": "light",
      "tags": []
     },
     "output_type": "display_data"
    },
    {
     "data": {
      "image/png": "[encoded data removed]",
      "text/plain": [
       "<Figure size 432x288 with 1 Axes>"
      ]
     },
     "metadata": {
      "needs_background": "light",
      "tags": []
     },
     "output_type": "display_data"
    },
    {
     "data": {
      "image/png": "[encoded data removed]",
      "text/plain": [
       "<Figure size 432x288 with 1 Axes>"
      ]
     },
     "metadata": {
      "needs_background": "light",
      "tags": []
     },
     "output_type": "display_data"
    },
    {
     "data": {
      "image/png": "[encoded data removed]",
      "text/plain": [
       "<Figure size 432x288 with 1 Axes>"
      ]
     },
     "metadata": {
      "needs_background": "light",
      "tags": []
     },
     "output_type": "display_data"
    },
    {
     "data": {
      "image/png": "[encoded data removed]",
      "text/plain": [
       "<Figure size 432x288 with 1 Axes>"
      ]
     },
     "metadata": {
      "needs_background": "light",
      "tags": []
     },
     "output_type": "display_data"
    },
    {
     "data": {
      "image/png": "[encoded data removed]",
      "text/plain": [
       "<Figure size 432x288 with 1 Axes>"
      ]
     },
     "metadata": {
      "needs_background": "light",
      "tags": []
     },
     "output_type": "display_data"
    },
    {
     "data": {
      "image/png": "[encoded data removed]",
      "text/plain": [
       "<Figure size 432x288 with 1 Axes>"
      ]
     },
     "metadata": {
      "needs_background": "light",
      "tags": []
     },
     "output_type": "display_data"
    }
   ],
   "source": [
    "for i, var in enumerate(cont_vars):\n",
    "  plt.figure(i)\n",
    "  ax = sns.boxplot(x=\"SepsisLabel\", y=var, data=train_df)"
   ]
  },
  {
   "cell_type": "markdown",
   "metadata": {
    "colab_type": "text",
    "id": "dNPrt2qiduUA"
   },
   "source": [
    "### Take a look at skewness of each variable"
   ]
  },
  {
   "cell_type": "code",
   "execution_count": 0,
   "metadata": {
    "colab": {},
    "colab_type": "code",
    "id": "MHe181kfGp8V"
   },
   "outputs": [],
   "source": [
    "cat_vars = ['Gender']\n",
    "cont_vars = [col for col in train_df.columns if col not in ['Gender', 'SepsisLabel']]"
   ]
  },
  {
   "cell_type": "code",
   "execution_count": 8,
   "metadata": {
    "colab": {
     "base_uri": "https://localhost:8080/",
     "height": 68
    },
    "colab_type": "code",
    "executionInfo": {
     "elapsed": 216,
     "status": "ok",
     "timestamp": 1588219834209,
     "user": {
      "displayName": "An Tran",
      "photoUrl": "",
      "userId": "10274312836707434279"
     },
     "user_tz": 420
    },
    "id": "yM53st5DGp8X",
    "outputId": "a2066c81-58c9-4700-b987-d8f7ed6b1569"
   },
   "outputs": [
    {
     "name": "stdout",
     "output_type": "stream",
     "text": [
      "Total number of variables in training set:  68\n",
      "Number of categorical variables in training set:  1\n",
      "Number of continuous variables in training set:  66\n"
     ]
    }
   ],
   "source": [
    "print('Total number of variables in training set: ', len(train_df.columns))\n",
    "print('Number of categorical variables in training set: ', len(cat_vars))\n",
    "print('Number of continuous variables in training set: ', len(cont_vars))"
   ]
  },
  {
   "cell_type": "code",
   "execution_count": 0,
   "metadata": {
    "colab": {},
    "colab_type": "code",
    "id": "274OQx2YGp8a"
   },
   "outputs": [],
   "source": [
    "skewness = pd.DataFrame()\n",
    "skewness['Skew'] = train_df[cont_vars].skew(axis=0) # find skewness of each variable (along rows)\n",
    "skewness = skewness.sort_values(by='Skew', ascending=True)"
   ]
  },
  {
   "cell_type": "code",
   "execution_count": 10,
   "metadata": {
    "colab": {
     "base_uri": "https://localhost:8080/",
     "height": 419
    },
    "colab_type": "code",
    "executionInfo": {
     "elapsed": 220,
     "status": "ok",
     "timestamp": 1588219840342,
     "user": {
      "displayName": "An Tran",
      "photoUrl": "",
      "userId": "10274312836707434279"
     },
     "user_tz": 420
    },
    "id": "4UiXXcdWGp8b",
    "outputId": "75ebe091-d288-4acf-b0fa-919a1a130cc6"
   },
   "outputs": [
    {
     "data": {
      "text/html": [
       "<div>\n",
       "<style scoped>\n",
       "    .dataframe tbody tr th:only-of-type {\n",
       "        vertical-align: middle;\n",
       "    }\n",
       "\n",
       "    .dataframe tbody tr th {\n",
       "        vertical-align: top;\n",
       "    }\n",
       "\n",
       "    .dataframe thead th {\n",
       "        text-align: right;\n",
       "    }\n",
       "</style>\n",
       "<table border=\"1\" class=\"dataframe\">\n",
       "  <thead>\n",
       "    <tr style=\"text-align: right;\">\n",
       "      <th></th>\n",
       "      <th>Skew</th>\n",
       "    </tr>\n",
       "  </thead>\n",
       "  <tbody>\n",
       "    <tr>\n",
       "      <th>HospAdmTime</th>\n",
       "      <td>-12.509456</td>\n",
       "    </tr>\n",
       "    <tr>\n",
       "      <th>O2Sat_min</th>\n",
       "      <td>-5.051313</td>\n",
       "    </tr>\n",
       "    <tr>\n",
       "      <th>O2Sat_max</th>\n",
       "      <td>-4.548473</td>\n",
       "    </tr>\n",
       "    <tr>\n",
       "      <th>O2Sat_mean</th>\n",
       "      <td>-3.935677</td>\n",
       "    </tr>\n",
       "    <tr>\n",
       "      <th>Temp_min</th>\n",
       "      <td>-0.666203</td>\n",
       "    </tr>\n",
       "    <tr>\n",
       "      <th>...</th>\n",
       "      <td>...</td>\n",
       "    </tr>\n",
       "    <tr>\n",
       "      <th>Temp_std</th>\n",
       "      <td>3.194027</td>\n",
       "    </tr>\n",
       "    <tr>\n",
       "      <th>DBP_std</th>\n",
       "      <td>3.452032</td>\n",
       "    </tr>\n",
       "    <tr>\n",
       "      <th>hour</th>\n",
       "      <td>4.185551</td>\n",
       "    </tr>\n",
       "    <tr>\n",
       "      <th>MAP_std</th>\n",
       "      <td>4.533054</td>\n",
       "    </tr>\n",
       "    <tr>\n",
       "      <th>O2Sat_std</th>\n",
       "      <td>7.601406</td>\n",
       "    </tr>\n",
       "  </tbody>\n",
       "</table>\n",
       "<p>66 rows × 1 columns</p>\n",
       "</div>"
      ],
      "text/plain": [
       "                  Skew\n",
       "HospAdmTime -12.509456\n",
       "O2Sat_min    -5.051313\n",
       "O2Sat_max    -4.548473\n",
       "O2Sat_mean   -3.935677\n",
       "Temp_min     -0.666203\n",
       "...                ...\n",
       "Temp_std      3.194027\n",
       "DBP_std       3.452032\n",
       "hour          4.185551\n",
       "MAP_std       4.533054\n",
       "O2Sat_std     7.601406\n",
       "\n",
       "[66 rows x 1 columns]"
      ]
     },
     "execution_count": 10,
     "metadata": {
      "tags": []
     },
     "output_type": "execute_result"
    }
   ],
   "source": [
    "skewness"
   ]
  },
  {
   "cell_type": "markdown",
   "metadata": {
    "colab_type": "text",
    "id": "g0Hx8Am8Gp8d"
   },
   "source": [
    "### Yeo-Johnson transformation to un-skew variable distributions then Standardization (0 mean, 1 std)"
   ]
  },
  {
   "cell_type": "code",
   "execution_count": 0,
   "metadata": {
    "colab": {},
    "colab_type": "code",
    "id": "rMiBU-3tGp8d"
   },
   "outputs": [],
   "source": [
    "scaler = PowerTransformer() # yeo-johnson transformation then standardization"
   ]
  },
  {
   "cell_type": "code",
   "execution_count": 12,
   "metadata": {
    "colab": {
     "base_uri": "https://localhost:8080/",
     "height": 34
    },
    "colab_type": "code",
    "executionInfo": {
     "elapsed": 153255,
     "status": "ok",
     "timestamp": 1588220009295,
     "user": {
      "displayName": "An Tran",
      "photoUrl": "",
      "userId": "10274312836707434279"
     },
     "user_tz": 420
    },
    "id": "QtgNB1jqGp8f",
    "outputId": "dd9fd3c0-32f5-4764-c6e6-d462920d2a51"
   },
   "outputs": [
    {
     "data": {
      "text/plain": [
       "PowerTransformer(copy=True, method='yeo-johnson', standardize=True)"
      ]
     },
     "execution_count": 12,
     "metadata": {
      "tags": []
     },
     "output_type": "execute_result"
    }
   ],
   "source": [
    "scaler.fit(train_df[cont_vars]) # only fit on the continuous variables of train_df"
   ]
  },
  {
   "cell_type": "code",
   "execution_count": 0,
   "metadata": {
    "colab": {},
    "colab_type": "code",
    "id": "bWdTWKg8Gp8i"
   },
   "outputs": [],
   "source": [
    "train_clean = scaler.transform(train_df[cont_vars])"
   ]
  },
  {
   "cell_type": "code",
   "execution_count": 0,
   "metadata": {
    "colab": {},
    "colab_type": "code",
    "id": "3dVaEwbMGp8k"
   },
   "outputs": [],
   "source": [
    "train_clean = pd.DataFrame(train_clean)"
   ]
  },
  {
   "cell_type": "code",
   "execution_count": 0,
   "metadata": {
    "colab": {},
    "colab_type": "code",
    "id": "OoGjerEqGp8l"
   },
   "outputs": [],
   "source": [
    "train_clean.columns = train_df[cont_vars].columns"
   ]
  },
  {
   "cell_type": "code",
   "execution_count": 16,
   "metadata": {
    "colab": {
     "base_uri": "https://localhost:8080/",
     "height": 224
    },
    "colab_type": "code",
    "executionInfo": {
     "elapsed": 110613,
     "status": "ok",
     "timestamp": 1588220016305,
     "user": {
      "displayName": "An Tran",
      "photoUrl": "",
      "userId": "10274312836707434279"
     },
     "user_tz": 420
    },
    "id": "6xc1gkK4Gp8n",
    "outputId": "1386477a-57b1-4f1a-ed87-07a0f0e60ef7"
   },
   "outputs": [
    {
     "data": {
      "text/html": [
       "<div>\n",
       "<style scoped>\n",
       "    .dataframe tbody tr th:only-of-type {\n",
       "        vertical-align: middle;\n",
       "    }\n",
       "\n",
       "    .dataframe tbody tr th {\n",
       "        vertical-align: top;\n",
       "    }\n",
       "\n",
       "    .dataframe thead th {\n",
       "        text-align: right;\n",
       "    }\n",
       "</style>\n",
       "<table border=\"1\" class=\"dataframe\">\n",
       "  <thead>\n",
       "    <tr style=\"text-align: right;\">\n",
       "      <th></th>\n",
       "      <th>HR_mean</th>\n",
       "      <th>MAP_mean</th>\n",
       "      <th>O2Sat_mean</th>\n",
       "      <th>SBP_mean</th>\n",
       "      <th>Resp_mean</th>\n",
       "      <th>DBP_mean</th>\n",
       "      <th>Temp_mean</th>\n",
       "      <th>HR_std</th>\n",
       "      <th>MAP_std</th>\n",
       "      <th>O2Sat_std</th>\n",
       "      <th>SBP_std</th>\n",
       "      <th>Resp_std</th>\n",
       "      <th>DBP_std</th>\n",
       "      <th>Temp_std</th>\n",
       "      <th>HR_min</th>\n",
       "      <th>MAP_min</th>\n",
       "      <th>O2Sat_min</th>\n",
       "      <th>SBP_min</th>\n",
       "      <th>Resp_min</th>\n",
       "      <th>DBP_min</th>\n",
       "      <th>Temp_min</th>\n",
       "      <th>HR_max</th>\n",
       "      <th>MAP_max</th>\n",
       "      <th>O2Sat_max</th>\n",
       "      <th>SBP_max</th>\n",
       "      <th>Resp_max</th>\n",
       "      <th>DBP_max</th>\n",
       "      <th>Temp_max</th>\n",
       "      <th>HR_diff1</th>\n",
       "      <th>MAP_diff1</th>\n",
       "      <th>O2Sat_diff1</th>\n",
       "      <th>SBP_diff1</th>\n",
       "      <th>Resp_diff1</th>\n",
       "      <th>DBP_diff1</th>\n",
       "      <th>Temp_diff1</th>\n",
       "      <th>HR_diff2</th>\n",
       "      <th>MAP_diff2</th>\n",
       "      <th>O2Sat_diff2</th>\n",
       "      <th>SBP_diff2</th>\n",
       "      <th>Resp_diff2</th>\n",
       "      <th>DBP_diff2</th>\n",
       "      <th>Temp_diff2</th>\n",
       "      <th>HR_diff3</th>\n",
       "      <th>MAP_diff3</th>\n",
       "      <th>O2Sat_diff3</th>\n",
       "      <th>SBP_diff3</th>\n",
       "      <th>Resp_diff3</th>\n",
       "      <th>DBP_diff3</th>\n",
       "      <th>Temp_diff3</th>\n",
       "      <th>HR_diff4</th>\n",
       "      <th>MAP_diff4</th>\n",
       "      <th>O2Sat_diff4</th>\n",
       "      <th>SBP_diff4</th>\n",
       "      <th>Resp_diff4</th>\n",
       "      <th>DBP_diff4</th>\n",
       "      <th>Temp_diff4</th>\n",
       "      <th>HR_diff5</th>\n",
       "      <th>MAP_diff5</th>\n",
       "      <th>O2Sat_diff5</th>\n",
       "      <th>SBP_diff5</th>\n",
       "      <th>Resp_diff5</th>\n",
       "      <th>DBP_diff5</th>\n",
       "      <th>Temp_diff5</th>\n",
       "      <th>Age</th>\n",
       "      <th>hour</th>\n",
       "      <th>HospAdmTime</th>\n",
       "    </tr>\n",
       "  </thead>\n",
       "  <tbody>\n",
       "    <tr>\n",
       "      <th>0</th>\n",
       "      <td>-0.494214</td>\n",
       "      <td>2.167066</td>\n",
       "      <td>-0.257952</td>\n",
       "      <td>2.350904</td>\n",
       "      <td>0.225659</td>\n",
       "      <td>-0.735066</td>\n",
       "      <td>0.030958</td>\n",
       "      <td>0.316975</td>\n",
       "      <td>0.998335</td>\n",
       "      <td>1.165242</td>\n",
       "      <td>-0.100423</td>\n",
       "      <td>0.582431</td>\n",
       "      <td>-1.565140</td>\n",
       "      <td>-0.887749</td>\n",
       "      <td>-0.398594</td>\n",
       "      <td>2.060733</td>\n",
       "      <td>-0.586981</td>\n",
       "      <td>2.428939</td>\n",
       "      <td>-0.136026</td>\n",
       "      <td>-0.218355</td>\n",
       "      <td>0.234737</td>\n",
       "      <td>-0.249107</td>\n",
       "      <td>1.984130</td>\n",
       "      <td>0.997467</td>\n",
       "      <td>2.025546</td>\n",
       "      <td>0.230224</td>\n",
       "      <td>-1.108712</td>\n",
       "      <td>-0.228386</td>\n",
       "      <td>-0.533278</td>\n",
       "      <td>2.248154</td>\n",
       "      <td>-1.621677</td>\n",
       "      <td>1.184451</td>\n",
       "      <td>-0.781000</td>\n",
       "      <td>-0.004030</td>\n",
       "      <td>-0.005838</td>\n",
       "      <td>0.810944</td>\n",
       "      <td>0.352274</td>\n",
       "      <td>0.011205</td>\n",
       "      <td>-0.698007</td>\n",
       "      <td>2.057526</td>\n",
       "      <td>-0.002085</td>\n",
       "      <td>-0.013301</td>\n",
       "      <td>-0.262749</td>\n",
       "      <td>-2.109323</td>\n",
       "      <td>1.669399</td>\n",
       "      <td>-1.033550</td>\n",
       "      <td>-1.041822</td>\n",
       "      <td>-0.000907</td>\n",
       "      <td>-0.020258</td>\n",
       "      <td>-1.758811</td>\n",
       "      <td>0.802503</td>\n",
       "      <td>0.013065</td>\n",
       "      <td>1.039101</td>\n",
       "      <td>-1.042822</td>\n",
       "      <td>0.001416</td>\n",
       "      <td>0.366599</td>\n",
       "      <td>1.469942</td>\n",
       "      <td>0.517552</td>\n",
       "      <td>0.820303</td>\n",
       "      <td>-0.533406</td>\n",
       "      <td>1.520423</td>\n",
       "      <td>0.001508</td>\n",
       "      <td>-0.019537</td>\n",
       "      <td>-1.860827</td>\n",
       "      <td>0.888277</td>\n",
       "      <td>0.860202</td>\n",
       "    </tr>\n",
       "    <tr>\n",
       "      <th>1</th>\n",
       "      <td>-0.193393</td>\n",
       "      <td>-0.087944</td>\n",
       "      <td>-0.962098</td>\n",
       "      <td>-1.177675</td>\n",
       "      <td>-0.403008</td>\n",
       "      <td>-0.735066</td>\n",
       "      <td>-0.292482</td>\n",
       "      <td>0.018641</td>\n",
       "      <td>-1.053614</td>\n",
       "      <td>0.590939</td>\n",
       "      <td>-0.426810</td>\n",
       "      <td>-0.161286</td>\n",
       "      <td>-1.565140</td>\n",
       "      <td>-1.014934</td>\n",
       "      <td>-0.136763</td>\n",
       "      <td>0.243862</td>\n",
       "      <td>-1.109181</td>\n",
       "      <td>-1.009552</td>\n",
       "      <td>-0.136026</td>\n",
       "      <td>-0.218355</td>\n",
       "      <td>-0.000762</td>\n",
       "      <td>-0.190966</td>\n",
       "      <td>-0.342644</td>\n",
       "      <td>-1.489824</td>\n",
       "      <td>-1.233596</td>\n",
       "      <td>-0.328424</td>\n",
       "      <td>-1.108712</td>\n",
       "      <td>-0.460255</td>\n",
       "      <td>-0.397834</td>\n",
       "      <td>-0.361590</td>\n",
       "      <td>0.009239</td>\n",
       "      <td>-0.220884</td>\n",
       "      <td>-1.298109</td>\n",
       "      <td>-0.004030</td>\n",
       "      <td>0.388014</td>\n",
       "      <td>0.006867</td>\n",
       "      <td>0.352274</td>\n",
       "      <td>0.011205</td>\n",
       "      <td>0.336162</td>\n",
       "      <td>0.767886</td>\n",
       "      <td>-0.002085</td>\n",
       "      <td>-0.013301</td>\n",
       "      <td>-0.262749</td>\n",
       "      <td>0.263557</td>\n",
       "      <td>0.010632</td>\n",
       "      <td>0.477899</td>\n",
       "      <td>0.251232</td>\n",
       "      <td>-0.000907</td>\n",
       "      <td>-0.020258</td>\n",
       "      <td>-0.941465</td>\n",
       "      <td>-0.088976</td>\n",
       "      <td>0.013065</td>\n",
       "      <td>0.408378</td>\n",
       "      <td>0.251263</td>\n",
       "      <td>0.001416</td>\n",
       "      <td>-0.022875</td>\n",
       "      <td>0.376658</td>\n",
       "      <td>0.257937</td>\n",
       "      <td>1.632739</td>\n",
       "      <td>-0.335923</td>\n",
       "      <td>-0.767137</td>\n",
       "      <td>0.001508</td>\n",
       "      <td>-0.019537</td>\n",
       "      <td>-0.893334</td>\n",
       "      <td>-1.390161</td>\n",
       "      <td>0.857733</td>\n",
       "    </tr>\n",
       "    <tr>\n",
       "      <th>2</th>\n",
       "      <td>-0.331641</td>\n",
       "      <td>-0.167874</td>\n",
       "      <td>1.098539</td>\n",
       "      <td>0.500142</td>\n",
       "      <td>-1.616478</td>\n",
       "      <td>-0.688061</td>\n",
       "      <td>0.370752</td>\n",
       "      <td>-1.002432</td>\n",
       "      <td>0.105426</td>\n",
       "      <td>-0.758338</td>\n",
       "      <td>0.375703</td>\n",
       "      <td>0.093771</td>\n",
       "      <td>-1.565140</td>\n",
       "      <td>-1.014934</td>\n",
       "      <td>-0.136763</td>\n",
       "      <td>-0.022197</td>\n",
       "      <td>1.306311</td>\n",
       "      <td>0.618126</td>\n",
       "      <td>-1.385239</td>\n",
       "      <td>-0.174296</td>\n",
       "      <td>0.656408</td>\n",
       "      <td>-0.608517</td>\n",
       "      <td>-0.187452</td>\n",
       "      <td>0.997467</td>\n",
       "      <td>0.444149</td>\n",
       "      <td>-1.148555</td>\n",
       "      <td>-1.064903</td>\n",
       "      <td>0.173521</td>\n",
       "      <td>0.141159</td>\n",
       "      <td>0.023172</td>\n",
       "      <td>-0.398517</td>\n",
       "      <td>0.055685</td>\n",
       "      <td>0.252445</td>\n",
       "      <td>-0.004030</td>\n",
       "      <td>0.388014</td>\n",
       "      <td>-0.263786</td>\n",
       "      <td>0.143171</td>\n",
       "      <td>0.422168</td>\n",
       "      <td>-0.082382</td>\n",
       "      <td>-0.522960</td>\n",
       "      <td>-0.002085</td>\n",
       "      <td>-0.013301</td>\n",
       "      <td>0.544869</td>\n",
       "      <td>-0.533440</td>\n",
       "      <td>0.010632</td>\n",
       "      <td>-0.830229</td>\n",
       "      <td>-0.394142</td>\n",
       "      <td>-0.000907</td>\n",
       "      <td>-0.020258</td>\n",
       "      <td>-0.669550</td>\n",
       "      <td>-0.795139</td>\n",
       "      <td>0.013065</td>\n",
       "      <td>-0.756775</td>\n",
       "      <td>0.898220</td>\n",
       "      <td>0.001416</td>\n",
       "      <td>-0.022875</td>\n",
       "      <td>0.008629</td>\n",
       "      <td>-0.001120</td>\n",
       "      <td>-0.399509</td>\n",
       "      <td>-0.005583</td>\n",
       "      <td>-1.530315</td>\n",
       "      <td>0.001508</td>\n",
       "      <td>-0.019537</td>\n",
       "      <td>-0.946406</td>\n",
       "      <td>-2.083610</td>\n",
       "      <td>0.860202</td>\n",
       "    </tr>\n",
       "    <tr>\n",
       "      <th>3</th>\n",
       "      <td>-0.887285</td>\n",
       "      <td>-1.591198</td>\n",
       "      <td>0.928442</td>\n",
       "      <td>0.305578</td>\n",
       "      <td>0.302074</td>\n",
       "      <td>-2.717441</td>\n",
       "      <td>0.782806</td>\n",
       "      <td>-1.305481</td>\n",
       "      <td>-0.609538</td>\n",
       "      <td>0.084334</td>\n",
       "      <td>0.019747</td>\n",
       "      <td>-1.168168</td>\n",
       "      <td>-0.215155</td>\n",
       "      <td>0.112553</td>\n",
       "      <td>-0.601098</td>\n",
       "      <td>-1.084504</td>\n",
       "      <td>0.431984</td>\n",
       "      <td>0.404318</td>\n",
       "      <td>0.807383</td>\n",
       "      <td>-2.370934</td>\n",
       "      <td>0.641137</td>\n",
       "      <td>-1.152291</td>\n",
       "      <td>-1.527181</td>\n",
       "      <td>0.997467</td>\n",
       "      <td>0.241785</td>\n",
       "      <td>-0.137486</td>\n",
       "      <td>-2.325307</td>\n",
       "      <td>0.711251</td>\n",
       "      <td>0.007078</td>\n",
       "      <td>-0.006292</td>\n",
       "      <td>0.009239</td>\n",
       "      <td>-0.013935</td>\n",
       "      <td>-0.005748</td>\n",
       "      <td>-0.004030</td>\n",
       "      <td>-0.005838</td>\n",
       "      <td>0.208647</td>\n",
       "      <td>-0.095141</td>\n",
       "      <td>1.244196</td>\n",
       "      <td>-1.139790</td>\n",
       "      <td>-0.006350</td>\n",
       "      <td>0.056790</td>\n",
       "      <td>-0.378487</td>\n",
       "      <td>0.142777</td>\n",
       "      <td>-0.357478</td>\n",
       "      <td>-0.811120</td>\n",
       "      <td>0.267431</td>\n",
       "      <td>0.251232</td>\n",
       "      <td>-0.352598</td>\n",
       "      <td>0.889165</td>\n",
       "      <td>0.007858</td>\n",
       "      <td>-0.000330</td>\n",
       "      <td>0.013065</td>\n",
       "      <td>-0.008627</td>\n",
       "      <td>-0.007534</td>\n",
       "      <td>0.001416</td>\n",
       "      <td>-0.022875</td>\n",
       "      <td>0.131755</td>\n",
       "      <td>-0.516446</td>\n",
       "      <td>-0.196052</td>\n",
       "      <td>-0.730605</td>\n",
       "      <td>-0.512788</td>\n",
       "      <td>-0.573754</td>\n",
       "      <td>0.829998</td>\n",
       "      <td>1.516115</td>\n",
       "      <td>-0.575000</td>\n",
       "      <td>-0.538956</td>\n",
       "    </tr>\n",
       "    <tr>\n",
       "      <th>4</th>\n",
       "      <td>-0.342376</td>\n",
       "      <td>-1.574415</td>\n",
       "      <td>-1.500226</td>\n",
       "      <td>-1.068332</td>\n",
       "      <td>0.677635</td>\n",
       "      <td>-1.110037</td>\n",
       "      <td>-0.124647</td>\n",
       "      <td>-0.632079</td>\n",
       "      <td>1.965759</td>\n",
       "      <td>0.687907</td>\n",
       "      <td>-0.854744</td>\n",
       "      <td>-0.472420</td>\n",
       "      <td>2.710147</td>\n",
       "      <td>0.379275</td>\n",
       "      <td>-0.136763</td>\n",
       "      <td>-2.525024</td>\n",
       "      <td>-1.331393</td>\n",
       "      <td>-0.606705</td>\n",
       "      <td>1.037155</td>\n",
       "      <td>-3.913921</td>\n",
       "      <td>-0.102561</td>\n",
       "      <td>-0.426486</td>\n",
       "      <td>-0.080115</td>\n",
       "      <td>-1.489824</td>\n",
       "      <td>-1.181838</td>\n",
       "      <td>0.407609</td>\n",
       "      <td>0.979952</td>\n",
       "      <td>-0.141851</td>\n",
       "      <td>0.408327</td>\n",
       "      <td>2.791573</td>\n",
       "      <td>0.824842</td>\n",
       "      <td>-0.358077</td>\n",
       "      <td>-0.005748</td>\n",
       "      <td>5.089426</td>\n",
       "      <td>-0.005838</td>\n",
       "      <td>-0.263786</td>\n",
       "      <td>0.802459</td>\n",
       "      <td>-1.221413</td>\n",
       "      <td>0.336162</td>\n",
       "      <td>-0.522960</td>\n",
       "      <td>1.534149</td>\n",
       "      <td>-0.013301</td>\n",
       "      <td>-0.127116</td>\n",
       "      <td>-0.621314</td>\n",
       "      <td>0.838336</td>\n",
       "      <td>-0.830229</td>\n",
       "      <td>0.765532</td>\n",
       "      <td>-0.819936</td>\n",
       "      <td>1.434558</td>\n",
       "      <td>0.142421</td>\n",
       "      <td>-0.442472</td>\n",
       "      <td>1.255211</td>\n",
       "      <td>0.758332</td>\n",
       "      <td>0.251263</td>\n",
       "      <td>-1.521870</td>\n",
       "      <td>-0.022875</td>\n",
       "      <td>-0.739896</td>\n",
       "      <td>-2.825594</td>\n",
       "      <td>-0.806550</td>\n",
       "      <td>-0.467615</td>\n",
       "      <td>-0.004206</td>\n",
       "      <td>-4.716430</td>\n",
       "      <td>-0.019537</td>\n",
       "      <td>1.743260</td>\n",
       "      <td>-1.587232</td>\n",
       "      <td>0.484262</td>\n",
       "    </tr>\n",
       "  </tbody>\n",
       "</table>\n",
       "</div>"
      ],
      "text/plain": [
       "    HR_mean  MAP_mean  O2Sat_mean  ...       Age      hour  HospAdmTime\n",
       "0 -0.494214  2.167066   -0.257952  ... -1.860827  0.888277     0.860202\n",
       "1 -0.193393 -0.087944   -0.962098  ... -0.893334 -1.390161     0.857733\n",
       "2 -0.331641 -0.167874    1.098539  ... -0.946406 -2.083610     0.860202\n",
       "3 -0.887285 -1.591198    0.928442  ...  1.516115 -0.575000    -0.538956\n",
       "4 -0.342376 -1.574415   -1.500226  ...  1.743260 -1.587232     0.484262\n",
       "\n",
       "[5 rows x 66 columns]"
      ]
     },
     "execution_count": 16,
     "metadata": {
      "tags": []
     },
     "output_type": "execute_result"
    }
   ],
   "source": [
    "train_clean.head()"
   ]
  },
  {
   "cell_type": "code",
   "execution_count": 0,
   "metadata": {
    "colab": {},
    "colab_type": "code",
    "id": "E2KlmZbOGp8s"
   },
   "outputs": [],
   "source": [
    "# check the skewness of the variables after being cleaned\n",
    "skew_clean = train_clean.skew(axis=0)"
   ]
  },
  {
   "cell_type": "code",
   "execution_count": 18,
   "metadata": {
    "colab": {
     "base_uri": "https://localhost:8080/",
     "height": 419
    },
    "colab_type": "code",
    "executionInfo": {
     "elapsed": 111903,
     "status": "ok",
     "timestamp": 1588220017636,
     "user": {
      "displayName": "An Tran",
      "photoUrl": "",
      "userId": "10274312836707434279"
     },
     "user_tz": 420
    },
    "id": "z7YVBNPmGp8t",
    "outputId": "8d20fd25-01e9-4f8f-b10e-d8d8b7827d5d"
   },
   "outputs": [
    {
     "data": {
      "text/html": [
       "<div>\n",
       "<style scoped>\n",
       "    .dataframe tbody tr th:only-of-type {\n",
       "        vertical-align: middle;\n",
       "    }\n",
       "\n",
       "    .dataframe tbody tr th {\n",
       "        vertical-align: top;\n",
       "    }\n",
       "\n",
       "    .dataframe thead th {\n",
       "        text-align: right;\n",
       "    }\n",
       "</style>\n",
       "<table border=\"1\" class=\"dataframe\">\n",
       "  <thead>\n",
       "    <tr style=\"text-align: right;\">\n",
       "      <th></th>\n",
       "      <th>Skew</th>\n",
       "      <th>Skew_clean</th>\n",
       "    </tr>\n",
       "  </thead>\n",
       "  <tbody>\n",
       "    <tr>\n",
       "      <th>HospAdmTime</th>\n",
       "      <td>-12.509456</td>\n",
       "      <td>5.801748</td>\n",
       "    </tr>\n",
       "    <tr>\n",
       "      <th>O2Sat_min</th>\n",
       "      <td>-5.051313</td>\n",
       "      <td>-0.075064</td>\n",
       "    </tr>\n",
       "    <tr>\n",
       "      <th>O2Sat_max</th>\n",
       "      <td>-4.548473</td>\n",
       "      <td>-0.364846</td>\n",
       "    </tr>\n",
       "    <tr>\n",
       "      <th>O2Sat_mean</th>\n",
       "      <td>-3.935677</td>\n",
       "      <td>-0.108350</td>\n",
       "    </tr>\n",
       "    <tr>\n",
       "      <th>Temp_min</th>\n",
       "      <td>-0.666203</td>\n",
       "      <td>0.077084</td>\n",
       "    </tr>\n",
       "    <tr>\n",
       "      <th>...</th>\n",
       "      <td>...</td>\n",
       "      <td>...</td>\n",
       "    </tr>\n",
       "    <tr>\n",
       "      <th>Temp_std</th>\n",
       "      <td>3.194027</td>\n",
       "      <td>0.158495</td>\n",
       "    </tr>\n",
       "    <tr>\n",
       "      <th>DBP_std</th>\n",
       "      <td>3.452032</td>\n",
       "      <td>-0.032735</td>\n",
       "    </tr>\n",
       "    <tr>\n",
       "      <th>hour</th>\n",
       "      <td>4.185551</td>\n",
       "      <td>-0.000081</td>\n",
       "    </tr>\n",
       "    <tr>\n",
       "      <th>MAP_std</th>\n",
       "      <td>4.533054</td>\n",
       "      <td>0.035178</td>\n",
       "    </tr>\n",
       "    <tr>\n",
       "      <th>O2Sat_std</th>\n",
       "      <td>7.601406</td>\n",
       "      <td>-0.026004</td>\n",
       "    </tr>\n",
       "  </tbody>\n",
       "</table>\n",
       "<p>66 rows × 2 columns</p>\n",
       "</div>"
      ],
      "text/plain": [
       "                  Skew  Skew_clean\n",
       "HospAdmTime -12.509456    5.801748\n",
       "O2Sat_min    -5.051313   -0.075064\n",
       "O2Sat_max    -4.548473   -0.364846\n",
       "O2Sat_mean   -3.935677   -0.108350\n",
       "Temp_min     -0.666203    0.077084\n",
       "...                ...         ...\n",
       "Temp_std      3.194027    0.158495\n",
       "DBP_std       3.452032   -0.032735\n",
       "hour          4.185551   -0.000081\n",
       "MAP_std       4.533054    0.035178\n",
       "O2Sat_std     7.601406   -0.026004\n",
       "\n",
       "[66 rows x 2 columns]"
      ]
     },
     "execution_count": 18,
     "metadata": {
      "tags": []
     },
     "output_type": "execute_result"
    }
   ],
   "source": [
    "skewness['Skew_clean'] = skew_clean\n",
    "skewness"
   ]
  },
  {
   "cell_type": "markdown",
   "metadata": {
    "colab_type": "text",
    "id": "JRL0RM9uIn9j"
   },
   "source": [
    "### Calculate Variance Inflation Factor (VIF) for Multicollinearity"
   ]
  },
  {
   "cell_type": "code",
   "execution_count": 0,
   "metadata": {
    "colab": {},
    "colab_type": "code",
    "id": "zOmhJhNIWjB8"
   },
   "outputs": [],
   "source": [
    "vif_df = pd.concat([train_clean, train_df['SepsisLabel']], axis=1)"
   ]
  },
  {
   "cell_type": "code",
   "execution_count": 0,
   "metadata": {
    "colab": {},
    "colab_type": "code",
    "id": "K8U89vTKXRy4"
   },
   "outputs": [],
   "source": [
    "#gather features\n",
    "features = \"+\".join(cont_vars)\n",
    "\n",
    "# get y and X dataframes based on this regression:\n",
    "y_vif, X_vif = dmatrices('SepsisLabel ~' + features, vif_df, return_type='dataframe')"
   ]
  },
  {
   "cell_type": "code",
   "execution_count": 0,
   "metadata": {
    "colab": {},
    "colab_type": "code",
    "id": "z-WZSomjYazK"
   },
   "outputs": [],
   "source": [
    "# For each X, calculate VIF and save in dataframe\n",
    "vif = pd.DataFrame()\n",
    "vif[\"VIF\"] = [variance_inflation_factor(X_vif.values, i) for i in range(X_vif.shape[1])]\n",
    "vif.loc[vif['VIF'] > 10, 'VIF'] = vif.loc[vif['VIF'] > 10]['VIF']/10\n",
    "vif[\"features\"] = X_vif.columns"
   ]
  },
  {
   "cell_type": "code",
   "execution_count": 0,
   "metadata": {
    "colab": {},
    "colab_type": "code",
    "id": "ZsK2YI40bppM"
   },
   "outputs": [],
   "source": [
    "vif = vif.sort_values(by=['VIF'])"
   ]
  },
  {
   "cell_type": "code",
   "execution_count": 0,
   "metadata": {
    "colab": {
     "base_uri": "https://localhost:8080/",
     "height": 419
    },
    "colab_type": "code",
    "executionInfo": {
     "elapsed": 970412,
     "status": "ok",
     "timestamp": 1587364412306,
     "user": {
      "displayName": "An Tran",
      "photoUrl": "",
      "userId": "13330980052857741458"
     },
     "user_tz": 420
    },
    "id": "SUQ16ywhnd4-",
    "outputId": "e79b6ad2-f7cf-456c-c130-0102b6c3fa30"
   },
   "outputs": [
    {
     "data": {
      "text/html": [
       "<div>\n",
       "<style scoped>\n",
       "    .dataframe tbody tr th:only-of-type {\n",
       "        vertical-align: middle;\n",
       "    }\n",
       "\n",
       "    .dataframe tbody tr th {\n",
       "        vertical-align: top;\n",
       "    }\n",
       "\n",
       "    .dataframe thead th {\n",
       "        text-align: right;\n",
       "    }\n",
       "</style>\n",
       "<table border=\"1\" class=\"dataframe\">\n",
       "  <thead>\n",
       "    <tr style=\"text-align: right;\">\n",
       "      <th></th>\n",
       "      <th>VIF</th>\n",
       "      <th>features</th>\n",
       "    </tr>\n",
       "  </thead>\n",
       "  <tbody>\n",
       "    <tr>\n",
       "      <th>49</th>\n",
       "      <td>1.013489</td>\n",
       "      <td>Temp_diff3</td>\n",
       "    </tr>\n",
       "    <tr>\n",
       "      <th>66</th>\n",
       "      <td>1.037276</td>\n",
       "      <td>HospAdmTime</td>\n",
       "    </tr>\n",
       "    <tr>\n",
       "      <th>12</th>\n",
       "      <td>1.041049</td>\n",
       "      <td>Resp_std</td>\n",
       "    </tr>\n",
       "    <tr>\n",
       "      <th>65</th>\n",
       "      <td>1.055067</td>\n",
       "      <td>hour</td>\n",
       "    </tr>\n",
       "    <tr>\n",
       "      <th>10</th>\n",
       "      <td>1.103516</td>\n",
       "      <td>O2Sat_std</td>\n",
       "    </tr>\n",
       "    <tr>\n",
       "      <th>...</th>\n",
       "      <td>...</td>\n",
       "      <td>...</td>\n",
       "    </tr>\n",
       "    <tr>\n",
       "      <th>1</th>\n",
       "      <td>6.645173</td>\n",
       "      <td>HR_mean</td>\n",
       "    </tr>\n",
       "    <tr>\n",
       "      <th>8</th>\n",
       "      <td>7.031969</td>\n",
       "      <td>HR_std</td>\n",
       "    </tr>\n",
       "    <tr>\n",
       "      <th>24</th>\n",
       "      <td>7.946476</td>\n",
       "      <td>O2Sat_max</td>\n",
       "    </tr>\n",
       "    <tr>\n",
       "      <th>9</th>\n",
       "      <td>8.342779</td>\n",
       "      <td>MAP_std</td>\n",
       "    </tr>\n",
       "    <tr>\n",
       "      <th>7</th>\n",
       "      <td>11.402617</td>\n",
       "      <td>Temp_mean</td>\n",
       "    </tr>\n",
       "  </tbody>\n",
       "</table>\n",
       "<p>66 rows × 2 columns</p>\n",
       "</div>"
      ],
      "text/plain": [
       "          VIF     features\n",
       "49   1.013489   Temp_diff3\n",
       "66   1.037276  HospAdmTime\n",
       "12   1.041049     Resp_std\n",
       "65   1.055067         hour\n",
       "10   1.103516    O2Sat_std\n",
       "..        ...          ...\n",
       "1    6.645173      HR_mean\n",
       "8    7.031969       HR_std\n",
       "24   7.946476    O2Sat_max\n",
       "9    8.342779      MAP_std\n",
       "7   11.402617    Temp_mean\n",
       "\n",
       "[66 rows x 2 columns]"
      ]
     },
     "execution_count": 32,
     "metadata": {
      "tags": []
     },
     "output_type": "execute_result"
    }
   ],
   "source": [
    "vif = vif[vif['features'] != 'Intercept'] # drop the Intercept features\n",
    "vif"
   ]
  },
  {
   "cell_type": "code",
   "execution_count": 0,
   "metadata": {
    "colab": {},
    "colab_type": "code",
    "id": "2qV34fYZuPV2"
   },
   "outputs": [],
   "source": [
    "vif.to_csv('6hour_vif.csv', index=False)"
   ]
  },
  {
   "cell_type": "markdown",
   "metadata": {
    "colab_type": "text",
    "id": "0qJZhbIHuo8D"
   },
   "source": [
    "### Get the variables that have VIF < 10 "
   ]
  },
  {
   "cell_type": "code",
   "execution_count": 0,
   "metadata": {
    "colab": {},
    "colab_type": "code",
    "id": "noWh7Ze3unVR"
   },
   "outputs": [],
   "source": [
    "vif_features = vif[vif['VIF'] < 10]['features']"
   ]
  },
  {
   "cell_type": "markdown",
   "metadata": {
    "colab_type": "text",
    "id": "w8HYSI3GGp8v"
   },
   "source": [
    "### Append the categorical variables to continuous variables after all the processing"
   ]
  },
  {
   "cell_type": "code",
   "execution_count": 0,
   "metadata": {
    "colab": {},
    "colab_type": "code",
    "id": "TCjAAi2CGp8v"
   },
   "outputs": [],
   "source": [
    "X_all = pd.concat([train_clean[vif_features], train_df[cat_vars].reset_index(drop=True)], axis=1)\n",
    "y_all = train_df['SepsisLabel'].reset_index(drop=True) # this is not necessary"
   ]
  },
  {
   "cell_type": "code",
   "execution_count": 0,
   "metadata": {
    "colab": {},
    "colab_type": "code",
    "id": "t-M4y0q6SzPp"
   },
   "outputs": [],
   "source": [
    "X_all.drop(['HospAdmTime', 'hour'], axis=1, inplace=True)"
   ]
  },
  {
   "cell_type": "code",
   "execution_count": 0,
   "metadata": {
    "colab": {
     "base_uri": "https://localhost:8080/",
     "height": 51
    },
    "colab_type": "code",
    "executionInfo": {
     "elapsed": 565,
     "status": "ok",
     "timestamp": 1587364468381,
     "user": {
      "displayName": "An Tran",
      "photoUrl": "",
      "userId": "13330980052857741458"
     },
     "user_tz": 420
    },
    "id": "u2_483nE8WoE",
    "outputId": "d094dafc-2899-47ee-bcf6-5249d82c338a"
   },
   "outputs": [
    {
     "name": "stdout",
     "output_type": "stream",
     "text": [
      "(1080424, 64)\n",
      "(1080424,)\n"
     ]
    }
   ],
   "source": [
    "print(X_all.shape)\n",
    "print(y_all.shape)"
   ]
  },
  {
   "cell_type": "markdown",
   "metadata": {
    "colab_type": "text",
    "id": "nok77lcuLel7"
   },
   "source": [
    "### Save training sets"
   ]
  },
  {
   "cell_type": "code",
   "execution_count": 0,
   "metadata": {
    "colab": {},
    "colab_type": "code",
    "id": "lf9ls1XvLjEI"
   },
   "outputs": [],
   "source": [
    "X_all.to_csv('6hour_Xtrain.csv', index=False)\n",
    "y_all.to_csv('6hour_ytrain.csv', index=False)"
   ]
  },
  {
   "cell_type": "markdown",
   "metadata": {
    "colab_type": "text",
    "id": "njqU5dTmGp8x"
   },
   "source": [
    "### Process the test set as well"
   ]
  },
  {
   "cell_type": "code",
   "execution_count": 0,
   "metadata": {
    "colab": {},
    "colab_type": "code",
    "id": "T1VzCSknGp8y"
   },
   "outputs": [],
   "source": [
    "test_clean = scaler.transform(test_df[cont_vars])"
   ]
  },
  {
   "cell_type": "code",
   "execution_count": 0,
   "metadata": {
    "colab": {},
    "colab_type": "code",
    "id": "rCnewCASGp80"
   },
   "outputs": [],
   "source": [
    "test_clean = pd.DataFrame(test_clean)"
   ]
  },
  {
   "cell_type": "code",
   "execution_count": 0,
   "metadata": {
    "colab": {},
    "colab_type": "code",
    "id": "JcABz2_NGp81"
   },
   "outputs": [],
   "source": [
    "test_clean.columns = test_df[cont_vars].columns"
   ]
  },
  {
   "cell_type": "code",
   "execution_count": 0,
   "metadata": {
    "colab": {
     "base_uri": "https://localhost:8080/",
     "height": 224
    },
    "colab_type": "code",
    "executionInfo": {
     "elapsed": 3016,
     "status": "ok",
     "timestamp": 1587364649392,
     "user": {
      "displayName": "An Tran",
      "photoUrl": "",
      "userId": "13330980052857741458"
     },
     "user_tz": 420
    },
    "id": "Y3u5H0VqGp83",
    "outputId": "585cda73-9538-403f-b164-2854b2398fb5"
   },
   "outputs": [
    {
     "data": {
      "text/html": [
       "<div>\n",
       "<style scoped>\n",
       "    .dataframe tbody tr th:only-of-type {\n",
       "        vertical-align: middle;\n",
       "    }\n",
       "\n",
       "    .dataframe tbody tr th {\n",
       "        vertical-align: top;\n",
       "    }\n",
       "\n",
       "    .dataframe thead th {\n",
       "        text-align: right;\n",
       "    }\n",
       "</style>\n",
       "<table border=\"1\" class=\"dataframe\">\n",
       "  <thead>\n",
       "    <tr style=\"text-align: right;\">\n",
       "      <th></th>\n",
       "      <th>HR_mean</th>\n",
       "      <th>MAP_mean</th>\n",
       "      <th>O2Sat_mean</th>\n",
       "      <th>SBP_mean</th>\n",
       "      <th>Resp_mean</th>\n",
       "      <th>DBP_mean</th>\n",
       "      <th>Temp_mean</th>\n",
       "      <th>HR_std</th>\n",
       "      <th>MAP_std</th>\n",
       "      <th>O2Sat_std</th>\n",
       "      <th>SBP_std</th>\n",
       "      <th>Resp_std</th>\n",
       "      <th>DBP_std</th>\n",
       "      <th>Temp_std</th>\n",
       "      <th>HR_min</th>\n",
       "      <th>MAP_min</th>\n",
       "      <th>O2Sat_min</th>\n",
       "      <th>SBP_min</th>\n",
       "      <th>Resp_min</th>\n",
       "      <th>DBP_min</th>\n",
       "      <th>Temp_min</th>\n",
       "      <th>HR_max</th>\n",
       "      <th>MAP_max</th>\n",
       "      <th>O2Sat_max</th>\n",
       "      <th>SBP_max</th>\n",
       "      <th>Resp_max</th>\n",
       "      <th>DBP_max</th>\n",
       "      <th>Temp_max</th>\n",
       "      <th>HR_diff1</th>\n",
       "      <th>MAP_diff1</th>\n",
       "      <th>O2Sat_diff1</th>\n",
       "      <th>SBP_diff1</th>\n",
       "      <th>Resp_diff1</th>\n",
       "      <th>DBP_diff1</th>\n",
       "      <th>Temp_diff1</th>\n",
       "      <th>HR_diff2</th>\n",
       "      <th>MAP_diff2</th>\n",
       "      <th>O2Sat_diff2</th>\n",
       "      <th>SBP_diff2</th>\n",
       "      <th>Resp_diff2</th>\n",
       "      <th>DBP_diff2</th>\n",
       "      <th>Temp_diff2</th>\n",
       "      <th>HR_diff3</th>\n",
       "      <th>MAP_diff3</th>\n",
       "      <th>O2Sat_diff3</th>\n",
       "      <th>SBP_diff3</th>\n",
       "      <th>Resp_diff3</th>\n",
       "      <th>DBP_diff3</th>\n",
       "      <th>Temp_diff3</th>\n",
       "      <th>HR_diff4</th>\n",
       "      <th>MAP_diff4</th>\n",
       "      <th>O2Sat_diff4</th>\n",
       "      <th>SBP_diff4</th>\n",
       "      <th>Resp_diff4</th>\n",
       "      <th>DBP_diff4</th>\n",
       "      <th>Temp_diff4</th>\n",
       "      <th>HR_diff5</th>\n",
       "      <th>MAP_diff5</th>\n",
       "      <th>O2Sat_diff5</th>\n",
       "      <th>SBP_diff5</th>\n",
       "      <th>Resp_diff5</th>\n",
       "      <th>DBP_diff5</th>\n",
       "      <th>Temp_diff5</th>\n",
       "      <th>Age</th>\n",
       "      <th>hour</th>\n",
       "      <th>HospAdmTime</th>\n",
       "    </tr>\n",
       "  </thead>\n",
       "  <tbody>\n",
       "    <tr>\n",
       "      <th>0</th>\n",
       "      <td>-0.267536</td>\n",
       "      <td>-1.353010</td>\n",
       "      <td>0.358448</td>\n",
       "      <td>-1.319677</td>\n",
       "      <td>1.969656</td>\n",
       "      <td>-0.656954</td>\n",
       "      <td>0.479264</td>\n",
       "      <td>-1.491403</td>\n",
       "      <td>-0.328571</td>\n",
       "      <td>-0.379434</td>\n",
       "      <td>-0.835696</td>\n",
       "      <td>0.593528</td>\n",
       "      <td>0.562207</td>\n",
       "      <td>-1.554126</td>\n",
       "      <td>0.053913</td>\n",
       "      <td>-1.259238</td>\n",
       "      <td>0.431984</td>\n",
       "      <td>-0.833943</td>\n",
       "      <td>1.264778</td>\n",
       "      <td>-1.185566</td>\n",
       "      <td>0.794561</td>\n",
       "      <td>-0.547305</td>\n",
       "      <td>-1.303655</td>\n",
       "      <td>-0.007814</td>\n",
       "      <td>-1.418209</td>\n",
       "      <td>1.239603</td>\n",
       "      <td>-0.383509</td>\n",
       "      <td>0.144975</td>\n",
       "      <td>0.007078</td>\n",
       "      <td>-0.184228</td>\n",
       "      <td>0.009239</td>\n",
       "      <td>0.020831</td>\n",
       "      <td>-0.134899</td>\n",
       "      <td>0.113552</td>\n",
       "      <td>-0.005838</td>\n",
       "      <td>-0.263786</td>\n",
       "      <td>-0.006146</td>\n",
       "      <td>0.011205</td>\n",
       "      <td>-0.013278</td>\n",
       "      <td>-0.006350</td>\n",
       "      <td>-0.002085</td>\n",
       "      <td>-0.013301</td>\n",
       "      <td>0.142777</td>\n",
       "      <td>0.712025</td>\n",
       "      <td>-0.400842</td>\n",
       "      <td>-0.285928</td>\n",
       "      <td>-0.006476</td>\n",
       "      <td>1.182097</td>\n",
       "      <td>-0.020258</td>\n",
       "      <td>-0.262503</td>\n",
       "      <td>-1.367292</td>\n",
       "      <td>0.841352</td>\n",
       "      <td>-0.519785</td>\n",
       "      <td>-0.007534</td>\n",
       "      <td>-2.223344</td>\n",
       "      <td>-0.022875</td>\n",
       "      <td>0.254372</td>\n",
       "      <td>0.387699</td>\n",
       "      <td>-0.806550</td>\n",
       "      <td>0.160927</td>\n",
       "      <td>2.028475</td>\n",
       "      <td>0.461618</td>\n",
       "      <td>-0.019537</td>\n",
       "      <td>0.311133</td>\n",
       "      <td>0.720210</td>\n",
       "      <td>-0.697744</td>\n",
       "    </tr>\n",
       "    <tr>\n",
       "      <th>1</th>\n",
       "      <td>-0.549162</td>\n",
       "      <td>0.353466</td>\n",
       "      <td>1.098539</td>\n",
       "      <td>0.526904</td>\n",
       "      <td>-0.203064</td>\n",
       "      <td>-0.355556</td>\n",
       "      <td>0.985754</td>\n",
       "      <td>0.502647</td>\n",
       "      <td>1.807713</td>\n",
       "      <td>0.190728</td>\n",
       "      <td>2.106406</td>\n",
       "      <td>0.407428</td>\n",
       "      <td>1.204729</td>\n",
       "      <td>-0.942220</td>\n",
       "      <td>-0.601098</td>\n",
       "      <td>-0.998816</td>\n",
       "      <td>0.431984</td>\n",
       "      <td>-0.921173</td>\n",
       "      <td>-0.136026</td>\n",
       "      <td>-1.292729</td>\n",
       "      <td>1.264425</td>\n",
       "      <td>-0.486632</td>\n",
       "      <td>0.810559</td>\n",
       "      <td>0.997467</td>\n",
       "      <td>1.015449</td>\n",
       "      <td>0.048622</td>\n",
       "      <td>-0.030135</td>\n",
       "      <td>0.711251</td>\n",
       "      <td>-1.212289</td>\n",
       "      <td>-3.092115</td>\n",
       "      <td>0.009239</td>\n",
       "      <td>-3.340661</td>\n",
       "      <td>0.510542</td>\n",
       "      <td>-2.454130</td>\n",
       "      <td>-0.005838</td>\n",
       "      <td>1.211215</td>\n",
       "      <td>4.063779</td>\n",
       "      <td>0.422168</td>\n",
       "      <td>4.850362</td>\n",
       "      <td>1.283815</td>\n",
       "      <td>2.955765</td>\n",
       "      <td>-0.013301</td>\n",
       "      <td>0.277040</td>\n",
       "      <td>-3.330180</td>\n",
       "      <td>0.838336</td>\n",
       "      <td>-4.095719</td>\n",
       "      <td>-0.006476</td>\n",
       "      <td>-2.450271</td>\n",
       "      <td>-0.384200</td>\n",
       "      <td>-1.895210</td>\n",
       "      <td>0.445102</td>\n",
       "      <td>-1.231485</td>\n",
       "      <td>0.828468</td>\n",
       "      <td>-0.783991</td>\n",
       "      <td>0.001416</td>\n",
       "      <td>-0.022875</td>\n",
       "      <td>0.254372</td>\n",
       "      <td>0.171497</td>\n",
       "      <td>0.007343</td>\n",
       "      <td>0.127565</td>\n",
       "      <td>0.504125</td>\n",
       "      <td>0.116542</td>\n",
       "      <td>0.319698</td>\n",
       "      <td>1.298358</td>\n",
       "      <td>0.387978</td>\n",
       "      <td>-0.452914</td>\n",
       "    </tr>\n",
       "    <tr>\n",
       "      <th>2</th>\n",
       "      <td>0.187561</td>\n",
       "      <td>-0.463994</td>\n",
       "      <td>1.215654</td>\n",
       "      <td>0.281818</td>\n",
       "      <td>0.566070</td>\n",
       "      <td>-0.028916</td>\n",
       "      <td>-0.279969</td>\n",
       "      <td>-0.174692</td>\n",
       "      <td>0.148208</td>\n",
       "      <td>-0.703727</td>\n",
       "      <td>-0.587974</td>\n",
       "      <td>0.953423</td>\n",
       "      <td>-1.565140</td>\n",
       "      <td>-0.245408</td>\n",
       "      <td>0.301120</td>\n",
       "      <td>-0.666526</td>\n",
       "      <td>1.306311</td>\n",
       "      <td>0.380155</td>\n",
       "      <td>0.103801</td>\n",
       "      <td>0.446826</td>\n",
       "      <td>-0.160398</td>\n",
       "      <td>0.148182</td>\n",
       "      <td>-0.411288</td>\n",
       "      <td>0.997467</td>\n",
       "      <td>-0.009861</td>\n",
       "      <td>0.916955</td>\n",
       "      <td>-0.458039</td>\n",
       "      <td>-0.228386</td>\n",
       "      <td>-0.668867</td>\n",
       "      <td>0.532091</td>\n",
       "      <td>0.009239</td>\n",
       "      <td>0.477011</td>\n",
       "      <td>1.284521</td>\n",
       "      <td>-0.004030</td>\n",
       "      <td>-0.399066</td>\n",
       "      <td>0.409769</td>\n",
       "      <td>-0.095141</td>\n",
       "      <td>0.422168</td>\n",
       "      <td>0.125983</td>\n",
       "      <td>-2.849471</td>\n",
       "      <td>-0.002085</td>\n",
       "      <td>-0.013301</td>\n",
       "      <td>-1.217009</td>\n",
       "      <td>0.353087</td>\n",
       "      <td>0.010632</td>\n",
       "      <td>-0.285928</td>\n",
       "      <td>0.765532</td>\n",
       "      <td>-0.000907</td>\n",
       "      <td>-0.020258</td>\n",
       "      <td>1.079200</td>\n",
       "      <td>0.355857</td>\n",
       "      <td>-0.401567</td>\n",
       "      <td>-0.077296</td>\n",
       "      <td>1.545151</td>\n",
       "      <td>0.001416</td>\n",
       "      <td>-0.022875</td>\n",
       "      <td>-0.364382</td>\n",
       "      <td>0.604161</td>\n",
       "      <td>0.413917</td>\n",
       "      <td>0.931433</td>\n",
       "      <td>-0.512788</td>\n",
       "      <td>0.001508</td>\n",
       "      <td>-0.931476</td>\n",
       "      <td>0.676934</td>\n",
       "      <td>0.179484</td>\n",
       "      <td>0.860202</td>\n",
       "    </tr>\n",
       "    <tr>\n",
       "      <th>3</th>\n",
       "      <td>0.527518</td>\n",
       "      <td>0.370542</td>\n",
       "      <td>-0.176693</td>\n",
       "      <td>-1.350533</td>\n",
       "      <td>-1.024517</td>\n",
       "      <td>1.211973</td>\n",
       "      <td>-0.674506</td>\n",
       "      <td>0.943133</td>\n",
       "      <td>0.558421</td>\n",
       "      <td>0.564615</td>\n",
       "      <td>0.038937</td>\n",
       "      <td>-0.143770</td>\n",
       "      <td>1.008842</td>\n",
       "      <td>-0.942220</td>\n",
       "      <td>0.240041</td>\n",
       "      <td>0.027129</td>\n",
       "      <td>-0.281732</td>\n",
       "      <td>-1.630824</td>\n",
       "      <td>-0.874366</td>\n",
       "      <td>0.751211</td>\n",
       "      <td>-0.389332</td>\n",
       "      <td>0.628638</td>\n",
       "      <td>0.337885</td>\n",
       "      <td>0.997467</td>\n",
       "      <td>-1.285786</td>\n",
       "      <td>-1.148555</td>\n",
       "      <td>1.183986</td>\n",
       "      <td>-0.869953</td>\n",
       "      <td>-0.397834</td>\n",
       "      <td>-1.685421</td>\n",
       "      <td>0.009239</td>\n",
       "      <td>-1.854353</td>\n",
       "      <td>-0.005748</td>\n",
       "      <td>-1.988490</td>\n",
       "      <td>-0.005838</td>\n",
       "      <td>-1.080299</td>\n",
       "      <td>0.982886</td>\n",
       "      <td>0.011205</td>\n",
       "      <td>0.899896</td>\n",
       "      <td>-1.039789</td>\n",
       "      <td>1.179102</td>\n",
       "      <td>-0.013301</td>\n",
       "      <td>2.806842</td>\n",
       "      <td>-1.322629</td>\n",
       "      <td>0.010632</td>\n",
       "      <td>-0.626548</td>\n",
       "      <td>-0.006476</td>\n",
       "      <td>-1.868644</td>\n",
       "      <td>-0.020258</td>\n",
       "      <td>-2.577762</td>\n",
       "      <td>1.160379</td>\n",
       "      <td>-1.231485</td>\n",
       "      <td>0.478254</td>\n",
       "      <td>-0.007534</td>\n",
       "      <td>1.655950</td>\n",
       "      <td>-0.377003</td>\n",
       "      <td>1.772270</td>\n",
       "      <td>-0.902012</td>\n",
       "      <td>2.038839</td>\n",
       "      <td>-0.270010</td>\n",
       "      <td>0.504125</td>\n",
       "      <td>-1.436742</td>\n",
       "      <td>-0.019537</td>\n",
       "      <td>0.720035</td>\n",
       "      <td>-1.814944</td>\n",
       "      <td>-1.115165</td>\n",
       "    </tr>\n",
       "    <tr>\n",
       "      <th>4</th>\n",
       "      <td>0.992505</td>\n",
       "      <td>-0.856151</td>\n",
       "      <td>0.556345</td>\n",
       "      <td>-1.167655</td>\n",
       "      <td>3.724331</td>\n",
       "      <td>-0.688061</td>\n",
       "      <td>-0.142198</td>\n",
       "      <td>-0.791380</td>\n",
       "      <td>-0.229432</td>\n",
       "      <td>0.360786</td>\n",
       "      <td>-0.147111</td>\n",
       "      <td>0.877986</td>\n",
       "      <td>0.098815</td>\n",
       "      <td>-0.903632</td>\n",
       "      <td>1.220562</td>\n",
       "      <td>-0.830638</td>\n",
       "      <td>0.056844</td>\n",
       "      <td>-1.189896</td>\n",
       "      <td>3.862281</td>\n",
       "      <td>-0.777385</td>\n",
       "      <td>0.072410</td>\n",
       "      <td>0.731242</td>\n",
       "      <td>-0.929936</td>\n",
       "      <td>0.997467</td>\n",
       "      <td>-1.130507</td>\n",
       "      <td>2.960187</td>\n",
       "      <td>-0.611312</td>\n",
       "      <td>-0.300671</td>\n",
       "      <td>0.541609</td>\n",
       "      <td>-0.803774</td>\n",
       "      <td>0.009239</td>\n",
       "      <td>-1.108170</td>\n",
       "      <td>2.058215</td>\n",
       "      <td>-0.822818</td>\n",
       "      <td>-0.220402</td>\n",
       "      <td>-0.807671</td>\n",
       "      <td>0.622209</td>\n",
       "      <td>1.244196</td>\n",
       "      <td>0.406420</td>\n",
       "      <td>-0.006350</td>\n",
       "      <td>0.706054</td>\n",
       "      <td>-0.013301</td>\n",
       "      <td>0.411049</td>\n",
       "      <td>-0.004104</td>\n",
       "      <td>-1.629547</td>\n",
       "      <td>0.407662</td>\n",
       "      <td>-2.080150</td>\n",
       "      <td>-0.000907</td>\n",
       "      <td>-0.020258</td>\n",
       "      <td>0.410722</td>\n",
       "      <td>0.713101</td>\n",
       "      <td>0.427332</td>\n",
       "      <td>0.758332</td>\n",
       "      <td>1.803919</td>\n",
       "      <td>0.709481</td>\n",
       "      <td>-0.022875</td>\n",
       "      <td>-0.239650</td>\n",
       "      <td>-1.201617</td>\n",
       "      <td>0.413917</td>\n",
       "      <td>-1.189984</td>\n",
       "      <td>-1.021512</td>\n",
       "      <td>-1.149072</td>\n",
       "      <td>-0.391738</td>\n",
       "      <td>-0.487925</td>\n",
       "      <td>-1.062397</td>\n",
       "      <td>-0.895328</td>\n",
       "    </tr>\n",
       "  </tbody>\n",
       "</table>\n",
       "</div>"
      ],
      "text/plain": [
       "    HR_mean  MAP_mean  O2Sat_mean  ...       Age      hour  HospAdmTime\n",
       "0 -0.267536 -1.353010    0.358448  ...  0.311133  0.720210    -0.697744\n",
       "1 -0.549162  0.353466    1.098539  ...  1.298358  0.387978    -0.452914\n",
       "2  0.187561 -0.463994    1.215654  ...  0.676934  0.179484     0.860202\n",
       "3  0.527518  0.370542   -0.176693  ...  0.720035 -1.814944    -1.115165\n",
       "4  0.992505 -0.856151    0.556345  ... -0.487925 -1.062397    -0.895328\n",
       "\n",
       "[5 rows x 66 columns]"
      ]
     },
     "execution_count": 43,
     "metadata": {
      "tags": []
     },
     "output_type": "execute_result"
    }
   ],
   "source": [
    "test_clean.head()"
   ]
  },
  {
   "cell_type": "code",
   "execution_count": 0,
   "metadata": {
    "colab": {},
    "colab_type": "code",
    "id": "8lXPyKFlGp85"
   },
   "outputs": [],
   "source": [
    "X_test = pd.concat([test_clean[vif_features], test_df[cat_vars].reset_index(drop=True)], axis=1)"
   ]
  },
  {
   "cell_type": "code",
   "execution_count": 0,
   "metadata": {
    "colab": {},
    "colab_type": "code",
    "id": "0m3pCSpDGp87"
   },
   "outputs": [],
   "source": [
    "y_test = test_df['SepsisLabel'].reset_index(drop=True)"
   ]
  },
  {
   "cell_type": "code",
   "execution_count": 0,
   "metadata": {
    "colab": {},
    "colab_type": "code",
    "id": "wuT4_v4gS8-q"
   },
   "outputs": [],
   "source": [
    "X_test.drop(['HospAdmTime', 'hour'], axis=1, inplace=True)"
   ]
  },
  {
   "cell_type": "code",
   "execution_count": 0,
   "metadata": {
    "colab": {
     "base_uri": "https://localhost:8080/",
     "height": 51
    },
    "colab_type": "code",
    "executionInfo": {
     "elapsed": 2987,
     "status": "ok",
     "timestamp": 1587364649394,
     "user": {
      "displayName": "An Tran",
      "photoUrl": "",
      "userId": "13330980052857741458"
     },
     "user_tz": 420
    },
    "id": "ldRcft_qGp89",
    "outputId": "315e76c2-8f83-4d95-b716-20fda8d7683e"
   },
   "outputs": [
    {
     "name": "stdout",
     "output_type": "stream",
     "text": [
      "(270106, 64)\n",
      "(270106,)\n"
     ]
    }
   ],
   "source": [
    "print(X_test.shape)\n",
    "print(y_test.shape)"
   ]
  },
  {
   "cell_type": "markdown",
   "metadata": {
    "colab_type": "text",
    "id": "mxOOvJElMle1"
   },
   "source": [
    "### Save test sets"
   ]
  },
  {
   "cell_type": "code",
   "execution_count": 0,
   "metadata": {
    "colab": {},
    "colab_type": "code",
    "id": "gyy_0tIFMpsK"
   },
   "outputs": [],
   "source": [
    "X_test.to_csv('6hour_Xtest.csv', index=False)\n",
    "y_test.to_csv('6hour_ytest.csv', index=False)"
   ]
  },
  {
   "cell_type": "code",
   "execution_count": 0,
   "metadata": {
    "colab": {},
    "colab_type": "code",
    "id": "SVWU8V4uTn5y"
   },
   "outputs": [],
   "source": []
  }
 ],
 "metadata": {
  "accelerator": "TPU",
  "colab": {
   "collapsed_sections": [],
   "name": "6hour_processing.ipynb",
   "provenance": [],
   "toc_visible": true
  },
  "kernelspec": {
   "display_name": "Python 3",
   "language": "python",
   "name": "python3"
  },
  "language_info": {
   "codemirror_mode": {
    "name": "ipython",
    "version": 3
   },
   "file_extension": ".py",
   "mimetype": "text/x-python",
   "name": "python",
   "nbconvert_exporter": "python",
   "pygments_lexer": "ipython3",
   "version": "3.6.8"
  }
 },
 "nbformat": 4,
 "nbformat_minor": 1
}
