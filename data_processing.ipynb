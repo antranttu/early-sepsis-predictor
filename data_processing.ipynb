{
 "cells": [
  {
   "cell_type": "code",
   "execution_count": 1,
   "metadata": {
    "colab": {
     "base_uri": "https://localhost:8080/",
     "height": 139
    },
    "colab_type": "code",
    "executionInfo": {
     "elapsed": 1202,
     "status": "ok",
     "timestamp": 1588133501953,
     "user": {
      "displayName": "An Tran",
      "photoUrl": "",
      "userId": "10274312836707434279"
     },
     "user_tz": 420
    },
    "id": "g4KXhwA1C_QZ",
    "outputId": "2d2b1803-636e-40ef-c53a-272ab5122efb",
    "scrolled": true
   },
   "outputs": [
    {
     "name": "stderr",
     "output_type": "stream",
     "text": [
      "c:\\users\\antra\\appdata\\local\\programs\\python\\python36\\lib\\site-packages\\statsmodels\\tools\\_testing.py:19: FutureWarning: pandas.util.testing is deprecated. Use the functions in the public API at pandas.testing instead.\n",
      "  import pandas.util.testing as tm\n"
     ]
    }
   ],
   "source": [
    "import pandas as pd\n",
    "import numpy as np\n",
    "import seaborn as sns\n",
    "\n",
    "import matplotlib.pyplot as plt\n",
    "from matplotlib import cm\n",
    "\n",
    "from pylab import rcParams\n",
    "\n",
    "import os\n",
    "import re\n",
    "import time\n",
    "\n",
    "seed = 9001\n",
    "np.random.seed(seed)"
   ]
  },
  {
   "cell_type": "markdown",
   "metadata": {},
   "source": [
    "### Create function to load individual patient data into one big dataframe"
   ]
  },
  {
   "cell_type": "code",
   "execution_count": 31,
   "metadata": {},
   "outputs": [
    {
     "data": {
      "text/plain": [
       "(1552210, 43)"
      ]
     },
     "execution_count": 31,
     "metadata": {},
     "output_type": "execute_result"
    }
   ],
   "source": [
    "# only extracts numbers from file name to use as patient number\n",
    "regex = re.compile(r'\\d+')\n",
    "\n",
    "DATA_DIR = \"training\" # Path to the data\n",
    "\n",
    "def load_single_file(file_path):\n",
    "    df = pd.read_csv(file_path, sep='|')\n",
    "    df['hour'] = df.index\n",
    "    patient = regex.findall(file_path)\n",
    "    df['patient'] = int(patient[0]) # extracts only numbers from file name\n",
    "    return df \n",
    "\n",
    "def get_data_files():\n",
    "    return [os.path.join(DATA_DIR, x) for x in sorted(os.listdir(DATA_DIR))]\n",
    "\n",
    "def clean_data(data):\n",
    "    data.reset_index(inplace=True, drop=True) # reset the index pre-joined dataframes\n",
    "    return data\n",
    "\n",
    "def load_data():\n",
    "    df_list = list()\n",
    "    files = get_data_files()\n",
    "\n",
    "    for file in files:\n",
    "        df_list.append(load_single_file(file))\n",
    "    \n",
    "    # create patient id ordered starting from 0\n",
    "    for i in np.arange(0, len(df_list)):\n",
    "        df_list[i]['id'] = i\n",
    "    \n",
    "    df = pd.concat(df_list) # concat all the dataframes in this list into 1 big dataframe\n",
    "    df = clean_data(df) # reset the indices\n",
    "    df = df.drop(columns=['patient']) # drop patient number since not needed anymore\n",
    "\n",
    "    return df"
   ]
  },
  {
   "cell_type": "code",
   "execution_count": 2,
   "metadata": {
    "colab": {
     "base_uri": "https://localhost:8080/",
     "height": 34
    },
    "colab_type": "code",
    "executionInfo": {
     "elapsed": 4917,
     "status": "ok",
     "timestamp": 1587965837207,
     "user": {
      "displayName": "An Tran",
      "photoUrl": "",
      "userId": "10274312836707434279"
     },
     "user_tz": 420
    },
    "id": "EmqaSGkFGp6S",
    "outputId": "e761baa6-cfe4-46f6-a62c-1c9b9a74b026"
   },
   "outputs": [],
   "source": [
    "# aggregate the individual patient data into one big data frame\n",
    "df = load_data()"
   ]
  },
  {
   "cell_type": "markdown",
   "metadata": {
    "colab_type": "text",
    "id": "-gWI3x0lGp6Y"
   },
   "source": [
    "# Data Exploration"
   ]
  },
  {
   "cell_type": "code",
   "execution_count": 32,
   "metadata": {
    "colab": {
     "base_uri": "https://localhost:8080/",
     "height": 153
    },
    "colab_type": "code",
    "executionInfo": {
     "elapsed": 356,
     "status": "ok",
     "timestamp": 1587965852022,
     "user": {
      "displayName": "An Tran",
      "photoUrl": "",
      "userId": "10274312836707434279"
     },
     "user_tz": 420
    },
    "id": "gJiA-PwVGp6Y",
    "outputId": "3782c14c-0a98-4b96-aa3d-21f54fbeaf39"
   },
   "outputs": [
    {
     "data": {
      "text/plain": [
       "Index(['HR', 'O2Sat', 'Temp', 'SBP', 'MAP', 'DBP', 'Resp', 'EtCO2',\n",
       "       'BaseExcess', 'HCO3', 'FiO2', 'pH', 'PaCO2', 'SaO2', 'AST', 'BUN',\n",
       "       'Alkalinephos', 'Calcium', 'Chloride', 'Creatinine', 'Bilirubin_direct',\n",
       "       'Glucose', 'Lactate', 'Magnesium', 'Phosphate', 'Potassium',\n",
       "       'Bilirubin_total', 'TroponinI', 'Hct', 'Hgb', 'PTT', 'WBC',\n",
       "       'Fibrinogen', 'Platelets', 'Age', 'Gender', 'Unit1', 'Unit2',\n",
       "       'HospAdmTime', 'ICULOS', 'SepsisLabel', 'hour', 'id'],\n",
       "      dtype='object')"
      ]
     },
     "execution_count": 32,
     "metadata": {},
     "output_type": "execute_result"
    }
   ],
   "source": [
    "df.columns # name of columns"
   ]
  },
  {
   "cell_type": "code",
   "execution_count": 33,
   "metadata": {
    "colab": {
     "base_uri": "https://localhost:8080/",
     "height": 34
    },
    "colab_type": "code",
    "executionInfo": {
     "elapsed": 531,
     "status": "ok",
     "timestamp": 1587965852228,
     "user": {
      "displayName": "An Tran",
      "photoUrl": "",
      "userId": "10274312836707434279"
     },
     "user_tz": 420
    },
    "id": "Vnw8TnrLGp6a",
    "outputId": "e68e34cf-63a7-441a-e1e6-cdf1fe2eab60"
   },
   "outputs": [
    {
     "data": {
      "text/plain": [
       "(1552210, 43)"
      ]
     },
     "execution_count": 33,
     "metadata": {},
     "output_type": "execute_result"
    }
   ],
   "source": [
    "df.shape # dataset size: 1,552,210 rows x 43 columns"
   ]
  },
  {
   "cell_type": "code",
   "execution_count": 34,
   "metadata": {
    "colab": {
     "base_uri": "https://localhost:8080/",
     "height": 68
    },
    "colab_type": "code",
    "executionInfo": {
     "elapsed": 514,
     "status": "ok",
     "timestamp": 1587965852229,
     "user": {
      "displayName": "An Tran",
      "photoUrl": "",
      "userId": "10274312836707434279"
     },
     "user_tz": 420
    },
    "id": "MBEw9G2YGp6c",
    "outputId": "bf507b89-7778-4989-b051-6c2c22c05e81"
   },
   "outputs": [
    {
     "data": {
      "text/plain": [
       "0    1524294\n",
       "1      27916\n",
       "Name: SepsisLabel, dtype: int64"
      ]
     },
     "execution_count": 34,
     "metadata": {},
     "output_type": "execute_result"
    }
   ],
   "source": [
    "df['SepsisLabel'].value_counts() # this is per event notes/records. NOT per patients"
   ]
  },
  {
   "cell_type": "markdown",
   "metadata": {
    "colab_type": "text",
    "id": "a_eDfjPuGp6f"
   },
   "source": [
    "### Distribution of sepsis labels vs total number of events"
   ]
  },
  {
   "cell_type": "code",
   "execution_count": 35,
   "metadata": {
    "colab": {
     "base_uri": "https://localhost:8080/",
     "height": 34
    },
    "colab_type": "code",
    "executionInfo": {
     "elapsed": 493,
     "status": "ok",
     "timestamp": 1587965852230,
     "user": {
      "displayName": "An Tran",
      "photoUrl": "",
      "userId": "10274312836707434279"
     },
     "user_tz": 420
    },
    "id": "-JwiAdcuGp6f",
    "outputId": "2352f3a7-da57-444e-a995-fb7c018304b2"
   },
   "outputs": [
    {
     "name": "stdout",
     "output_type": "stream",
     "text": [
      "Distribution of sepsis events:  1.798467990800214 %\n"
     ]
    }
   ],
   "source": [
    "distribution = (df['SepsisLabel'].value_counts()[1] / sum(df['SepsisLabel'].value_counts()))\n",
    "print('Distribution of sepsis events: ', distribution*100, '%')"
   ]
  },
  {
   "cell_type": "markdown",
   "metadata": {
    "colab_type": "text",
    "id": "srSRp3v8Gp6h"
   },
   "source": [
    "### Plot the event-wise imbalance"
   ]
  },
  {
   "cell_type": "code",
   "execution_count": 36,
   "metadata": {
    "colab": {
     "base_uri": "https://localhost:8080/",
     "height": 312
    },
    "colab_type": "code",
    "executionInfo": {
     "elapsed": 798,
     "status": "ok",
     "timestamp": 1587965852552,
     "user": {
      "displayName": "An Tran",
      "photoUrl": "",
      "userId": "10274312836707434279"
     },
     "user_tz": 420
    },
    "id": "3dgKUo-SGp6h",
    "outputId": "2397eb58-3102-4515-9ebf-584545e1eef9"
   },
   "outputs": [
    {
     "data": {
      "text/plain": [
       "Text(0.5, 1.0, 'Sepsis Label Distribution Event-wise')"
      ]
     },
     "execution_count": 36,
     "metadata": {},
     "output_type": "execute_result"
    },
    {
     "data": {
      "image/png": "[encoded data removed]",
      "text/plain": [
       "<Figure size 432x288 with 1 Axes>"
      ]
     },
     "metadata": {
      "needs_background": "light"
     },
     "output_type": "display_data"
    }
   ],
   "source": [
    "plt.bar(df['SepsisLabel'].value_counts().index, # x-values\n",
    "        df['SepsisLabel'].value_counts()) # y-values\n",
    "plt.xticks([0,1])\n",
    "plt.xlabel('Class')\n",
    "plt.ylabel('Frequency')\n",
    "plt.title('Sepsis Label Distribution Event-wise')"
   ]
  },
  {
   "cell_type": "markdown",
   "metadata": {
    "colab_type": "text",
    "id": "MFKRWdgYGp6j"
   },
   "source": [
    "### Distribution of sepsis patient-wise"
   ]
  },
  {
   "cell_type": "code",
   "execution_count": 37,
   "metadata": {
    "colab": {
     "base_uri": "https://localhost:8080/",
     "height": 34
    },
    "colab_type": "code",
    "executionInfo": {
     "elapsed": 781,
     "status": "ok",
     "timestamp": 1587965852552,
     "user": {
      "displayName": "An Tran",
      "photoUrl": "",
      "userId": "10274312836707434279"
     },
     "user_tz": 420
    },
    "id": "vD3CML8lGp6j",
    "outputId": "5f28fbdd-9973-4b55-c357-24df2a9e3e13"
   },
   "outputs": [
    {
     "data": {
      "text/plain": [
       "2932"
      ]
     },
     "execution_count": 37,
     "metadata": {},
     "output_type": "execute_result"
    }
   ],
   "source": [
    "grp_sepsis = df.groupby(['id'])['SepsisLabel'].sum() # sum sepsis labels grouped by 'id'. patients with sepsis have sum > 0\n",
    "\n",
    "len(grp_sepsis[grp_sepsis > 0]) # total number of patients with sepsis"
   ]
  },
  {
   "cell_type": "code",
   "execution_count": 38,
   "metadata": {
    "colab": {
     "base_uri": "https://localhost:8080/",
     "height": 34
    },
    "colab_type": "code",
    "executionInfo": {
     "elapsed": 765,
     "status": "ok",
     "timestamp": 1587965852553,
     "user": {
      "displayName": "An Tran",
      "photoUrl": "",
      "userId": "10274312836707434279"
     },
     "user_tz": 420
    },
    "id": "v41FFKtTGp6l",
    "outputId": "e24fd1e5-ed4e-4fb6-aa14-1ccc06eab51e"
   },
   "outputs": [
    {
     "name": "stdout",
     "output_type": "stream",
     "text": [
      "Distribution of sepsis patients:  7.268940896469656 %\n"
     ]
    }
   ],
   "source": [
    "sepsis_distr = len(grp_sepsis[grp_sepsis > 0]) / len(df['id'].unique())\n",
    "print('Distribution of sepsis patients: ', sepsis_distr*100, '%')"
   ]
  },
  {
   "cell_type": "markdown",
   "metadata": {
    "colab_type": "text",
    "id": "dsP83TR9Gp6n"
   },
   "source": [
    "### Percentage of missing data per each variable"
   ]
  },
  {
   "cell_type": "code",
   "execution_count": 39,
   "metadata": {
    "colab": {
     "base_uri": "https://localhost:8080/",
     "height": 765
    },
    "colab_type": "code",
    "executionInfo": {
     "elapsed": 910,
     "status": "ok",
     "timestamp": 1587965852716,
     "user": {
      "displayName": "An Tran",
      "photoUrl": "",
      "userId": "10274312836707434279"
     },
     "user_tz": 420
    },
    "id": "UIqzQJ8WGp6o",
    "outputId": "55f21555-d20c-410c-ff17-7e907387726e"
   },
   "outputs": [
    {
     "data": {
      "text/plain": [
       "id                   0.000000\n",
       "SepsisLabel          0.000000\n",
       "ICULOS               0.000000\n",
       "Gender               0.000000\n",
       "Age                  0.000000\n",
       "hour                 0.000000\n",
       "HospAdmTime          0.000515\n",
       "HR                   9.882619\n",
       "MAP                 12.451279\n",
       "O2Sat               13.061119\n",
       "SBP                 14.576958\n",
       "Resp                15.354559\n",
       "DBP                 31.345887\n",
       "Unit2               39.425078\n",
       "Unit1               39.425078\n",
       "Temp                66.162697\n",
       "Glucose             82.894325\n",
       "Potassium           90.689082\n",
       "Hct                 91.145979\n",
       "FiO2                91.665754\n",
       "Hgb                 92.617558\n",
       "pH                  93.069688\n",
       "BUN                 93.134434\n",
       "WBC                 93.593199\n",
       "Magnesium           93.689578\n",
       "Creatinine          93.904433\n",
       "Platelets           94.059502\n",
       "Calcium             94.116067\n",
       "PaCO2               94.440121\n",
       "BaseExcess          94.579020\n",
       "Chloride            95.460279\n",
       "HCO3                95.810618\n",
       "Phosphate           95.986303\n",
       "EtCO2               96.286843\n",
       "SaO2                96.549372\n",
       "PTT                 97.055875\n",
       "Lactate             97.329872\n",
       "AST                 98.377604\n",
       "Alkalinephos        98.393194\n",
       "Bilirubin_total     98.509158\n",
       "TroponinI           99.047745\n",
       "Fibrinogen          99.340167\n",
       "Bilirubin_direct    99.807371\n",
       "dtype: float64"
      ]
     },
     "execution_count": 39,
     "metadata": {},
     "output_type": "execute_result"
    }
   ],
   "source": [
    "missing = (df.isnull().sum() / df.shape[0]) * 100\n",
    "missing_sorted = missing.sort_values() # sorted percentage of missing data variables\n",
    "missing_sorted"
   ]
  },
  {
   "cell_type": "markdown",
   "metadata": {
    "colab_type": "text",
    "id": "hUQJA-kFGp6p"
   },
   "source": [
    "### Laboratory results features have more than 90% missing data. With such a high amount of missing values, these features are excluded because they do not contain useful information."
   ]
  },
  {
   "cell_type": "markdown",
   "metadata": {
    "colab_type": "text",
    "id": "vkz2Ri9iGp6r"
   },
   "source": [
    "### Save features less than 90% missing data"
   ]
  },
  {
   "cell_type": "code",
   "execution_count": 40,
   "metadata": {
    "colab": {
     "base_uri": "https://localhost:8080/",
     "height": 306
    },
    "colab_type": "code",
    "executionInfo": {
     "elapsed": 885,
     "status": "ok",
     "timestamp": 1587965852717,
     "user": {
      "displayName": "An Tran",
      "photoUrl": "",
      "userId": "10274312836707434279"
     },
     "user_tz": 420
    },
    "id": "8LX4m3_-Gp6r",
    "outputId": "fb91074d-cd17-42c7-e1c4-14e60f9bbcee"
   },
   "outputs": [
    {
     "data": {
      "text/plain": [
       "['id',\n",
       " 'SepsisLabel',\n",
       " 'ICULOS',\n",
       " 'Gender',\n",
       " 'Age',\n",
       " 'hour',\n",
       " 'HospAdmTime',\n",
       " 'HR',\n",
       " 'MAP',\n",
       " 'O2Sat',\n",
       " 'SBP',\n",
       " 'Resp',\n",
       " 'DBP',\n",
       " 'Unit2',\n",
       " 'Unit1',\n",
       " 'Temp',\n",
       " 'Glucose']"
      ]
     },
     "execution_count": 40,
     "metadata": {},
     "output_type": "execute_result"
    }
   ],
   "source": [
    "selected_cols = list(missing_sorted[missing_sorted < 90].index)\n",
    "selected_cols"
   ]
  },
  {
   "cell_type": "markdown",
   "metadata": {
    "colab_type": "text",
    "id": "HSs5EYgmGp6t"
   },
   "source": [
    "### Exclude Unit1, Unit2, ICULOS, HospAdmTime variables because these are just identifiers"
   ]
  },
  {
   "cell_type": "code",
   "execution_count": 41,
   "metadata": {
    "colab": {},
    "colab_type": "code",
    "id": "d2PvE-mLGp6t"
   },
   "outputs": [],
   "source": [
    "selected_cols = [col for col in selected_cols if col not in ['Unit1', 'Unit2', 'ICULOS', 'HospAdmTime', 'Glucose']] # exclude glucose because it's a laboratory feature"
   ]
  },
  {
   "cell_type": "code",
   "execution_count": 42,
   "metadata": {
    "colab": {
     "base_uri": "https://localhost:8080/",
     "height": 255
    },
    "colab_type": "code",
    "executionInfo": {
     "elapsed": 192,
     "status": "ok",
     "timestamp": 1587965857196,
     "user": {
      "displayName": "An Tran",
      "photoUrl": "",
      "userId": "10274312836707434279"
     },
     "user_tz": 420
    },
    "id": "geDyFZ2qGp6v",
    "outputId": "eee7e13f-eacb-4969-9dc8-9c5f36aa66ab"
   },
   "outputs": [
    {
     "data": {
      "text/plain": [
       "['id',\n",
       " 'SepsisLabel',\n",
       " 'Gender',\n",
       " 'Age',\n",
       " 'hour',\n",
       " 'HR',\n",
       " 'MAP',\n",
       " 'O2Sat',\n",
       " 'SBP',\n",
       " 'Resp',\n",
       " 'DBP',\n",
       " 'Temp']"
      ]
     },
     "execution_count": 42,
     "metadata": {},
     "output_type": "execute_result"
    }
   ],
   "source": [
    "selected_cols"
   ]
  },
  {
   "cell_type": "code",
   "execution_count": 43,
   "metadata": {
    "colab": {},
    "colab_type": "code",
    "id": "PtVcK9bHGp6x"
   },
   "outputs": [],
   "source": [
    "filter_df = df[selected_cols]"
   ]
  },
  {
   "cell_type": "code",
   "execution_count": 44,
   "metadata": {
    "colab": {
     "base_uri": "https://localhost:8080/",
     "height": 34
    },
    "colab_type": "code",
    "executionInfo": {
     "elapsed": 374,
     "status": "ok",
     "timestamp": 1587965861994,
     "user": {
      "displayName": "An Tran",
      "photoUrl": "",
      "userId": "10274312836707434279"
     },
     "user_tz": 420
    },
    "id": "e9Ba7VM8Gp6z",
    "outputId": "b738789c-7ed1-43b2-afd2-5203734a60d6"
   },
   "outputs": [
    {
     "data": {
      "text/plain": [
       "(1552210, 12)"
      ]
     },
     "execution_count": 44,
     "metadata": {},
     "output_type": "execute_result"
    }
   ],
   "source": [
    "filter_df.shape # 1,552,210 rows x 15 variables "
   ]
  },
  {
   "cell_type": "code",
   "execution_count": 45,
   "metadata": {
    "colab": {
     "base_uri": "https://localhost:8080/",
     "height": 204
    },
    "colab_type": "code",
    "executionInfo": {
     "elapsed": 204,
     "status": "ok",
     "timestamp": 1587965862816,
     "user": {
      "displayName": "An Tran",
      "photoUrl": "",
      "userId": "10274312836707434279"
     },
     "user_tz": 420
    },
    "id": "D7-Rspe5Gp61",
    "outputId": "a0890eb8-725a-47fc-c430-bbdd96036a7d"
   },
   "outputs": [
    {
     "data": {
      "text/html": [
       "<div>\n",
       "<style scoped>\n",
       "    .dataframe tbody tr th:only-of-type {\n",
       "        vertical-align: middle;\n",
       "    }\n",
       "\n",
       "    .dataframe tbody tr th {\n",
       "        vertical-align: top;\n",
       "    }\n",
       "\n",
       "    .dataframe thead th {\n",
       "        text-align: right;\n",
       "    }\n",
       "</style>\n",
       "<table border=\"1\" class=\"dataframe\">\n",
       "  <thead>\n",
       "    <tr style=\"text-align: right;\">\n",
       "      <th></th>\n",
       "      <th>id</th>\n",
       "      <th>SepsisLabel</th>\n",
       "      <th>Gender</th>\n",
       "      <th>Age</th>\n",
       "      <th>hour</th>\n",
       "      <th>HR</th>\n",
       "      <th>MAP</th>\n",
       "      <th>O2Sat</th>\n",
       "      <th>SBP</th>\n",
       "      <th>Resp</th>\n",
       "      <th>DBP</th>\n",
       "      <th>Temp</th>\n",
       "    </tr>\n",
       "  </thead>\n",
       "  <tbody>\n",
       "    <tr>\n",
       "      <th>0</th>\n",
       "      <td>0</td>\n",
       "      <td>0</td>\n",
       "      <td>0</td>\n",
       "      <td>83.14</td>\n",
       "      <td>0</td>\n",
       "      <td>NaN</td>\n",
       "      <td>NaN</td>\n",
       "      <td>NaN</td>\n",
       "      <td>NaN</td>\n",
       "      <td>NaN</td>\n",
       "      <td>NaN</td>\n",
       "      <td>NaN</td>\n",
       "    </tr>\n",
       "    <tr>\n",
       "      <th>1</th>\n",
       "      <td>0</td>\n",
       "      <td>0</td>\n",
       "      <td>0</td>\n",
       "      <td>83.14</td>\n",
       "      <td>1</td>\n",
       "      <td>97.0</td>\n",
       "      <td>75.33</td>\n",
       "      <td>95.0</td>\n",
       "      <td>98.0</td>\n",
       "      <td>19.0</td>\n",
       "      <td>NaN</td>\n",
       "      <td>NaN</td>\n",
       "    </tr>\n",
       "    <tr>\n",
       "      <th>2</th>\n",
       "      <td>0</td>\n",
       "      <td>0</td>\n",
       "      <td>0</td>\n",
       "      <td>83.14</td>\n",
       "      <td>2</td>\n",
       "      <td>89.0</td>\n",
       "      <td>86.00</td>\n",
       "      <td>99.0</td>\n",
       "      <td>122.0</td>\n",
       "      <td>22.0</td>\n",
       "      <td>NaN</td>\n",
       "      <td>NaN</td>\n",
       "    </tr>\n",
       "    <tr>\n",
       "      <th>3</th>\n",
       "      <td>0</td>\n",
       "      <td>0</td>\n",
       "      <td>0</td>\n",
       "      <td>83.14</td>\n",
       "      <td>3</td>\n",
       "      <td>90.0</td>\n",
       "      <td>NaN</td>\n",
       "      <td>95.0</td>\n",
       "      <td>NaN</td>\n",
       "      <td>30.0</td>\n",
       "      <td>NaN</td>\n",
       "      <td>NaN</td>\n",
       "    </tr>\n",
       "    <tr>\n",
       "      <th>4</th>\n",
       "      <td>0</td>\n",
       "      <td>0</td>\n",
       "      <td>0</td>\n",
       "      <td>83.14</td>\n",
       "      <td>4</td>\n",
       "      <td>103.0</td>\n",
       "      <td>91.33</td>\n",
       "      <td>88.5</td>\n",
       "      <td>122.0</td>\n",
       "      <td>24.5</td>\n",
       "      <td>NaN</td>\n",
       "      <td>NaN</td>\n",
       "    </tr>\n",
       "  </tbody>\n",
       "</table>\n",
       "</div>"
      ],
      "text/plain": [
       "   id  SepsisLabel  Gender    Age  hour     HR    MAP  O2Sat    SBP  Resp  \\\n",
       "0   0            0       0  83.14     0    NaN    NaN    NaN    NaN   NaN   \n",
       "1   0            0       0  83.14     1   97.0  75.33   95.0   98.0  19.0   \n",
       "2   0            0       0  83.14     2   89.0  86.00   99.0  122.0  22.0   \n",
       "3   0            0       0  83.14     3   90.0    NaN   95.0    NaN  30.0   \n",
       "4   0            0       0  83.14     4  103.0  91.33   88.5  122.0  24.5   \n",
       "\n",
       "   DBP  Temp  \n",
       "0  NaN   NaN  \n",
       "1  NaN   NaN  \n",
       "2  NaN   NaN  \n",
       "3  NaN   NaN  \n",
       "4  NaN   NaN  "
      ]
     },
     "execution_count": 45,
     "metadata": {},
     "output_type": "execute_result"
    }
   ],
   "source": [
    "filter_df.head()"
   ]
  },
  {
   "cell_type": "code",
   "execution_count": 46,
   "metadata": {
    "colab": {},
    "colab_type": "code",
    "id": "FwJ1x5RAGp62"
   },
   "outputs": [],
   "source": [
    "categorical = filter_df.dtypes == object\n",
    "categorical['Gender'] = True # consider Gender as the categorical variable"
   ]
  },
  {
   "cell_type": "code",
   "execution_count": 47,
   "metadata": {
    "colab": {},
    "colab_type": "code",
    "id": "znWKdEu8Gp64",
    "scrolled": false
   },
   "outputs": [],
   "source": [
    "cat_vars = list(categorical[categorical].index) # categorical variables\n",
    "cont_vars = list(categorical[~categorical].index) # continuous variables\n",
    "cont_vars = [var for var in cont_vars if var not in ['id', 'SepsisLabel', 'hour']] # exclude these variables from physiological signals"
   ]
  },
  {
   "cell_type": "code",
   "execution_count": 48,
   "metadata": {
    "colab": {
     "base_uri": "https://localhost:8080/",
     "height": 34
    },
    "colab_type": "code",
    "executionInfo": {
     "elapsed": 217,
     "status": "ok",
     "timestamp": 1587966575401,
     "user": {
      "displayName": "An Tran",
      "photoUrl": "",
      "userId": "10274312836707434279"
     },
     "user_tz": 420
    },
    "id": "rZ8whh-5Lvc2",
    "outputId": "7bc0cb63-fcab-41eb-c4d1-cedc7a83dcaa"
   },
   "outputs": [
    {
     "data": {
      "text/plain": [
       "['Age', 'HR', 'MAP', 'O2Sat', 'SBP', 'Resp', 'DBP', 'Temp']"
      ]
     },
     "execution_count": 48,
     "metadata": {},
     "output_type": "execute_result"
    }
   ],
   "source": [
    "cont_vars"
   ]
  },
  {
   "cell_type": "markdown",
   "metadata": {
    "colab_type": "text",
    "id": "JX24ZMydIDHR"
   },
   "source": [
    "### Boxplot of different variables between sepsis and non-sepsis patients"
   ]
  },
  {
   "cell_type": "code",
   "execution_count": 27,
   "metadata": {
    "colab": {
     "base_uri": "https://localhost:8080/",
     "height": 1000
    },
    "colab_type": "code",
    "executionInfo": {
     "elapsed": 2621,
     "status": "ok",
     "timestamp": 1587966670123,
     "user": {
      "displayName": "An Tran",
      "photoUrl": "",
      "userId": "10274312836707434279"
     },
     "user_tz": 420
    },
    "id": "KLdpUAxoGw7W",
    "outputId": "2e5fd960-4e8f-4049-fb25-263702801c7e"
   },
   "outputs": [
    {
     "data": {
      "image/png": "[encoded data removed]",
      "text/plain": [
       "<Figure size 432x288 with 1 Axes>"
      ]
     },
     "metadata": {
      "needs_background": "light"
     },
     "output_type": "display_data"
    },
    {
     "data": {
      "image/png": "[encoded data removed]",
      "text/plain": [
       "<Figure size 432x288 with 1 Axes>"
      ]
     },
     "metadata": {
      "needs_background": "light"
     },
     "output_type": "display_data"
    },
    {
     "data": {
      "image/png": "[encoded data removed]",
      "text/plain": [
       "<Figure size 432x288 with 1 Axes>"
      ]
     },
     "metadata": {
      "needs_background": "light"
     },
     "output_type": "display_data"
    },
    {
     "data": {
      "image/png": "[encoded data removed]",
      "text/plain": [
       "<Figure size 432x288 with 1 Axes>"
      ]
     },
     "metadata": {
      "needs_background": "light"
     },
     "output_type": "display_data"
    },
    {
     "data": {
      "image/png": "[encoded data removed]",
      "text/plain": [
       "<Figure size 432x288 with 1 Axes>"
      ]
     },
     "metadata": {
      "needs_background": "light"
     },
     "output_type": "display_data"
    },
    {
     "data": {
      "image/png": "[encoded data removed]",
      "text/plain": [
       "<Figure size 432x288 with 1 Axes>"
      ]
     },
     "metadata": {
      "needs_background": "light"
     },
     "output_type": "display_data"
    },
    {
     "data": {
      "image/png": "[encoded data removed]",
      "text/plain": [
       "<Figure size 432x288 with 1 Axes>"
      ]
     },
     "metadata": {
      "needs_background": "light"
     },
     "output_type": "display_data"
    },
    {
     "data": {
      "image/png": "[encoded data removed]",
      "text/plain": [
       "<Figure size 432x288 with 1 Axes>"
      ]
     },
     "metadata": {
      "needs_background": "light"
     },
     "output_type": "display_data"
    }
   ],
   "source": [
    "import seaborn as sns\n",
    "\n",
    "for i, var in enumerate(cont_vars):\n",
    "  plt.figure(i)\n",
    "  ax = sns.boxplot(x=\"SepsisLabel\", y=var, data=filter_df)"
   ]
  },
  {
   "cell_type": "markdown",
   "metadata": {
    "colab_type": "text",
    "id": "YhIoEJqFGp68"
   },
   "source": [
    "### Imputation with interpolation, forward and backward fill"
   ]
  },
  {
   "cell_type": "code",
   "execution_count": 49,
   "metadata": {
    "colab": {},
    "colab_type": "code",
    "id": "ZbCMne8bGp6-"
   },
   "outputs": [],
   "source": [
    "# fill using interpolation for the missing values in-between\n",
    "# interpolate: using numbers from 2 ends to infer the missing data in-between\n",
    "\n",
    "X = filter_df.interpolate(method='nearest', limit_direction='both')\n",
    "X = X.ffill().bfill() # forward fill first, then backward fill"
   ]
  },
  {
   "cell_type": "code",
   "execution_count": 50,
   "metadata": {
    "colab": {
     "base_uri": "https://localhost:8080/",
     "height": 255
    },
    "colab_type": "code",
    "executionInfo": {
     "elapsed": 358,
     "status": "ok",
     "timestamp": 1586907870918,
     "user": {
      "displayName": "An Tran",
      "photoUrl": "",
      "userId": "10274312836707434279"
     },
     "user_tz": 420
    },
    "id": "4KFF6S6gGp7A",
    "outputId": "8fe1997e-01f8-4fc9-bd84-c3fb78ea564b"
   },
   "outputs": [
    {
     "data": {
      "text/plain": [
       "id             0.0\n",
       "SepsisLabel    0.0\n",
       "Gender         0.0\n",
       "Age            0.0\n",
       "hour           0.0\n",
       "HR             0.0\n",
       "MAP            0.0\n",
       "O2Sat          0.0\n",
       "SBP            0.0\n",
       "Resp           0.0\n",
       "DBP            0.0\n",
       "Temp           0.0\n",
       "dtype: float64"
      ]
     },
     "execution_count": 50,
     "metadata": {},
     "output_type": "execute_result"
    }
   ],
   "source": [
    "missing = (X.isnull().sum() / X.shape[0]) * 100\n",
    "missing"
   ]
  },
  {
   "cell_type": "markdown",
   "metadata": {
    "colab_type": "text",
    "id": "M_fzN9AgMBZh"
   },
   "source": [
    "### Save this processed data for later access"
   ]
  },
  {
   "cell_type": "code",
   "execution_count": 0,
   "metadata": {
    "colab": {},
    "colab_type": "code",
    "id": "8G8im3IPMHSx"
   },
   "outputs": [],
   "source": [
    "X.to_csv('non_temporal_processed.csv', index=False)"
   ]
  },
  {
   "cell_type": "code",
   "execution_count": 51,
   "metadata": {
    "colab": {},
    "colab_type": "code",
    "id": "ErzXU0K4Gp7B"
   },
   "outputs": [],
   "source": [
    "signals = ['HR', 'MAP', 'O2Sat', 'SBP', 'Resp', 'DBP', 'Temp', 'id'] # include 'id' to perform groupby"
   ]
  },
  {
   "cell_type": "code",
   "execution_count": 52,
   "metadata": {
    "colab": {},
    "colab_type": "code",
    "id": "Aa193qHxGp7D"
   },
   "outputs": [],
   "source": [
    "demographics = [var for var in X if var not in signals]"
   ]
  },
  {
   "cell_type": "code",
   "execution_count": 53,
   "metadata": {
    "colab": {
     "base_uri": "https://localhost:8080/",
     "height": 34
    },
    "colab_type": "code",
    "executionInfo": {
     "elapsed": 1355,
     "status": "ok",
     "timestamp": 1586934485570,
     "user": {
      "displayName": "An Tran",
      "photoUrl": "",
      "userId": "10274312836707434279"
     },
     "user_tz": 420
    },
    "id": "Y_t_K9jbGp7F",
    "outputId": "947bf640-147b-44bb-b8f6-d8f5e6331300"
   },
   "outputs": [
    {
     "data": {
      "text/plain": [
       "['SepsisLabel', 'Gender', 'Age', 'hour']"
      ]
     },
     "execution_count": 53,
     "metadata": {},
     "output_type": "execute_result"
    }
   ],
   "source": [
    "demographics"
   ]
  },
  {
   "cell_type": "markdown",
   "metadata": {
    "colab_type": "text",
    "id": "TC61NaJAAuBw"
   },
   "source": [
    "### Return some ID's of the patients that get sepsis"
   ]
  },
  {
   "cell_type": "code",
   "execution_count": 54,
   "metadata": {
    "colab": {},
    "colab_type": "code",
    "id": "QwgLjEZaABV4"
   },
   "outputs": [],
   "source": [
    "sepsis_id = X.loc[X['SepsisLabel'] == 1]['id'].unique()"
   ]
  },
  {
   "cell_type": "code",
   "execution_count": 55,
   "metadata": {
    "colab": {
     "base_uri": "https://localhost:8080/",
     "height": 51
    },
    "colab_type": "code",
    "executionInfo": {
     "elapsed": 256,
     "status": "ok",
     "timestamp": 1588133536613,
     "user": {
      "displayName": "An Tran",
      "photoUrl": "",
      "userId": "10274312836707434279"
     },
     "user_tz": 420
    },
    "id": "nxbD89OlAja9",
    "outputId": "c1e29cbc-ae41-4800-82ef-51a70967a597"
   },
   "outputs": [
    {
     "data": {
      "text/plain": [
       "array([  8,  10,  14,  17,  21,  27,  33,  41,  52,  55,  57,  62,  63,\n",
       "        77, 140, 160, 170, 177, 184, 187])"
      ]
     },
     "execution_count": 55,
     "metadata": {},
     "output_type": "execute_result"
    }
   ],
   "source": [
    "# returns the first 10 patients with sepsis\n",
    "sepsis_id[:20]"
   ]
  },
  {
   "cell_type": "markdown",
   "metadata": {
    "colab_type": "text",
    "id": "etRs87-lCMXG"
   },
   "source": [
    "### Plot a sample Heart Rate between a sepsis and non-sepsis patient to see the difference in pattern over time"
   ]
  },
  {
   "cell_type": "code",
   "execution_count": 56,
   "metadata": {
    "colab": {},
    "colab_type": "code",
    "id": "Ux8wk93aGiDk"
   },
   "outputs": [],
   "source": [
    "rcParams['figure.figsize'] = 10, 10"
   ]
  },
  {
   "cell_type": "code",
   "execution_count": 57,
   "metadata": {
    "colab": {},
    "colab_type": "code",
    "id": "luJCKcKBRTZZ"
   },
   "outputs": [],
   "source": [
    "# # Function to map the colors as a list from the input list of x variables\n",
    "colors = {1: 'red', 0: '#1f77b4'}"
   ]
  },
  {
   "cell_type": "code",
   "execution_count": 12,
   "metadata": {
    "colab": {
     "base_uri": "https://localhost:8080/",
     "height": 638
    },
    "colab_type": "code",
    "executionInfo": {
     "elapsed": 695,
     "status": "ok",
     "timestamp": 1588134945647,
     "user": {
      "displayName": "An Tran",
      "photoUrl": "",
      "userId": "10274312836707434279"
     },
     "user_tz": 420
    },
    "id": "gb9DfCE4DQh_",
    "outputId": "0bd38c45-f65d-45c7-d76b-ded82ef846b0"
   },
   "outputs": [
    {
     "data": {
      "text/plain": [
       "Text(0.5, 1.0, 'Heart Rate of A Non-Sepsis Patient Over Time')"
      ]
     },
     "execution_count": 12,
     "metadata": {
      "tags": []
     },
     "output_type": "execute_result"
    },
    {
     "data": {
      "image/png": "[encoded data removed]",
      "text/plain": [
       "<Figure size 720x720 with 2 Axes>"
      ]
     },
     "metadata": {
      "needs_background": "light",
      "tags": []
     },
     "output_type": "display_data"
    }
   ],
   "source": [
    "fig = plt.figure()\n",
    "ax1 = fig.add_subplot(211)\n",
    "ax2 = fig.add_subplot(212)\n",
    "\n",
    "ax1.scatter(X[X['id']==52]['hour'].values, X[X['id']==52]['HR'], c = X[X['id']==52]['SepsisLabel'].apply(lambda x: colors[x]))\n",
    "ax1.set_xlabel('Hour')\n",
    "ax1.set_ylabel('Heart Rate')\n",
    "ax1.set_title('Heart Rate of A Sepsis Patient Over Time')\n",
    "\n",
    "ax2.scatter(X[X['id']==95]['hour'].values, X[X['id']==95]['HR'])\n",
    "ax2.set_xlabel('Hour')\n",
    "ax2.set_ylabel('Heart Rate')\n",
    "ax2.set_ylim([44, 58])\n",
    "ax2.set_title('Heart Rate of A Non-Sepsis Patient Over Time')"
   ]
  },
  {
   "cell_type": "markdown",
   "metadata": {
    "colab_type": "text",
    "id": "svkuOgiPe7EH"
   },
   "source": [
    "### Plot Mean Arterial Pressure (MAP) of the same sepsis and non-sepsis patient"
   ]
  },
  {
   "cell_type": "code",
   "execution_count": 0,
   "metadata": {
    "colab": {},
    "colab_type": "code",
    "id": "IUbk3gKlfJyZ"
   },
   "outputs": [],
   "source": [
    "rcParams['figure.figsize'] = 10, 10"
   ]
  },
  {
   "cell_type": "code",
   "execution_count": 0,
   "metadata": {
    "colab": {},
    "colab_type": "code",
    "id": "FgMnWTg9fJyl"
   },
   "outputs": [],
   "source": [
    "# # Function to map the colors as a list from the input list of x variables\n",
    "colors = {1: 'red', 0: '#1f77b4'}"
   ]
  },
  {
   "cell_type": "code",
   "execution_count": 0,
   "metadata": {
    "colab": {
     "base_uri": "https://localhost:8080/",
     "height": 638
    },
    "colab_type": "code",
    "executionInfo": {
     "elapsed": 1888,
     "status": "ok",
     "timestamp": 1587012921118,
     "user": {
      "displayName": "An Tran",
      "photoUrl": "",
      "userId": "10274312836707434279"
     },
     "user_tz": 420
    },
    "id": "fWsOX4rhfJys",
    "outputId": "296e2fcf-e879-439f-893f-2e39b0343f01"
   },
   "outputs": [
    {
     "data": {
      "text/plain": [
       "Text(0.5, 1.0, 'Mean Arterial Pressure of A Non-Sepsis Patient Over Time')"
      ]
     },
     "execution_count": 13,
     "metadata": {
      "tags": []
     },
     "output_type": "execute_result"
    },
    {
     "data": {
      "image/png": "[encoded data removed]",
      "text/plain": [
       "<Figure size 720x720 with 2 Axes>"
      ]
     },
     "metadata": {
      "needs_background": "light",
      "tags": []
     },
     "output_type": "display_data"
    }
   ],
   "source": [
    "fig = plt.figure()\n",
    "ax1 = fig.add_subplot(211)\n",
    "ax2 = fig.add_subplot(212)\n",
    "\n",
    "ax1.scatter(X[X['id']==52]['hour'].values, X[X['id']==52]['MAP'], c = X[X['id']==52]['SepsisLabel'].apply(lambda x: colors[x]))\n",
    "ax1.set_xlabel('Hour')\n",
    "ax1.set_ylabel('Mean Arterial Pressure')\n",
    "ax1.set_title('Mean Arterial Pressure of A Sepsis Patient Over Time')\n",
    "\n",
    "\n",
    "ax2.scatter(X[X['id']==95]['hour'].values, X[X['id']==95]['MAP'])\n",
    "ax2.set_xlabel('Hour')\n",
    "ax2.set_ylabel('Mean Arterial Pressure')\n",
    "ax2.set_ylim([86, 113])\n",
    "ax2.set_title('Mean Arterial Pressure of A Non-Sepsis Patient Over Time')"
   ]
  },
  {
   "cell_type": "code",
   "execution_count": 0,
   "metadata": {
    "colab": {},
    "colab_type": "code",
    "id": "LuOc_uRfbhIu"
   },
   "outputs": [],
   "source": []
  }
 ],
 "metadata": {
  "accelerator": "TPU",
  "colab": {
   "collapsed_sections": [],
   "name": "data_processing.ipynb",
   "provenance": [],
   "toc_visible": true
  },
  "kernelspec": {
   "display_name": "Python 3",
   "language": "python",
   "name": "python3"
  },
  "language_info": {
   "codemirror_mode": {
    "name": "ipython",
    "version": 3
   },
   "file_extension": ".py",
   "mimetype": "text/x-python",
   "name": "python",
   "nbconvert_exporter": "python",
   "pygments_lexer": "ipython3",
   "version": "3.6.8"
  }
 },
 "nbformat": 4,
 "nbformat_minor": 1
}
