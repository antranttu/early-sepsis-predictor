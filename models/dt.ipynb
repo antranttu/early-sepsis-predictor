{
 "cells": [
  {
   "cell_type": "code",
   "execution_count": 3,
   "metadata": {
    "colab": {
     "base_uri": "https://localhost:8080/",
     "height": 367
    },
    "colab_type": "code",
    "executionInfo": {
     "elapsed": 269,
     "status": "error",
     "timestamp": 1588386361258,
     "user": {
      "displayName": "An Tran",
      "photoUrl": "",
      "userId": "10274312836707434279"
     },
     "user_tz": 420
    },
    "id": "g4KXhwA1C_QZ",
    "outputId": "5ae1f3b6-3c56-4bc4-8284-e13cb07f85cb"
   },
   "outputs": [
    {
     "name": "stderr",
     "output_type": "stream",
     "text": [
      "c:\\users\\antra\\appdata\\local\\programs\\python\\python36\\lib\\site-packages\\sklearn\\externals\\six.py:31: FutureWarning: The module is deprecated in version 0.21 and will be removed in version 0.23 since we've dropped support for Python 2.7. Please rely on the official version of six (https://pypi.org/project/six/).\n",
      "  \"(https://pypi.org/project/six/).\", FutureWarning)\n",
      "c:\\users\\antra\\appdata\\local\\programs\\python\\python36\\lib\\site-packages\\sklearn\\utils\\deprecation.py:144: FutureWarning: The sklearn.neighbors.base module is  deprecated in version 0.22 and will be removed in version 0.24. The corresponding classes / functions should instead be imported from sklearn.neighbors. Anything that cannot be imported from sklearn.neighbors is now part of the private API.\n",
      "  warnings.warn(message, FutureWarning)\n"
     ]
    }
   ],
   "source": [
    "import pandas as pd\n",
    "import numpy as np\n",
    "import seaborn as sns\n",
    "\n",
    "from sklearn.model_selection import GroupKFold, StratifiedKFold, train_test_split, cross_val_score, cross_val_predict, GridSearchCV\n",
    "from sklearn.metrics import classification_report, precision_score, recall_score, accuracy_score, confusion_matrix, roc_curve, precision_recall_curve, auc, f1_score, cohen_kappa_score\n",
    "from imblearn.under_sampling import RandomUnderSampler\n",
    "from imblearn.over_sampling import RandomOverSampler\n",
    "from sklearn.preprocessing import StandardScaler, OneHotEncoder, PowerTransformer\n",
    "from sklearn.feature_selection import RFE, SelectFromModel, RFECV\n",
    "from sklearn.tree import DecisionTreeClassifier\n",
    "\n",
    "\n",
    "from IPython import display\n",
    "from datetime import datetime\n",
    "\n",
    "import matplotlib.pyplot as plt\n",
    "from matplotlib import cm\n",
    "\n",
    "from pylab import rcParams\n",
    "\n",
    "import os\n",
    "import re\n",
    "import time\n",
    "import warnings\n",
    "warnings.filterwarnings('ignore')\n",
    "\n",
    "seed = 9001\n",
    "np.random.seed(seed)"
   ]
  },
  {
   "cell_type": "markdown",
   "metadata": {
    "colab_type": "text",
    "id": "7sMQQcsvOVch"
   },
   "source": [
    "### Read in processed extracted 6 hour window data training and test set"
   ]
  },
  {
   "cell_type": "code",
   "execution_count": 5,
   "metadata": {
    "colab": {
     "base_uri": "https://localhost:8080/",
     "height": 34
    },
    "colab_type": "code",
    "executionInfo": {
     "elapsed": 24830,
     "status": "ok",
     "timestamp": 1588386022077,
     "user": {
      "displayName": "An Tran",
      "photoUrl": "",
      "userId": "10274312836707434279"
     },
     "user_tz": 420
    },
    "id": "vz5oL0UHOcQ0",
    "outputId": "178b257d-f7ba-430a-ff0c-648fb6402c8a"
   },
   "outputs": [
    {
     "name": "stdout",
     "output_type": "stream",
     "text": [
      "/content/drive/My Drive/sepsis\n"
     ]
    }
   ],
   "source": [
    "# training set\n",
    "X_all = pd.read_csv('6hour_Xtrain.csv')\n",
    "y_all = pd.read_csv('6hour_ytrain.csv')\n",
    "\n",
    "# test set\n",
    "X_test = pd.read_csv('6hour_Xtest.csv')\n",
    "y_test = pd.read_csv('6hour_ytest.csv')"
   ]
  },
  {
   "cell_type": "code",
   "execution_count": 6,
   "metadata": {
    "colab": {
     "base_uri": "https://localhost:8080/",
     "height": 51
    },
    "colab_type": "code",
    "executionInfo": {
     "elapsed": 24814,
     "status": "ok",
     "timestamp": 1588386022079,
     "user": {
      "displayName": "An Tran",
      "photoUrl": "",
      "userId": "10274312836707434279"
     },
     "user_tz": 420
    },
    "id": "vuLbtgnNUI0D",
    "outputId": "05c1a2e9-cbae-4442-dc46-64e0f76e02e2"
   },
   "outputs": [
    {
     "name": "stdout",
     "output_type": "stream",
     "text": [
      "(1080424, 64)\n",
      "(270106, 64)\n"
     ]
    }
   ],
   "source": [
    "print(X_all.shape)\n",
    "print(X_test.shape)"
   ]
  },
  {
   "cell_type": "markdown",
   "metadata": {
    "colab_type": "text",
    "id": "SK8kRQTl_W3I"
   },
   "source": [
    "### Define threshold that gives best F1-score"
   ]
  },
  {
   "cell_type": "code",
   "execution_count": 0,
   "metadata": {
    "colab": {},
    "colab_type": "code",
    "id": "xZzoxztr--D4"
   },
   "outputs": [],
   "source": [
    "def performance2(y, y_pred, print_ = 1, *args):   \n",
    "    \"\"\" Calculate performance measures for a given ground truth classification y and predicted \n",
    "    probabilities y_pred. If *args is provided a pre-defined threshold is used to calculate the performance.\n",
    "    If not, the threshold giving the best mean sensitivity and specificity is selected. The AUC is calculated\n",
    "    for a range of thresholds using the metrics package from sklearn. \"\"\"\n",
    "\n",
    "    # xx and yy values for ROC curve\n",
    "    fpr, tpr, thresholds = roc_curve(y, y_pred, pos_label=1)\n",
    "    # area under the ROC curve\n",
    "    AUC = auc(fpr, tpr)\n",
    "\n",
    "    # xx and yy values for AUPR\n",
    "    precision, recall, thresholds = precision_recall_curve(y, y_pred, pos_label=1)\n",
    "    # convert to f1-score\n",
    "    fscore = (2*precision*recall) / (precision+recall)\n",
    "    fscore[np.isnan(fscore)] = 0\n",
    "\n",
    "    # if a threshold is specified, use it\n",
    "    if args:\n",
    "        threshold = args[0]\n",
    "    else:\n",
    "    # if a threshold is not specified, we will choose the threshold that gives the best f1-score\n",
    "        ix = np.argmax(fscore)\n",
    "        threshold = thresholds[ix]        \n",
    "        \n",
    "    # transform the predicted probability into a binary classification\n",
    "    y_pred[y_pred >= threshold] = 1\n",
    "    y_pred[y_pred < threshold] = 0\n",
    "    \n",
    "    tn, fp, fn, tp = confusion_matrix(y, y_pred).ravel()\n",
    "        \n",
    "    # basic accuracy\n",
    "    accuracy = (tp + tn) / (tp + tn + fp + fn)\n",
    "    \n",
    "    # for auc\n",
    "    sensitivity = tp/(tp+fn)\n",
    "    specificity = tn/(tn+fp)\n",
    "    \n",
    "    # for f1-score\n",
    "    precision1 = tp/(tp+fp)\n",
    "    recall1 = sensitivity # detection rate\n",
    "    \n",
    "    # for false alarm rate\n",
    "    fpr2 = fp/(fp+tn) # distinguish with false positive rate from calculating AUC\n",
    "    fnr = fn/(fn+tp)\n",
    "    \n",
    "    # f1-score\n",
    "    f1 = max(fscore)\n",
    "\n",
    "    # kappa score\n",
    "    kappa = cohen_kappa_score(y, y_pred)\n",
    "\n",
    "    \n",
    "    # print the performance and plot the ROC curve    \n",
    "    if print_ == 1:\n",
    "        print('Threshold: ' + str(round(threshold, 2)))\n",
    "        print('TP: ' + str(tp))\n",
    "        print('TN: ' + str(tn))\n",
    "        print('FP: ' + str(fp))\n",
    "        print('FN: ' + str(fn))\n",
    "        \n",
    "        print(\"Accuracy: \" + str(round(accuracy, 2)))\n",
    "        print('Sensitivity: ' + str(round(sensitivity, 2)))\n",
    "        print('Specificity: ' + str(round(specificity, 2)))\n",
    "        print('Precision: ' + str(round(precision1, 2)))\n",
    "        print('Recall (Detection rate): ' + str(round(recall1, 2)))\n",
    "        print('F1-score: ' + str(round(f1, 2)))\n",
    "        print('AUC: ' + str(round(AUC, 2)))\n",
    "        print('FPR (False alarm rate): ' + str(round(fpr2, 2)))\n",
    "        print('FNR: ' + str(round(fnr, 2)))\n",
    "        print('Kappa: ' + str(round(kappa, 2)))\n",
    "    \n",
    "        plt.figure(figsize = (4,3))\n",
    "        plt.scatter(x = fpr, y = tpr, label = None)\n",
    "        plt.plot(fpr, tpr, label = 'Classifier', zorder = 1)\n",
    "        plt.plot([0, 1], [0, 1], 'k--', label = 'Random classifier')\n",
    "        plt.scatter(x = 1 - specificity, y = sensitivity, c = 'black', label = 'Operating point', zorder = 2)\n",
    "        plt.legend()\n",
    "        plt.xlabel('1 - specificity')\n",
    "        plt.ylabel('sensitivity')\n",
    "        plt.show()\n",
    "        \n",
    "\n",
    "    return threshold, accuracy, sensitivity, specificity, AUC, precision1, recall1, f1, fpr2, fnr, kappa"
   ]
  },
  {
   "cell_type": "markdown",
   "metadata": {
    "colab_type": "text",
    "id": "qCkKP9_oEZ_B"
   },
   "source": [
    "### Create function to evaluate model performance on training and test set maximizing F1-score"
   ]
  },
  {
   "cell_type": "code",
   "execution_count": 0,
   "metadata": {
    "colab": {},
    "colab_type": "code",
    "id": "-5c6O_DwEkQz"
   },
   "outputs": [],
   "source": [
    "def model_evaluation2(model, X_train, y_train, X_test, y_test, print_):\n",
    "    \n",
    "    # tune - parameter estimation \n",
    "    print('TRAINING SET')\n",
    "    y_pred_prob_train = model.predict_proba(X_train)\n",
    "    threshold, accuracy_tr, sensitivity_tr, specificity_tr, AUC_tr, precision_tr, \\\n",
    "    recall_tr, f1_tr, fpr_tr, fnr_tr, kappa_tr = performance2(y_train, np.delete(y_pred_prob_train, 0, 1), print_) # retain the probabilities of positive class only\n",
    "\n",
    "    # test\n",
    "    print('TEST SET')\n",
    "    y_pred_prob_test = model.predict_proba(X_test)\n",
    "    _, accuracy_test, sensitivity_test, specificity_test, AUC_test, precision_test, \\\n",
    "     recall_test, f1_test, fpr_test, fnr_test, kappa_test = performance2(y_test, np.delete(y_pred_prob_test, 0, 1), print_, threshold)\n",
    "    \n",
    "    # save the results\n",
    "    results_train = pd.DataFrame(data = [[threshold, accuracy_tr, sensitivity_tr, specificity_tr, AUC_tr,\n",
    "                                          precision_tr, recall_tr, f1_tr, fpr_tr, fnr_tr, kappa_tr, X_train.shape[1]]],\n",
    "                                 columns = ['Threshold','Accuracy', 'Sensitivity', 'Specificity', 'AUROC',\n",
    "                                            'Precision', 'Recall', 'F1', 'FPR (False Alarm)', 'FNR', 'Kappa', '# features'])\n",
    "\n",
    "    results_test = pd.DataFrame(data = [[threshold, accuracy_test, sensitivity_test, specificity_test, AUC_test,\n",
    "                                          precision_test, recall_test, f1_test, fpr_test, fnr_test, kappa_test, X_train.shape[1]]],\n",
    "                                columns = ['Threshold','Accuracy', 'Sensitivity', 'Specificity', 'AUROC',\n",
    "                                           'Precision', 'Recall', 'F1', 'FPR (False Alarm)', 'FNR', 'Kappa', '# features'])\n",
    "        \n",
    "    return results_train, results_test, y_pred_prob_train, y_pred_prob_test"
   ]
  },
  {
   "cell_type": "markdown",
   "metadata": {
    "colab_type": "text",
    "id": "96UA2samGp-a"
   },
   "source": [
    "### Create a stratified cv (to preserve class distribution during Cross-validation)"
   ]
  },
  {
   "cell_type": "code",
   "execution_count": 0,
   "metadata": {
    "colab": {},
    "colab_type": "code",
    "id": "ckOpYUfHGp-a"
   },
   "outputs": [],
   "source": [
    "kfold = StratifiedKFold(n_splits=10, shuffle=True, random_state=seed)"
   ]
  },
  {
   "cell_type": "markdown",
   "metadata": {
    "colab_type": "text",
    "id": "Tt-ZiBcgkmvn"
   },
   "source": [
    "# 50/50 Ratio"
   ]
  },
  {
   "cell_type": "markdown",
   "metadata": {
    "colab_type": "text",
    "id": "40QNcNL8cLUw"
   },
   "source": [
    "### Create balanced data using Random Undersampling"
   ]
  },
  {
   "cell_type": "code",
   "execution_count": 0,
   "metadata": {
    "colab": {},
    "colab_type": "code",
    "id": "oU-c5QdkcKc9"
   },
   "outputs": [],
   "source": [
    "rus = RandomUnderSampler(sampling_strategy='majority', random_state=seed)"
   ]
  },
  {
   "cell_type": "code",
   "execution_count": 0,
   "metadata": {
    "colab": {},
    "colab_type": "code",
    "id": "dAYM0mYUcnPL"
   },
   "outputs": [],
   "source": [
    "X_uds, y_uds = rus.fit_resample(X_all, y_all)"
   ]
  },
  {
   "cell_type": "code",
   "execution_count": 14,
   "metadata": {
    "colab": {
     "base_uri": "https://localhost:8080/",
     "height": 51
    },
    "colab_type": "code",
    "executionInfo": {
     "elapsed": 25558,
     "status": "ok",
     "timestamp": 1588386022931,
     "user": {
      "displayName": "An Tran",
      "photoUrl": "",
      "userId": "10274312836707434279"
     },
     "user_tz": 420
    },
    "id": "0L2z9k0hkRLc",
    "outputId": "5515b6c5-d159-497b-c92e-0ef4bbb49d93"
   },
   "outputs": [
    {
     "name": "stdout",
     "output_type": "stream",
     "text": [
      "Sepsis patterns after Random Under-sampling: 20109\n",
      "Non-sepsis patterns after Random Under-sampling: 20109\n"
     ]
    }
   ],
   "source": [
    "print('Sepsis patterns after Random Under-sampling:', np.count_nonzero(y_uds == 1))\n",
    "print('Non-sepsis patterns after Random Under-sampling:', np.count_nonzero(y_uds == 0))"
   ]
  },
  {
   "cell_type": "markdown",
   "metadata": {
    "colab_type": "text",
    "id": "qanMzAz-kspP"
   },
   "source": [
    "# 80/20 Ratio"
   ]
  },
  {
   "cell_type": "code",
   "execution_count": 0,
   "metadata": {
    "colab": {},
    "colab_type": "code",
    "id": "BldxOZ7ykvHn"
   },
   "outputs": [],
   "source": [
    "ratio8020 = RandomUnderSampler(sampling_strategy=1/4, random_state=seed)"
   ]
  },
  {
   "cell_type": "code",
   "execution_count": 0,
   "metadata": {
    "colab": {},
    "colab_type": "code",
    "id": "EhmDV1Xenc3s"
   },
   "outputs": [],
   "source": [
    "X_8020, y_8020 = ratio8020.fit_resample(X_all, y_all)"
   ]
  },
  {
   "cell_type": "code",
   "execution_count": 17,
   "metadata": {
    "colab": {
     "base_uri": "https://localhost:8080/",
     "height": 51
    },
    "colab_type": "code",
    "executionInfo": {
     "elapsed": 26103,
     "status": "ok",
     "timestamp": 1588386023509,
     "user": {
      "displayName": "An Tran",
      "photoUrl": "",
      "userId": "10274312836707434279"
     },
     "user_tz": 420
    },
    "id": "8ZO8t8Mdni2Q",
    "outputId": "73aac417-aad2-4948-f174-fc472f4c92bd"
   },
   "outputs": [
    {
     "name": "stdout",
     "output_type": "stream",
     "text": [
      "Sepsis patterns for 80/20 ratio: 20109\n",
      "Non-sepsis patterns for 80/20 ratio: 80436\n"
     ]
    }
   ],
   "source": [
    "print('Sepsis patterns for 80/20 ratio:', np.count_nonzero(y_8020 == 1))\n",
    "print('Non-sepsis patterns for 80/20 ratio:', np.count_nonzero(y_8020 == 0))"
   ]
  },
  {
   "cell_type": "markdown",
   "metadata": {
    "colab_type": "text",
    "id": "eWOeKii7n8Ux"
   },
   "source": [
    "# 90/10 Ratio"
   ]
  },
  {
   "cell_type": "code",
   "execution_count": 0,
   "metadata": {
    "colab": {},
    "colab_type": "code",
    "id": "zIiIP8I8n_mh"
   },
   "outputs": [],
   "source": [
    "ratio9010 = RandomUnderSampler(sampling_strategy=1/9, random_state=seed)"
   ]
  },
  {
   "cell_type": "code",
   "execution_count": 0,
   "metadata": {
    "colab": {},
    "colab_type": "code",
    "id": "70J9T4jWoE-I"
   },
   "outputs": [],
   "source": [
    "X_9010, y_9010 = ratio9010.fit_resample(X_all, y_all)"
   ]
  },
  {
   "cell_type": "code",
   "execution_count": 20,
   "metadata": {
    "colab": {
     "base_uri": "https://localhost:8080/",
     "height": 51
    },
    "colab_type": "code",
    "executionInfo": {
     "elapsed": 26771,
     "status": "ok",
     "timestamp": 1588386024213,
     "user": {
      "displayName": "An Tran",
      "photoUrl": "",
      "userId": "10274312836707434279"
     },
     "user_tz": 420
    },
    "id": "5JcGEeLeoMxg",
    "outputId": "eab4b488-ebd2-4acc-9c2b-17e42a4a7161"
   },
   "outputs": [
    {
     "name": "stdout",
     "output_type": "stream",
     "text": [
      "Sepsis patterns for 90/10 ratio: 20109\n",
      "Non-sepsis patterns for 90/10 ratio: 180981\n"
     ]
    }
   ],
   "source": [
    "print('Sepsis patterns for 90/10 ratio:', np.count_nonzero(y_9010 == 1))\n",
    "print('Non-sepsis patterns for 90/10 ratio:', np.count_nonzero(y_9010 == 0))"
   ]
  },
  {
   "cell_type": "markdown",
   "metadata": {
    "colab_type": "text",
    "id": "O8dnFhEgobxz"
   },
   "source": [
    "# 95/5 Ratio"
   ]
  },
  {
   "cell_type": "code",
   "execution_count": 0,
   "metadata": {
    "colab": {},
    "colab_type": "code",
    "id": "5KEo37IdosKR"
   },
   "outputs": [],
   "source": [
    "ratio9505 = RandomUnderSampler(sampling_strategy=5/95, random_state=seed)"
   ]
  },
  {
   "cell_type": "code",
   "execution_count": 0,
   "metadata": {
    "colab": {},
    "colab_type": "code",
    "id": "FT1mjcRRosHu"
   },
   "outputs": [],
   "source": [
    "X_9505, y_9505 = ratio9505.fit_resample(X_all, y_all)"
   ]
  },
  {
   "cell_type": "code",
   "execution_count": 23,
   "metadata": {
    "colab": {
     "base_uri": "https://localhost:8080/",
     "height": 51
    },
    "colab_type": "code",
    "executionInfo": {
     "elapsed": 27515,
     "status": "ok",
     "timestamp": 1588386024993,
     "user": {
      "displayName": "An Tran",
      "photoUrl": "",
      "userId": "10274312836707434279"
     },
     "user_tz": 420
    },
    "id": "Ti3oizsqosFF",
    "outputId": "5fd443a7-8a92-4ef2-894c-eb49225a4544"
   },
   "outputs": [
    {
     "name": "stdout",
     "output_type": "stream",
     "text": [
      "Sepsis patterns for 95/05 ratio: 20109\n",
      "Non-sepsis patterns for 95/05 ratio: 382071\n"
     ]
    }
   ],
   "source": [
    "print('Sepsis patterns for 95/05 ratio:', np.count_nonzero(y_9505 == 1))\n",
    "print('Non-sepsis patterns for 95/05 ratio:', np.count_nonzero(y_9505 == 0))"
   ]
  },
  {
   "cell_type": "markdown",
   "metadata": {
    "colab_type": "text",
    "id": "faoyxujopCs3"
   },
   "source": [
    "# 98/02: original dataset"
   ]
  },
  {
   "cell_type": "code",
   "execution_count": 24,
   "metadata": {
    "colab": {
     "base_uri": "https://localhost:8080/",
     "height": 51
    },
    "colab_type": "code",
    "executionInfo": {
     "elapsed": 27504,
     "status": "ok",
     "timestamp": 1588386024994,
     "user": {
      "displayName": "An Tran",
      "photoUrl": "",
      "userId": "10274312836707434279"
     },
     "user_tz": 420
    },
    "id": "X9T_pXBRpFx6",
    "outputId": "146caa4b-4ac8-4cce-9cff-add4375704c8"
   },
   "outputs": [
    {
     "name": "stdout",
     "output_type": "stream",
     "text": [
      "Sepsis patterns for original ratio: 20109\n",
      "Non-sepsis patterns for original ratio: 1060315\n"
     ]
    }
   ],
   "source": [
    "print('Sepsis patterns for original ratio:', np.count_nonzero(y_all == 1))\n",
    "print('Non-sepsis patterns for original ratio:', np.count_nonzero(y_all == 0))"
   ]
  },
  {
   "cell_type": "markdown",
   "metadata": {
    "colab_type": "text",
    "id": "CQTaKUByigFB"
   },
   "source": [
    "# 3. Decision Tree"
   ]
  },
  {
   "cell_type": "markdown",
   "metadata": {
    "colab_type": "text",
    "id": "BLpN400cGp-a"
   },
   "source": [
    "### Random Undersampling with All variables"
   ]
  },
  {
   "cell_type": "code",
   "execution_count": 0,
   "metadata": {
    "colab": {},
    "colab_type": "code",
    "id": "Kaw5vOyLmRuX"
   },
   "outputs": [],
   "source": [
    "# create the model/estimator\n",
    "dt_uds = DecisionTreeClassifier(random_state=seed)"
   ]
  },
  {
   "cell_type": "code",
   "execution_count": 0,
   "metadata": {
    "colab": {},
    "colab_type": "code",
    "id": "RmubzFNTmjhb"
   },
   "outputs": [],
   "source": [
    "# create a parameters grid to do GridSearch\n",
    "param_dt = {'max_features': ['sqrt'],\n",
    "            'max_depth' : [10, 15, 20],\n",
    "            'min_samples_leaf': [1, 3, 5],\n",
    "            'criterion': ['gini', 'entropy']}"
   ]
  },
  {
   "cell_type": "code",
   "execution_count": 0,
   "metadata": {
    "colab": {},
    "colab_type": "code",
    "id": "VYyhZ5bypISe"
   },
   "outputs": [],
   "source": [
    "grid_dt_uds = GridSearchCV(estimator=dt_uds,\n",
    "                           param_grid=param_dt,\n",
    "                           cv=kfold,\n",
    "                           scoring='f1',\n",
    "                           n_jobs=-1) # use all processors"
   ]
  },
  {
   "cell_type": "code",
   "execution_count": 28,
   "metadata": {
    "colab": {
     "base_uri": "https://localhost:8080/",
     "height": 34
    },
    "colab_type": "code",
    "executionInfo": {
     "elapsed": 32018,
     "status": "ok",
     "timestamp": 1588386029601,
     "user": {
      "displayName": "An Tran",
      "photoUrl": "",
      "userId": "10274312836707434279"
     },
     "user_tz": 420
    },
    "id": "Idqi-DcPpRGE",
    "outputId": "271aafc4-5723-4c10-cd07-0523af17290d"
   },
   "outputs": [
    {
     "name": "stdout",
     "output_type": "stream",
     "text": [
      "Training took:  0:00:04.485519\n"
     ]
    }
   ],
   "source": [
    "start = datetime.now()\n",
    "\n",
    "grid_dt_uds.fit(X_uds, y_uds)\n",
    "\n",
    "print('Training took: ', datetime.now()-start)"
   ]
  },
  {
   "cell_type": "code",
   "execution_count": 29,
   "metadata": {
    "colab": {
     "base_uri": "https://localhost:8080/",
     "height": 34
    },
    "colab_type": "code",
    "executionInfo": {
     "elapsed": 32007,
     "status": "ok",
     "timestamp": 1588386029602,
     "user": {
      "displayName": "An Tran",
      "photoUrl": "",
      "userId": "10274312836707434279"
     },
     "user_tz": 420
    },
    "id": "CcSr52AqPO2P",
    "outputId": "dd687c82-0195-4d2e-ffed-fae0a4e1ff84"
   },
   "outputs": [
    {
     "name": "stdout",
     "output_type": "stream",
     "text": [
      "Best: 0.627843 using {'criterion': 'entropy', 'max_depth': 20, 'max_features': 'sqrt', 'min_samples_leaf': 1}\n"
     ]
    }
   ],
   "source": [
    "print('Best: %f using %s' % (grid_dt_uds.best_score_, grid_dt_uds.best_params_))"
   ]
  },
  {
   "cell_type": "code",
   "execution_count": 0,
   "metadata": {
    "colab": {},
    "colab_type": "code",
    "id": "GM-4uB8nPO2f"
   },
   "outputs": [],
   "source": [
    "mean_f1 = grid_dt_uds.cv_results_['mean_test_score']\n",
    "std_f1 = grid_dt_uds.cv_results_['std_test_score']\n",
    "params = grid_dt_uds.cv_results_['params']"
   ]
  },
  {
   "cell_type": "code",
   "execution_count": 31,
   "metadata": {
    "colab": {
     "base_uri": "https://localhost:8080/",
     "height": 323
    },
    "colab_type": "code",
    "executionInfo": {
     "elapsed": 31981,
     "status": "ok",
     "timestamp": 1588386029603,
     "user": {
      "displayName": "An Tran",
      "photoUrl": "",
      "userId": "10274312836707434279"
     },
     "user_tz": 420
    },
    "id": "mJGHTcbDPO2n",
    "outputId": "017236d3-4557-429f-c130-8ef195455cf0"
   },
   "outputs": [
    {
     "name": "stdout",
     "output_type": "stream",
     "text": [
      "0.600855 (+-0.015515) with: {'criterion': 'gini', 'max_depth': 10, 'max_features': 'sqrt', 'min_samples_leaf': 1}\n",
      "0.613076 (+-0.012013) with: {'criterion': 'gini', 'max_depth': 10, 'max_features': 'sqrt', 'min_samples_leaf': 3}\n",
      "0.609615 (+-0.012688) with: {'criterion': 'gini', 'max_depth': 10, 'max_features': 'sqrt', 'min_samples_leaf': 5}\n",
      "0.611422 (+-0.011385) with: {'criterion': 'gini', 'max_depth': 15, 'max_features': 'sqrt', 'min_samples_leaf': 1}\n",
      "0.609587 (+-0.007972) with: {'criterion': 'gini', 'max_depth': 15, 'max_features': 'sqrt', 'min_samples_leaf': 3}\n",
      "0.603215 (+-0.014042) with: {'criterion': 'gini', 'max_depth': 15, 'max_features': 'sqrt', 'min_samples_leaf': 5}\n",
      "0.623069 (+-0.009610) with: {'criterion': 'gini', 'max_depth': 20, 'max_features': 'sqrt', 'min_samples_leaf': 1}\n",
      "0.615440 (+-0.008541) with: {'criterion': 'gini', 'max_depth': 20, 'max_features': 'sqrt', 'min_samples_leaf': 3}\n",
      "0.623932 (+-0.005930) with: {'criterion': 'gini', 'max_depth': 20, 'max_features': 'sqrt', 'min_samples_leaf': 5}\n",
      "0.608179 (+-0.015967) with: {'criterion': 'entropy', 'max_depth': 10, 'max_features': 'sqrt', 'min_samples_leaf': 1}\n",
      "0.607772 (+-0.013687) with: {'criterion': 'entropy', 'max_depth': 10, 'max_features': 'sqrt', 'min_samples_leaf': 3}\n",
      "0.606404 (+-0.015230) with: {'criterion': 'entropy', 'max_depth': 10, 'max_features': 'sqrt', 'min_samples_leaf': 5}\n",
      "0.611380 (+-0.014294) with: {'criterion': 'entropy', 'max_depth': 15, 'max_features': 'sqrt', 'min_samples_leaf': 1}\n",
      "0.612974 (+-0.013748) with: {'criterion': 'entropy', 'max_depth': 15, 'max_features': 'sqrt', 'min_samples_leaf': 3}\n",
      "0.606788 (+-0.008116) with: {'criterion': 'entropy', 'max_depth': 15, 'max_features': 'sqrt', 'min_samples_leaf': 5}\n",
      "0.627843 (+-0.005814) with: {'criterion': 'entropy', 'max_depth': 20, 'max_features': 'sqrt', 'min_samples_leaf': 1}\n",
      "0.620994 (+-0.010464) with: {'criterion': 'entropy', 'max_depth': 20, 'max_features': 'sqrt', 'min_samples_leaf': 3}\n",
      "0.616063 (+-0.014171) with: {'criterion': 'entropy', 'max_depth': 20, 'max_features': 'sqrt', 'min_samples_leaf': 5}\n"
     ]
    }
   ],
   "source": [
    "for mean, stdev, param in zip(mean_f1, std_f1, params): # zip: create tuples of value pairs\n",
    "    print('%f (+-%f) with: %r' % (mean, stdev, param))"
   ]
  },
  {
   "cell_type": "code",
   "execution_count": 0,
   "metadata": {
    "colab": {},
    "colab_type": "code",
    "id": "qLw8cchfPma-"
   },
   "outputs": [],
   "source": [
    "best_dt_uds = grid_dt_uds.best_estimator_"
   ]
  },
  {
   "cell_type": "markdown",
   "metadata": {
    "colab_type": "text",
    "id": "1flznBkemRur"
   },
   "source": [
    "### Performance on training and test sets"
   ]
  },
  {
   "cell_type": "code",
   "execution_count": 33,
   "metadata": {
    "colab": {
     "base_uri": "https://localhost:8080/",
     "height": 977
    },
    "colab_type": "code",
    "executionInfo": {
     "elapsed": 34230,
     "status": "ok",
     "timestamp": 1588386031877,
     "user": {
      "displayName": "An Tran",
      "photoUrl": "",
      "userId": "10274312836707434279"
     },
     "user_tz": 420
    },
    "id": "beJvoiitmRut",
    "outputId": "2eff80c0-e842-4a26-ad09-7cbec8a46a32"
   },
   "outputs": [
    {
     "name": "stdout",
     "output_type": "stream",
     "text": [
      "TRAINING SET\n",
      "Threshold: 0.46\n",
      "TP: 18240\n",
      "TN: 18112\n",
      "FP: 1997\n",
      "FN: 1869\n",
      "Accuracy: 0.9\n",
      "Sensitivity: 0.91\n",
      "Specificity: 0.9\n",
      "Precision: 0.9\n",
      "Recall (Detection rate): 0.91\n",
      "F1-score: 0.9\n",
      "AUC: 0.98\n",
      "FPR (False alarm rate): 0.1\n",
      "FNR: 0.09\n",
      "Kappa: 0.81\n"
     ]
    },
    {
     "data": {
      "image/png": "[encoded data removed]",
      "text/plain": [
       "<Figure size 288x216 with 1 Axes>"
      ]
     },
     "metadata": {
      "needs_background": "light",
      "tags": []
     },
     "output_type": "display_data"
    },
    {
     "name": "stdout",
     "output_type": "stream",
     "text": [
      "TEST SET\n",
      "Threshold: 0.46\n",
      "TP: 3241\n",
      "TN: 168737\n",
      "FP: 96342\n",
      "FN: 1786\n",
      "Accuracy: 0.64\n",
      "Sensitivity: 0.64\n",
      "Specificity: 0.64\n",
      "Precision: 0.03\n",
      "Recall (Detection rate): 0.64\n",
      "F1-score: 0.07\n",
      "AUC: 0.65\n",
      "FPR (False alarm rate): 0.36\n",
      "FNR: 0.36\n",
      "Kappa: 0.03\n"
     ]
    },
    {
     "data": {
      "image/png": "[encoded data removed]",
      "text/plain": [
       "<Figure size 288x216 with 1 Axes>"
      ]
     },
     "metadata": {
      "needs_background": "light",
      "tags": []
     },
     "output_type": "display_data"
    }
   ],
   "source": [
    "results_train_dt_uds_all, results_test_dt_uds_all, \\\n",
    "y_pred_prob_train_dt_uds, y_pred_prob_test_dt_uds = model_evaluation2(best_dt_uds, \n",
    "                                                                      X_uds, y_uds,\n",
    "                                                                      X_test, y_test,\n",
    "                                                                      print_ = 1)"
   ]
  },
  {
   "cell_type": "markdown",
   "metadata": {
    "colab_type": "text",
    "id": "RIKrGOtmmRu1"
   },
   "source": [
    "### Save results to dataframe"
   ]
  },
  {
   "cell_type": "code",
   "execution_count": 0,
   "metadata": {
    "colab": {},
    "colab_type": "code",
    "id": "bW-mTAH9v5Zw"
   },
   "outputs": [],
   "source": [
    "dt_results_train = pd.DataFrame()\n",
    "dt_results_test = pd.DataFrame()"
   ]
  },
  {
   "cell_type": "code",
   "execution_count": 0,
   "metadata": {
    "colab": {},
    "colab_type": "code",
    "id": "P2ihAxNCmRu3"
   },
   "outputs": [],
   "source": [
    "dt_results_train = dt_results_train.append(results_train_dt_uds_all.rename(index={results_train_dt_uds_all.index[-1]: 'DT 50/50 Ratio All features'}))\n",
    "dt_results_test = dt_results_test.append(results_test_dt_uds_all.rename(index={results_test_dt_uds_all.index[-1]: 'DT 50/50 Ratio All features'}))"
   ]
  },
  {
   "cell_type": "markdown",
   "metadata": {
    "colab_type": "text",
    "id": "cJ2ZQs4EwXcd"
   },
   "source": [
    "### Random Under-sampling with Feature selection by Recursive Feature Elimination (RFE)"
   ]
  },
  {
   "cell_type": "code",
   "execution_count": 36,
   "metadata": {
    "colab": {
     "base_uri": "https://localhost:8080/",
     "height": 85
    },
    "colab_type": "code",
    "executionInfo": {
     "elapsed": 34193,
     "status": "ok",
     "timestamp": 1588386031878,
     "user": {
      "displayName": "An Tran",
      "photoUrl": "",
      "userId": "10274312836707434279"
     },
     "user_tz": 420
    },
    "id": "q6e2yvD4zpJr",
    "outputId": "b666aa54-159f-40e6-a525-dfca520a1df1"
   },
   "outputs": [
    {
     "data": {
      "text/plain": [
       "{'criterion': 'entropy',\n",
       " 'max_depth': 20,\n",
       " 'max_features': 'sqrt',\n",
       " 'min_samples_leaf': 1}"
      ]
     },
     "execution_count": 36,
     "metadata": {
      "tags": []
     },
     "output_type": "execute_result"
    }
   ],
   "source": [
    "grid_dt_uds.best_params_"
   ]
  },
  {
   "cell_type": "code",
   "execution_count": 0,
   "metadata": {
    "colab": {},
    "colab_type": "code",
    "id": "ZpSYpYzR1HN4"
   },
   "outputs": [],
   "source": [
    "dt_uds_fs = RFECV(estimator=best_dt_uds, step=1, cv=kfold, scoring='f1', n_jobs=-1)"
   ]
  },
  {
   "cell_type": "code",
   "execution_count": 38,
   "metadata": {
    "colab": {
     "base_uri": "https://localhost:8080/",
     "height": 34
    },
    "colab_type": "code",
    "executionInfo": {
     "elapsed": 74226,
     "status": "ok",
     "timestamp": 1588386071934,
     "user": {
      "displayName": "An Tran",
      "photoUrl": "",
      "userId": "10274312836707434279"
     },
     "user_tz": 420
    },
    "id": "bxfLNdAJ1Pjh",
    "outputId": "79cb5e57-7169-48d4-dee1-f0bada27c51f"
   },
   "outputs": [
    {
     "name": "stdout",
     "output_type": "stream",
     "text": [
      "Training took:  0:00:40.009280\n"
     ]
    }
   ],
   "source": [
    "start = datetime.now()\n",
    "\n",
    "dt_uds_fs.fit(X_uds, y_uds)\n",
    "\n",
    "print('Training took: ', datetime.now()-start)"
   ]
  },
  {
   "cell_type": "markdown",
   "metadata": {
    "colab_type": "text",
    "id": "-_jOb5CuMXCh"
   },
   "source": [
    "### Optimal Number of features"
   ]
  },
  {
   "cell_type": "code",
   "execution_count": 39,
   "metadata": {
    "colab": {
     "base_uri": "https://localhost:8080/",
     "height": 34
    },
    "colab_type": "code",
    "executionInfo": {
     "elapsed": 74215,
     "status": "ok",
     "timestamp": 1588386071935,
     "user": {
      "displayName": "An Tran",
      "photoUrl": "",
      "userId": "10274312836707434279"
     },
     "user_tz": 420
    },
    "id": "HPUdhrpsLOAc",
    "outputId": "f3a3b6d3-3bb5-4f81-bd71-833a0fdf53fd"
   },
   "outputs": [
    {
     "name": "stdout",
     "output_type": "stream",
     "text": [
      "Optimal number of features: 16\n"
     ]
    }
   ],
   "source": [
    "print('Optimal number of features: {}'.format(dt_uds_fs.n_features_))"
   ]
  },
  {
   "cell_type": "markdown",
   "metadata": {
    "colab_type": "text",
    "id": "UWsgyUZoMm-0"
   },
   "source": [
    "### Plot the optimal number of features against F1-score"
   ]
  },
  {
   "cell_type": "code",
   "execution_count": 40,
   "metadata": {
    "colab": {
     "base_uri": "https://localhost:8080/",
     "height": 622
    },
    "colab_type": "code",
    "executionInfo": {
     "elapsed": 74393,
     "status": "ok",
     "timestamp": 1588386072123,
     "user": {
      "displayName": "An Tran",
      "photoUrl": "",
      "userId": "10274312836707434279"
     },
     "user_tz": 420
    },
    "id": "1jiDOYLMMm-1",
    "outputId": "d8c7fddf-77e1-4fd1-fb8e-bd0128bfdae7"
   },
   "outputs": [
    {
     "data": {
      "text/plain": [
       "[<matplotlib.lines.Line2D at 0x7f1ff8b61320>]"
      ]
     },
     "execution_count": 40,
     "metadata": {
      "tags": []
     },
     "output_type": "execute_result"
    },
    {
     "data": {
      "image/png": "[encoded data removed]",
      "text/plain": [
       "<Figure size 1152x648 with 1 Axes>"
      ]
     },
     "metadata": {
      "needs_background": "light",
      "tags": []
     },
     "output_type": "display_data"
    }
   ],
   "source": [
    "plt.figure(figsize=(16, 9))\n",
    "plt.title('Recursive Feature Elimination with Cross-Validation', fontsize=18, fontweight='bold', pad=20)\n",
    "plt.xlabel('Number of features selected', fontsize=14, labelpad=20)\n",
    "plt.ylabel('F1-Score', fontsize=14, labelpad=20)\n",
    "plt.plot(range(1, len(dt_uds_fs.grid_scores_) + 1), dt_uds_fs.grid_scores_, color='#303F9F', linewidth=3)"
   ]
  },
  {
   "cell_type": "markdown",
   "metadata": {
    "colab_type": "text",
    "id": "SQud-hbPOHR7"
   },
   "source": [
    "### Now only select the important features according to the model"
   ]
  },
  {
   "cell_type": "code",
   "execution_count": 0,
   "metadata": {
    "colab": {},
    "colab_type": "code",
    "id": "40n-3wM3OHSC"
   },
   "outputs": [],
   "source": [
    "rfe_feat = dt_uds_fs.support_"
   ]
  },
  {
   "cell_type": "markdown",
   "metadata": {
    "colab_type": "text",
    "id": "UiN0LOC_OHSG"
   },
   "source": [
    "### Use these selected features for Random Undersample dataset"
   ]
  },
  {
   "cell_type": "code",
   "execution_count": 0,
   "metadata": {
    "colab": {},
    "colab_type": "code",
    "id": "LPatWlE4OHSG"
   },
   "outputs": [],
   "source": [
    "X_uds_rfe, y_uds_rfe = rus.fit_resample(X_all.loc[:, rfe_feat], y_all)"
   ]
  },
  {
   "cell_type": "code",
   "execution_count": 45,
   "metadata": {
    "colab": {
     "base_uri": "https://localhost:8080/",
     "height": 439
    },
    "colab_type": "code",
    "executionInfo": {
     "elapsed": 267,
     "status": "ok",
     "timestamp": 1588386213245,
     "user": {
      "displayName": "An Tran",
      "photoUrl": "",
      "userId": "10274312836707434279"
     },
     "user_tz": 420
    },
    "id": "yhIYGbeFFdd1",
    "outputId": "2041840c-9bb6-42be-ff46-287218dbda1d"
   },
   "outputs": [
    {
     "data": {
      "text/html": [
       "<div>\n",
       "<style scoped>\n",
       "    .dataframe tbody tr th:only-of-type {\n",
       "        vertical-align: middle;\n",
       "    }\n",
       "\n",
       "    .dataframe tbody tr th {\n",
       "        vertical-align: top;\n",
       "    }\n",
       "\n",
       "    .dataframe thead th {\n",
       "        text-align: right;\n",
       "    }\n",
       "</style>\n",
       "<table border=\"1\" class=\"dataframe\">\n",
       "  <thead>\n",
       "    <tr style=\"text-align: right;\">\n",
       "      <th></th>\n",
       "      <th>Age</th>\n",
       "      <th>SBP_std</th>\n",
       "      <th>O2Sat_mean</th>\n",
       "      <th>Resp_mean</th>\n",
       "      <th>MAP_min</th>\n",
       "      <th>SBP_min</th>\n",
       "      <th>DBP_max</th>\n",
       "      <th>HR_max</th>\n",
       "      <th>Temp_max</th>\n",
       "      <th>Temp_min</th>\n",
       "      <th>SBP_max</th>\n",
       "      <th>Temp_std</th>\n",
       "      <th>DBP_mean</th>\n",
       "      <th>HR_mean</th>\n",
       "      <th>HR_std</th>\n",
       "      <th>MAP_std</th>\n",
       "    </tr>\n",
       "  </thead>\n",
       "  <tbody>\n",
       "    <tr>\n",
       "      <th>0</th>\n",
       "      <td>-1.860827</td>\n",
       "      <td>-0.100423</td>\n",
       "      <td>-0.257952</td>\n",
       "      <td>0.225659</td>\n",
       "      <td>2.060733</td>\n",
       "      <td>2.428939</td>\n",
       "      <td>-1.108712</td>\n",
       "      <td>-0.249107</td>\n",
       "      <td>-0.228386</td>\n",
       "      <td>0.234737</td>\n",
       "      <td>2.025546</td>\n",
       "      <td>-0.887749</td>\n",
       "      <td>-0.735066</td>\n",
       "      <td>-0.494214</td>\n",
       "      <td>0.316975</td>\n",
       "      <td>0.998335</td>\n",
       "    </tr>\n",
       "    <tr>\n",
       "      <th>1</th>\n",
       "      <td>-0.893334</td>\n",
       "      <td>-0.426810</td>\n",
       "      <td>-0.962098</td>\n",
       "      <td>-0.403008</td>\n",
       "      <td>0.243862</td>\n",
       "      <td>-1.009552</td>\n",
       "      <td>-1.108712</td>\n",
       "      <td>-0.190966</td>\n",
       "      <td>-0.460255</td>\n",
       "      <td>-0.000762</td>\n",
       "      <td>-1.233596</td>\n",
       "      <td>-1.014934</td>\n",
       "      <td>-0.735066</td>\n",
       "      <td>-0.193393</td>\n",
       "      <td>0.018641</td>\n",
       "      <td>-1.053614</td>\n",
       "    </tr>\n",
       "    <tr>\n",
       "      <th>2</th>\n",
       "      <td>-0.946406</td>\n",
       "      <td>0.375703</td>\n",
       "      <td>1.098539</td>\n",
       "      <td>-1.616478</td>\n",
       "      <td>-0.022197</td>\n",
       "      <td>0.618126</td>\n",
       "      <td>-1.064903</td>\n",
       "      <td>-0.608517</td>\n",
       "      <td>0.173521</td>\n",
       "      <td>0.656408</td>\n",
       "      <td>0.444149</td>\n",
       "      <td>-1.014934</td>\n",
       "      <td>-0.688061</td>\n",
       "      <td>-0.331641</td>\n",
       "      <td>-1.002432</td>\n",
       "      <td>0.105426</td>\n",
       "    </tr>\n",
       "    <tr>\n",
       "      <th>3</th>\n",
       "      <td>1.516115</td>\n",
       "      <td>0.019747</td>\n",
       "      <td>0.928442</td>\n",
       "      <td>0.302074</td>\n",
       "      <td>-1.084504</td>\n",
       "      <td>0.404318</td>\n",
       "      <td>-2.325307</td>\n",
       "      <td>-1.152291</td>\n",
       "      <td>0.711251</td>\n",
       "      <td>0.641137</td>\n",
       "      <td>0.241785</td>\n",
       "      <td>0.112553</td>\n",
       "      <td>-2.717441</td>\n",
       "      <td>-0.887285</td>\n",
       "      <td>-1.305481</td>\n",
       "      <td>-0.609538</td>\n",
       "    </tr>\n",
       "    <tr>\n",
       "      <th>4</th>\n",
       "      <td>1.743260</td>\n",
       "      <td>-0.854744</td>\n",
       "      <td>-1.500226</td>\n",
       "      <td>0.677635</td>\n",
       "      <td>-2.525024</td>\n",
       "      <td>-0.606705</td>\n",
       "      <td>0.979952</td>\n",
       "      <td>-0.426486</td>\n",
       "      <td>-0.141851</td>\n",
       "      <td>-0.102561</td>\n",
       "      <td>-1.181838</td>\n",
       "      <td>0.379275</td>\n",
       "      <td>-1.110037</td>\n",
       "      <td>-0.342376</td>\n",
       "      <td>-0.632079</td>\n",
       "      <td>1.965759</td>\n",
       "    </tr>\n",
       "    <tr>\n",
       "      <th>...</th>\n",
       "      <td>...</td>\n",
       "      <td>...</td>\n",
       "      <td>...</td>\n",
       "      <td>...</td>\n",
       "      <td>...</td>\n",
       "      <td>...</td>\n",
       "      <td>...</td>\n",
       "      <td>...</td>\n",
       "      <td>...</td>\n",
       "      <td>...</td>\n",
       "      <td>...</td>\n",
       "      <td>...</td>\n",
       "      <td>...</td>\n",
       "      <td>...</td>\n",
       "      <td>...</td>\n",
       "      <td>...</td>\n",
       "    </tr>\n",
       "    <tr>\n",
       "      <th>1080419</th>\n",
       "      <td>1.286585</td>\n",
       "      <td>-0.182119</td>\n",
       "      <td>-0.007601</td>\n",
       "      <td>-0.813487</td>\n",
       "      <td>-4.625750</td>\n",
       "      <td>-1.696299</td>\n",
       "      <td>-1.880021</td>\n",
       "      <td>-0.076105</td>\n",
       "      <td>-0.141851</td>\n",
       "      <td>0.324066</td>\n",
       "      <td>-1.719874</td>\n",
       "      <td>-0.852017</td>\n",
       "      <td>-1.911329</td>\n",
       "      <td>0.096527</td>\n",
       "      <td>-0.780957</td>\n",
       "      <td>1.182749</td>\n",
       "    </tr>\n",
       "    <tr>\n",
       "      <th>1080420</th>\n",
       "      <td>1.002704</td>\n",
       "      <td>0.937756</td>\n",
       "      <td>-0.702752</td>\n",
       "      <td>0.032604</td>\n",
       "      <td>-0.998816</td>\n",
       "      <td>0.380155</td>\n",
       "      <td>-0.770544</td>\n",
       "      <td>-0.608517</td>\n",
       "      <td>-0.286202</td>\n",
       "      <td>-0.246700</td>\n",
       "      <td>0.483862</td>\n",
       "      <td>0.305669</td>\n",
       "      <td>-0.927380</td>\n",
       "      <td>-0.256902</td>\n",
       "      <td>-2.049536</td>\n",
       "      <td>0.913415</td>\n",
       "    </tr>\n",
       "    <tr>\n",
       "      <th>1080421</th>\n",
       "      <td>0.378001</td>\n",
       "      <td>-0.327946</td>\n",
       "      <td>0.456106</td>\n",
       "      <td>-0.524617</td>\n",
       "      <td>0.922260</td>\n",
       "      <td>0.982956</td>\n",
       "      <td>0.927216</td>\n",
       "      <td>-0.547305</td>\n",
       "      <td>-0.431183</td>\n",
       "      <td>-0.102561</td>\n",
       "      <td>0.483862</td>\n",
       "      <td>-0.389907</td>\n",
       "      <td>1.151665</td>\n",
       "      <td>-0.864275</td>\n",
       "      <td>0.992460</td>\n",
       "      <td>-0.061506</td>\n",
       "    </tr>\n",
       "    <tr>\n",
       "      <th>1080422</th>\n",
       "      <td>-0.708957</td>\n",
       "      <td>0.382785</td>\n",
       "      <td>1.585655</td>\n",
       "      <td>0.110179</td>\n",
       "      <td>2.060733</td>\n",
       "      <td>1.158595</td>\n",
       "      <td>1.822917</td>\n",
       "      <td>0.680119</td>\n",
       "      <td>-0.026822</td>\n",
       "      <td>-0.160398</td>\n",
       "      <td>1.159590</td>\n",
       "      <td>0.245084</td>\n",
       "      <td>2.015088</td>\n",
       "      <td>0.694822</td>\n",
       "      <td>0.629348</td>\n",
       "      <td>0.552429</td>\n",
       "    </tr>\n",
       "    <tr>\n",
       "      <th>1080423</th>\n",
       "      <td>0.039238</td>\n",
       "      <td>-2.627723</td>\n",
       "      <td>-0.489213</td>\n",
       "      <td>0.378042</td>\n",
       "      <td>0.591038</td>\n",
       "      <td>-0.662802</td>\n",
       "      <td>-1.381682</td>\n",
       "      <td>1.458860</td>\n",
       "      <td>0.809353</td>\n",
       "      <td>0.580209</td>\n",
       "      <td>-1.890830</td>\n",
       "      <td>0.851023</td>\n",
       "      <td>-1.026228</td>\n",
       "      <td>1.191373</td>\n",
       "      <td>1.296471</td>\n",
       "      <td>-0.296887</td>\n",
       "    </tr>\n",
       "  </tbody>\n",
       "</table>\n",
       "<p>1080424 rows × 16 columns</p>\n",
       "</div>"
      ],
      "text/plain": [
       "              Age   SBP_std  O2Sat_mean  ...   HR_mean    HR_std   MAP_std\n",
       "0       -1.860827 -0.100423   -0.257952  ... -0.494214  0.316975  0.998335\n",
       "1       -0.893334 -0.426810   -0.962098  ... -0.193393  0.018641 -1.053614\n",
       "2       -0.946406  0.375703    1.098539  ... -0.331641 -1.002432  0.105426\n",
       "3        1.516115  0.019747    0.928442  ... -0.887285 -1.305481 -0.609538\n",
       "4        1.743260 -0.854744   -1.500226  ... -0.342376 -0.632079  1.965759\n",
       "...           ...       ...         ...  ...       ...       ...       ...\n",
       "1080419  1.286585 -0.182119   -0.007601  ...  0.096527 -0.780957  1.182749\n",
       "1080420  1.002704  0.937756   -0.702752  ... -0.256902 -2.049536  0.913415\n",
       "1080421  0.378001 -0.327946    0.456106  ... -0.864275  0.992460 -0.061506\n",
       "1080422 -0.708957  0.382785    1.585655  ...  0.694822  0.629348  0.552429\n",
       "1080423  0.039238 -2.627723   -0.489213  ...  1.191373  1.296471 -0.296887\n",
       "\n",
       "[1080424 rows x 16 columns]"
      ]
     },
     "execution_count": 45,
     "metadata": {
      "tags": []
     },
     "output_type": "execute_result"
    }
   ],
   "source": [
    "X_all.loc[:, rfe_feat]"
   ]
  },
  {
   "cell_type": "code",
   "execution_count": 0,
   "metadata": {
    "colab": {},
    "colab_type": "code",
    "id": "mEY-qcORqPXX"
   },
   "outputs": [],
   "source": [
    "rfe_features = X_all.loc[:, rfe_feat].columns"
   ]
  },
  {
   "cell_type": "code",
   "execution_count": 47,
   "metadata": {
    "colab": {
     "base_uri": "https://localhost:8080/",
     "height": 85
    },
    "colab_type": "code",
    "executionInfo": {
     "elapsed": 279,
     "status": "ok",
     "timestamp": 1588386218543,
     "user": {
      "displayName": "An Tran",
      "photoUrl": "",
      "userId": "10274312836707434279"
     },
     "user_tz": 420
    },
    "id": "7wbp96Sj_t1h",
    "outputId": "a527cc05-766f-4a02-b53e-0e145a3d3ed6"
   },
   "outputs": [
    {
     "data": {
      "text/plain": [
       "Index(['Age', 'SBP_std', 'O2Sat_mean', 'Resp_mean', 'MAP_min', 'SBP_min',\n",
       "       'DBP_max', 'HR_max', 'Temp_max', 'Temp_min', 'SBP_max', 'Temp_std',\n",
       "       'DBP_mean', 'HR_mean', 'HR_std', 'MAP_std'],\n",
       "      dtype='object')"
      ]
     },
     "execution_count": 47,
     "metadata": {
      "tags": []
     },
     "output_type": "execute_result"
    }
   ],
   "source": [
    "rfe_features"
   ]
  },
  {
   "cell_type": "markdown",
   "metadata": {
    "colab_type": "text",
    "id": "llJv8d7COHSK"
   },
   "source": [
    "### Model"
   ]
  },
  {
   "cell_type": "code",
   "execution_count": 48,
   "metadata": {
    "colab": {
     "base_uri": "https://localhost:8080/",
     "height": 34
    },
    "colab_type": "code",
    "executionInfo": {
     "elapsed": 522,
     "status": "ok",
     "timestamp": 1588386233106,
     "user": {
      "displayName": "An Tran",
      "photoUrl": "",
      "userId": "10274312836707434279"
     },
     "user_tz": 420
    },
    "id": "DlV3cZzYOHSN",
    "outputId": "bc5cd52a-1b56-4fa8-e851-6cca7f9bc8bf"
   },
   "outputs": [
    {
     "name": "stdout",
     "output_type": "stream",
     "text": [
      "Training took:  0:00:00.300327\n"
     ]
    }
   ],
   "source": [
    "start = datetime.now()\n",
    "\n",
    "best_dt_uds.fit(X_uds_rfe, y_uds_rfe)\n",
    "\n",
    "print('Training took: ', datetime.now()-start)"
   ]
  },
  {
   "cell_type": "markdown",
   "metadata": {
    "colab_type": "text",
    "id": "nZx7JSinMoQb"
   },
   "source": [
    "### Feature importance determined by the model"
   ]
  },
  {
   "cell_type": "code",
   "execution_count": 54,
   "metadata": {
    "colab": {
     "base_uri": "https://localhost:8080/",
     "height": 638
    },
    "colab_type": "code",
    "executionInfo": {
     "elapsed": 502,
     "status": "ok",
     "timestamp": 1588386706293,
     "user": {
      "displayName": "An Tran",
      "photoUrl": "",
      "userId": "10274312836707434279"
     },
     "user_tz": 420
    },
    "id": "os74m_koMrEY",
    "outputId": "a5992e88-4602-422b-a791-f70088643f3c"
   },
   "outputs": [
    {
     "data": {
      "text/plain": [
       "Text(0.5, 0, 'Relative Importance')"
      ]
     },
     "execution_count": 54,
     "metadata": {
      "tags": []
     },
     "output_type": "execute_result"
    },
    {
     "data": {
      "image/png": "[encoded data removed]",
      "text/plain": [
       "<Figure size 720x720 with 1 Axes>"
      ]
     },
     "metadata": {
      "needs_background": "light",
      "tags": []
     },
     "output_type": "display_data"
    }
   ],
   "source": [
    "rcParams['figure.figsize'] = 10, 10\n",
    "features = rfe_features\n",
    "importances = best_dt_uds.feature_importances_\n",
    "indices = np.argsort(importances)\n",
    "\n",
    "plt.title('Feature importance of each variable in Decision Tree model')\n",
    "plt.barh(range(len(indices)), importances[indices], color='b', align='center')\n",
    "plt.yticks(range(len(indices)), [features[i] for i in indices])\n",
    "plt.xlabel('Relative Importance')"
   ]
  },
  {
   "cell_type": "markdown",
   "metadata": {
    "colab_type": "text",
    "id": "4Co0jXBfOHSQ"
   },
   "source": [
    "### Model Performance"
   ]
  },
  {
   "cell_type": "code",
   "execution_count": 0,
   "metadata": {
    "colab": {
     "base_uri": "https://localhost:8080/",
     "height": 977
    },
    "colab_type": "code",
    "executionInfo": {
     "elapsed": 78959,
     "status": "ok",
     "timestamp": 1587525468466,
     "user": {
      "displayName": "Quyen Tran",
      "photoUrl": "",
      "userId": "06127584536630807118"
     },
     "user_tz": 420
    },
    "id": "4IbtbrmNOHSR",
    "outputId": "0adab0d4-606a-49c1-b7a1-74731cc6edb5"
   },
   "outputs": [
    {
     "name": "stdout",
     "output_type": "stream",
     "text": [
      "TRAINING SET\n",
      "Threshold: 0.44\n",
      "TP: 17777\n",
      "TN: 17904\n",
      "FP: 2205\n",
      "FN: 2332\n",
      "Accuracy: 0.89\n",
      "Sensitivity: 0.88\n",
      "Specificity: 0.89\n",
      "Precision: 0.89\n",
      "Recall (Detection rate): 0.88\n",
      "F1-score: 0.89\n",
      "AUC: 0.97\n",
      "FPR (False alarm rate): 0.11\n",
      "FNR: 0.12\n",
      "Kappa: 0.77\n"
     ]
    },
    {
     "data": {
      "image/png": "[encoded data removed]",
      "text/plain": [
       "<Figure size 288x216 with 1 Axes>"
      ]
     },
     "metadata": {
      "needs_background": "light",
      "tags": []
     },
     "output_type": "display_data"
    },
    {
     "name": "stdout",
     "output_type": "stream",
     "text": [
      "TEST SET\n",
      "Threshold: 0.44\n",
      "TP: 3501\n",
      "TN: 176050\n",
      "FP: 89029\n",
      "FN: 1526\n",
      "Accuracy: 0.66\n",
      "Sensitivity: 0.7\n",
      "Specificity: 0.66\n",
      "Precision: 0.04\n",
      "Recall (Detection rate): 0.7\n",
      "F1-score: 0.09\n",
      "AUC: 0.71\n",
      "FPR (False alarm rate): 0.34\n",
      "FNR: 0.3\n",
      "Kappa: 0.04\n"
     ]
    },
    {
     "data": {
      "image/png": "[encoded data removed]",
      "text/plain": [
       "<Figure size 288x216 with 1 Axes>"
      ]
     },
     "metadata": {
      "needs_background": "light",
      "tags": []
     },
     "output_type": "display_data"
    }
   ],
   "source": [
    "results_train_dt_uds_rfe, results_test_dt_uds_rfe, \\\n",
    "y_pred_prob_train_dt_rfe, y_pred_prob_test_dt_rfe = model_evaluation2(best_dt_uds, \n",
    "                                                                      X_uds_rfe, y_uds_rfe,\n",
    "                                                                      X_test.loc[:, rfe_feat], y_test,\n",
    "                                                                      print_ = 1)"
   ]
  },
  {
   "cell_type": "markdown",
   "metadata": {
    "colab_type": "text",
    "id": "9UF8JIYyOHST"
   },
   "source": [
    "### Save results to dataframe"
   ]
  },
  {
   "cell_type": "code",
   "execution_count": 0,
   "metadata": {
    "colab": {},
    "colab_type": "code",
    "id": "OuaCfCUiOHST"
   },
   "outputs": [],
   "source": [
    "dt_results_train = dt_results_train.append(results_train_dt_uds_rfe.rename(index={results_train_dt_uds_rfe.index[-1]: 'DT 50/50 Ratio with Feature selection'}))\n",
    "dt_results_test = dt_results_test.append(results_test_dt_uds_rfe.rename(index={results_test_dt_uds_rfe.index[-1]: 'DT 50/50 Ratio with Feature selection'}))"
   ]
  },
  {
   "cell_type": "markdown",
   "metadata": {
    "colab_type": "text",
    "id": "YXcckL8GbFpe"
   },
   "source": [
    "# 80/20 Ratio: All features"
   ]
  },
  {
   "cell_type": "code",
   "execution_count": 0,
   "metadata": {
    "colab": {
     "base_uri": "https://localhost:8080/",
     "height": 85
    },
    "colab_type": "code",
    "executionInfo": {
     "elapsed": 78941,
     "status": "ok",
     "timestamp": 1587525468467,
     "user": {
      "displayName": "Quyen Tran",
      "photoUrl": "",
      "userId": "06127584536630807118"
     },
     "user_tz": 420
    },
    "id": "_NfI36nMrYP4",
    "outputId": "71b7a7d1-ab77-413e-c3b4-d22c59f3c1f9"
   },
   "outputs": [
    {
     "data": {
      "text/plain": [
       "{'criterion': 'entropy',\n",
       " 'max_depth': 20,\n",
       " 'max_features': 'sqrt',\n",
       " 'min_samples_leaf': 1}"
      ]
     },
     "execution_count": 47,
     "metadata": {
      "tags": []
     },
     "output_type": "execute_result"
    }
   ],
   "source": [
    "grid_dt_uds.best_params_"
   ]
  },
  {
   "cell_type": "code",
   "execution_count": 0,
   "metadata": {
    "colab": {},
    "colab_type": "code",
    "id": "5VDdUzL3bFpg"
   },
   "outputs": [],
   "source": [
    "# create the model/estimator\n",
    "dt_8020 = DecisionTreeClassifier(random_state=seed,\n",
    "                                 criterion='entropy',\n",
    "                                 max_depth=20,\n",
    "                                 max_features='sqrt',\n",
    "                                 min_samples_leaf=1)"
   ]
  },
  {
   "cell_type": "code",
   "execution_count": 0,
   "metadata": {
    "colab": {
     "base_uri": "https://localhost:8080/",
     "height": 34
    },
    "colab_type": "code",
    "executionInfo": {
     "elapsed": 80000,
     "status": "ok",
     "timestamp": 1587525469544,
     "user": {
      "displayName": "Quyen Tran",
      "photoUrl": "",
      "userId": "06127584536630807118"
     },
     "user_tz": 420
    },
    "id": "lIUwk6ENcP9j",
    "outputId": "1259c72a-3ed4-4d97-a412-54f5a9940d63"
   },
   "outputs": [
    {
     "name": "stdout",
     "output_type": "stream",
     "text": [
      "Training took:  0:00:01.082486\n"
     ]
    }
   ],
   "source": [
    "start = datetime.now()\n",
    "\n",
    "dt_8020.fit(X_8020, y_8020)\n",
    "\n",
    "print('Training took: ', datetime.now()-start)"
   ]
  },
  {
   "cell_type": "markdown",
   "metadata": {
    "colab_type": "text",
    "id": "Vg6rj5EPbFpn"
   },
   "source": [
    "### Performance on training and test set"
   ]
  },
  {
   "cell_type": "code",
   "execution_count": 0,
   "metadata": {
    "colab": {
     "base_uri": "https://localhost:8080/",
     "height": 977
    },
    "colab_type": "code",
    "executionInfo": {
     "elapsed": 82584,
     "status": "ok",
     "timestamp": 1587525472148,
     "user": {
      "displayName": "Quyen Tran",
      "photoUrl": "",
      "userId": "06127584536630807118"
     },
     "user_tz": 420
    },
    "id": "_32vEVeDbFpn",
    "outputId": "46891c14-1f25-4e8b-ab06-73724f6e46bd"
   },
   "outputs": [
    {
     "name": "stdout",
     "output_type": "stream",
     "text": [
      "TRAINING SET\n",
      "Threshold: 0.4\n",
      "TP: 14404\n",
      "TN: 78557\n",
      "FP: 1879\n",
      "FN: 5705\n",
      "Accuracy: 0.92\n",
      "Sensitivity: 0.72\n",
      "Specificity: 0.98\n",
      "Precision: 0.88\n",
      "Recall (Detection rate): 0.72\n",
      "F1-score: 0.79\n",
      "AUC: 0.95\n",
      "FPR (False alarm rate): 0.02\n",
      "FNR: 0.28\n",
      "Kappa: 0.75\n"
     ]
    },
    {
     "data": {
      "image/png": "[encoded data removed]",
      "text/plain": [
       "<Figure size 288x216 with 1 Axes>"
      ]
     },
     "metadata": {
      "needs_background": "light",
      "tags": []
     },
     "output_type": "display_data"
    },
    {
     "name": "stdout",
     "output_type": "stream",
     "text": [
      "TEST SET\n",
      "Threshold: 0.4\n",
      "TP: 1862\n",
      "TN: 234672\n",
      "FP: 30407\n",
      "FN: 3165\n",
      "Accuracy: 0.88\n",
      "Sensitivity: 0.37\n",
      "Specificity: 0.89\n",
      "Precision: 0.06\n",
      "Recall (Detection rate): 0.37\n",
      "F1-score: 0.11\n",
      "AUC: 0.64\n",
      "FPR (False alarm rate): 0.11\n",
      "FNR: 0.63\n",
      "Kappa: 0.07\n"
     ]
    },
    {
     "data": {
      "image/png": "[encoded data removed]",
      "text/plain": [
       "<Figure size 288x216 with 1 Axes>"
      ]
     },
     "metadata": {
      "needs_background": "light",
      "tags": []
     },
     "output_type": "display_data"
    }
   ],
   "source": [
    "results_train_dt_8020, results_test_dt_8020, \\\n",
    "y_pred_prob_train_dt_8020, y_pred_prob_test_dt_8020 = model_evaluation2(dt_8020, \n",
    "                                                                        X_8020, y_8020,\n",
    "                                                                        X_test, y_test,\n",
    "                                                                        print_ = 1)"
   ]
  },
  {
   "cell_type": "markdown",
   "metadata": {
    "colab_type": "text",
    "id": "bHk5sK3QbFpp"
   },
   "source": [
    "### Save results to dataframe"
   ]
  },
  {
   "cell_type": "code",
   "execution_count": 0,
   "metadata": {
    "colab": {},
    "colab_type": "code",
    "id": "PmS2-5ltbFpq"
   },
   "outputs": [],
   "source": [
    "dt_results_train = dt_results_train.append(results_train_dt_8020.rename(index={results_train_dt_8020.index[-1]: 'DT 80/20 Ratio All features'}))\n",
    "dt_results_test = dt_results_test.append(results_test_dt_8020.rename(index={results_test_dt_8020.index[-1]: 'DT 80/20 Ratio All features'}))"
   ]
  },
  {
   "cell_type": "markdown",
   "metadata": {
    "colab_type": "text",
    "id": "kXqpbDtDbFps"
   },
   "source": [
    "# 80/20 Ratio: Feature selection"
   ]
  },
  {
   "cell_type": "code",
   "execution_count": 0,
   "metadata": {
    "colab": {},
    "colab_type": "code",
    "id": "kN5z2OVGtiYE"
   },
   "outputs": [],
   "source": [
    "# create the model/estimator\n",
    "dt_8020_rfe = DecisionTreeClassifier(random_state=seed,\n",
    "                                     criterion='entropy',\n",
    "                                     max_depth=20,\n",
    "                                     max_features='sqrt',\n",
    "                                     min_samples_leaf=1)"
   ]
  },
  {
   "cell_type": "markdown",
   "metadata": {
    "colab_type": "text",
    "id": "oQuQ9p2ibFps"
   },
   "source": [
    "### Use the selected features for 80/20 dataset"
   ]
  },
  {
   "cell_type": "code",
   "execution_count": 0,
   "metadata": {
    "colab": {},
    "colab_type": "code",
    "id": "S0JcDfnrbFpt"
   },
   "outputs": [],
   "source": [
    "X_8020_rfe, y_8020_rfe = ratio8020.fit_resample(X_all.loc[:, rfe_feat], y_all)"
   ]
  },
  {
   "cell_type": "markdown",
   "metadata": {
    "colab_type": "text",
    "id": "r0kwjn58bFpv"
   },
   "source": [
    "### Model"
   ]
  },
  {
   "cell_type": "code",
   "execution_count": 0,
   "metadata": {
    "colab": {
     "base_uri": "https://localhost:8080/",
     "height": 34
    },
    "colab_type": "code",
    "executionInfo": {
     "elapsed": 83670,
     "status": "ok",
     "timestamp": 1587525473268,
     "user": {
      "displayName": "Quyen Tran",
      "photoUrl": "",
      "userId": "06127584536630807118"
     },
     "user_tz": 420
    },
    "id": "24R_2GzLbFpy",
    "outputId": "efbda482-8372-453d-992c-ba07463762b4"
   },
   "outputs": [
    {
     "name": "stdout",
     "output_type": "stream",
     "text": [
      "Training took:  0:00:00.720036\n"
     ]
    }
   ],
   "source": [
    "start = datetime.now()\n",
    "\n",
    "dt_8020_rfe.fit(X_8020_rfe, y_8020_rfe)\n",
    "\n",
    "print('Training took: ', datetime.now()-start)"
   ]
  },
  {
   "cell_type": "markdown",
   "metadata": {
    "colab_type": "text",
    "id": "4YV349E0bFp1"
   },
   "source": [
    "### Model Performance"
   ]
  },
  {
   "cell_type": "code",
   "execution_count": 0,
   "metadata": {
    "colab": {
     "base_uri": "https://localhost:8080/",
     "height": 977
    },
    "colab_type": "code",
    "executionInfo": {
     "elapsed": 86195,
     "status": "ok",
     "timestamp": 1587525475814,
     "user": {
      "displayName": "Quyen Tran",
      "photoUrl": "",
      "userId": "06127584536630807118"
     },
     "user_tz": 420
    },
    "id": "rWm-y2dlbFp1",
    "outputId": "9b6c2627-250d-4e9f-daea-ab97a45114b7"
   },
   "outputs": [
    {
     "name": "stdout",
     "output_type": "stream",
     "text": [
      "TRAINING SET\n",
      "Threshold: 0.41\n",
      "TP: 15117\n",
      "TN: 78737\n",
      "FP: 1699\n",
      "FN: 4992\n",
      "Accuracy: 0.93\n",
      "Sensitivity: 0.75\n",
      "Specificity: 0.98\n",
      "Precision: 0.9\n",
      "Recall (Detection rate): 0.75\n",
      "F1-score: 0.82\n",
      "AUC: 0.96\n",
      "FPR (False alarm rate): 0.02\n",
      "FNR: 0.25\n",
      "Kappa: 0.78\n"
     ]
    },
    {
     "data": {
      "image/png": "[encoded data removed]",
      "text/plain": [
       "<Figure size 288x216 with 1 Axes>"
      ]
     },
     "metadata": {
      "needs_background": "light",
      "tags": []
     },
     "output_type": "display_data"
    },
    {
     "name": "stdout",
     "output_type": "stream",
     "text": [
      "TEST SET\n",
      "Threshold: 0.41\n",
      "TP: 2387\n",
      "TN: 238491\n",
      "FP: 26588\n",
      "FN: 2640\n",
      "Accuracy: 0.89\n",
      "Sensitivity: 0.47\n",
      "Specificity: 0.9\n",
      "Precision: 0.08\n",
      "Recall (Detection rate): 0.47\n",
      "F1-score: 0.15\n",
      "AUC: 0.72\n",
      "FPR (False alarm rate): 0.1\n",
      "FNR: 0.53\n",
      "Kappa: 0.11\n"
     ]
    },
    {
     "data": {
      "image/png": "[encoded data removed]",
      "text/plain": [
       "<Figure size 288x216 with 1 Axes>"
      ]
     },
     "metadata": {
      "needs_background": "light",
      "tags": []
     },
     "output_type": "display_data"
    }
   ],
   "source": [
    "results_train_dt_8020_rfe, results_test_dt_8020_rfe, \\\n",
    "y_pred_prob_train_dt_8020_rfe, y_pred_prob_test_dt_8020_rfe = model_evaluation2(dt_8020_rfe, \n",
    "                                                                                X_8020_rfe, y_8020_rfe,\n",
    "                                                                                X_test.loc[:, rfe_feat], y_test,\n",
    "                                                                                print_ = 1)"
   ]
  },
  {
   "cell_type": "markdown",
   "metadata": {
    "colab_type": "text",
    "id": "ziHBgcR5bFp3"
   },
   "source": [
    "### Save results to dataframe"
   ]
  },
  {
   "cell_type": "code",
   "execution_count": 0,
   "metadata": {
    "colab": {},
    "colab_type": "code",
    "id": "BC8qo1fvbFp4"
   },
   "outputs": [],
   "source": [
    "dt_results_train = dt_results_train.append(results_train_dt_8020_rfe.rename(index={results_train_dt_8020_rfe.index[-1]: 'DT 80/20 Ratio with Feature Selection'}))\n",
    "dt_results_test = dt_results_test.append(results_test_dt_8020_rfe.rename(index={results_test_dt_8020_rfe.index[-1]: 'DT 80/20 Ratio with Feature Selection'}))"
   ]
  },
  {
   "cell_type": "markdown",
   "metadata": {
    "colab_type": "text",
    "id": "yleRN2fa3Rk5"
   },
   "source": [
    "# 90/10 Ratio: All features"
   ]
  },
  {
   "cell_type": "code",
   "execution_count": 0,
   "metadata": {
    "colab": {
     "base_uri": "https://localhost:8080/",
     "height": 85
    },
    "colab_type": "code",
    "executionInfo": {
     "elapsed": 86173,
     "status": "ok",
     "timestamp": 1587525475816,
     "user": {
      "displayName": "Quyen Tran",
      "photoUrl": "",
      "userId": "06127584536630807118"
     },
     "user_tz": 420
    },
    "id": "e0PjymsW3Rk6",
    "outputId": "6e7dfa07-7f56-41b5-cdc8-5c94d7db7757"
   },
   "outputs": [
    {
     "data": {
      "text/plain": [
       "{'criterion': 'entropy',\n",
       " 'max_depth': 20,\n",
       " 'max_features': 'sqrt',\n",
       " 'min_samples_leaf': 1}"
      ]
     },
     "execution_count": 57,
     "metadata": {
      "tags": []
     },
     "output_type": "execute_result"
    }
   ],
   "source": [
    "grid_dt_uds.best_params_"
   ]
  },
  {
   "cell_type": "code",
   "execution_count": 0,
   "metadata": {
    "colab": {},
    "colab_type": "code",
    "id": "avDlWu7m3Rk8"
   },
   "outputs": [],
   "source": [
    "# create the model/estimator\n",
    "dt_9010 = DecisionTreeClassifier(random_state=seed,\n",
    "                                 criterion='entropy',\n",
    "                                 max_depth=20,\n",
    "                                 max_features='sqrt',\n",
    "                                 min_samples_leaf=1)"
   ]
  },
  {
   "cell_type": "code",
   "execution_count": 0,
   "metadata": {
    "colab": {
     "base_uri": "https://localhost:8080/",
     "height": 34
    },
    "colab_type": "code",
    "executionInfo": {
     "elapsed": 88303,
     "status": "ok",
     "timestamp": 1587525477974,
     "user": {
      "displayName": "Quyen Tran",
      "photoUrl": "",
      "userId": "06127584536630807118"
     },
     "user_tz": 420
    },
    "id": "Am1UawXB3RlA",
    "outputId": "bdc697b5-4ec4-4e87-d2f5-b128ba0f2fb2"
   },
   "outputs": [
    {
     "name": "stdout",
     "output_type": "stream",
     "text": [
      "Training took:  0:00:01.983839\n"
     ]
    }
   ],
   "source": [
    "start = datetime.now()\n",
    "\n",
    "dt_9010.fit(X_9010, y_9010)\n",
    "\n",
    "print('Training took: ', datetime.now()-start)"
   ]
  },
  {
   "cell_type": "markdown",
   "metadata": {
    "colab_type": "text",
    "id": "5swZUJ3v3RlB"
   },
   "source": [
    "### Performance on training and test set"
   ]
  },
  {
   "cell_type": "code",
   "execution_count": 0,
   "metadata": {
    "colab": {
     "base_uri": "https://localhost:8080/",
     "height": 977
    },
    "colab_type": "code",
    "executionInfo": {
     "elapsed": 91279,
     "status": "ok",
     "timestamp": 1587525480974,
     "user": {
      "displayName": "Quyen Tran",
      "photoUrl": "",
      "userId": "06127584536630807118"
     },
     "user_tz": 420
    },
    "id": "MRuY1tIw3RlB",
    "outputId": "d3ef7af7-95f8-4a25-95ae-3cb0a1489fe8"
   },
   "outputs": [
    {
     "name": "stdout",
     "output_type": "stream",
     "text": [
      "TRAINING SET\n",
      "Threshold: 0.38\n",
      "TP: 13105\n",
      "TN: 179294\n",
      "FP: 1687\n",
      "FN: 7004\n",
      "Accuracy: 0.96\n",
      "Sensitivity: 0.65\n",
      "Specificity: 0.99\n",
      "Precision: 0.89\n",
      "Recall (Detection rate): 0.65\n",
      "F1-score: 0.75\n",
      "AUC: 0.95\n",
      "FPR (False alarm rate): 0.01\n",
      "FNR: 0.35\n",
      "Kappa: 0.73\n"
     ]
    },
    {
     "data": {
      "image/png": "[encoded data removed]",
      "text/plain": [
       "<Figure size 288x216 with 1 Axes>"
      ]
     },
     "metadata": {
      "needs_background": "light",
      "tags": []
     },
     "output_type": "display_data"
    },
    {
     "name": "stdout",
     "output_type": "stream",
     "text": [
      "TEST SET\n",
      "Threshold: 0.38\n",
      "TP: 1313\n",
      "TN: 251111\n",
      "FP: 13968\n",
      "FN: 3714\n",
      "Accuracy: 0.93\n",
      "Sensitivity: 0.26\n",
      "Specificity: 0.95\n",
      "Precision: 0.09\n",
      "Recall (Detection rate): 0.26\n",
      "F1-score: 0.13\n",
      "AUC: 0.64\n",
      "FPR (False alarm rate): 0.05\n",
      "FNR: 0.74\n",
      "Kappa: 0.1\n"
     ]
    },
    {
     "data": {
      "image/png": "[encoded data removed]",
      "text/plain": [
       "<Figure size 288x216 with 1 Axes>"
      ]
     },
     "metadata": {
      "needs_background": "light",
      "tags": []
     },
     "output_type": "display_data"
    }
   ],
   "source": [
    "results_train_dt_9010, results_test_dt_9010, \\\n",
    "y_pred_prob_train_dt_9010, y_pred_prob_test_dt_9010 = model_evaluation2(dt_9010, \n",
    "                                                                        X_9010, y_9010,\n",
    "                                                                        X_test, y_test,\n",
    "                                                                        print_ = 1)"
   ]
  },
  {
   "cell_type": "markdown",
   "metadata": {
    "colab_type": "text",
    "id": "4rZzkXJ33RlD"
   },
   "source": [
    "### Save results to dataframe"
   ]
  },
  {
   "cell_type": "code",
   "execution_count": 0,
   "metadata": {
    "colab": {},
    "colab_type": "code",
    "id": "3RmxIEdj3RlD"
   },
   "outputs": [],
   "source": [
    "dt_results_train = dt_results_train.append(results_train_dt_9010.rename(index={results_train_dt_9010.index[-1]: 'DT 90/10 Ratio All features'}))\n",
    "dt_results_test = dt_results_test.append(results_test_dt_9010.rename(index={results_test_dt_9010.index[-1]: 'DT 90/10 Ratio All features'}))"
   ]
  },
  {
   "cell_type": "markdown",
   "metadata": {
    "colab_type": "text",
    "id": "na6DNFeo3RlG"
   },
   "source": [
    "# 90/10 Ratio: Feature selection"
   ]
  },
  {
   "cell_type": "code",
   "execution_count": 0,
   "metadata": {
    "colab": {},
    "colab_type": "code",
    "id": "c738bFTK3RlG"
   },
   "outputs": [],
   "source": [
    "# create the model/estimator\n",
    "dt_9010_rfe = DecisionTreeClassifier(random_state=seed,\n",
    "                                     criterion='entropy',\n",
    "                                     max_depth=20,\n",
    "                                     max_features='sqrt',\n",
    "                                     min_samples_leaf=1)"
   ]
  },
  {
   "cell_type": "markdown",
   "metadata": {
    "colab_type": "text",
    "id": "DG9G_0nh3RlI"
   },
   "source": [
    "### Use the selected features for 90/10 dataset"
   ]
  },
  {
   "cell_type": "code",
   "execution_count": 0,
   "metadata": {
    "colab": {},
    "colab_type": "code",
    "id": "iIj2GrFz3RlI"
   },
   "outputs": [],
   "source": [
    "X_9010_rfe, y_9010_rfe = ratio9010.fit_resample(X_all.loc[:, rfe_feat], y_all)"
   ]
  },
  {
   "cell_type": "markdown",
   "metadata": {
    "colab_type": "text",
    "id": "EO5WAJtl3RlJ"
   },
   "source": [
    "### Model"
   ]
  },
  {
   "cell_type": "code",
   "execution_count": 0,
   "metadata": {
    "colab": {
     "base_uri": "https://localhost:8080/",
     "height": 34
    },
    "colab_type": "code",
    "executionInfo": {
     "elapsed": 93063,
     "status": "ok",
     "timestamp": 1587525482791,
     "user": {
      "displayName": "Quyen Tran",
      "photoUrl": "",
      "userId": "06127584536630807118"
     },
     "user_tz": 420
    },
    "id": "z3T4i6RJ3RlK",
    "outputId": "5bafa48f-f5e8-4b65-f2bf-f15d92cc4f17"
   },
   "outputs": [
    {
     "name": "stdout",
     "output_type": "stream",
     "text": [
      "Training took:  0:00:01.391365\n"
     ]
    }
   ],
   "source": [
    "start = datetime.now()\n",
    "\n",
    "dt_9010_rfe.fit(X_9010_rfe, y_9010_rfe)\n",
    "\n",
    "print('Training took: ', datetime.now()-start)"
   ]
  },
  {
   "cell_type": "markdown",
   "metadata": {
    "colab_type": "text",
    "id": "BgU5XDMo3RlL"
   },
   "source": [
    "### Model Performance"
   ]
  },
  {
   "cell_type": "code",
   "execution_count": 0,
   "metadata": {
    "colab": {
     "base_uri": "https://localhost:8080/",
     "height": 977
    },
    "colab_type": "code",
    "executionInfo": {
     "elapsed": 96095,
     "status": "ok",
     "timestamp": 1587525485843,
     "user": {
      "displayName": "Quyen Tran",
      "photoUrl": "",
      "userId": "06127584536630807118"
     },
     "user_tz": 420
    },
    "id": "quDJN_P83RlL",
    "outputId": "49d02d87-450b-4de2-8556-52c5d3de2bf1"
   },
   "outputs": [
    {
     "name": "stdout",
     "output_type": "stream",
     "text": [
      "TRAINING SET\n",
      "Threshold: 0.39\n",
      "TP: 13976\n",
      "TN: 179196\n",
      "FP: 1785\n",
      "FN: 6133\n",
      "Accuracy: 0.96\n",
      "Sensitivity: 0.7\n",
      "Specificity: 0.99\n",
      "Precision: 0.89\n",
      "Recall (Detection rate): 0.7\n",
      "F1-score: 0.78\n",
      "AUC: 0.97\n",
      "FPR (False alarm rate): 0.01\n",
      "FNR: 0.3\n",
      "Kappa: 0.76\n"
     ]
    },
    {
     "data": {
      "image/png": "[encoded data removed]",
      "text/plain": [
       "<Figure size 288x216 with 1 Axes>"
      ]
     },
     "metadata": {
      "needs_background": "light",
      "tags": []
     },
     "output_type": "display_data"
    },
    {
     "name": "stdout",
     "output_type": "stream",
     "text": [
      "TEST SET\n",
      "Threshold: 0.39\n",
      "TP: 1916\n",
      "TN: 252037\n",
      "FP: 13042\n",
      "FN: 3111\n",
      "Accuracy: 0.94\n",
      "Sensitivity: 0.38\n",
      "Specificity: 0.95\n",
      "Precision: 0.13\n",
      "Recall (Detection rate): 0.38\n",
      "F1-score: 0.2\n",
      "AUC: 0.71\n",
      "FPR (False alarm rate): 0.05\n",
      "FNR: 0.62\n",
      "Kappa: 0.17\n"
     ]
    },
    {
     "data": {
      "image/png": "[encoded data removed]",
      "text/plain": [
       "<Figure size 288x216 with 1 Axes>"
      ]
     },
     "metadata": {
      "needs_background": "light",
      "tags": []
     },
     "output_type": "display_data"
    }
   ],
   "source": [
    "results_train_dt_9010_rfe, results_test_dt_9010_rfe, \\\n",
    "y_pred_prob_train_dt_9010_rfe, y_pred_prob_test_dt_9010_rfe = model_evaluation2(dt_9010_rfe, \n",
    "                                                                                X_9010_rfe, y_9010_rfe,\n",
    "                                                                                X_test.loc[:, rfe_feat], y_test,\n",
    "                                                                                print_ = 1)"
   ]
  },
  {
   "cell_type": "markdown",
   "metadata": {
    "colab_type": "text",
    "id": "J3AhWrCg3RlM"
   },
   "source": [
    "### Save results to dataframe"
   ]
  },
  {
   "cell_type": "code",
   "execution_count": 0,
   "metadata": {
    "colab": {},
    "colab_type": "code",
    "id": "Z7JUubVz3RlN"
   },
   "outputs": [],
   "source": [
    "dt_results_train = dt_results_train.append(results_train_dt_9010_rfe.rename(index={results_train_dt_9010_rfe.index[-1]: 'DT 90/10 Ratio with Feature Selection'}))\n",
    "dt_results_test = dt_results_test.append(results_test_dt_9010_rfe.rename(index={results_test_dt_9010_rfe.index[-1]: 'DT 90/10 Ratio with Feature Selection'}))"
   ]
  },
  {
   "cell_type": "markdown",
   "metadata": {
    "colab_type": "text",
    "id": "aipv5L4L53dO"
   },
   "source": [
    "# 95/05 Ratio: All features"
   ]
  },
  {
   "cell_type": "code",
   "execution_count": 0,
   "metadata": {
    "colab": {
     "base_uri": "https://localhost:8080/",
     "height": 85
    },
    "colab_type": "code",
    "executionInfo": {
     "elapsed": 96072,
     "status": "ok",
     "timestamp": 1587525485844,
     "user": {
      "displayName": "Quyen Tran",
      "photoUrl": "",
      "userId": "06127584536630807118"
     },
     "user_tz": 420
    },
    "id": "N7S2eehP53dP",
    "outputId": "d94456c8-7890-4722-a344-27f446689c08"
   },
   "outputs": [
    {
     "data": {
      "text/plain": [
       "{'criterion': 'entropy',\n",
       " 'max_depth': 20,\n",
       " 'max_features': 'sqrt',\n",
       " 'min_samples_leaf': 1}"
      ]
     },
     "execution_count": 67,
     "metadata": {
      "tags": []
     },
     "output_type": "execute_result"
    }
   ],
   "source": [
    "grid_dt_uds.best_params_"
   ]
  },
  {
   "cell_type": "code",
   "execution_count": 0,
   "metadata": {
    "colab": {},
    "colab_type": "code",
    "id": "TQ7-ey5S53dR"
   },
   "outputs": [],
   "source": [
    "# create the model/estimator\n",
    "dt_9505 = DecisionTreeClassifier(random_state=seed,\n",
    "                                 criterion='entropy',\n",
    "                                 max_depth=20,\n",
    "                                 max_features='sqrt',\n",
    "                                 min_samples_leaf=1)"
   ]
  },
  {
   "cell_type": "code",
   "execution_count": 0,
   "metadata": {
    "colab": {
     "base_uri": "https://localhost:8080/",
     "height": 34
    },
    "colab_type": "code",
    "executionInfo": {
     "elapsed": 99921,
     "status": "ok",
     "timestamp": 1587525489716,
     "user": {
      "displayName": "Quyen Tran",
      "photoUrl": "",
      "userId": "06127584536630807118"
     },
     "user_tz": 420
    },
    "id": "Dm_d1hTq53dV",
    "outputId": "fb73827f-ed08-456c-bc8a-214e722be422"
   },
   "outputs": [
    {
     "name": "stdout",
     "output_type": "stream",
     "text": [
      "Training took:  0:00:03.850655\n"
     ]
    }
   ],
   "source": [
    "start = datetime.now()\n",
    "\n",
    "dt_9505.fit(X_9505, y_9505)\n",
    "\n",
    "print('Training took: ', datetime.now()-start)"
   ]
  },
  {
   "cell_type": "markdown",
   "metadata": {
    "colab_type": "text",
    "id": "TuxAFe_-53dY"
   },
   "source": [
    "### Performance on training and test set"
   ]
  },
  {
   "cell_type": "code",
   "execution_count": 0,
   "metadata": {
    "colab": {
     "base_uri": "https://localhost:8080/",
     "height": 977
    },
    "colab_type": "code",
    "executionInfo": {
     "elapsed": 104299,
     "status": "ok",
     "timestamp": 1587525494116,
     "user": {
      "displayName": "Quyen Tran",
      "photoUrl": "",
      "userId": "06127584536630807118"
     },
     "user_tz": 420
    },
    "id": "fnSx3eJd53dY",
    "outputId": "6025b507-311f-426c-8489-e9b12246a310"
   },
   "outputs": [
    {
     "name": "stdout",
     "output_type": "stream",
     "text": [
      "TRAINING SET\n",
      "Threshold: 0.34\n",
      "TP: 11246\n",
      "TN: 380402\n",
      "FP: 1669\n",
      "FN: 8863\n",
      "Accuracy: 0.97\n",
      "Sensitivity: 0.56\n",
      "Specificity: 1.0\n",
      "Precision: 0.87\n",
      "Recall (Detection rate): 0.56\n",
      "F1-score: 0.68\n",
      "AUC: 0.94\n",
      "FPR (False alarm rate): 0.0\n",
      "FNR: 0.44\n",
      "Kappa: 0.67\n"
     ]
    },
    {
     "data": {
      "image/png": "[encoded data removed]",
      "text/plain": [
       "<Figure size 288x216 with 1 Axes>"
      ]
     },
     "metadata": {
      "needs_background": "light",
      "tags": []
     },
     "output_type": "display_data"
    },
    {
     "name": "stdout",
     "output_type": "stream",
     "text": [
      "TEST SET\n",
      "Threshold: 0.34\n",
      "TP: 914\n",
      "TN: 258463\n",
      "FP: 6616\n",
      "FN: 4113\n",
      "Accuracy: 0.96\n",
      "Sensitivity: 0.18\n",
      "Specificity: 0.98\n",
      "Precision: 0.12\n",
      "Recall (Detection rate): 0.18\n",
      "F1-score: 0.15\n",
      "AUC: 0.62\n",
      "FPR (False alarm rate): 0.02\n",
      "FNR: 0.82\n",
      "Kappa: 0.13\n"
     ]
    },
    {
     "data": {
      "image/png": "[encoded data removed]",
      "text/plain": [
       "<Figure size 288x216 with 1 Axes>"
      ]
     },
     "metadata": {
      "needs_background": "light",
      "tags": []
     },
     "output_type": "display_data"
    }
   ],
   "source": [
    "results_train_dt_9505, results_test_dt_9505, \\\n",
    "y_pred_prob_train_dt_9505, y_pred_prob_test_dt_9505 = model_evaluation2(dt_9505, \n",
    "                                                                        X_9505, y_9505,\n",
    "                                                                        X_test, y_test,\n",
    "                                                                        print_ = 1)"
   ]
  },
  {
   "cell_type": "markdown",
   "metadata": {
    "colab_type": "text",
    "id": "NEUs1IAc53db"
   },
   "source": [
    "### Save results to dataframe"
   ]
  },
  {
   "cell_type": "code",
   "execution_count": 0,
   "metadata": {
    "colab": {},
    "colab_type": "code",
    "id": "oj-SzIJ353db"
   },
   "outputs": [],
   "source": [
    "dt_results_train = dt_results_train.append(results_train_dt_9505.rename(index={results_train_dt_9505.index[-1]: 'DT 95/05 Ratio All features'}))\n",
    "dt_results_test = dt_results_test.append(results_test_dt_9505.rename(index={results_test_dt_9505.index[-1]: 'DT 95/05 Ratio All features'}))"
   ]
  },
  {
   "cell_type": "markdown",
   "metadata": {
    "colab_type": "text",
    "id": "m_OBx9dG53dc"
   },
   "source": [
    "# 95/05 Ratio: Feature selection"
   ]
  },
  {
   "cell_type": "code",
   "execution_count": 0,
   "metadata": {
    "colab": {},
    "colab_type": "code",
    "id": "xKYkl5ZB53dc"
   },
   "outputs": [],
   "source": [
    "# create the model/estimator\n",
    "dt_9505_rfe = DecisionTreeClassifier(random_state=seed,\n",
    "                                     criterion='entropy',\n",
    "                                     max_depth=20,\n",
    "                                     max_features='sqrt',\n",
    "                                     min_samples_leaf=1)"
   ]
  },
  {
   "cell_type": "markdown",
   "metadata": {
    "colab_type": "text",
    "id": "5SgkVLcO53de"
   },
   "source": [
    "### Use the selected features for 95/05 dataset"
   ]
  },
  {
   "cell_type": "code",
   "execution_count": 0,
   "metadata": {
    "colab": {},
    "colab_type": "code",
    "id": "JLUYckCa53de"
   },
   "outputs": [],
   "source": [
    "X_9505_rfe, y_9505_rfe = ratio9505.fit_resample(X_all.loc[:, rfe_feat], y_all)"
   ]
  },
  {
   "cell_type": "markdown",
   "metadata": {
    "colab_type": "text",
    "id": "E9rwkknT53df"
   },
   "source": [
    "### Model"
   ]
  },
  {
   "cell_type": "code",
   "execution_count": 0,
   "metadata": {
    "colab": {
     "base_uri": "https://localhost:8080/",
     "height": 34
    },
    "colab_type": "code",
    "executionInfo": {
     "elapsed": 107320,
     "status": "ok",
     "timestamp": 1587525497166,
     "user": {
      "displayName": "Quyen Tran",
      "photoUrl": "",
      "userId": "06127584536630807118"
     },
     "user_tz": 420
    },
    "id": "GCVxFsCP53df",
    "outputId": "bf7de85a-99e5-433f-9c7c-70a58b4230a1"
   },
   "outputs": [
    {
     "name": "stdout",
     "output_type": "stream",
     "text": [
      "Training took:  0:00:02.724081\n"
     ]
    }
   ],
   "source": [
    "start = datetime.now()\n",
    "\n",
    "dt_9505_rfe.fit(X_9505_rfe, y_9505_rfe)\n",
    "\n",
    "print('Training took: ', datetime.now()-start)"
   ]
  },
  {
   "cell_type": "markdown",
   "metadata": {
    "colab_type": "text",
    "id": "rbzMrn6c53di"
   },
   "source": [
    "### Model Performance"
   ]
  },
  {
   "cell_type": "code",
   "execution_count": 0,
   "metadata": {
    "colab": {
     "base_uri": "https://localhost:8080/",
     "height": 977
    },
    "colab_type": "code",
    "executionInfo": {
     "elapsed": 111689,
     "status": "ok",
     "timestamp": 1587525501551,
     "user": {
      "displayName": "Quyen Tran",
      "photoUrl": "",
      "userId": "06127584536630807118"
     },
     "user_tz": 420
    },
    "id": "Bx8bMqmP53di",
    "outputId": "26cd1156-cd37-4d59-fc17-0200ae2fa0d4"
   },
   "outputs": [
    {
     "name": "stdout",
     "output_type": "stream",
     "text": [
      "TRAINING SET\n",
      "Threshold: 0.34\n",
      "TP: 11570\n",
      "TN: 379896\n",
      "FP: 2175\n",
      "FN: 8539\n",
      "Accuracy: 0.97\n",
      "Sensitivity: 0.58\n",
      "Specificity: 0.99\n",
      "Precision: 0.84\n",
      "Recall (Detection rate): 0.58\n",
      "F1-score: 0.68\n",
      "AUC: 0.95\n",
      "FPR (False alarm rate): 0.01\n",
      "FNR: 0.42\n",
      "Kappa: 0.67\n"
     ]
    },
    {
     "data": {
      "image/png": "[encoded data removed]",
      "text/plain": [
       "<Figure size 288x216 with 1 Axes>"
      ]
     },
     "metadata": {
      "needs_background": "light",
      "tags": []
     },
     "output_type": "display_data"
    },
    {
     "name": "stdout",
     "output_type": "stream",
     "text": [
      "TEST SET\n",
      "Threshold: 0.34\n",
      "TP: 1465\n",
      "TN: 259551\n",
      "FP: 5528\n",
      "FN: 3562\n",
      "Accuracy: 0.97\n",
      "Sensitivity: 0.29\n",
      "Specificity: 0.98\n",
      "Precision: 0.21\n",
      "Recall (Detection rate): 0.29\n",
      "F1-score: 0.25\n",
      "AUC: 0.72\n",
      "FPR (False alarm rate): 0.02\n",
      "FNR: 0.71\n",
      "Kappa: 0.23\n"
     ]
    },
    {
     "data": {
      "image/png": "[encoded data removed]",
      "text/plain": [
       "<Figure size 288x216 with 1 Axes>"
      ]
     },
     "metadata": {
      "needs_background": "light",
      "tags": []
     },
     "output_type": "display_data"
    }
   ],
   "source": [
    "results_train_dt_9505_rfe, results_test_dt_9505_rfe, \\\n",
    "y_pred_prob_train_dt_9505_rfe, y_pred_prob_test_dt_9505_rfe = model_evaluation2(dt_9505_rfe, \n",
    "                                                                                X_9505_rfe, y_9505_rfe,\n",
    "                                                                                X_test.loc[:, rfe_feat], y_test,\n",
    "                                                                                print_ = 1)"
   ]
  },
  {
   "cell_type": "markdown",
   "metadata": {
    "colab_type": "text",
    "id": "BaJrlUH053dj"
   },
   "source": [
    "### Save results to dataframe"
   ]
  },
  {
   "cell_type": "code",
   "execution_count": 0,
   "metadata": {
    "colab": {},
    "colab_type": "code",
    "id": "uhSVJ8dY53dj"
   },
   "outputs": [],
   "source": [
    "dt_results_train = dt_results_train.append(results_train_dt_9505_rfe.rename(index={results_train_dt_9505_rfe.index[-1]: 'DT 95/05 Ratio with Feature Selection'}))\n",
    "dt_results_test = dt_results_test.append(results_test_dt_9505_rfe.rename(index={results_test_dt_9505_rfe.index[-1]: 'DT 95/05 Ratio with Feature Selection'}))"
   ]
  },
  {
   "cell_type": "markdown",
   "metadata": {
    "colab_type": "text",
    "id": "NKWZoc6B-H7r"
   },
   "source": [
    "# 98/02 Ratio: All features"
   ]
  },
  {
   "cell_type": "code",
   "execution_count": 0,
   "metadata": {
    "colab": {
     "base_uri": "https://localhost:8080/",
     "height": 85
    },
    "colab_type": "code",
    "executionInfo": {
     "elapsed": 111670,
     "status": "ok",
     "timestamp": 1587525501552,
     "user": {
      "displayName": "Quyen Tran",
      "photoUrl": "",
      "userId": "06127584536630807118"
     },
     "user_tz": 420
    },
    "id": "AHv3ZsQJ-H7v",
    "outputId": "db17329d-1964-4f0a-c91b-0953d6dddf9b"
   },
   "outputs": [
    {
     "data": {
      "text/plain": [
       "{'criterion': 'entropy',\n",
       " 'max_depth': 20,\n",
       " 'max_features': 'sqrt',\n",
       " 'min_samples_leaf': 1}"
      ]
     },
     "execution_count": 77,
     "metadata": {
      "tags": []
     },
     "output_type": "execute_result"
    }
   ],
   "source": [
    "grid_dt_uds.best_params_"
   ]
  },
  {
   "cell_type": "code",
   "execution_count": 0,
   "metadata": {
    "colab": {},
    "colab_type": "code",
    "id": "z_1wvYSx-H7y"
   },
   "outputs": [],
   "source": [
    "# create the model/estimator\n",
    "dt_9802 = DecisionTreeClassifier(random_state=seed,\n",
    "                                 criterion='entropy',\n",
    "                                 max_depth=20,\n",
    "                                 max_features='sqrt',\n",
    "                                 min_samples_leaf=1)"
   ]
  },
  {
   "cell_type": "code",
   "execution_count": 0,
   "metadata": {
    "colab": {
     "base_uri": "https://localhost:8080/",
     "height": 34
    },
    "colab_type": "code",
    "executionInfo": {
     "elapsed": 123788,
     "status": "ok",
     "timestamp": 1587525513689,
     "user": {
      "displayName": "Quyen Tran",
      "photoUrl": "",
      "userId": "06127584536630807118"
     },
     "user_tz": 420
    },
    "id": "ALmVE3db-H72",
    "outputId": "b088c07b-8f8f-43c3-85a6-df27710514c3"
   },
   "outputs": [
    {
     "name": "stdout",
     "output_type": "stream",
     "text": [
      "Training took:  0:00:12.396393\n"
     ]
    }
   ],
   "source": [
    "start = datetime.now()\n",
    "\n",
    "dt_9802.fit(X_all, y_all)\n",
    "\n",
    "print('Training took: ', datetime.now()-start)"
   ]
  },
  {
   "cell_type": "markdown",
   "metadata": {
    "colab_type": "text",
    "id": "i39kvP4A-H74"
   },
   "source": [
    "### Performance on training and test set"
   ]
  },
  {
   "cell_type": "code",
   "execution_count": 0,
   "metadata": {
    "colab": {
     "base_uri": "https://localhost:8080/",
     "height": 977
    },
    "colab_type": "code",
    "executionInfo": {
     "elapsed": 132222,
     "status": "ok",
     "timestamp": 1587525522139,
     "user": {
      "displayName": "Quyen Tran",
      "photoUrl": "",
      "userId": "06127584536630807118"
     },
     "user_tz": 420
    },
    "id": "IRM_RxGi-H75",
    "outputId": "4262aca5-1254-4b2e-9ed1-26394918d82e"
   },
   "outputs": [
    {
     "name": "stdout",
     "output_type": "stream",
     "text": [
      "TRAINING SET\n",
      "Threshold: 0.31\n",
      "TP: 9553\n",
      "TN: 1058692\n",
      "FP: 1623\n",
      "FN: 10556\n",
      "Accuracy: 0.99\n",
      "Sensitivity: 0.48\n",
      "Specificity: 1.0\n",
      "Precision: 0.85\n",
      "Recall (Detection rate): 0.48\n",
      "F1-score: 0.61\n",
      "AUC: 0.93\n",
      "FPR (False alarm rate): 0.0\n",
      "FNR: 0.52\n",
      "Kappa: 0.61\n"
     ]
    },
    {
     "data": {
      "image/png": "[encoded data removed]",
      "text/plain": [
       "<Figure size 288x216 with 1 Axes>"
      ]
     },
     "metadata": {
      "needs_background": "light",
      "tags": []
     },
     "output_type": "display_data"
    },
    {
     "name": "stdout",
     "output_type": "stream",
     "text": [
      "TEST SET\n",
      "Threshold: 0.31\n",
      "TP: 735\n",
      "TN: 263096\n",
      "FP: 1983\n",
      "FN: 4292\n",
      "Accuracy: 0.98\n",
      "Sensitivity: 0.15\n",
      "Specificity: 0.99\n",
      "Precision: 0.27\n",
      "Recall (Detection rate): 0.15\n",
      "F1-score: 0.19\n",
      "AUC: 0.61\n",
      "FPR (False alarm rate): 0.01\n",
      "FNR: 0.85\n",
      "Kappa: 0.18\n"
     ]
    },
    {
     "data": {
      "image/png": "[encoded data removed]",
      "text/plain": [
       "<Figure size 288x216 with 1 Axes>"
      ]
     },
     "metadata": {
      "needs_background": "light",
      "tags": []
     },
     "output_type": "display_data"
    }
   ],
   "source": [
    "results_train_dt_9802, results_test_dt_9802, \\\n",
    "y_pred_prob_train_dt_9802, y_pred_prob_test_dt_9802 = model_evaluation2(dt_9802, \n",
    "                                                                        X_all, y_all,\n",
    "                                                                        X_test, y_test,\n",
    "                                                                        print_ = 1)"
   ]
  },
  {
   "cell_type": "markdown",
   "metadata": {
    "colab_type": "text",
    "id": "l7I7Q-pb-H76"
   },
   "source": [
    "### Save results to dataframe"
   ]
  },
  {
   "cell_type": "code",
   "execution_count": 0,
   "metadata": {
    "colab": {},
    "colab_type": "code",
    "id": "G7OqiK_e-H76"
   },
   "outputs": [],
   "source": [
    "dt_results_train = dt_results_train.append(results_train_dt_9802.rename(index={results_train_dt_9802.index[-1]: 'DT 98/02 Ratio All features'}))\n",
    "dt_results_test = dt_results_test.append(results_test_dt_9802.rename(index={results_test_dt_9802.index[-1]: 'DT 98/02 Ratio All features'}))"
   ]
  },
  {
   "cell_type": "markdown",
   "metadata": {
    "colab_type": "text",
    "id": "02Y7-YhU-H77"
   },
   "source": [
    "# 98/02 Ratio: Feature selection"
   ]
  },
  {
   "cell_type": "code",
   "execution_count": 0,
   "metadata": {
    "colab": {},
    "colab_type": "code",
    "id": "jFaVZ7CY-H77"
   },
   "outputs": [],
   "source": [
    "# create the model/estimator\n",
    "dt_9802_rfe = DecisionTreeClassifier(random_state=seed,\n",
    "                                     criterion='entropy',\n",
    "                                     max_depth=20,\n",
    "                                     max_features='sqrt',\n",
    "                                     min_samples_leaf=1)"
   ]
  },
  {
   "cell_type": "markdown",
   "metadata": {
    "colab_type": "text",
    "id": "UQqGKXpi-H79"
   },
   "source": [
    "### Use the selected features for 98/02 dataset"
   ]
  },
  {
   "cell_type": "code",
   "execution_count": 0,
   "metadata": {
    "colab": {},
    "colab_type": "code",
    "id": "1zirZ3OW-H79"
   },
   "outputs": [],
   "source": [
    "X_9802_rfe, y_9802_rfe = X_all.loc[:, rfe_feat], y_all"
   ]
  },
  {
   "cell_type": "markdown",
   "metadata": {
    "colab_type": "text",
    "id": "wNUyUg8w-H7-"
   },
   "source": [
    "### Model"
   ]
  },
  {
   "cell_type": "code",
   "execution_count": 0,
   "metadata": {
    "colab": {
     "base_uri": "https://localhost:8080/",
     "height": 34
    },
    "colab_type": "code",
    "executionInfo": {
     "elapsed": 140459,
     "status": "ok",
     "timestamp": 1587525530398,
     "user": {
      "displayName": "Quyen Tran",
      "photoUrl": "",
      "userId": "06127584536630807118"
     },
     "user_tz": 420
    },
    "id": "RnH40v22-H7-",
    "outputId": "1561832c-01a9-4480-bb30-2c570a1a407d"
   },
   "outputs": [
    {
     "name": "stdout",
     "output_type": "stream",
     "text": [
      "Training took:  0:00:08.219406\n"
     ]
    }
   ],
   "source": [
    "start = datetime.now()\n",
    "\n",
    "dt_9802_rfe.fit(X_9802_rfe, y_9802_rfe)\n",
    "\n",
    "print('Training took: ', datetime.now()-start)"
   ]
  },
  {
   "cell_type": "markdown",
   "metadata": {
    "colab_type": "text",
    "id": "G9vZaHz6-H8A"
   },
   "source": [
    "### Model Performance"
   ]
  },
  {
   "cell_type": "code",
   "execution_count": 0,
   "metadata": {
    "colab": {
     "base_uri": "https://localhost:8080/",
     "height": 977
    },
    "colab_type": "code",
    "executionInfo": {
     "elapsed": 148527,
     "status": "ok",
     "timestamp": 1587525538480,
     "user": {
      "displayName": "Quyen Tran",
      "photoUrl": "",
      "userId": "06127584536630807118"
     },
     "user_tz": 420
    },
    "id": "NuWDM7oZ-H8A",
    "outputId": "3c4f0202-0c2c-4614-c264-e6765e14d766"
   },
   "outputs": [
    {
     "name": "stdout",
     "output_type": "stream",
     "text": [
      "TRAINING SET\n",
      "Threshold: 0.33\n",
      "TP: 10673\n",
      "TN: 1058657\n",
      "FP: 1658\n",
      "FN: 9436\n",
      "Accuracy: 0.99\n",
      "Sensitivity: 0.53\n",
      "Specificity: 1.0\n",
      "Precision: 0.87\n",
      "Recall (Detection rate): 0.53\n",
      "F1-score: 0.66\n",
      "AUC: 0.95\n",
      "FPR (False alarm rate): 0.0\n",
      "FNR: 0.47\n",
      "Kappa: 0.65\n"
     ]
    },
    {
     "data": {
      "image/png": "[encoded data removed]",
      "text/plain": [
       "<Figure size 288x216 with 1 Axes>"
      ]
     },
     "metadata": {
      "needs_background": "light",
      "tags": []
     },
     "output_type": "display_data"
    },
    {
     "name": "stdout",
     "output_type": "stream",
     "text": [
      "TEST SET\n",
      "Threshold: 0.33\n",
      "TP: 1223\n",
      "TN: 263319\n",
      "FP: 1760\n",
      "FN: 3804\n",
      "Accuracy: 0.98\n",
      "Sensitivity: 0.24\n",
      "Specificity: 0.99\n",
      "Precision: 0.41\n",
      "Recall (Detection rate): 0.24\n",
      "F1-score: 0.31\n",
      "AUC: 0.7\n",
      "FPR (False alarm rate): 0.01\n",
      "FNR: 0.76\n",
      "Kappa: 0.3\n"
     ]
    },
    {
     "data": {
      "image/png": "[encoded data removed]",
      "text/plain": [
       "<Figure size 288x216 with 1 Axes>"
      ]
     },
     "metadata": {
      "needs_background": "light",
      "tags": []
     },
     "output_type": "display_data"
    }
   ],
   "source": [
    "results_train_dt_9802_rfe, results_test_dt_9802_rfe, \\\n",
    "y_pred_prob_train_dt_9802_rfe, y_pred_prob_test_dt_9802_rfe = model_evaluation2(dt_9802_rfe, \n",
    "                                                                                X_9802_rfe, y_9802_rfe,\n",
    "                                                                                X_test.loc[:, rfe_feat], y_test,\n",
    "                                                                                print_ = 1)"
   ]
  },
  {
   "cell_type": "markdown",
   "metadata": {
    "colab_type": "text",
    "id": "kkwmQP_6-H8C"
   },
   "source": [
    "### Save results to dataframe"
   ]
  },
  {
   "cell_type": "code",
   "execution_count": 0,
   "metadata": {
    "colab": {},
    "colab_type": "code",
    "id": "wdRiS3Xj-H8C"
   },
   "outputs": [],
   "source": [
    "dt_results_train = dt_results_train.append(results_train_dt_9802_rfe.rename(index={results_train_dt_9802_rfe.index[-1]: 'DT 98/02 Ratio with Feature Selection'}))\n",
    "dt_results_test = dt_results_test.append(results_test_dt_9802_rfe.rename(index={results_test_dt_9802_rfe.index[-1]: 'DT 98/02 Ratio with Feature Selection'}))"
   ]
  },
  {
   "cell_type": "markdown",
   "metadata": {
    "colab_type": "text",
    "id": "ztn6Mt_5EQXB"
   },
   "source": [
    "### Save the training and test dataframes to csv files"
   ]
  },
  {
   "cell_type": "code",
   "execution_count": 0,
   "metadata": {
    "colab": {},
    "colab_type": "code",
    "id": "wjN-79F_EPE6"
   },
   "outputs": [],
   "source": [
    "dt_results_train.to_csv('DT_Train_Results.csv', index=True)\n",
    "dt_results_test.to_csv('DT_Test_Results.csv', index=True)"
   ]
  },
  {
   "cell_type": "code",
   "execution_count": null,
   "metadata": {},
   "outputs": [],
   "source": []
  }
 ],
 "metadata": {
  "accelerator": "TPU",
  "colab": {
   "collapsed_sections": [],
   "machine_shape": "hm",
   "name": "dt.ipynb",
   "provenance": [],
   "toc_visible": true
  },
  "kernelspec": {
   "display_name": "Python 3",
   "language": "python",
   "name": "python3"
  },
  "language_info": {
   "codemirror_mode": {
    "name": "ipython",
    "version": 3
   },
   "file_extension": ".py",
   "mimetype": "text/x-python",
   "name": "python",
   "nbconvert_exporter": "python",
   "pygments_lexer": "ipython3",
   "version": "3.6.8"
  }
 },
 "nbformat": 4,
 "nbformat_minor": 1
}
