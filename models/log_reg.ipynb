{
 "cells": [
  {
   "cell_type": "code",
   "execution_count": 3,
   "metadata": {
    "colab": {
     "base_uri": "https://localhost:8080/",
     "height": 139
    },
    "colab_type": "code",
    "executionInfo": {
     "elapsed": 2966,
     "status": "ok",
     "timestamp": 1588385444817,
     "user": {
      "displayName": "An Tran",
      "photoUrl": "",
      "userId": "10274312836707434279"
     },
     "user_tz": 420
    },
    "id": "g4KXhwA1C_QZ",
    "outputId": "1c64a917-8941-4298-98be-4876bfd7e2f5"
   },
   "outputs": [
    {
     "name": "stderr",
     "output_type": "stream",
     "text": [
      "/usr/local/lib/python3.6/dist-packages/statsmodels/tools/_testing.py:19: FutureWarning: pandas.util.testing is deprecated. Use the functions in the public API at pandas.testing instead.\n",
      "  import pandas.util.testing as tm\n",
      "/usr/local/lib/python3.6/dist-packages/sklearn/externals/six.py:31: FutureWarning: The module is deprecated in version 0.21 and will be removed in version 0.23 since we've dropped support for Python 2.7. Please rely on the official version of six (https://pypi.org/project/six/).\n",
      "  \"(https://pypi.org/project/six/).\", FutureWarning)\n",
      "/usr/local/lib/python3.6/dist-packages/sklearn/utils/deprecation.py:144: FutureWarning: The sklearn.neighbors.base module is  deprecated in version 0.22 and will be removed in version 0.24. The corresponding classes / functions should instead be imported from sklearn.neighbors. Anything that cannot be imported from sklearn.neighbors is now part of the private API.\n",
      "  warnings.warn(message, FutureWarning)\n"
     ]
    }
   ],
   "source": [
    "import pandas as pd\n",
    "import numpy as np\n",
    "import seaborn as sns\n",
    "\n",
    "from sklearn.linear_model import LogisticRegression\n",
    "from sklearn.model_selection import GroupKFold, StratifiedKFold, train_test_split, cross_val_score, cross_val_predict, GridSearchCV\n",
    "from sklearn.metrics import classification_report, precision_score, recall_score, accuracy_score, confusion_matrix, roc_curve, precision_recall_curve, auc, f1_score, cohen_kappa_score\n",
    "from imblearn.under_sampling import RandomUnderSampler\n",
    "from imblearn.over_sampling import RandomOverSampler\n",
    "from sklearn.preprocessing import StandardScaler, OneHotEncoder, PowerTransformer\n",
    "from sklearn.feature_selection import RFE, SelectFromModel, RFECV\n",
    "\n",
    "from IPython import display\n",
    "from datetime import datetime\n",
    "\n",
    "import matplotlib.pyplot as plt\n",
    "from matplotlib import cm\n",
    "\n",
    "from pylab import rcParams\n",
    "\n",
    "import os\n",
    "import re\n",
    "import time\n",
    "import warnings\n",
    "warnings.filterwarnings('ignore')\n",
    "\n",
    "seed = 9001\n",
    "np.random.seed(seed)"
   ]
  },
  {
   "cell_type": "markdown",
   "metadata": {
    "colab_type": "text",
    "id": "7sMQQcsvOVch"
   },
   "source": [
    "### Read in processed extracted 6 hour window data training and test set"
   ]
  },
  {
   "cell_type": "code",
   "execution_count": 4,
   "metadata": {
    "colab": {
     "base_uri": "https://localhost:8080/",
     "height": 34
    },
    "colab_type": "code",
    "executionInfo": {
     "elapsed": 39669,
     "status": "ok",
     "timestamp": 1588385481542,
     "user": {
      "displayName": "An Tran",
      "photoUrl": "",
      "userId": "10274312836707434279"
     },
     "user_tz": 420
    },
    "id": "vz5oL0UHOcQ0",
    "outputId": "537b209c-3d03-43e0-8be0-b17bfc257f38"
   },
   "outputs": [
    {
     "name": "stdout",
     "output_type": "stream",
     "text": [
      "/content/drive/My Drive/sepsis\n"
     ]
    }
   ],
   "source": [
    "# training set\n",
    "X_all = pd.read_csv('6hour_Xtrain.csv')\n",
    "y_all = pd.read_csv('6hour_ytrain.csv')\n",
    "\n",
    "# test set\n",
    "X_test = pd.read_csv('6hour_Xtest.csv')\n",
    "y_test = pd.read_csv('6hour_ytest.csv')"
   ]
  },
  {
   "cell_type": "code",
   "execution_count": 5,
   "metadata": {
    "colab": {
     "base_uri": "https://localhost:8080/",
     "height": 51
    },
    "colab_type": "code",
    "executionInfo": {
     "elapsed": 39646,
     "status": "ok",
     "timestamp": 1588385481542,
     "user": {
      "displayName": "An Tran",
      "photoUrl": "",
      "userId": "10274312836707434279"
     },
     "user_tz": 420
    },
    "id": "VRKdzHMvPaYC",
    "outputId": "57455525-8119-4b75-90cd-e5df87a7fbe8"
   },
   "outputs": [
    {
     "name": "stdout",
     "output_type": "stream",
     "text": [
      "(1080424, 64)\n",
      "(270106, 64)\n"
     ]
    }
   ],
   "source": [
    "print(X_all.shape)\n",
    "print(X_test.shape)"
   ]
  },
  {
   "cell_type": "markdown",
   "metadata": {
    "colab_type": "text",
    "id": "SK8kRQTl_W3I"
   },
   "source": [
    "### Define threshold that gives best F1-score"
   ]
  },
  {
   "cell_type": "code",
   "execution_count": 0,
   "metadata": {
    "colab": {},
    "colab_type": "code",
    "id": "xZzoxztr--D4"
   },
   "outputs": [],
   "source": [
    "def performance2(y, y_pred, print_ = 1, *args):   \n",
    "    \"\"\" Calculate performance measures for a given ground truth classification y and predicted \n",
    "    probabilities y_pred. If *args is provided a pre-defined threshold is used to calculate the performance.\n",
    "    If not, the threshold giving the best mean sensitivity and specificity is selected. The AUC is calculated\n",
    "    for a range of thresholds using the metrics package from sklearn. \"\"\"\n",
    "\n",
    "    # xx and yy values for ROC curve\n",
    "    fpr, tpr, thresholds = roc_curve(y, y_pred, pos_label=1)\n",
    "    # area under the ROC curve\n",
    "    AUC = auc(fpr, tpr)\n",
    "\n",
    "    # xx and yy values for AUPR\n",
    "    precision, recall, thresholds = precision_recall_curve(y, y_pred, pos_label=1)\n",
    "    # convert to f1-score\n",
    "    fscore = (2*precision*recall) / (precision+recall)\n",
    "    fscore[np.isnan(fscore)] = 0\n",
    "\n",
    "    # if a threshold is specified, use it\n",
    "    if args:\n",
    "        threshold = args[0]\n",
    "    else:\n",
    "    # if a threshold is not specified, we will choose the threshold that gives the best f1-score\n",
    "        ix = np.argmax(fscore)\n",
    "        threshold = thresholds[ix]        \n",
    "        \n",
    "    # transform the predicted probability into a binary classification\n",
    "    y_pred[y_pred >= threshold] = 1\n",
    "    y_pred[y_pred < threshold] = 0\n",
    "    \n",
    "    tn, fp, fn, tp = confusion_matrix(y, y_pred).ravel()\n",
    "        \n",
    "    # basic accuracy\n",
    "    accuracy = (tp + tn) / (tp + tn + fp + fn)\n",
    "    \n",
    "    # for auc\n",
    "    sensitivity = tp/(tp+fn)\n",
    "    specificity = tn/(tn+fp)\n",
    "    \n",
    "    # for f1-score\n",
    "    precision1 = tp/(tp+fp)\n",
    "    recall1 = sensitivity # detection rate\n",
    "    \n",
    "    # for false alarm rate\n",
    "    fpr2 = fp/(fp+tn) # distinguish with false positive rate from calculating AUC\n",
    "    fnr = fn/(fn+tp)\n",
    "    \n",
    "    # f1-score\n",
    "    f1 = max(fscore)\n",
    "\n",
    "    # kappa score\n",
    "    kappa = cohen_kappa_score(y, y_pred)\n",
    "\n",
    "    \n",
    "    # print the performance and plot the ROC curve    \n",
    "    if print_ == 1:\n",
    "        print('Threshold: ' + str(round(threshold, 2)))\n",
    "        print('TP: ' + str(tp))\n",
    "        print('TN: ' + str(tn))\n",
    "        print('FP: ' + str(fp))\n",
    "        print('FN: ' + str(fn))\n",
    "        \n",
    "        print(\"Accuracy: \" + str(round(accuracy, 2)))\n",
    "        print('Sensitivity: ' + str(round(sensitivity, 2)))\n",
    "        print('Specificity: ' + str(round(specificity, 2)))\n",
    "        print('Precision: ' + str(round(precision1, 2)))\n",
    "        print('Recall (Detection rate): ' + str(round(recall1, 2)))\n",
    "        print('F1-score: ' + str(round(f1, 2)))\n",
    "        print('AUC: ' + str(round(AUC, 2)))\n",
    "        print('FPR (False alarm rate): ' + str(round(fpr2, 2)))\n",
    "        print('FNR: ' + str(round(fnr, 2)))\n",
    "        print('Kappa: ' + str(round(kappa, 2)))\n",
    "    \n",
    "        plt.figure(figsize = (4,3))\n",
    "        plt.scatter(x = fpr, y = tpr, label = None)\n",
    "        plt.plot(fpr, tpr, label = 'Classifier', zorder = 1)\n",
    "        plt.plot([0, 1], [0, 1], 'k--', label = 'Random classifier')\n",
    "        plt.scatter(x = 1 - specificity, y = sensitivity, c = 'black', label = 'Operating point', zorder = 2)\n",
    "        plt.legend()\n",
    "        plt.xlabel('1 - specificity')\n",
    "        plt.ylabel('sensitivity')\n",
    "        plt.show()\n",
    "        \n",
    "\n",
    "    return threshold, accuracy, sensitivity, specificity, AUC, precision1, recall1, f1, fpr2, fnr, kappa"
   ]
  },
  {
   "cell_type": "markdown",
   "metadata": {
    "colab_type": "text",
    "id": "qCkKP9_oEZ_B"
   },
   "source": [
    "### Create function to evaluate model performance on training and test set maximizing F1-score"
   ]
  },
  {
   "cell_type": "code",
   "execution_count": 0,
   "metadata": {
    "colab": {},
    "colab_type": "code",
    "id": "-5c6O_DwEkQz"
   },
   "outputs": [],
   "source": [
    "def model_evaluation2(model, X_train, y_train, X_test, y_test, print_):\n",
    "    \n",
    "    # tune - parameter estimation \n",
    "    print('TRAINING SET')\n",
    "    y_pred_prob_train = model.predict_proba(X_train)\n",
    "    threshold, accuracy_tr, sensitivity_tr, specificity_tr, AUC_tr, precision_tr, \\\n",
    "    recall_tr, f1_tr, fpr_tr, fnr_tr, kappa_tr = performance2(y_train, np.delete(y_pred_prob_train, 0, 1), print_) # retain the probabilities of positive class only\n",
    "\n",
    "    # test\n",
    "    print('TEST SET')\n",
    "    y_pred_prob_test = model.predict_proba(X_test)\n",
    "    _, accuracy_test, sensitivity_test, specificity_test, AUC_test, precision_test, \\\n",
    "     recall_test, f1_test, fpr_test, fnr_test, kappa_test = performance2(y_test, np.delete(y_pred_prob_test, 0, 1), print_, threshold)\n",
    "    \n",
    "    # save the results\n",
    "    results_train = pd.DataFrame(data = [[threshold, accuracy_tr, sensitivity_tr, specificity_tr, AUC_tr,\n",
    "                                          precision_tr, recall_tr, f1_tr, fpr_tr, fnr_tr, kappa_tr, X_train.shape[1]]],\n",
    "                                 columns = ['Threshold','Accuracy', 'Sensitivity', 'Specificity', 'AUROC',\n",
    "                                            'Precision', 'Recall', 'F1', 'FPR (False Alarm)', 'FNR', 'Kappa', '# features'])\n",
    "\n",
    "    results_test = pd.DataFrame(data = [[threshold, accuracy_test, sensitivity_test, specificity_test, AUC_test,\n",
    "                                          precision_test, recall_test, f1_test, fpr_test, fnr_test, kappa_test, X_train.shape[1]]],\n",
    "                                columns = ['Threshold','Accuracy', 'Sensitivity', 'Specificity', 'AUROC',\n",
    "                                           'Precision', 'Recall', 'F1', 'FPR (False Alarm)', 'FNR', 'Kappa', '# features'])\n",
    "        \n",
    "    return results_train, results_test, y_pred_prob_train, y_pred_prob_test"
   ]
  },
  {
   "cell_type": "markdown",
   "metadata": {
    "colab_type": "text",
    "id": "96UA2samGp-a"
   },
   "source": [
    "### Create a stratified cv (to preserve class distribution during Cross-validation)"
   ]
  },
  {
   "cell_type": "code",
   "execution_count": 0,
   "metadata": {
    "colab": {},
    "colab_type": "code",
    "id": "ckOpYUfHGp-a"
   },
   "outputs": [],
   "source": [
    "kfold = StratifiedKFold(n_splits=10, shuffle=True)"
   ]
  },
  {
   "cell_type": "markdown",
   "metadata": {
    "colab_type": "text",
    "id": "Tt-ZiBcgkmvn"
   },
   "source": [
    "# 50/50 Ratio"
   ]
  },
  {
   "cell_type": "markdown",
   "metadata": {
    "colab_type": "text",
    "id": "H4tNw5PSYHZQ"
   },
   "source": [
    "### Create balanced data using Random Oversampling"
   ]
  },
  {
   "cell_type": "code",
   "execution_count": 0,
   "metadata": {
    "colab": {},
    "colab_type": "code",
    "id": "t6698p-lYjY5"
   },
   "outputs": [],
   "source": [
    "ros = RandomOverSampler(sampling_strategy='minority', random_state=seed)"
   ]
  },
  {
   "cell_type": "code",
   "execution_count": 0,
   "metadata": {
    "colab": {},
    "colab_type": "code",
    "id": "bxVB4x7cYv6s"
   },
   "outputs": [],
   "source": [
    "X_ovs, y_ovs = ros.fit_resample(X_all, y_all)"
   ]
  },
  {
   "cell_type": "code",
   "execution_count": 11,
   "metadata": {
    "colab": {
     "base_uri": "https://localhost:8080/",
     "height": 51
    },
    "colab_type": "code",
    "executionInfo": {
     "elapsed": 39608,
     "status": "ok",
     "timestamp": 1588385481545,
     "user": {
      "displayName": "An Tran",
      "photoUrl": "",
      "userId": "10274312836707434279"
     },
     "user_tz": 420
    },
    "id": "dd-isEMykDEw",
    "outputId": "61b35c31-cf08-4855-ab1f-1bd351dc703a"
   },
   "outputs": [
    {
     "name": "stdout",
     "output_type": "stream",
     "text": [
      "Sepsis patterns after Random Over-sampling: 1060315\n",
      "Non-sepsis patterns after Random Over-sampling: 1060315\n"
     ]
    }
   ],
   "source": [
    "print('Sepsis patterns after Random Over-sampling:', np.count_nonzero(y_ovs == 1))\n",
    "print('Non-sepsis patterns after Random Over-sampling:', np.count_nonzero(y_ovs == 0))"
   ]
  },
  {
   "cell_type": "markdown",
   "metadata": {
    "colab_type": "text",
    "id": "40QNcNL8cLUw"
   },
   "source": [
    "### Create balanced data using Random Undersampling"
   ]
  },
  {
   "cell_type": "code",
   "execution_count": 0,
   "metadata": {
    "colab": {},
    "colab_type": "code",
    "id": "oU-c5QdkcKc9"
   },
   "outputs": [],
   "source": [
    "rus = RandomUnderSampler(sampling_strategy='majority', random_state=seed)"
   ]
  },
  {
   "cell_type": "code",
   "execution_count": 0,
   "metadata": {
    "colab": {},
    "colab_type": "code",
    "id": "dAYM0mYUcnPL"
   },
   "outputs": [],
   "source": [
    "X_uds, y_uds = rus.fit_resample(X_all, y_all)"
   ]
  },
  {
   "cell_type": "code",
   "execution_count": 14,
   "metadata": {
    "colab": {
     "base_uri": "https://localhost:8080/",
     "height": 51
    },
    "colab_type": "code",
    "executionInfo": {
     "elapsed": 39576,
     "status": "ok",
     "timestamp": 1588385481547,
     "user": {
      "displayName": "An Tran",
      "photoUrl": "",
      "userId": "10274312836707434279"
     },
     "user_tz": 420
    },
    "id": "0L2z9k0hkRLc",
    "outputId": "f3e4b0da-2a1b-4292-c6af-b409663e191a"
   },
   "outputs": [
    {
     "name": "stdout",
     "output_type": "stream",
     "text": [
      "Sepsis patterns after Random Under-sampling: 20109\n",
      "Non-sepsis patterns after Random Under-sampling: 20109\n"
     ]
    }
   ],
   "source": [
    "print('Sepsis patterns after Random Under-sampling:', np.count_nonzero(y_uds == 1))\n",
    "print('Non-sepsis patterns after Random Under-sampling:', np.count_nonzero(y_uds == 0))"
   ]
  },
  {
   "cell_type": "markdown",
   "metadata": {
    "colab_type": "text",
    "id": "qanMzAz-kspP"
   },
   "source": [
    "# 80/20 Ratio"
   ]
  },
  {
   "cell_type": "code",
   "execution_count": 0,
   "metadata": {
    "colab": {},
    "colab_type": "code",
    "id": "BldxOZ7ykvHn"
   },
   "outputs": [],
   "source": [
    "ratio8020 = RandomUnderSampler(sampling_strategy=1/4, random_state=seed)"
   ]
  },
  {
   "cell_type": "code",
   "execution_count": 0,
   "metadata": {
    "colab": {},
    "colab_type": "code",
    "id": "EhmDV1Xenc3s"
   },
   "outputs": [],
   "source": [
    "X_8020, y_8020 = ratio8020.fit_resample(X_all, y_all)"
   ]
  },
  {
   "cell_type": "code",
   "execution_count": 17,
   "metadata": {
    "colab": {
     "base_uri": "https://localhost:8080/",
     "height": 51
    },
    "colab_type": "code",
    "executionInfo": {
     "elapsed": 39545,
     "status": "ok",
     "timestamp": 1588385481548,
     "user": {
      "displayName": "An Tran",
      "photoUrl": "",
      "userId": "10274312836707434279"
     },
     "user_tz": 420
    },
    "id": "8ZO8t8Mdni2Q",
    "outputId": "a967f3c1-d2a0-43f0-f810-288536137212"
   },
   "outputs": [
    {
     "name": "stdout",
     "output_type": "stream",
     "text": [
      "Sepsis patterns for 80/20 ratio: 20109\n",
      "Non-sepsis patterns for 80/20 ratio: 80436\n"
     ]
    }
   ],
   "source": [
    "print('Sepsis patterns for 80/20 ratio:', np.count_nonzero(y_8020 == 1))\n",
    "print('Non-sepsis patterns for 80/20 ratio:', np.count_nonzero(y_8020 == 0))"
   ]
  },
  {
   "cell_type": "markdown",
   "metadata": {
    "colab_type": "text",
    "id": "eWOeKii7n8Ux"
   },
   "source": [
    "# 90/10 Ratio"
   ]
  },
  {
   "cell_type": "code",
   "execution_count": 0,
   "metadata": {
    "colab": {},
    "colab_type": "code",
    "id": "zIiIP8I8n_mh"
   },
   "outputs": [],
   "source": [
    "ratio9010 = RandomUnderSampler(sampling_strategy=1/9, random_state=seed)"
   ]
  },
  {
   "cell_type": "code",
   "execution_count": 0,
   "metadata": {
    "colab": {},
    "colab_type": "code",
    "id": "70J9T4jWoE-I"
   },
   "outputs": [],
   "source": [
    "X_9010, y_9010 = ratio9010.fit_resample(X_all, y_all)"
   ]
  },
  {
   "cell_type": "code",
   "execution_count": 20,
   "metadata": {
    "colab": {
     "base_uri": "https://localhost:8080/",
     "height": 51
    },
    "colab_type": "code",
    "executionInfo": {
     "elapsed": 39514,
     "status": "ok",
     "timestamp": 1588385481550,
     "user": {
      "displayName": "An Tran",
      "photoUrl": "",
      "userId": "10274312836707434279"
     },
     "user_tz": 420
    },
    "id": "5JcGEeLeoMxg",
    "outputId": "a54ce10d-b125-412e-a3f6-ae93148a7d04"
   },
   "outputs": [
    {
     "name": "stdout",
     "output_type": "stream",
     "text": [
      "Sepsis patterns for 90/10 ratio: 20109\n",
      "Non-sepsis patterns for 90/10 ratio: 180981\n"
     ]
    }
   ],
   "source": [
    "print('Sepsis patterns for 90/10 ratio:', np.count_nonzero(y_9010 == 1))\n",
    "print('Non-sepsis patterns for 90/10 ratio:', np.count_nonzero(y_9010 == 0))"
   ]
  },
  {
   "cell_type": "markdown",
   "metadata": {
    "colab_type": "text",
    "id": "O8dnFhEgobxz"
   },
   "source": [
    "# 95/5 Ratio"
   ]
  },
  {
   "cell_type": "code",
   "execution_count": 0,
   "metadata": {
    "colab": {},
    "colab_type": "code",
    "id": "5KEo37IdosKR"
   },
   "outputs": [],
   "source": [
    "ratio9505 = RandomUnderSampler(sampling_strategy=5/95, random_state=seed)"
   ]
  },
  {
   "cell_type": "code",
   "execution_count": 0,
   "metadata": {
    "colab": {},
    "colab_type": "code",
    "id": "FT1mjcRRosHu"
   },
   "outputs": [],
   "source": [
    "X_9505, y_9505 = ratio9505.fit_resample(X_all, y_all)"
   ]
  },
  {
   "cell_type": "code",
   "execution_count": 23,
   "metadata": {
    "colab": {
     "base_uri": "https://localhost:8080/",
     "height": 51
    },
    "colab_type": "code",
    "executionInfo": {
     "elapsed": 39481,
     "status": "ok",
     "timestamp": 1588385481551,
     "user": {
      "displayName": "An Tran",
      "photoUrl": "",
      "userId": "10274312836707434279"
     },
     "user_tz": 420
    },
    "id": "Ti3oizsqosFF",
    "outputId": "bc8d2d3d-96e8-48ca-8da8-f468e0837299"
   },
   "outputs": [
    {
     "name": "stdout",
     "output_type": "stream",
     "text": [
      "Sepsis patterns for 95/05 ratio: 20109\n",
      "Non-sepsis patterns for 95/05 ratio: 382071\n"
     ]
    }
   ],
   "source": [
    "print('Sepsis patterns for 95/05 ratio:', np.count_nonzero(y_9505 == 1))\n",
    "print('Non-sepsis patterns for 95/05 ratio:', np.count_nonzero(y_9505 == 0))"
   ]
  },
  {
   "cell_type": "markdown",
   "metadata": {
    "colab_type": "text",
    "id": "faoyxujopCs3"
   },
   "source": [
    "# 98/02: original dataset"
   ]
  },
  {
   "cell_type": "code",
   "execution_count": 24,
   "metadata": {
    "colab": {
     "base_uri": "https://localhost:8080/",
     "height": 51
    },
    "colab_type": "code",
    "executionInfo": {
     "elapsed": 39442,
     "status": "ok",
     "timestamp": 1588385481551,
     "user": {
      "displayName": "An Tran",
      "photoUrl": "",
      "userId": "10274312836707434279"
     },
     "user_tz": 420
    },
    "id": "X9T_pXBRpFx6",
    "outputId": "3f880be5-bdf1-4d75-c19c-1c21c32f472b"
   },
   "outputs": [
    {
     "name": "stdout",
     "output_type": "stream",
     "text": [
      "Sepsis patterns for original ratio: 20109\n",
      "Non-sepsis patterns for original ratio: 1060315\n"
     ]
    }
   ],
   "source": [
    "print('Sepsis patterns for original ratio:', np.count_nonzero(y_all == 1))\n",
    "print('Non-sepsis patterns for original ratio:', np.count_nonzero(y_all == 0))"
   ]
  },
  {
   "cell_type": "markdown",
   "metadata": {
    "colab_type": "text",
    "id": "aOF9WON83sAM"
   },
   "source": [
    "# 1. Logistic Regression"
   ]
  },
  {
   "cell_type": "markdown",
   "metadata": {
    "colab_type": "text",
    "id": "-nBnqHMVDnnH"
   },
   "source": [
    "## 50/50 Ratio"
   ]
  },
  {
   "cell_type": "markdown",
   "metadata": {
    "colab_type": "text",
    "id": "_ZWinLADj7UF"
   },
   "source": [
    "### Random Over-sampling with all variables"
   ]
  },
  {
   "cell_type": "code",
   "execution_count": 0,
   "metadata": {
    "colab": {},
    "colab_type": "code",
    "id": "rhJwBbdUj9vQ"
   },
   "outputs": [],
   "source": [
    "lr_ovs = LogisticRegression(solver='lbfgs', random_state=seed, max_iter=1000)"
   ]
  },
  {
   "cell_type": "code",
   "execution_count": 26,
   "metadata": {
    "colab": {
     "base_uri": "https://localhost:8080/",
     "height": 34
    },
    "colab_type": "code",
    "executionInfo": {
     "elapsed": 54105,
     "status": "ok",
     "timestamp": 1588385496243,
     "user": {
      "displayName": "An Tran",
      "photoUrl": "",
      "userId": "10274312836707434279"
     },
     "user_tz": 420
    },
    "id": "aIpQs5W-kCDK",
    "outputId": "fe5023c1-38bf-44e3-8fb7-7de4d6a3869d"
   },
   "outputs": [
    {
     "name": "stdout",
     "output_type": "stream",
     "text": [
      "Training took:  0:00:22.624947\n"
     ]
    }
   ],
   "source": [
    "start = datetime.now()\n",
    "\n",
    "lr_ovs.fit(X_ovs, y_ovs)\n",
    "\n",
    "print('Training took: ', datetime.now()-start)"
   ]
  },
  {
   "cell_type": "markdown",
   "metadata": {
    "colab_type": "text",
    "id": "kVbdvGTrqPLq"
   },
   "source": [
    "### Performance on training and test sets"
   ]
  },
  {
   "cell_type": "code",
   "execution_count": 27,
   "metadata": {
    "colab": {
     "base_uri": "https://localhost:8080/",
     "height": 977
    },
    "colab_type": "code",
    "executionInfo": {
     "elapsed": 69506,
     "status": "ok",
     "timestamp": 1588385511665,
     "user": {
      "displayName": "An Tran",
      "photoUrl": "",
      "userId": "10274312836707434279"
     },
     "user_tz": 420
    },
    "id": "LlEoNDDkkB7o",
    "outputId": "f7370090-5695-4590-ec07-badcf5a78ba4"
   },
   "outputs": [
    {
     "name": "stdout",
     "output_type": "stream",
     "text": [
      "TRAINING SET\n",
      "Threshold: 0.36\n",
      "TP: 934692\n",
      "TN: 300624\n",
      "FP: 759691\n",
      "FN: 125623\n",
      "Accuracy: 0.58\n",
      "Sensitivity: 0.88\n",
      "Specificity: 0.28\n",
      "Precision: 0.55\n",
      "Recall (Detection rate): 0.88\n",
      "F1-score: 0.68\n",
      "AUC: 0.68\n",
      "FPR (False alarm rate): 0.72\n",
      "FNR: 0.12\n",
      "Kappa: 0.17\n"
     ]
    },
    {
     "data": {
      "image/png": "[encoded data removed]",
      "text/plain": [
       "<Figure size 288x216 with 1 Axes>"
      ]
     },
     "metadata": {
      "needs_background": "light",
      "tags": []
     },
     "output_type": "display_data"
    },
    {
     "name": "stdout",
     "output_type": "stream",
     "text": [
      "TEST SET\n",
      "Threshold: 0.36\n",
      "TP: 4382\n",
      "TN: 74714\n",
      "FP: 190365\n",
      "FN: 645\n",
      "Accuracy: 0.29\n",
      "Sensitivity: 0.87\n",
      "Specificity: 0.28\n",
      "Precision: 0.02\n",
      "Recall (Detection rate): 0.87\n",
      "F1-score: 0.09\n",
      "AUC: 0.67\n",
      "FPR (False alarm rate): 0.72\n",
      "FNR: 0.13\n",
      "Kappa: 0.01\n"
     ]
    },
    {
     "data": {
      "image/png": "[encoded data removed]",
      "text/plain": [
       "<Figure size 288x216 with 1 Axes>"
      ]
     },
     "metadata": {
      "needs_background": "light",
      "tags": []
     },
     "output_type": "display_data"
    }
   ],
   "source": [
    "results_train_lr_ovs_all, results_test_lr_ovs_all, \\\n",
    "y_pred_prob_train_lr_ovs, y_pred_prob_test_lr_ovs = model_evaluation2(lr_ovs, \n",
    "                                                                      X_ovs, y_ovs,\n",
    "                                                                      X_test, y_test,\n",
    "                                                                      print_ = 1)"
   ]
  },
  {
   "cell_type": "markdown",
   "metadata": {
    "colab_type": "text",
    "id": "_1nxV58Jv-vZ"
   },
   "source": [
    "### Save results to dataframe"
   ]
  },
  {
   "cell_type": "code",
   "execution_count": 0,
   "metadata": {
    "colab": {},
    "colab_type": "code",
    "id": "E1VOAkbwXclL"
   },
   "outputs": [],
   "source": [
    "lr_results_train = pd.DataFrame()\n",
    "lr_results_test = pd.DataFrame()"
   ]
  },
  {
   "cell_type": "code",
   "execution_count": 0,
   "metadata": {
    "colab": {},
    "colab_type": "code",
    "id": "jGMGsUtPwCpq"
   },
   "outputs": [],
   "source": [
    "lr_results_train = lr_results_train.append(results_train_lr_ovs_all.rename(index={results_train_lr_ovs_all.index[-1]: 'LR Over-sampling All features'}))\n",
    "lr_results_test = lr_results_test.append(results_test_lr_ovs_all.rename(index={results_test_lr_ovs_all.index[-1]: 'LR Over-sampling All features'}))"
   ]
  },
  {
   "cell_type": "markdown",
   "metadata": {
    "colab_type": "text",
    "id": "cB7ff4AFwilA"
   },
   "source": [
    "### Random Under-sampling with all variables"
   ]
  },
  {
   "cell_type": "code",
   "execution_count": 0,
   "metadata": {
    "colab": {},
    "colab_type": "code",
    "id": "6OTxBLRlwkvZ"
   },
   "outputs": [],
   "source": [
    "lr_uds = LogisticRegression(solver='lbfgs', random_state=seed, max_iter=1000)"
   ]
  },
  {
   "cell_type": "code",
   "execution_count": 31,
   "metadata": {
    "colab": {
     "base_uri": "https://localhost:8080/",
     "height": 34
    },
    "colab_type": "code",
    "executionInfo": {
     "elapsed": 70347,
     "status": "ok",
     "timestamp": 1588385512537,
     "user": {
      "displayName": "An Tran",
      "photoUrl": "",
      "userId": "10274312836707434279"
     },
     "user_tz": 420
    },
    "id": "dWNabtk0wks_",
    "outputId": "deddaf4b-7d58-4cf5-e6c0-87474c6847ac"
   },
   "outputs": [
    {
     "name": "stdout",
     "output_type": "stream",
     "text": [
      "Training took:  0:00:00.663937\n"
     ]
    }
   ],
   "source": [
    "start = datetime.now()\n",
    "\n",
    "lr_uds.fit(X_uds, y_uds)\n",
    "\n",
    "print('Training took: ', datetime.now()-start)"
   ]
  },
  {
   "cell_type": "markdown",
   "metadata": {
    "colab_type": "text",
    "id": "P07o9jjzwu9E"
   },
   "source": [
    "### Performance on training and test set"
   ]
  },
  {
   "cell_type": "code",
   "execution_count": 32,
   "metadata": {
    "colab": {
     "base_uri": "https://localhost:8080/",
     "height": 977
    },
    "colab_type": "code",
    "executionInfo": {
     "elapsed": 72952,
     "status": "ok",
     "timestamp": 1588385515164,
     "user": {
      "displayName": "An Tran",
      "photoUrl": "",
      "userId": "10274312836707434279"
     },
     "user_tz": 420
    },
    "id": "DfU19dbOwkqh",
    "outputId": "6a3ae569-8528-4e4d-f9e3-1de338ebe2f8"
   },
   "outputs": [
    {
     "name": "stdout",
     "output_type": "stream",
     "text": [
      "TRAINING SET\n",
      "Threshold: 0.35\n",
      "TP: 17891\n",
      "TN: 5365\n",
      "FP: 14744\n",
      "FN: 2218\n",
      "Accuracy: 0.58\n",
      "Sensitivity: 0.89\n",
      "Specificity: 0.27\n",
      "Precision: 0.55\n",
      "Recall (Detection rate): 0.89\n",
      "F1-score: 0.68\n",
      "AUC: 0.68\n",
      "FPR (False alarm rate): 0.73\n",
      "FNR: 0.11\n",
      "Kappa: 0.16\n"
     ]
    },
    {
     "data": {
      "image/png": "[encoded data removed]",
      "text/plain": [
       "<Figure size 288x216 with 1 Axes>"
      ]
     },
     "metadata": {
      "needs_background": "light",
      "tags": []
     },
     "output_type": "display_data"
    },
    {
     "name": "stdout",
     "output_type": "stream",
     "text": [
      "TEST SET\n",
      "Threshold: 0.35\n",
      "TP: 4435\n",
      "TN: 70008\n",
      "FP: 195071\n",
      "FN: 592\n",
      "Accuracy: 0.28\n",
      "Sensitivity: 0.88\n",
      "Specificity: 0.26\n",
      "Precision: 0.02\n",
      "Recall (Detection rate): 0.88\n",
      "F1-score: 0.1\n",
      "AUC: 0.67\n",
      "FPR (False alarm rate): 0.74\n",
      "FNR: 0.12\n",
      "Kappa: 0.01\n"
     ]
    },
    {
     "data": {
      "image/png": "[encoded data removed]",
      "text/plain": [
       "<Figure size 288x216 with 1 Axes>"
      ]
     },
     "metadata": {
      "needs_background": "light",
      "tags": []
     },
     "output_type": "display_data"
    }
   ],
   "source": [
    "results_train_lr_uds_all, results_test_lr_uds_all, \\\n",
    "y_pred_prob_train_lr_uds, y_pred_prob_test_lr_uds = model_evaluation2(lr_uds, \n",
    "                                                                      X_uds, y_uds,\n",
    "                                                                      X_test, y_test,\n",
    "                                                                      print_ = 1)"
   ]
  },
  {
   "cell_type": "markdown",
   "metadata": {
    "colab_type": "text",
    "id": "cT_u7d2vw_eH"
   },
   "source": [
    "### Save results to dataframe"
   ]
  },
  {
   "cell_type": "code",
   "execution_count": 0,
   "metadata": {
    "colab": {},
    "colab_type": "code",
    "id": "ltn-ElQYwkn4"
   },
   "outputs": [],
   "source": [
    "lr_results_train = lr_results_train.append(results_train_lr_uds_all.rename(index={results_train_lr_uds_all.index[-1]: 'LR Under-sampling All features'}))\n",
    "lr_results_test = lr_results_test.append(results_test_lr_uds_all.rename(index={results_test_lr_uds_all.index[-1]: 'LR Under-sampling All features'}))"
   ]
  },
  {
   "cell_type": "markdown",
   "metadata": {
    "colab_type": "text",
    "id": "FHJWsGC1L4cR"
   },
   "source": [
    "### Random Under-sampling with Recursive Feature Elimination (RFE) for feature selection"
   ]
  },
  {
   "cell_type": "code",
   "execution_count": 0,
   "metadata": {
    "colab": {},
    "colab_type": "code",
    "id": "tuLiVkXsMDMG"
   },
   "outputs": [],
   "source": [
    "lr_uds = LogisticRegression(solver='lbfgs', max_iter=1000)"
   ]
  },
  {
   "cell_type": "code",
   "execution_count": 0,
   "metadata": {
    "colab": {},
    "colab_type": "code",
    "id": "DYYAC1NeL4F8"
   },
   "outputs": [],
   "source": [
    "lr_uds_cv = RFECV(estimator=lr_uds, step=1, cv=kfold, scoring='f1', n_jobs=-1)"
   ]
  },
  {
   "cell_type": "code",
   "execution_count": 36,
   "metadata": {
    "colab": {
     "base_uri": "https://localhost:8080/",
     "height": 34
    },
    "colab_type": "code",
    "executionInfo": {
     "elapsed": 108685,
     "status": "ok",
     "timestamp": 1588385550928,
     "user": {
      "displayName": "An Tran",
      "photoUrl": "",
      "userId": "10274312836707434279"
     },
     "user_tz": 420
    },
    "id": "39_HkZd7wklR",
    "outputId": "c05eb448-58a4-461a-dbe6-cac92506cfb1"
   },
   "outputs": [
    {
     "name": "stdout",
     "output_type": "stream",
     "text": [
      "Training took:  0:00:35.781825\n"
     ]
    }
   ],
   "source": [
    "start = datetime.now()\n",
    "\n",
    "lr_uds_cv.fit(X_uds, y_uds)\n",
    "\n",
    "print('Training took: ', datetime.now()-start)"
   ]
  },
  {
   "cell_type": "markdown",
   "metadata": {
    "colab_type": "text",
    "id": "W4gzbdS1MuNX"
   },
   "source": [
    "### Optimal Number of features"
   ]
  },
  {
   "cell_type": "code",
   "execution_count": 37,
   "metadata": {
    "colab": {
     "base_uri": "https://localhost:8080/",
     "height": 34
    },
    "colab_type": "code",
    "executionInfo": {
     "elapsed": 108664,
     "status": "ok",
     "timestamp": 1588385550929,
     "user": {
      "displayName": "An Tran",
      "photoUrl": "",
      "userId": "10274312836707434279"
     },
     "user_tz": 420
    },
    "id": "Xd9hDEVoMtUH",
    "outputId": "2b391bb0-2ed1-4713-e97b-97be921334f6"
   },
   "outputs": [
    {
     "name": "stdout",
     "output_type": "stream",
     "text": [
      "Optimal number of features: 53\n"
     ]
    }
   ],
   "source": [
    "print('Optimal number of features: {}'.format(lr_uds_cv.n_features_))"
   ]
  },
  {
   "cell_type": "markdown",
   "metadata": {
    "colab_type": "text",
    "id": "LoTkrbtPM2ot"
   },
   "source": [
    "### Plot the optimal number of features against F1-score"
   ]
  },
  {
   "cell_type": "code",
   "execution_count": 38,
   "metadata": {
    "colab": {
     "base_uri": "https://localhost:8080/",
     "height": 622
    },
    "colab_type": "code",
    "executionInfo": {
     "elapsed": 108853,
     "status": "ok",
     "timestamp": 1588385551137,
     "user": {
      "displayName": "An Tran",
      "photoUrl": "",
      "userId": "10274312836707434279"
     },
     "user_tz": 420
    },
    "id": "0Cq_N9fIM6VK",
    "outputId": "8d2fb7ad-176c-4c3c-dbc2-5f26f85fd6ea"
   },
   "outputs": [
    {
     "data": {
      "text/plain": [
       "[<matplotlib.lines.Line2D at 0x7f0a15626278>]"
      ]
     },
     "execution_count": 38,
     "metadata": {
      "tags": []
     },
     "output_type": "execute_result"
    },
    {
     "data": {
      "image/png": "[encoded data removed]",
      "text/plain": [
       "<Figure size 1152x648 with 1 Axes>"
      ]
     },
     "metadata": {
      "needs_background": "light",
      "tags": []
     },
     "output_type": "display_data"
    }
   ],
   "source": [
    "plt.figure(figsize=(16, 9))\n",
    "plt.title('Recursive Feature Elimination with Cross-Validation', fontsize=18, fontweight='bold', pad=20)\n",
    "plt.xlabel('Number of features selected', fontsize=14, labelpad=20)\n",
    "plt.ylabel('F1-Score', fontsize=14, labelpad=20)\n",
    "plt.plot(range(1, len(lr_uds_cv.grid_scores_) + 1), lr_uds_cv.grid_scores_, color='#303F9F', linewidth=3)"
   ]
  },
  {
   "cell_type": "markdown",
   "metadata": {
    "colab_type": "text",
    "id": "vqpyogsWNRCz"
   },
   "source": [
    "### Now only select the important features according to the model"
   ]
  },
  {
   "cell_type": "code",
   "execution_count": 0,
   "metadata": {
    "colab": {},
    "colab_type": "code",
    "id": "zBPAbxS_NeEJ"
   },
   "outputs": [],
   "source": [
    "rfe_feat = lr_uds_cv.support_"
   ]
  },
  {
   "cell_type": "markdown",
   "metadata": {
    "colab_type": "text",
    "id": "BcNPZlZoQrml"
   },
   "source": [
    "### Use these selected features for Random Undersample dataset"
   ]
  },
  {
   "cell_type": "code",
   "execution_count": 0,
   "metadata": {
    "colab": {},
    "colab_type": "code",
    "id": "gKlUtJ36QrNa"
   },
   "outputs": [],
   "source": [
    "X_uds_rfe, y_uds_rfe = rus.fit_resample(X_all.loc[:, rfe_feat], y_all)"
   ]
  },
  {
   "cell_type": "code",
   "execution_count": 41,
   "metadata": {
    "colab": {
     "base_uri": "https://localhost:8080/",
     "height": 439
    },
    "colab_type": "code",
    "executionInfo": {
     "elapsed": 109885,
     "status": "ok",
     "timestamp": 1588385552197,
     "user": {
      "displayName": "An Tran",
      "photoUrl": "",
      "userId": "10274312836707434279"
     },
     "user_tz": 420
    },
    "id": "1YULfl7GQXEp",
    "outputId": "ceaab846-bd0d-4afe-ab50-e0cf77d4d071"
   },
   "outputs": [
    {
     "data": {
      "text/html": [
       "<div>\n",
       "<style scoped>\n",
       "    .dataframe tbody tr th:only-of-type {\n",
       "        vertical-align: middle;\n",
       "    }\n",
       "\n",
       "    .dataframe tbody tr th {\n",
       "        vertical-align: top;\n",
       "    }\n",
       "\n",
       "    .dataframe thead th {\n",
       "        text-align: right;\n",
       "    }\n",
       "</style>\n",
       "<table border=\"1\" class=\"dataframe\">\n",
       "  <thead>\n",
       "    <tr style=\"text-align: right;\">\n",
       "      <th></th>\n",
       "      <th>Temp_diff3</th>\n",
       "      <th>Resp_std</th>\n",
       "      <th>O2Sat_std</th>\n",
       "      <th>DBP_std</th>\n",
       "      <th>SBP_std</th>\n",
       "      <th>HR_diff1</th>\n",
       "      <th>O2Sat_diff1</th>\n",
       "      <th>Temp_diff2</th>\n",
       "      <th>HR_diff5</th>\n",
       "      <th>Temp_diff4</th>\n",
       "      <th>Resp_diff5</th>\n",
       "      <th>HR_diff4</th>\n",
       "      <th>HR_diff2</th>\n",
       "      <th>HR_diff3</th>\n",
       "      <th>Resp_min</th>\n",
       "      <th>O2Sat_diff2</th>\n",
       "      <th>O2Sat_diff3</th>\n",
       "      <th>Resp_diff4</th>\n",
       "      <th>O2Sat_mean</th>\n",
       "      <th>Resp_mean</th>\n",
       "      <th>Temp_diff1</th>\n",
       "      <th>Temp_diff5</th>\n",
       "      <th>MAP_min</th>\n",
       "      <th>DBP_diff1</th>\n",
       "      <th>SBP_diff1</th>\n",
       "      <th>O2Sat_min</th>\n",
       "      <th>SBP_min</th>\n",
       "      <th>DBP_diff2</th>\n",
       "      <th>DBP_min</th>\n",
       "      <th>DBP_diff3</th>\n",
       "      <th>SBP_diff2</th>\n",
       "      <th>SBP_diff4</th>\n",
       "      <th>SBP_diff3</th>\n",
       "      <th>MAP_max</th>\n",
       "      <th>MAP_diff1</th>\n",
       "      <th>DBP_max</th>\n",
       "      <th>HR_max</th>\n",
       "      <th>HR_min</th>\n",
       "      <th>Temp_max</th>\n",
       "      <th>Temp_min</th>\n",
       "      <th>MAP_diff2</th>\n",
       "      <th>SBP_mean</th>\n",
       "      <th>MAP_diff4</th>\n",
       "      <th>MAP_diff3</th>\n",
       "      <th>MAP_mean</th>\n",
       "      <th>SBP_max</th>\n",
       "      <th>Temp_std</th>\n",
       "      <th>DBP_mean</th>\n",
       "      <th>HR_mean</th>\n",
       "      <th>HR_std</th>\n",
       "      <th>O2Sat_max</th>\n",
       "      <th>MAP_std</th>\n",
       "      <th>Gender</th>\n",
       "    </tr>\n",
       "  </thead>\n",
       "  <tbody>\n",
       "    <tr>\n",
       "      <th>0</th>\n",
       "      <td>-0.020258</td>\n",
       "      <td>0.582431</td>\n",
       "      <td>1.165242</td>\n",
       "      <td>-1.565140</td>\n",
       "      <td>-0.100423</td>\n",
       "      <td>-0.533278</td>\n",
       "      <td>-1.621677</td>\n",
       "      <td>-0.013301</td>\n",
       "      <td>1.469942</td>\n",
       "      <td>0.366599</td>\n",
       "      <td>1.520423</td>\n",
       "      <td>-1.758811</td>\n",
       "      <td>0.810944</td>\n",
       "      <td>-0.262749</td>\n",
       "      <td>-0.136026</td>\n",
       "      <td>0.011205</td>\n",
       "      <td>1.669399</td>\n",
       "      <td>-1.042822</td>\n",
       "      <td>-0.257952</td>\n",
       "      <td>0.225659</td>\n",
       "      <td>-0.005838</td>\n",
       "      <td>-0.019537</td>\n",
       "      <td>2.060733</td>\n",
       "      <td>-0.004030</td>\n",
       "      <td>1.184451</td>\n",
       "      <td>-0.586981</td>\n",
       "      <td>2.428939</td>\n",
       "      <td>-0.002085</td>\n",
       "      <td>-0.218355</td>\n",
       "      <td>-0.000907</td>\n",
       "      <td>-0.698007</td>\n",
       "      <td>1.039101</td>\n",
       "      <td>-1.033550</td>\n",
       "      <td>1.984130</td>\n",
       "      <td>2.248154</td>\n",
       "      <td>-1.108712</td>\n",
       "      <td>-0.249107</td>\n",
       "      <td>-0.398594</td>\n",
       "      <td>-0.228386</td>\n",
       "      <td>0.234737</td>\n",
       "      <td>0.352274</td>\n",
       "      <td>2.350904</td>\n",
       "      <td>0.802503</td>\n",
       "      <td>-2.109323</td>\n",
       "      <td>2.167066</td>\n",
       "      <td>2.025546</td>\n",
       "      <td>-0.887749</td>\n",
       "      <td>-0.735066</td>\n",
       "      <td>-0.494214</td>\n",
       "      <td>0.316975</td>\n",
       "      <td>0.997467</td>\n",
       "      <td>0.998335</td>\n",
       "      <td>0</td>\n",
       "    </tr>\n",
       "    <tr>\n",
       "      <th>1</th>\n",
       "      <td>-0.020258</td>\n",
       "      <td>-0.161286</td>\n",
       "      <td>0.590939</td>\n",
       "      <td>-1.565140</td>\n",
       "      <td>-0.426810</td>\n",
       "      <td>-0.397834</td>\n",
       "      <td>0.009239</td>\n",
       "      <td>-0.013301</td>\n",
       "      <td>0.376658</td>\n",
       "      <td>-0.022875</td>\n",
       "      <td>-0.767137</td>\n",
       "      <td>-0.941465</td>\n",
       "      <td>0.006867</td>\n",
       "      <td>-0.262749</td>\n",
       "      <td>-0.136026</td>\n",
       "      <td>0.011205</td>\n",
       "      <td>0.010632</td>\n",
       "      <td>0.251263</td>\n",
       "      <td>-0.962098</td>\n",
       "      <td>-0.403008</td>\n",
       "      <td>0.388014</td>\n",
       "      <td>-0.019537</td>\n",
       "      <td>0.243862</td>\n",
       "      <td>-0.004030</td>\n",
       "      <td>-0.220884</td>\n",
       "      <td>-1.109181</td>\n",
       "      <td>-1.009552</td>\n",
       "      <td>-0.002085</td>\n",
       "      <td>-0.218355</td>\n",
       "      <td>-0.000907</td>\n",
       "      <td>0.336162</td>\n",
       "      <td>0.408378</td>\n",
       "      <td>0.477899</td>\n",
       "      <td>-0.342644</td>\n",
       "      <td>-0.361590</td>\n",
       "      <td>-1.108712</td>\n",
       "      <td>-0.190966</td>\n",
       "      <td>-0.136763</td>\n",
       "      <td>-0.460255</td>\n",
       "      <td>-0.000762</td>\n",
       "      <td>0.352274</td>\n",
       "      <td>-1.177675</td>\n",
       "      <td>-0.088976</td>\n",
       "      <td>0.263557</td>\n",
       "      <td>-0.087944</td>\n",
       "      <td>-1.233596</td>\n",
       "      <td>-1.014934</td>\n",
       "      <td>-0.735066</td>\n",
       "      <td>-0.193393</td>\n",
       "      <td>0.018641</td>\n",
       "      <td>-1.489824</td>\n",
       "      <td>-1.053614</td>\n",
       "      <td>1</td>\n",
       "    </tr>\n",
       "    <tr>\n",
       "      <th>2</th>\n",
       "      <td>-0.020258</td>\n",
       "      <td>0.093771</td>\n",
       "      <td>-0.758338</td>\n",
       "      <td>-1.565140</td>\n",
       "      <td>0.375703</td>\n",
       "      <td>0.141159</td>\n",
       "      <td>-0.398517</td>\n",
       "      <td>-0.013301</td>\n",
       "      <td>0.008629</td>\n",
       "      <td>-0.022875</td>\n",
       "      <td>-1.530315</td>\n",
       "      <td>-0.669550</td>\n",
       "      <td>-0.263786</td>\n",
       "      <td>0.544869</td>\n",
       "      <td>-1.385239</td>\n",
       "      <td>0.422168</td>\n",
       "      <td>0.010632</td>\n",
       "      <td>0.898220</td>\n",
       "      <td>1.098539</td>\n",
       "      <td>-1.616478</td>\n",
       "      <td>0.388014</td>\n",
       "      <td>-0.019537</td>\n",
       "      <td>-0.022197</td>\n",
       "      <td>-0.004030</td>\n",
       "      <td>0.055685</td>\n",
       "      <td>1.306311</td>\n",
       "      <td>0.618126</td>\n",
       "      <td>-0.002085</td>\n",
       "      <td>-0.174296</td>\n",
       "      <td>-0.000907</td>\n",
       "      <td>-0.082382</td>\n",
       "      <td>-0.756775</td>\n",
       "      <td>-0.830229</td>\n",
       "      <td>-0.187452</td>\n",
       "      <td>0.023172</td>\n",
       "      <td>-1.064903</td>\n",
       "      <td>-0.608517</td>\n",
       "      <td>-0.136763</td>\n",
       "      <td>0.173521</td>\n",
       "      <td>0.656408</td>\n",
       "      <td>0.143171</td>\n",
       "      <td>0.500142</td>\n",
       "      <td>-0.795139</td>\n",
       "      <td>-0.533440</td>\n",
       "      <td>-0.167874</td>\n",
       "      <td>0.444149</td>\n",
       "      <td>-1.014934</td>\n",
       "      <td>-0.688061</td>\n",
       "      <td>-0.331641</td>\n",
       "      <td>-1.002432</td>\n",
       "      <td>0.997467</td>\n",
       "      <td>0.105426</td>\n",
       "      <td>0</td>\n",
       "    </tr>\n",
       "    <tr>\n",
       "      <th>3</th>\n",
       "      <td>0.889165</td>\n",
       "      <td>-1.168168</td>\n",
       "      <td>0.084334</td>\n",
       "      <td>-0.215155</td>\n",
       "      <td>0.019747</td>\n",
       "      <td>0.007078</td>\n",
       "      <td>0.009239</td>\n",
       "      <td>-0.378487</td>\n",
       "      <td>0.131755</td>\n",
       "      <td>-0.022875</td>\n",
       "      <td>-0.512788</td>\n",
       "      <td>0.007858</td>\n",
       "      <td>0.208647</td>\n",
       "      <td>0.142777</td>\n",
       "      <td>0.807383</td>\n",
       "      <td>1.244196</td>\n",
       "      <td>-0.811120</td>\n",
       "      <td>-0.007534</td>\n",
       "      <td>0.928442</td>\n",
       "      <td>0.302074</td>\n",
       "      <td>-0.005838</td>\n",
       "      <td>0.829998</td>\n",
       "      <td>-1.084504</td>\n",
       "      <td>-0.004030</td>\n",
       "      <td>-0.013935</td>\n",
       "      <td>0.431984</td>\n",
       "      <td>0.404318</td>\n",
       "      <td>0.056790</td>\n",
       "      <td>-2.370934</td>\n",
       "      <td>-0.352598</td>\n",
       "      <td>-1.139790</td>\n",
       "      <td>-0.008627</td>\n",
       "      <td>0.267431</td>\n",
       "      <td>-1.527181</td>\n",
       "      <td>-0.006292</td>\n",
       "      <td>-2.325307</td>\n",
       "      <td>-1.152291</td>\n",
       "      <td>-0.601098</td>\n",
       "      <td>0.711251</td>\n",
       "      <td>0.641137</td>\n",
       "      <td>-0.095141</td>\n",
       "      <td>0.305578</td>\n",
       "      <td>-0.000330</td>\n",
       "      <td>-0.357478</td>\n",
       "      <td>-1.591198</td>\n",
       "      <td>0.241785</td>\n",
       "      <td>0.112553</td>\n",
       "      <td>-2.717441</td>\n",
       "      <td>-0.887285</td>\n",
       "      <td>-1.305481</td>\n",
       "      <td>0.997467</td>\n",
       "      <td>-0.609538</td>\n",
       "      <td>0</td>\n",
       "    </tr>\n",
       "    <tr>\n",
       "      <th>4</th>\n",
       "      <td>1.434558</td>\n",
       "      <td>-0.472420</td>\n",
       "      <td>0.687907</td>\n",
       "      <td>2.710147</td>\n",
       "      <td>-0.854744</td>\n",
       "      <td>0.408327</td>\n",
       "      <td>0.824842</td>\n",
       "      <td>-0.013301</td>\n",
       "      <td>-0.739896</td>\n",
       "      <td>-0.022875</td>\n",
       "      <td>-0.004206</td>\n",
       "      <td>0.142421</td>\n",
       "      <td>-0.263786</td>\n",
       "      <td>-0.127116</td>\n",
       "      <td>1.037155</td>\n",
       "      <td>-1.221413</td>\n",
       "      <td>0.838336</td>\n",
       "      <td>0.251263</td>\n",
       "      <td>-1.500226</td>\n",
       "      <td>0.677635</td>\n",
       "      <td>-0.005838</td>\n",
       "      <td>-0.019537</td>\n",
       "      <td>-2.525024</td>\n",
       "      <td>5.089426</td>\n",
       "      <td>-0.358077</td>\n",
       "      <td>-1.331393</td>\n",
       "      <td>-0.606705</td>\n",
       "      <td>1.534149</td>\n",
       "      <td>-3.913921</td>\n",
       "      <td>-0.819936</td>\n",
       "      <td>0.336162</td>\n",
       "      <td>0.758332</td>\n",
       "      <td>-0.830229</td>\n",
       "      <td>-0.080115</td>\n",
       "      <td>2.791573</td>\n",
       "      <td>0.979952</td>\n",
       "      <td>-0.426486</td>\n",
       "      <td>-0.136763</td>\n",
       "      <td>-0.141851</td>\n",
       "      <td>-0.102561</td>\n",
       "      <td>0.802459</td>\n",
       "      <td>-1.068332</td>\n",
       "      <td>-0.442472</td>\n",
       "      <td>-0.621314</td>\n",
       "      <td>-1.574415</td>\n",
       "      <td>-1.181838</td>\n",
       "      <td>0.379275</td>\n",
       "      <td>-1.110037</td>\n",
       "      <td>-0.342376</td>\n",
       "      <td>-0.632079</td>\n",
       "      <td>-1.489824</td>\n",
       "      <td>1.965759</td>\n",
       "      <td>0</td>\n",
       "    </tr>\n",
       "    <tr>\n",
       "      <th>...</th>\n",
       "      <td>...</td>\n",
       "      <td>...</td>\n",
       "      <td>...</td>\n",
       "      <td>...</td>\n",
       "      <td>...</td>\n",
       "      <td>...</td>\n",
       "      <td>...</td>\n",
       "      <td>...</td>\n",
       "      <td>...</td>\n",
       "      <td>...</td>\n",
       "      <td>...</td>\n",
       "      <td>...</td>\n",
       "      <td>...</td>\n",
       "      <td>...</td>\n",
       "      <td>...</td>\n",
       "      <td>...</td>\n",
       "      <td>...</td>\n",
       "      <td>...</td>\n",
       "      <td>...</td>\n",
       "      <td>...</td>\n",
       "      <td>...</td>\n",
       "      <td>...</td>\n",
       "      <td>...</td>\n",
       "      <td>...</td>\n",
       "      <td>...</td>\n",
       "      <td>...</td>\n",
       "      <td>...</td>\n",
       "      <td>...</td>\n",
       "      <td>...</td>\n",
       "      <td>...</td>\n",
       "      <td>...</td>\n",
       "      <td>...</td>\n",
       "      <td>...</td>\n",
       "      <td>...</td>\n",
       "      <td>...</td>\n",
       "      <td>...</td>\n",
       "      <td>...</td>\n",
       "      <td>...</td>\n",
       "      <td>...</td>\n",
       "      <td>...</td>\n",
       "      <td>...</td>\n",
       "      <td>...</td>\n",
       "      <td>...</td>\n",
       "      <td>...</td>\n",
       "      <td>...</td>\n",
       "      <td>...</td>\n",
       "      <td>...</td>\n",
       "      <td>...</td>\n",
       "      <td>...</td>\n",
       "      <td>...</td>\n",
       "      <td>...</td>\n",
       "      <td>...</td>\n",
       "      <td>...</td>\n",
       "    </tr>\n",
       "    <tr>\n",
       "      <th>1080419</th>\n",
       "      <td>0.379961</td>\n",
       "      <td>0.276048</td>\n",
       "      <td>0.008552</td>\n",
       "      <td>-0.348464</td>\n",
       "      <td>-0.182119</td>\n",
       "      <td>0.408327</td>\n",
       "      <td>0.009239</td>\n",
       "      <td>-0.013301</td>\n",
       "      <td>-0.364382</td>\n",
       "      <td>-0.022875</td>\n",
       "      <td>-0.258471</td>\n",
       "      <td>-0.262503</td>\n",
       "      <td>-0.263786</td>\n",
       "      <td>0.008121</td>\n",
       "      <td>-0.874366</td>\n",
       "      <td>0.422168</td>\n",
       "      <td>-0.811120</td>\n",
       "      <td>0.768832</td>\n",
       "      <td>-0.007601</td>\n",
       "      <td>-0.813487</td>\n",
       "      <td>-0.005838</td>\n",
       "      <td>-0.019537</td>\n",
       "      <td>-4.625750</td>\n",
       "      <td>0.231317</td>\n",
       "      <td>-0.494924</td>\n",
       "      <td>0.056844</td>\n",
       "      <td>-1.696299</td>\n",
       "      <td>0.233638</td>\n",
       "      <td>-1.744665</td>\n",
       "      <td>-0.469548</td>\n",
       "      <td>0.336162</td>\n",
       "      <td>0.199238</td>\n",
       "      <td>-1.236579</td>\n",
       "      <td>-2.561394</td>\n",
       "      <td>-2.433176</td>\n",
       "      <td>-1.880021</td>\n",
       "      <td>-0.076105</td>\n",
       "      <td>0.301120</td>\n",
       "      <td>-0.141851</td>\n",
       "      <td>0.324066</td>\n",
       "      <td>0.083185</td>\n",
       "      <td>-1.945192</td>\n",
       "      <td>-0.000330</td>\n",
       "      <td>-0.533440</td>\n",
       "      <td>-2.721147</td>\n",
       "      <td>-1.719874</td>\n",
       "      <td>-0.852017</td>\n",
       "      <td>-1.911329</td>\n",
       "      <td>0.096527</td>\n",
       "      <td>-0.780957</td>\n",
       "      <td>-0.007814</td>\n",
       "      <td>1.182749</td>\n",
       "      <td>1</td>\n",
       "    </tr>\n",
       "    <tr>\n",
       "      <th>1080420</th>\n",
       "      <td>-0.020258</td>\n",
       "      <td>-0.887500</td>\n",
       "      <td>-1.956384</td>\n",
       "      <td>1.045687</td>\n",
       "      <td>0.937756</td>\n",
       "      <td>0.007078</td>\n",
       "      <td>0.009239</td>\n",
       "      <td>-1.475618</td>\n",
       "      <td>0.008629</td>\n",
       "      <td>-0.022875</td>\n",
       "      <td>-0.004206</td>\n",
       "      <td>0.007858</td>\n",
       "      <td>0.141484</td>\n",
       "      <td>0.008121</td>\n",
       "      <td>0.575333</td>\n",
       "      <td>0.011205</td>\n",
       "      <td>0.010632</td>\n",
       "      <td>-0.007534</td>\n",
       "      <td>-0.702752</td>\n",
       "      <td>0.032604</td>\n",
       "      <td>-0.005838</td>\n",
       "      <td>-0.019537</td>\n",
       "      <td>-0.998816</td>\n",
       "      <td>-0.004030</td>\n",
       "      <td>-0.013935</td>\n",
       "      <td>0.056844</td>\n",
       "      <td>0.380155</td>\n",
       "      <td>-2.110775</td>\n",
       "      <td>-1.627975</td>\n",
       "      <td>-0.000907</td>\n",
       "      <td>-2.053794</td>\n",
       "      <td>-0.008627</td>\n",
       "      <td>-0.011381</td>\n",
       "      <td>-0.625054</td>\n",
       "      <td>-0.006292</td>\n",
       "      <td>-0.770544</td>\n",
       "      <td>-0.608517</td>\n",
       "      <td>0.116448</td>\n",
       "      <td>-0.286202</td>\n",
       "      <td>-0.246700</td>\n",
       "      <td>-1.858190</td>\n",
       "      <td>0.703686</td>\n",
       "      <td>-0.000330</td>\n",
       "      <td>-0.004104</td>\n",
       "      <td>-0.559196</td>\n",
       "      <td>0.483862</td>\n",
       "      <td>0.305669</td>\n",
       "      <td>-0.927380</td>\n",
       "      <td>-0.256902</td>\n",
       "      <td>-2.049536</td>\n",
       "      <td>-1.489824</td>\n",
       "      <td>0.913415</td>\n",
       "      <td>0</td>\n",
       "    </tr>\n",
       "    <tr>\n",
       "      <th>1080421</th>\n",
       "      <td>0.707326</td>\n",
       "      <td>-0.216108</td>\n",
       "      <td>-0.288840</td>\n",
       "      <td>1.045687</td>\n",
       "      <td>-0.327946</td>\n",
       "      <td>0.007078</td>\n",
       "      <td>0.009239</td>\n",
       "      <td>-0.013301</td>\n",
       "      <td>2.074210</td>\n",
       "      <td>-0.022875</td>\n",
       "      <td>-1.275905</td>\n",
       "      <td>0.007858</td>\n",
       "      <td>0.006867</td>\n",
       "      <td>-2.175391</td>\n",
       "      <td>-0.136026</td>\n",
       "      <td>0.011205</td>\n",
       "      <td>0.010632</td>\n",
       "      <td>-0.007534</td>\n",
       "      <td>0.456106</td>\n",
       "      <td>-0.524617</td>\n",
       "      <td>-0.005838</td>\n",
       "      <td>-0.019537</td>\n",
       "      <td>0.922260</td>\n",
       "      <td>-0.004030</td>\n",
       "      <td>-0.013935</td>\n",
       "      <td>0.847203</td>\n",
       "      <td>0.982956</td>\n",
       "      <td>-0.002085</td>\n",
       "      <td>0.288021</td>\n",
       "      <td>0.707942</td>\n",
       "      <td>-0.013278</td>\n",
       "      <td>-0.008627</td>\n",
       "      <td>-0.898039</td>\n",
       "      <td>0.608565</td>\n",
       "      <td>-0.006292</td>\n",
       "      <td>0.927216</td>\n",
       "      <td>-0.547305</td>\n",
       "      <td>-0.880008</td>\n",
       "      <td>-0.431183</td>\n",
       "      <td>-0.102561</td>\n",
       "      <td>-0.006146</td>\n",
       "      <td>0.733285</td>\n",
       "      <td>-0.000330</td>\n",
       "      <td>-0.004104</td>\n",
       "      <td>1.130598</td>\n",
       "      <td>0.483862</td>\n",
       "      <td>-0.389907</td>\n",
       "      <td>1.151665</td>\n",
       "      <td>-0.864275</td>\n",
       "      <td>0.992460</td>\n",
       "      <td>0.997467</td>\n",
       "      <td>-0.061506</td>\n",
       "      <td>0</td>\n",
       "    </tr>\n",
       "    <tr>\n",
       "      <th>1080422</th>\n",
       "      <td>-0.020258</td>\n",
       "      <td>0.391568</td>\n",
       "      <td>-1.956385</td>\n",
       "      <td>0.650832</td>\n",
       "      <td>0.382785</td>\n",
       "      <td>-0.127559</td>\n",
       "      <td>0.009239</td>\n",
       "      <td>0.278636</td>\n",
       "      <td>0.131755</td>\n",
       "      <td>-0.022875</td>\n",
       "      <td>0.504125</td>\n",
       "      <td>0.276672</td>\n",
       "      <td>0.677340</td>\n",
       "      <td>0.945521</td>\n",
       "      <td>0.103801</td>\n",
       "      <td>0.011205</td>\n",
       "      <td>0.010632</td>\n",
       "      <td>0.380658</td>\n",
       "      <td>1.585655</td>\n",
       "      <td>0.110179</td>\n",
       "      <td>-0.005838</td>\n",
       "      <td>1.478591</td>\n",
       "      <td>2.060733</td>\n",
       "      <td>-0.121344</td>\n",
       "      <td>-0.220884</td>\n",
       "      <td>1.813438</td>\n",
       "      <td>1.158595</td>\n",
       "      <td>-0.471814</td>\n",
       "      <td>2.004250</td>\n",
       "      <td>-0.235539</td>\n",
       "      <td>-0.425224</td>\n",
       "      <td>-1.027007</td>\n",
       "      <td>-0.490507</td>\n",
       "      <td>1.739416</td>\n",
       "      <td>-0.006292</td>\n",
       "      <td>1.822917</td>\n",
       "      <td>0.680119</td>\n",
       "      <td>0.658116</td>\n",
       "      <td>-0.026822</td>\n",
       "      <td>-0.160398</td>\n",
       "      <td>-0.361037</td>\n",
       "      <td>1.140536</td>\n",
       "      <td>-1.059324</td>\n",
       "      <td>-0.533440</td>\n",
       "      <td>1.929174</td>\n",
       "      <td>1.159590</td>\n",
       "      <td>0.245084</td>\n",
       "      <td>2.015088</td>\n",
       "      <td>0.694822</td>\n",
       "      <td>0.629348</td>\n",
       "      <td>0.997467</td>\n",
       "      <td>0.552429</td>\n",
       "      <td>0</td>\n",
       "    </tr>\n",
       "    <tr>\n",
       "      <th>1080423</th>\n",
       "      <td>-0.020258</td>\n",
       "      <td>1.309598</td>\n",
       "      <td>1.286833</td>\n",
       "      <td>-1.565140</td>\n",
       "      <td>-2.627723</td>\n",
       "      <td>-0.397834</td>\n",
       "      <td>0.009239</td>\n",
       "      <td>2.208692</td>\n",
       "      <td>0.863781</td>\n",
       "      <td>-0.022875</td>\n",
       "      <td>2.536485</td>\n",
       "      <td>2.943555</td>\n",
       "      <td>-0.535444</td>\n",
       "      <td>-1.217009</td>\n",
       "      <td>-0.378830</td>\n",
       "      <td>0.833170</td>\n",
       "      <td>-1.629547</td>\n",
       "      <td>-1.301657</td>\n",
       "      <td>-0.489213</td>\n",
       "      <td>0.378042</td>\n",
       "      <td>-0.005838</td>\n",
       "      <td>-0.019537</td>\n",
       "      <td>0.591038</td>\n",
       "      <td>-0.004030</td>\n",
       "      <td>-0.013935</td>\n",
       "      <td>-0.861883</td>\n",
       "      <td>-0.662802</td>\n",
       "      <td>-0.002085</td>\n",
       "      <td>-0.490576</td>\n",
       "      <td>-0.000907</td>\n",
       "      <td>-0.013278</td>\n",
       "      <td>-0.008627</td>\n",
       "      <td>-0.011381</td>\n",
       "      <td>0.393750</td>\n",
       "      <td>-0.095364</td>\n",
       "      <td>-1.381682</td>\n",
       "      <td>1.458860</td>\n",
       "      <td>0.773704</td>\n",
       "      <td>0.809353</td>\n",
       "      <td>0.580209</td>\n",
       "      <td>0.083185</td>\n",
       "      <td>-1.391914</td>\n",
       "      <td>0.981393</td>\n",
       "      <td>-0.972288</td>\n",
       "      <td>0.421409</td>\n",
       "      <td>-1.890830</td>\n",
       "      <td>0.851023</td>\n",
       "      <td>-1.026228</td>\n",
       "      <td>1.191373</td>\n",
       "      <td>1.296471</td>\n",
       "      <td>0.997467</td>\n",
       "      <td>-0.296887</td>\n",
       "      <td>1</td>\n",
       "    </tr>\n",
       "  </tbody>\n",
       "</table>\n",
       "<p>1080424 rows × 53 columns</p>\n",
       "</div>"
      ],
      "text/plain": [
       "         Temp_diff3  Resp_std  O2Sat_std  ...  O2Sat_max   MAP_std  Gender\n",
       "0         -0.020258  0.582431   1.165242  ...   0.997467  0.998335       0\n",
       "1         -0.020258 -0.161286   0.590939  ...  -1.489824 -1.053614       1\n",
       "2         -0.020258  0.093771  -0.758338  ...   0.997467  0.105426       0\n",
       "3          0.889165 -1.168168   0.084334  ...   0.997467 -0.609538       0\n",
       "4          1.434558 -0.472420   0.687907  ...  -1.489824  1.965759       0\n",
       "...             ...       ...        ...  ...        ...       ...     ...\n",
       "1080419    0.379961  0.276048   0.008552  ...  -0.007814  1.182749       1\n",
       "1080420   -0.020258 -0.887500  -1.956384  ...  -1.489824  0.913415       0\n",
       "1080421    0.707326 -0.216108  -0.288840  ...   0.997467 -0.061506       0\n",
       "1080422   -0.020258  0.391568  -1.956385  ...   0.997467  0.552429       0\n",
       "1080423   -0.020258  1.309598   1.286833  ...   0.997467 -0.296887       1\n",
       "\n",
       "[1080424 rows x 53 columns]"
      ]
     },
     "execution_count": 41,
     "metadata": {
      "tags": []
     },
     "output_type": "execute_result"
    }
   ],
   "source": [
    "X_all.loc[:, rfe_feat]"
   ]
  },
  {
   "cell_type": "code",
   "execution_count": 0,
   "metadata": {
    "colab": {},
    "colab_type": "code",
    "id": "J6Hz4blERCT6"
   },
   "outputs": [],
   "source": [
    "rfe_features = X_all.loc[:, rfe_feat].columns"
   ]
  },
  {
   "cell_type": "code",
   "execution_count": 43,
   "metadata": {
    "colab": {
     "base_uri": "https://localhost:8080/",
     "height": 204
    },
    "colab_type": "code",
    "executionInfo": {
     "elapsed": 110027,
     "status": "ok",
     "timestamp": 1588385552365,
     "user": {
      "displayName": "An Tran",
      "photoUrl": "",
      "userId": "10274312836707434279"
     },
     "user_tz": 420
    },
    "id": "0DNQnPsmwnyL",
    "outputId": "fd0970dc-23a2-49f6-a81c-9c5d21a704c2"
   },
   "outputs": [
    {
     "data": {
      "text/plain": [
       "Index(['Temp_diff3', 'Resp_std', 'O2Sat_std', 'DBP_std', 'SBP_std', 'HR_diff1',\n",
       "       'O2Sat_diff1', 'Temp_diff2', 'HR_diff5', 'Temp_diff4', 'Resp_diff5',\n",
       "       'HR_diff4', 'HR_diff2', 'HR_diff3', 'Resp_min', 'O2Sat_diff2',\n",
       "       'O2Sat_diff3', 'Resp_diff4', 'O2Sat_mean', 'Resp_mean', 'Temp_diff1',\n",
       "       'Temp_diff5', 'MAP_min', 'DBP_diff1', 'SBP_diff1', 'O2Sat_min',\n",
       "       'SBP_min', 'DBP_diff2', 'DBP_min', 'DBP_diff3', 'SBP_diff2',\n",
       "       'SBP_diff4', 'SBP_diff3', 'MAP_max', 'MAP_diff1', 'DBP_max', 'HR_max',\n",
       "       'HR_min', 'Temp_max', 'Temp_min', 'MAP_diff2', 'SBP_mean', 'MAP_diff4',\n",
       "       'MAP_diff3', 'MAP_mean', 'SBP_max', 'Temp_std', 'DBP_mean', 'HR_mean',\n",
       "       'HR_std', 'O2Sat_max', 'MAP_std', 'Gender'],\n",
       "      dtype='object')"
      ]
     },
     "execution_count": 43,
     "metadata": {
      "tags": []
     },
     "output_type": "execute_result"
    }
   ],
   "source": [
    "rfe_features"
   ]
  },
  {
   "cell_type": "markdown",
   "metadata": {
    "colab_type": "text",
    "id": "q95kJdSfRhYq"
   },
   "source": [
    "### Model"
   ]
  },
  {
   "cell_type": "code",
   "execution_count": 0,
   "metadata": {
    "colab": {},
    "colab_type": "code",
    "id": "dMLUOLItR0UO"
   },
   "outputs": [],
   "source": [
    "lr_uds_rfe = LogisticRegression(solver='lbfgs', random_state=seed, max_iter=1000)"
   ]
  },
  {
   "cell_type": "code",
   "execution_count": 45,
   "metadata": {
    "colab": {
     "base_uri": "https://localhost:8080/",
     "height": 34
    },
    "colab_type": "code",
    "executionInfo": {
     "elapsed": 110547,
     "status": "ok",
     "timestamp": 1588385552911,
     "user": {
      "displayName": "An Tran",
      "photoUrl": "",
      "userId": "10274312836707434279"
     },
     "user_tz": 420
    },
    "id": "s_AAkq04RpEO",
    "outputId": "67b848cd-cfa8-4d17-cfeb-c35580dc17b9"
   },
   "outputs": [
    {
     "name": "stdout",
     "output_type": "stream",
     "text": [
      "Training took:  0:00:00.590398\n"
     ]
    }
   ],
   "source": [
    "start = datetime.now()\n",
    "\n",
    "lr_uds_rfe.fit(X_uds_rfe, y_uds_rfe)\n",
    "\n",
    "print('Training took: ', datetime.now()-start)"
   ]
  },
  {
   "cell_type": "markdown",
   "metadata": {
    "colab_type": "text",
    "id": "eLOtOeCjSAN4"
   },
   "source": [
    "### Model Performance"
   ]
  },
  {
   "cell_type": "code",
   "execution_count": 46,
   "metadata": {
    "colab": {
     "base_uri": "https://localhost:8080/",
     "height": 977
    },
    "colab_type": "code",
    "executionInfo": {
     "elapsed": 113180,
     "status": "ok",
     "timestamp": 1588385555566,
     "user": {
      "displayName": "An Tran",
      "photoUrl": "",
      "userId": "10274312836707434279"
     },
     "user_tz": 420
    },
    "id": "qAjdUkGGSBxE",
    "outputId": "cb22c06c-985f-4a34-d32c-5f9fd672fd3a"
   },
   "outputs": [
    {
     "name": "stdout",
     "output_type": "stream",
     "text": [
      "TRAINING SET\n",
      "Threshold: 0.35\n",
      "TP: 17927\n",
      "TN: 5298\n",
      "FP: 14811\n",
      "FN: 2182\n",
      "Accuracy: 0.58\n",
      "Sensitivity: 0.89\n",
      "Specificity: 0.26\n",
      "Precision: 0.55\n",
      "Recall (Detection rate): 0.89\n",
      "F1-score: 0.68\n",
      "AUC: 0.68\n",
      "FPR (False alarm rate): 0.74\n",
      "FNR: 0.11\n",
      "Kappa: 0.15\n"
     ]
    },
    {
     "data": {
      "image/png": "[encoded data removed]",
      "text/plain": [
       "<Figure size 288x216 with 1 Axes>"
      ]
     },
     "metadata": {
      "needs_background": "light",
      "tags": []
     },
     "output_type": "display_data"
    },
    {
     "name": "stdout",
     "output_type": "stream",
     "text": [
      "TEST SET\n",
      "Threshold: 0.35\n",
      "TP: 4440\n",
      "TN: 69075\n",
      "FP: 196004\n",
      "FN: 587\n",
      "Accuracy: 0.27\n",
      "Sensitivity: 0.88\n",
      "Specificity: 0.26\n",
      "Precision: 0.02\n",
      "Recall (Detection rate): 0.88\n",
      "F1-score: 0.09\n",
      "AUC: 0.67\n",
      "FPR (False alarm rate): 0.74\n",
      "FNR: 0.12\n",
      "Kappa: 0.01\n"
     ]
    },
    {
     "data": {
      "image/png": "[encoded data removed]",
      "text/plain": [
       "<Figure size 288x216 with 1 Axes>"
      ]
     },
     "metadata": {
      "needs_background": "light",
      "tags": []
     },
     "output_type": "display_data"
    }
   ],
   "source": [
    "results_train_lr_uds_rfe, results_test_lr_uds_rfe, \\\n",
    "y_pred_prob_train_lr_rfe, y_pred_prob_test_lr_rfe = model_evaluation2(lr_uds_rfe, \n",
    "                                                                      X_uds_rfe, y_uds_rfe,\n",
    "                                                                      X_test.loc[:, rfe_feat], y_test,\n",
    "                                                                      print_ = 1)"
   ]
  },
  {
   "cell_type": "markdown",
   "metadata": {
    "colab_type": "text",
    "id": "_YbR-pmBUjp-"
   },
   "source": [
    "### Save results to dataframe"
   ]
  },
  {
   "cell_type": "code",
   "execution_count": 0,
   "metadata": {
    "colab": {},
    "colab_type": "code",
    "id": "2Io81TzxUjqE"
   },
   "outputs": [],
   "source": [
    "lr_results_train = lr_results_train.append(results_train_lr_uds_rfe.rename(index={results_train_lr_uds_rfe.index[-1]: 'LR Under-sampling with Feature Selection'}))\n",
    "lr_results_test = lr_results_test.append(results_test_lr_uds_rfe.rename(index={results_test_lr_uds_rfe.index[-1]: 'LR Under-sampling with Feature Selection'}))"
   ]
  },
  {
   "cell_type": "markdown",
   "metadata": {
    "colab_type": "text",
    "id": "He_7ejiQV17s"
   },
   "source": [
    "# 80/20 Ratio: All features"
   ]
  },
  {
   "cell_type": "code",
   "execution_count": 0,
   "metadata": {
    "colab": {},
    "colab_type": "code",
    "id": "w3tTvFNYZ_0s"
   },
   "outputs": [],
   "source": [
    "# lr_8020 = LogisticRegression(solver='lbfgs', random_state=seed, max_iter=1000, class_weight='balanced')\n",
    "lr_8020 = LogisticRegression(solver='lbfgs', random_state=seed, max_iter=1000)"
   ]
  },
  {
   "cell_type": "code",
   "execution_count": 49,
   "metadata": {
    "colab": {
     "base_uri": "https://localhost:8080/",
     "height": 34
    },
    "colab_type": "code",
    "executionInfo": {
     "elapsed": 114468,
     "status": "ok",
     "timestamp": 1588385556882,
     "user": {
      "displayName": "An Tran",
      "photoUrl": "",
      "userId": "10274312836707434279"
     },
     "user_tz": 420
    },
    "id": "qnjVTBAuaTCa",
    "outputId": "4565bc86-52f5-4599-f68d-a044d876f7b5"
   },
   "outputs": [
    {
     "name": "stdout",
     "output_type": "stream",
     "text": [
      "Training took:  0:00:01.265083\n"
     ]
    }
   ],
   "source": [
    "start = datetime.now()\n",
    "\n",
    "lr_8020.fit(X_8020, y_8020)\n",
    "\n",
    "print('Training took: ', datetime.now()-start)"
   ]
  },
  {
   "cell_type": "markdown",
   "metadata": {
    "colab_type": "text",
    "id": "1ZvMyNJFagfD"
   },
   "source": [
    "### Performance on training and test set"
   ]
  },
  {
   "cell_type": "code",
   "execution_count": 50,
   "metadata": {
    "colab": {
     "base_uri": "https://localhost:8080/",
     "height": 977
    },
    "colab_type": "code",
    "executionInfo": {
     "elapsed": 117629,
     "status": "ok",
     "timestamp": 1588385560063,
     "user": {
      "displayName": "An Tran",
      "photoUrl": "",
      "userId": "10274312836707434279"
     },
     "user_tz": 420
    },
    "id": "etEin6-zafyb",
    "outputId": "1aa8970d-d72c-4ce2-ee2b-45616df2141d"
   },
   "outputs": [
    {
     "name": "stdout",
     "output_type": "stream",
     "text": [
      "TRAINING SET\n",
      "Threshold: 0.21\n",
      "TP: 11989\n",
      "TN: 54674\n",
      "FP: 25762\n",
      "FN: 8120\n",
      "Accuracy: 0.66\n",
      "Sensitivity: 0.6\n",
      "Specificity: 0.68\n",
      "Precision: 0.32\n",
      "Recall (Detection rate): 0.6\n",
      "F1-score: 0.41\n",
      "AUC: 0.68\n",
      "FPR (False alarm rate): 0.32\n",
      "FNR: 0.4\n",
      "Kappa: 0.21\n"
     ]
    },
    {
     "data": {
      "image/png": "[encoded data removed]",
      "text/plain": [
       "<Figure size 288x216 with 1 Axes>"
      ]
     },
     "metadata": {
      "needs_background": "light",
      "tags": []
     },
     "output_type": "display_data"
    },
    {
     "name": "stdout",
     "output_type": "stream",
     "text": [
      "TEST SET\n",
      "Threshold: 0.21\n",
      "TP: 2934\n",
      "TN: 179441\n",
      "FP: 85638\n",
      "FN: 2093\n",
      "Accuracy: 0.68\n",
      "Sensitivity: 0.58\n",
      "Specificity: 0.68\n",
      "Precision: 0.03\n",
      "Recall (Detection rate): 0.58\n",
      "F1-score: 0.1\n",
      "AUC: 0.67\n",
      "FPR (False alarm rate): 0.32\n",
      "FNR: 0.42\n",
      "Kappa: 0.03\n"
     ]
    },
    {
     "data": {
      "image/png": "[encoded data removed]",
      "text/plain": [
       "<Figure size 288x216 with 1 Axes>"
      ]
     },
     "metadata": {
      "needs_background": "light",
      "tags": []
     },
     "output_type": "display_data"
    }
   ],
   "source": [
    "results_train_lr_8020, results_test_lr_8020, \\\n",
    "y_pred_prob_train_lr_8020, y_pred_prob_test_lr_8020 = model_evaluation2(lr_8020, \n",
    "                                                                        X_8020, y_8020,\n",
    "                                                                        X_test, y_test,\n",
    "                                                                        print_ = 1)"
   ]
  },
  {
   "cell_type": "markdown",
   "metadata": {
    "colab_type": "text",
    "id": "sZ-Gd9VCcH-j"
   },
   "source": [
    "### Save results to dataframe"
   ]
  },
  {
   "cell_type": "code",
   "execution_count": 0,
   "metadata": {
    "colab": {},
    "colab_type": "code",
    "id": "yn7bPHJScH-l"
   },
   "outputs": [],
   "source": [
    "lr_results_train = lr_results_train.append(results_train_lr_8020.rename(index={results_train_lr_8020.index[-1]: 'LR 80/20 Ratio All features'}))\n",
    "lr_results_test = lr_results_test.append(results_test_lr_8020.rename(index={results_test_lr_8020.index[-1]: 'LR 80/20 Ratio All features'}))"
   ]
  },
  {
   "cell_type": "markdown",
   "metadata": {
    "colab_type": "text",
    "id": "tLkRo3DscmaC"
   },
   "source": [
    "# 80/20 Ratio: Feature selection"
   ]
  },
  {
   "cell_type": "markdown",
   "metadata": {
    "colab_type": "text",
    "id": "Jsy04X6YdQcM"
   },
   "source": [
    "### Use the selected features for 80/20 dataset"
   ]
  },
  {
   "cell_type": "code",
   "execution_count": 0,
   "metadata": {
    "colab": {},
    "colab_type": "code",
    "id": "ZWrZ70AidQcM"
   },
   "outputs": [],
   "source": [
    "X_8020_rfe, y_8020_rfe = ratio8020.fit_resample(X_all.loc[:, rfe_feat], y_all)"
   ]
  },
  {
   "cell_type": "markdown",
   "metadata": {
    "colab_type": "text",
    "id": "P1yINOf-dQcQ"
   },
   "source": [
    "### Model"
   ]
  },
  {
   "cell_type": "code",
   "execution_count": 0,
   "metadata": {
    "colab": {},
    "colab_type": "code",
    "id": "O0EYeHRWdQcQ"
   },
   "outputs": [],
   "source": [
    "lr_8020_rfe = LogisticRegression(solver='lbfgs', random_state=seed, max_iter=1000)"
   ]
  },
  {
   "cell_type": "code",
   "execution_count": 54,
   "metadata": {
    "colab": {
     "base_uri": "https://localhost:8080/",
     "height": 34
    },
    "colab_type": "code",
    "executionInfo": {
     "elapsed": 119825,
     "status": "ok",
     "timestamp": 1588385562290,
     "user": {
      "displayName": "An Tran",
      "photoUrl": "",
      "userId": "10274312836707434279"
     },
     "user_tz": 420
    },
    "id": "Ham9CUt7dQcT",
    "outputId": "e2afa683-dd8b-4e62-8f97-5b20b3635aa5"
   },
   "outputs": [
    {
     "name": "stdout",
     "output_type": "stream",
     "text": [
      "Training took:  0:00:01.278482\n"
     ]
    }
   ],
   "source": [
    "start = datetime.now()\n",
    "\n",
    "lr_8020_rfe.fit(X_8020_rfe, y_8020_rfe)\n",
    "\n",
    "print('Training took: ', datetime.now()-start)"
   ]
  },
  {
   "cell_type": "markdown",
   "metadata": {
    "colab_type": "text",
    "id": "V7Llv22idQcX"
   },
   "source": [
    "### Model Performance"
   ]
  },
  {
   "cell_type": "code",
   "execution_count": 55,
   "metadata": {
    "colab": {
     "base_uri": "https://localhost:8080/",
     "height": 977
    },
    "colab_type": "code",
    "executionInfo": {
     "elapsed": 123132,
     "status": "ok",
     "timestamp": 1588385565654,
     "user": {
      "displayName": "An Tran",
      "photoUrl": "",
      "userId": "10274312836707434279"
     },
     "user_tz": 420
    },
    "id": "ko-tBH8BdQcY",
    "outputId": "0898bb03-b71a-4eb8-a01c-8b98f6b4204b"
   },
   "outputs": [
    {
     "name": "stdout",
     "output_type": "stream",
     "text": [
      "TRAINING SET\n",
      "Threshold: 0.21\n",
      "TP: 12042\n",
      "TN: 54431\n",
      "FP: 26005\n",
      "FN: 8067\n",
      "Accuracy: 0.66\n",
      "Sensitivity: 0.6\n",
      "Specificity: 0.68\n",
      "Precision: 0.32\n",
      "Recall (Detection rate): 0.6\n",
      "F1-score: 0.41\n",
      "AUC: 0.68\n",
      "FPR (False alarm rate): 0.32\n",
      "FNR: 0.4\n",
      "Kappa: 0.21\n"
     ]
    },
    {
     "data": {
      "image/png": "[encoded data removed]",
      "text/plain": [
       "<Figure size 288x216 with 1 Axes>"
      ]
     },
     "metadata": {
      "needs_background": "light",
      "tags": []
     },
     "output_type": "display_data"
    },
    {
     "name": "stdout",
     "output_type": "stream",
     "text": [
      "TEST SET\n",
      "Threshold: 0.21\n",
      "TP: 2942\n",
      "TN: 178675\n",
      "FP: 86404\n",
      "FN: 2085\n",
      "Accuracy: 0.67\n",
      "Sensitivity: 0.59\n",
      "Specificity: 0.67\n",
      "Precision: 0.03\n",
      "Recall (Detection rate): 0.59\n",
      "F1-score: 0.1\n",
      "AUC: 0.67\n",
      "FPR (False alarm rate): 0.33\n",
      "FNR: 0.41\n",
      "Kappa: 0.03\n"
     ]
    },
    {
     "data": {
      "image/png": "[encoded data removed]",
      "text/plain": [
       "<Figure size 288x216 with 1 Axes>"
      ]
     },
     "metadata": {
      "needs_background": "light",
      "tags": []
     },
     "output_type": "display_data"
    }
   ],
   "source": [
    "results_train_lr_8020_rfe, results_test_lr_8020_rfe, \\\n",
    "y_pred_prob_train_lr_8020_rfe, y_pred_prob_test_lr_8020_rfe = model_evaluation2(lr_8020_rfe, \n",
    "                                                                                X_8020_rfe, y_8020_rfe,\n",
    "                                                                                X_test.loc[:, rfe_feat], y_test,\n",
    "                                                                                print_ = 1)"
   ]
  },
  {
   "cell_type": "markdown",
   "metadata": {
    "colab_type": "text",
    "id": "UOHRp2AjdQcb"
   },
   "source": [
    "### Save results to dataframe"
   ]
  },
  {
   "cell_type": "code",
   "execution_count": 0,
   "metadata": {
    "colab": {},
    "colab_type": "code",
    "id": "KvNKU9fAdQcc"
   },
   "outputs": [],
   "source": [
    "lr_results_train = lr_results_train.append(results_train_lr_8020_rfe.rename(index={results_train_lr_8020_rfe.index[-1]: 'LR 80/20 Ratio with Feature Selection'}))\n",
    "lr_results_test = lr_results_test.append(results_test_lr_8020_rfe.rename(index={results_test_lr_8020_rfe.index[-1]: 'LR 80/20 Ratio with Feature Selection'}))"
   ]
  },
  {
   "cell_type": "markdown",
   "metadata": {
    "colab_type": "text",
    "id": "HuMU6Z0WihTy"
   },
   "source": [
    "# 90/10 Ratio: All features"
   ]
  },
  {
   "cell_type": "code",
   "execution_count": 0,
   "metadata": {
    "colab": {},
    "colab_type": "code",
    "id": "o-8-kfstirYt"
   },
   "outputs": [],
   "source": [
    "lr_9010 = LogisticRegression(solver='lbfgs', random_state=seed, max_iter=1000)"
   ]
  },
  {
   "cell_type": "code",
   "execution_count": 58,
   "metadata": {
    "colab": {
     "base_uri": "https://localhost:8080/",
     "height": 34
    },
    "colab_type": "code",
    "executionInfo": {
     "elapsed": 125732,
     "status": "ok",
     "timestamp": 1588385568329,
     "user": {
      "displayName": "An Tran",
      "photoUrl": "",
      "userId": "10274312836707434279"
     },
     "user_tz": 420
    },
    "id": "8We1TYeCirY8",
    "outputId": "cfdb9e54-859e-45e9-d86e-bbe48cafc5cc"
   },
   "outputs": [
    {
     "name": "stdout",
     "output_type": "stream",
     "text": [
      "Training took:  0:00:02.689226\n"
     ]
    }
   ],
   "source": [
    "start = datetime.now()\n",
    "\n",
    "lr_9010.fit(X_9010, y_9010)\n",
    "\n",
    "print('Training took: ', datetime.now()-start)"
   ]
  },
  {
   "cell_type": "markdown",
   "metadata": {
    "colab_type": "text",
    "id": "9dNhPGBFirZA"
   },
   "source": [
    "### Performance on training and test set"
   ]
  },
  {
   "cell_type": "code",
   "execution_count": 59,
   "metadata": {
    "colab": {
     "base_uri": "https://localhost:8080/",
     "height": 977
    },
    "colab_type": "code",
    "executionInfo": {
     "elapsed": 129492,
     "status": "ok",
     "timestamp": 1588385572141,
     "user": {
      "displayName": "An Tran",
      "photoUrl": "",
      "userId": "10274312836707434279"
     },
     "user_tz": 420
    },
    "id": "Q8JTJcNdirZB",
    "outputId": "42e2bf3b-5aad-4183-83c0-01acc343a7a4"
   },
   "outputs": [
    {
     "name": "stdout",
     "output_type": "stream",
     "text": [
      "TRAINING SET\n",
      "Threshold: 0.15\n",
      "TP: 7664\n",
      "TN: 154161\n",
      "FP: 26820\n",
      "FN: 12445\n",
      "Accuracy: 0.8\n",
      "Sensitivity: 0.38\n",
      "Specificity: 0.85\n",
      "Precision: 0.22\n",
      "Recall (Detection rate): 0.38\n",
      "F1-score: 0.28\n",
      "AUC: 0.68\n",
      "FPR (False alarm rate): 0.15\n",
      "FNR: 0.62\n",
      "Kappa: 0.18\n"
     ]
    },
    {
     "data": {
      "image/png": "[encoded data removed]",
      "text/plain": [
       "<Figure size 288x216 with 1 Axes>"
      ]
     },
     "metadata": {
      "needs_background": "light",
      "tags": []
     },
     "output_type": "display_data"
    },
    {
     "name": "stdout",
     "output_type": "stream",
     "text": [
      "TEST SET\n",
      "Threshold: 0.15\n",
      "TP: 1867\n",
      "TN: 225823\n",
      "FP: 39256\n",
      "FN: 3160\n",
      "Accuracy: 0.84\n",
      "Sensitivity: 0.37\n",
      "Specificity: 0.85\n",
      "Precision: 0.05\n",
      "Recall (Detection rate): 0.37\n",
      "F1-score: 0.1\n",
      "AUC: 0.67\n",
      "FPR (False alarm rate): 0.15\n",
      "FNR: 0.63\n",
      "Kappa: 0.05\n"
     ]
    },
    {
     "data": {
      "image/png": "[encoded data removed]",
      "text/plain": [
       "<Figure size 288x216 with 1 Axes>"
      ]
     },
     "metadata": {
      "needs_background": "light",
      "tags": []
     },
     "output_type": "display_data"
    }
   ],
   "source": [
    "results_train_lr_9010, results_test_lr_9010, \\\n",
    "y_pred_prob_train_lr_9010, y_pred_prob_test_lr_9010 = model_evaluation2(lr_9010, \n",
    "                                                                        X_9010, y_9010,\n",
    "                                                                        X_test, y_test,\n",
    "                                                                        print_ = 1)"
   ]
  },
  {
   "cell_type": "markdown",
   "metadata": {
    "colab_type": "text",
    "id": "7txGYChNirZE"
   },
   "source": [
    "### Save results to dataframe"
   ]
  },
  {
   "cell_type": "code",
   "execution_count": 0,
   "metadata": {
    "colab": {},
    "colab_type": "code",
    "id": "fjQToI13irZF"
   },
   "outputs": [],
   "source": [
    "lr_results_train = lr_results_train.append(results_train_lr_9010.rename(index={results_train_lr_9010.index[-1]: 'LR 90/10 Ratio All features'}))\n",
    "lr_results_test = lr_results_test.append(results_test_lr_9010.rename(index={results_test_lr_9010.index[-1]: 'LR 90/10 Ratio All features'}))"
   ]
  },
  {
   "cell_type": "markdown",
   "metadata": {
    "colab_type": "text",
    "id": "y5w_SeXTirZI"
   },
   "source": [
    "# 90/10 Ratio: Feature selection"
   ]
  },
  {
   "cell_type": "markdown",
   "metadata": {
    "colab_type": "text",
    "id": "lhw1iLcfirZJ"
   },
   "source": [
    "### Use the selected features for 90/10 dataset"
   ]
  },
  {
   "cell_type": "code",
   "execution_count": 0,
   "metadata": {
    "colab": {},
    "colab_type": "code",
    "id": "Oyj6MK3IirZK"
   },
   "outputs": [],
   "source": [
    "X_9010_rfe, y_9010_rfe = ratio9010.fit_resample(X_all.loc[:, rfe_feat], y_all)"
   ]
  },
  {
   "cell_type": "markdown",
   "metadata": {
    "colab_type": "text",
    "id": "0ACn4NriirZP"
   },
   "source": [
    "### Model"
   ]
  },
  {
   "cell_type": "code",
   "execution_count": 0,
   "metadata": {
    "colab": {},
    "colab_type": "code",
    "id": "7MnIR6shirZP"
   },
   "outputs": [],
   "source": [
    "lr_9010_rfe = LogisticRegression(solver='lbfgs', random_state=seed, max_iter=1000)"
   ]
  },
  {
   "cell_type": "code",
   "execution_count": 63,
   "metadata": {
    "colab": {
     "base_uri": "https://localhost:8080/",
     "height": 34
    },
    "colab_type": "code",
    "executionInfo": {
     "elapsed": 132839,
     "status": "ok",
     "timestamp": 1588385575518,
     "user": {
      "displayName": "An Tran",
      "photoUrl": "",
      "userId": "10274312836707434279"
     },
     "user_tz": 420
    },
    "id": "hzqF3ju_irZS",
    "outputId": "03a00813-e3e8-4a18-f3ab-a6289eea255f"
   },
   "outputs": [
    {
     "name": "stdout",
     "output_type": "stream",
     "text": [
      "Training took:  0:00:02.575641\n"
     ]
    }
   ],
   "source": [
    "start = datetime.now()\n",
    "\n",
    "lr_9010_rfe.fit(X_9010_rfe, y_9010_rfe)\n",
    "\n",
    "print('Training took: ', datetime.now()-start)"
   ]
  },
  {
   "cell_type": "markdown",
   "metadata": {
    "colab_type": "text",
    "id": "xgd9y8AfirZW"
   },
   "source": [
    "### Model Performance"
   ]
  },
  {
   "cell_type": "code",
   "execution_count": 64,
   "metadata": {
    "colab": {
     "base_uri": "https://localhost:8080/",
     "height": 977
    },
    "colab_type": "code",
    "executionInfo": {
     "elapsed": 136681,
     "status": "ok",
     "timestamp": 1588385579379,
     "user": {
      "displayName": "An Tran",
      "photoUrl": "",
      "userId": "10274312836707434279"
     },
     "user_tz": 420
    },
    "id": "q38yCFqCirZX",
    "outputId": "a9334ebb-20f8-45f3-f57d-f905276639c4"
   },
   "outputs": [
    {
     "name": "stdout",
     "output_type": "stream",
     "text": [
      "TRAINING SET\n",
      "Threshold: 0.15\n",
      "TP: 7683\n",
      "TN: 154026\n",
      "FP: 26955\n",
      "FN: 12426\n",
      "Accuracy: 0.8\n",
      "Sensitivity: 0.38\n",
      "Specificity: 0.85\n",
      "Precision: 0.22\n",
      "Recall (Detection rate): 0.38\n",
      "F1-score: 0.28\n",
      "AUC: 0.68\n",
      "FPR (False alarm rate): 0.15\n",
      "FNR: 0.62\n",
      "Kappa: 0.18\n"
     ]
    },
    {
     "data": {
      "image/png": "[encoded data removed]",
      "text/plain": [
       "<Figure size 288x216 with 1 Axes>"
      ]
     },
     "metadata": {
      "needs_background": "light",
      "tags": []
     },
     "output_type": "display_data"
    },
    {
     "name": "stdout",
     "output_type": "stream",
     "text": [
      "TEST SET\n",
      "Threshold: 0.15\n",
      "TP: 1869\n",
      "TN: 225659\n",
      "FP: 39420\n",
      "FN: 3158\n",
      "Accuracy: 0.84\n",
      "Sensitivity: 0.37\n",
      "Specificity: 0.85\n",
      "Precision: 0.05\n",
      "Recall (Detection rate): 0.37\n",
      "F1-score: 0.1\n",
      "AUC: 0.67\n",
      "FPR (False alarm rate): 0.15\n",
      "FNR: 0.63\n",
      "Kappa: 0.05\n"
     ]
    },
    {
     "data": {
      "image/png": "[encoded data removed]",
      "text/plain": [
       "<Figure size 288x216 with 1 Axes>"
      ]
     },
     "metadata": {
      "needs_background": "light",
      "tags": []
     },
     "output_type": "display_data"
    }
   ],
   "source": [
    "results_train_lr_9010_rfe, results_test_lr_9010_rfe, \\\n",
    "y_pred_prob_train_lr_9010_rfe, y_pred_prob_test_lr_9010_rfe = model_evaluation2(lr_9010_rfe, \n",
    "                                                                                X_9010_rfe, y_9010_rfe,\n",
    "                                                                                X_test.loc[:, rfe_feat], y_test,\n",
    "                                                                                print_ = 1)"
   ]
  },
  {
   "cell_type": "markdown",
   "metadata": {
    "colab_type": "text",
    "id": "TLeOUVu8irZa"
   },
   "source": [
    "### Save results to dataframe"
   ]
  },
  {
   "cell_type": "code",
   "execution_count": 0,
   "metadata": {
    "colab": {},
    "colab_type": "code",
    "id": "8dtdJ4NPirZb"
   },
   "outputs": [],
   "source": [
    "lr_results_train = lr_results_train.append(results_train_lr_9010_rfe.rename(index={results_train_lr_9010_rfe.index[-1]: 'LR 90/10 Ratio with Feature Selection'}))\n",
    "lr_results_test = lr_results_test.append(results_test_lr_9010_rfe.rename(index={results_test_lr_9010_rfe.index[-1]: 'LR 90/10 Ratio with Feature Selection'}))"
   ]
  },
  {
   "cell_type": "markdown",
   "metadata": {
    "colab_type": "text",
    "id": "aADnwv3NjrqA"
   },
   "source": [
    "# 95/5 Ratio: All features"
   ]
  },
  {
   "cell_type": "code",
   "execution_count": 0,
   "metadata": {
    "colab": {},
    "colab_type": "code",
    "id": "gEUHeLJ-jrqG"
   },
   "outputs": [],
   "source": [
    "lr_9505 = LogisticRegression(solver='lbfgs', random_state=seed, max_iter=1000)"
   ]
  },
  {
   "cell_type": "code",
   "execution_count": 67,
   "metadata": {
    "colab": {
     "base_uri": "https://localhost:8080/",
     "height": 34
    },
    "colab_type": "code",
    "executionInfo": {
     "elapsed": 141242,
     "status": "ok",
     "timestamp": 1588385584137,
     "user": {
      "displayName": "An Tran",
      "photoUrl": "",
      "userId": "10274312836707434279"
     },
     "user_tz": 420
    },
    "id": "da_owRfLjrqR",
    "outputId": "edee06fe-093f-4e76-e51e-85f7040d7743"
   },
   "outputs": [
    {
     "name": "stdout",
     "output_type": "stream",
     "text": [
      "Training took:  0:00:04.710842\n"
     ]
    }
   ],
   "source": [
    "start = datetime.now()\n",
    "\n",
    "lr_9505.fit(X_9505, y_9505)\n",
    "\n",
    "print('Training took: ', datetime.now()-start)"
   ]
  },
  {
   "cell_type": "markdown",
   "metadata": {
    "colab_type": "text",
    "id": "RTcFWyMujrqZ"
   },
   "source": [
    "### Performance on training and test set"
   ]
  },
  {
   "cell_type": "code",
   "execution_count": 68,
   "metadata": {
    "colab": {
     "base_uri": "https://localhost:8080/",
     "height": 977
    },
    "colab_type": "code",
    "executionInfo": {
     "elapsed": 146291,
     "status": "ok",
     "timestamp": 1588385589206,
     "user": {
      "displayName": "An Tran",
      "photoUrl": "",
      "userId": "10274312836707434279"
     },
     "user_tz": 420
    },
    "id": "_X-bFFMVjrqd",
    "outputId": "79de7be7-8d15-4418-f5cb-a89f9a2a42f2"
   },
   "outputs": [
    {
     "name": "stdout",
     "output_type": "stream",
     "text": [
      "TRAINING SET\n",
      "Threshold: 0.09\n",
      "TP: 5472\n",
      "TN: 349470\n",
      "FP: 32601\n",
      "FN: 14637\n",
      "Accuracy: 0.88\n",
      "Sensitivity: 0.27\n",
      "Specificity: 0.91\n",
      "Precision: 0.14\n",
      "Recall (Detection rate): 0.27\n",
      "F1-score: 0.19\n",
      "AUC: 0.68\n",
      "FPR (False alarm rate): 0.09\n",
      "FNR: 0.73\n",
      "Kappa: 0.13\n"
     ]
    },
    {
     "data": {
      "image/png": "[encoded data removed]",
      "text/plain": [
       "<Figure size 288x216 with 1 Axes>"
      ]
     },
     "metadata": {
      "needs_background": "light",
      "tags": []
     },
     "output_type": "display_data"
    },
    {
     "name": "stdout",
     "output_type": "stream",
     "text": [
      "TEST SET\n",
      "Threshold: 0.09\n",
      "TP: 1324\n",
      "TN: 242292\n",
      "FP: 22787\n",
      "FN: 3703\n",
      "Accuracy: 0.9\n",
      "Sensitivity: 0.26\n",
      "Specificity: 0.91\n",
      "Precision: 0.05\n",
      "Recall (Detection rate): 0.26\n",
      "F1-score: 0.1\n",
      "AUC: 0.67\n",
      "FPR (False alarm rate): 0.09\n",
      "FNR: 0.74\n",
      "Kappa: 0.06\n"
     ]
    },
    {
     "data": {
      "image/png": "[encoded data removed]",
      "text/plain": [
       "<Figure size 288x216 with 1 Axes>"
      ]
     },
     "metadata": {
      "needs_background": "light",
      "tags": []
     },
     "output_type": "display_data"
    }
   ],
   "source": [
    "results_train_lr_9505, results_test_lr_9505, \\\n",
    "y_pred_prob_train_lr_9505, y_pred_prob_test_lr_9505 = model_evaluation2(lr_9505, \n",
    "                                                                        X_9505, y_9505,\n",
    "                                                                        X_test, y_test,\n",
    "                                                                        print_ = 1)"
   ]
  },
  {
   "cell_type": "markdown",
   "metadata": {
    "colab_type": "text",
    "id": "Ky6_EVYQjrql"
   },
   "source": [
    "### Save results to dataframe"
   ]
  },
  {
   "cell_type": "code",
   "execution_count": 0,
   "metadata": {
    "colab": {},
    "colab_type": "code",
    "id": "0XLjaLLMjrql"
   },
   "outputs": [],
   "source": [
    "lr_results_train = lr_results_train.append(results_train_lr_9505.rename(index={results_train_lr_9505.index[-1]: 'LR 95/05 Ratio All features'}))\n",
    "lr_results_test = lr_results_test.append(results_test_lr_9505.rename(index={results_test_lr_9505.index[-1]: 'LR 95/05 Ratio All features'}))"
   ]
  },
  {
   "cell_type": "markdown",
   "metadata": {
    "colab_type": "text",
    "id": "fQEuK-uAjrqp"
   },
   "source": [
    "# 95/05 Ratio: Feature selection"
   ]
  },
  {
   "cell_type": "markdown",
   "metadata": {
    "colab_type": "text",
    "id": "HuVApPKljrqr"
   },
   "source": [
    "### Use the selected features for 95/05 dataset"
   ]
  },
  {
   "cell_type": "code",
   "execution_count": 0,
   "metadata": {
    "colab": {},
    "colab_type": "code",
    "id": "JRH7vYPFjrqs"
   },
   "outputs": [],
   "source": [
    "X_9505_rfe, y_9505_rfe = ratio9505.fit_resample(X_all.loc[:, rfe_feat], y_all)"
   ]
  },
  {
   "cell_type": "markdown",
   "metadata": {
    "colab_type": "text",
    "id": "tCYXHQssjrqx"
   },
   "source": [
    "### Model"
   ]
  },
  {
   "cell_type": "code",
   "execution_count": 0,
   "metadata": {
    "colab": {},
    "colab_type": "code",
    "id": "PH8eZQdYjrqy"
   },
   "outputs": [],
   "source": [
    "lr_9505_rfe = LogisticRegression(solver='lbfgs', random_state=seed, max_iter=1000)"
   ]
  },
  {
   "cell_type": "code",
   "execution_count": 72,
   "metadata": {
    "colab": {
     "base_uri": "https://localhost:8080/",
     "height": 34
    },
    "colab_type": "code",
    "executionInfo": {
     "elapsed": 151944,
     "status": "ok",
     "timestamp": 1588385594890,
     "user": {
      "displayName": "An Tran",
      "photoUrl": "",
      "userId": "10274312836707434279"
     },
     "user_tz": 420
    },
    "id": "G86DKQrzjrq1",
    "outputId": "5c92aaaa-102f-4bbb-d164-dd01419b6c76"
   },
   "outputs": [
    {
     "name": "stdout",
     "output_type": "stream",
     "text": [
      "Training took:  0:00:04.695993\n"
     ]
    }
   ],
   "source": [
    "start = datetime.now()\n",
    "\n",
    "lr_9505_rfe.fit(X_9505_rfe, y_9505_rfe)\n",
    "\n",
    "print('Training took: ', datetime.now()-start)"
   ]
  },
  {
   "cell_type": "markdown",
   "metadata": {
    "colab_type": "text",
    "id": "mCs3RR7mjrq4"
   },
   "source": [
    "### Model Performance"
   ]
  },
  {
   "cell_type": "code",
   "execution_count": 73,
   "metadata": {
    "colab": {
     "base_uri": "https://localhost:8080/",
     "height": 977
    },
    "colab_type": "code",
    "executionInfo": {
     "elapsed": 156960,
     "status": "ok",
     "timestamp": 1588385599925,
     "user": {
      "displayName": "An Tran",
      "photoUrl": "",
      "userId": "10274312836707434279"
     },
     "user_tz": 420
    },
    "id": "HA-xixPQjrq5",
    "outputId": "31ae1acf-0519-417c-d2b8-75c45cb7c214"
   },
   "outputs": [
    {
     "name": "stdout",
     "output_type": "stream",
     "text": [
      "TRAINING SET\n",
      "Threshold: 0.09\n",
      "TP: 6008\n",
      "TN: 344297\n",
      "FP: 37774\n",
      "FN: 14101\n",
      "Accuracy: 0.87\n",
      "Sensitivity: 0.3\n",
      "Specificity: 0.9\n",
      "Precision: 0.14\n",
      "Recall (Detection rate): 0.3\n",
      "F1-score: 0.19\n",
      "AUC: 0.68\n",
      "FPR (False alarm rate): 0.1\n",
      "FNR: 0.7\n",
      "Kappa: 0.13\n"
     ]
    },
    {
     "data": {
      "image/png": "[encoded data removed]",
      "text/plain": [
       "<Figure size 288x216 with 1 Axes>"
      ]
     },
     "metadata": {
      "needs_background": "light",
      "tags": []
     },
     "output_type": "display_data"
    },
    {
     "name": "stdout",
     "output_type": "stream",
     "text": [
      "TEST SET\n",
      "Threshold: 0.09\n",
      "TP: 1467\n",
      "TN: 238687\n",
      "FP: 26392\n",
      "FN: 3560\n",
      "Accuracy: 0.89\n",
      "Sensitivity: 0.29\n",
      "Specificity: 0.9\n",
      "Precision: 0.05\n",
      "Recall (Detection rate): 0.29\n",
      "F1-score: 0.1\n",
      "AUC: 0.67\n",
      "FPR (False alarm rate): 0.1\n",
      "FNR: 0.71\n",
      "Kappa: 0.06\n"
     ]
    },
    {
     "data": {
      "image/png": "[encoded data removed]",
      "text/plain": [
       "<Figure size 288x216 with 1 Axes>"
      ]
     },
     "metadata": {
      "needs_background": "light",
      "tags": []
     },
     "output_type": "display_data"
    }
   ],
   "source": [
    "results_train_lr_9505_rfe, results_test_lr_9505_rfe, \\\n",
    "y_pred_prob_train_lr_9505_rfe, y_pred_prob_test_lr_9505_rfe = model_evaluation2(lr_9505_rfe, \n",
    "                                                                                X_9505_rfe, y_9505_rfe,\n",
    "                                                                                X_test.loc[:, rfe_feat], y_test,\n",
    "                                                                                print_ = 1)"
   ]
  },
  {
   "cell_type": "markdown",
   "metadata": {
    "colab_type": "text",
    "id": "wGRR83Dhjrq9"
   },
   "source": [
    "### Save results to dataframe"
   ]
  },
  {
   "cell_type": "code",
   "execution_count": 0,
   "metadata": {
    "colab": {},
    "colab_type": "code",
    "id": "2JisdQUKjrq9"
   },
   "outputs": [],
   "source": [
    "lr_results_train = lr_results_train.append(results_train_lr_9505_rfe.rename(index={results_train_lr_9505_rfe.index[-1]: 'LR 95/05 Ratio with Feature Selection'}))\n",
    "lr_results_test = lr_results_test.append(results_test_lr_9505_rfe.rename(index={results_test_lr_9505_rfe.index[-1]: 'LR 95/05 Ratio with Feature Selection'}))"
   ]
  },
  {
   "cell_type": "markdown",
   "metadata": {
    "colab_type": "text",
    "id": "tP1NwrsLlu73"
   },
   "source": [
    "# 98/2 Ratio: All features"
   ]
  },
  {
   "cell_type": "code",
   "execution_count": 0,
   "metadata": {
    "colab": {},
    "colab_type": "code",
    "id": "hB48bMuolu79"
   },
   "outputs": [],
   "source": [
    "lr_9802 = LogisticRegression(solver='lbfgs', random_state=seed, max_iter=1000)"
   ]
  },
  {
   "cell_type": "code",
   "execution_count": 76,
   "metadata": {
    "colab": {
     "base_uri": "https://localhost:8080/",
     "height": 34
    },
    "colab_type": "code",
    "executionInfo": {
     "elapsed": 169159,
     "status": "ok",
     "timestamp": 1588385612150,
     "user": {
      "displayName": "An Tran",
      "photoUrl": "",
      "userId": "10274312836707434279"
     },
     "user_tz": 420
    },
    "id": "LgBT_Lx4lu8G",
    "outputId": "e230e802-b023-4f8f-b165-03e58e635d83"
   },
   "outputs": [
    {
     "name": "stdout",
     "output_type": "stream",
     "text": [
      "Training took:  0:00:12.141807\n"
     ]
    }
   ],
   "source": [
    "start = datetime.now()\n",
    "\n",
    "lr_9802.fit(X_all, y_all)\n",
    "\n",
    "print('Training took: ', datetime.now()-start)"
   ]
  },
  {
   "cell_type": "markdown",
   "metadata": {
    "colab_type": "text",
    "id": "vJjGrdCElu8K"
   },
   "source": [
    "### Performance on training and test set"
   ]
  },
  {
   "cell_type": "code",
   "execution_count": 77,
   "metadata": {
    "colab": {
     "base_uri": "https://localhost:8080/",
     "height": 977
    },
    "colab_type": "code",
    "executionInfo": {
     "elapsed": 178901,
     "status": "ok",
     "timestamp": 1588385621912,
     "user": {
      "displayName": "An Tran",
      "photoUrl": "",
      "userId": "10274312836707434279"
     },
     "user_tz": 420
    },
    "id": "oybix07Flu8L",
    "outputId": "4c8affe5-790c-4994-a13b-2e1c477882c9"
   },
   "outputs": [
    {
     "name": "stdout",
     "output_type": "stream",
     "text": [
      "TRAINING SET\n",
      "Threshold: 0.05\n",
      "TP: 3431\n",
      "TN: 1016595\n",
      "FP: 43720\n",
      "FN: 16678\n",
      "Accuracy: 0.94\n",
      "Sensitivity: 0.17\n",
      "Specificity: 0.96\n",
      "Precision: 0.07\n",
      "Recall (Detection rate): 0.17\n",
      "F1-score: 0.1\n",
      "AUC: 0.68\n",
      "FPR (False alarm rate): 0.04\n",
      "FNR: 0.83\n",
      "Kappa: 0.08\n"
     ]
    },
    {
     "data": {
      "image/png": "[encoded data removed]",
      "text/plain": [
       "<Figure size 288x216 with 1 Axes>"
      ]
     },
     "metadata": {
      "needs_background": "light",
      "tags": []
     },
     "output_type": "display_data"
    },
    {
     "name": "stdout",
     "output_type": "stream",
     "text": [
      "TEST SET\n",
      "Threshold: 0.05\n",
      "TP: 818\n",
      "TN: 254075\n",
      "FP: 11004\n",
      "FN: 4209\n",
      "Accuracy: 0.94\n",
      "Sensitivity: 0.16\n",
      "Specificity: 0.96\n",
      "Precision: 0.07\n",
      "Recall (Detection rate): 0.16\n",
      "F1-score: 0.1\n",
      "AUC: 0.67\n",
      "FPR (False alarm rate): 0.04\n",
      "FNR: 0.84\n",
      "Kappa: 0.07\n"
     ]
    },
    {
     "data": {
      "image/png": "[encoded data removed]",
      "text/plain": [
       "<Figure size 288x216 with 1 Axes>"
      ]
     },
     "metadata": {
      "needs_background": "light",
      "tags": []
     },
     "output_type": "display_data"
    }
   ],
   "source": [
    "results_train_lr_9802, results_test_lr_9802, \\\n",
    "y_pred_prob_train_lr_9802, y_pred_prob_test_lr_9802 = model_evaluation2(lr_9802, \n",
    "                                                                        X_all, y_all,\n",
    "                                                                        X_test, y_test,\n",
    "                                                                        print_ = 1)"
   ]
  },
  {
   "cell_type": "markdown",
   "metadata": {
    "colab_type": "text",
    "id": "tz5wXfzxlu8O"
   },
   "source": [
    "### Save results to dataframe"
   ]
  },
  {
   "cell_type": "code",
   "execution_count": 0,
   "metadata": {
    "colab": {},
    "colab_type": "code",
    "id": "JgLvnSFElu8P"
   },
   "outputs": [],
   "source": [
    "lr_results_train = lr_results_train.append(results_train_lr_9802.rename(index={results_train_lr_9802.index[-1]: 'LR 98/02 Ratio All features'}))\n",
    "lr_results_test = lr_results_test.append(results_test_lr_9802.rename(index={results_test_lr_9802.index[-1]: 'LR 98/02 Ratio All features'}))"
   ]
  },
  {
   "cell_type": "markdown",
   "metadata": {
    "colab_type": "text",
    "id": "yhbDcZgLlu8V"
   },
   "source": [
    "# 98/02 Ratio: Feature selection"
   ]
  },
  {
   "cell_type": "markdown",
   "metadata": {
    "colab_type": "text",
    "id": "4Btn2CGJlu8V"
   },
   "source": [
    "### Use the selected features for 98/02 dataset"
   ]
  },
  {
   "cell_type": "code",
   "execution_count": 0,
   "metadata": {
    "colab": {},
    "colab_type": "code",
    "id": "ck7t67XElu8W"
   },
   "outputs": [],
   "source": [
    "X_9802_rfe, y_9802_rfe = X_all.loc[:, rfe_feat], y_all"
   ]
  },
  {
   "cell_type": "markdown",
   "metadata": {
    "colab_type": "text",
    "id": "Gweg14rOlu8Z"
   },
   "source": [
    "### Model"
   ]
  },
  {
   "cell_type": "code",
   "execution_count": 0,
   "metadata": {
    "colab": {},
    "colab_type": "code",
    "id": "IAXf3UtNlu8a"
   },
   "outputs": [],
   "source": [
    "lr_9802_rfe = LogisticRegression(solver='lbfgs', random_state=seed, max_iter=1000)"
   ]
  },
  {
   "cell_type": "code",
   "execution_count": 81,
   "metadata": {
    "colab": {
     "base_uri": "https://localhost:8080/",
     "height": 34
    },
    "colab_type": "code",
    "executionInfo": {
     "elapsed": 190350,
     "status": "ok",
     "timestamp": 1588385633391,
     "user": {
      "displayName": "An Tran",
      "photoUrl": "",
      "userId": "10274312836707434279"
     },
     "user_tz": 420
    },
    "id": "dc-33Doilu8d",
    "outputId": "1933c815-e912-41c5-a22d-38ca82faa0db"
   },
   "outputs": [
    {
     "name": "stdout",
     "output_type": "stream",
     "text": [
      "Training took:  0:00:11.332830\n"
     ]
    }
   ],
   "source": [
    "start = datetime.now()\n",
    "\n",
    "lr_9802_rfe.fit(X_9802_rfe, y_9802_rfe)\n",
    "\n",
    "print('Training took: ', datetime.now()-start)"
   ]
  },
  {
   "cell_type": "markdown",
   "metadata": {
    "colab_type": "text",
    "id": "EVqLUJqPlu8g"
   },
   "source": [
    "### Model Performance"
   ]
  },
  {
   "cell_type": "code",
   "execution_count": 82,
   "metadata": {
    "colab": {
     "base_uri": "https://localhost:8080/",
     "height": 977
    },
    "colab_type": "code",
    "executionInfo": {
     "elapsed": 200073,
     "status": "ok",
     "timestamp": 1588385643136,
     "user": {
      "displayName": "An Tran",
      "photoUrl": "",
      "userId": "10274312836707434279"
     },
     "user_tz": 420
    },
    "id": "z3DH4JTglu8h",
    "outputId": "cd719766-a0e9-4734-b0f0-97780614306f"
   },
   "outputs": [
    {
     "name": "stdout",
     "output_type": "stream",
     "text": [
      "TRAINING SET\n",
      "Threshold: 0.04\n",
      "TP: 3582\n",
      "TN: 1013283\n",
      "FP: 47032\n",
      "FN: 16527\n",
      "Accuracy: 0.94\n",
      "Sensitivity: 0.18\n",
      "Specificity: 0.96\n",
      "Precision: 0.07\n",
      "Recall (Detection rate): 0.18\n",
      "F1-score: 0.1\n",
      "AUC: 0.68\n",
      "FPR (False alarm rate): 0.04\n",
      "FNR: 0.82\n",
      "Kappa: 0.08\n"
     ]
    },
    {
     "data": {
      "image/png": "[encoded data removed]",
      "text/plain": [
       "<Figure size 288x216 with 1 Axes>"
      ]
     },
     "metadata": {
      "needs_background": "light",
      "tags": []
     },
     "output_type": "display_data"
    },
    {
     "name": "stdout",
     "output_type": "stream",
     "text": [
      "TEST SET\n",
      "Threshold: 0.04\n",
      "TP: 862\n",
      "TN: 253183\n",
      "FP: 11896\n",
      "FN: 4165\n",
      "Accuracy: 0.94\n",
      "Sensitivity: 0.17\n",
      "Specificity: 0.96\n",
      "Precision: 0.07\n",
      "Recall (Detection rate): 0.17\n",
      "F1-score: 0.1\n",
      "AUC: 0.67\n",
      "FPR (False alarm rate): 0.04\n",
      "FNR: 0.83\n",
      "Kappa: 0.07\n"
     ]
    },
    {
     "data": {
      "image/png": "[encoded data removed]",
      "text/plain": [
       "<Figure size 288x216 with 1 Axes>"
      ]
     },
     "metadata": {
      "needs_background": "light",
      "tags": []
     },
     "output_type": "display_data"
    }
   ],
   "source": [
    "results_train_lr_9802_rfe, results_test_lr_9802_rfe, \\\n",
    "y_pred_prob_train_lr_9802_rfe, y_pred_prob_test_lr_9802_rfe = model_evaluation2(lr_9802_rfe, \n",
    "                                                                                X_9802_rfe, y_9802_rfe,\n",
    "                                                                                X_test.loc[:, rfe_feat], y_test,\n",
    "                                                                                print_ = 1)"
   ]
  },
  {
   "cell_type": "markdown",
   "metadata": {
    "colab_type": "text",
    "id": "ZAvrFps2lu8l"
   },
   "source": [
    "### Save results to dataframe"
   ]
  },
  {
   "cell_type": "code",
   "execution_count": 0,
   "metadata": {
    "colab": {},
    "colab_type": "code",
    "id": "K5Va7beZlu8m"
   },
   "outputs": [],
   "source": [
    "lr_results_train = lr_results_train.append(results_train_lr_9802_rfe.rename(index={results_train_lr_9802_rfe.index[-1]: 'LR 98/02 Ratio with Feature Selection'}))\n",
    "lr_results_test = lr_results_test.append(results_test_lr_9802_rfe.rename(index={results_test_lr_9802_rfe.index[-1]: 'LR 98/02 Ratio with Feature Selection'}))"
   ]
  },
  {
   "cell_type": "markdown",
   "metadata": {
    "colab_type": "text",
    "id": "xN05otjXncpG"
   },
   "source": [
    "### Write the Results dataframe to CSV files"
   ]
  },
  {
   "cell_type": "code",
   "execution_count": 0,
   "metadata": {
    "colab": {},
    "colab_type": "code",
    "id": "p7GLFjVincBO"
   },
   "outputs": [],
   "source": [
    "lr_results_train.to_csv('LogisticRegression_Train_Results.csv', index=True)\n",
    "lr_results_test.to_csv('LogisticRegression_Test_Results.csv', index=True)"
   ]
  },
  {
   "cell_type": "markdown",
   "metadata": {
    "colab_type": "text",
    "id": "-knnZiMq2Pn-"
   },
   "source": [
    "### Select the 2 best models from training with all features and with feature selection for comparison "
   ]
  },
  {
   "cell_type": "code",
   "execution_count": 85,
   "metadata": {
    "colab": {
     "base_uri": "https://localhost:8080/",
     "height": 51
    },
    "colab_type": "code",
    "executionInfo": {
     "elapsed": 200784,
     "status": "ok",
     "timestamp": 1588385643874,
     "user": {
      "displayName": "An Tran",
      "photoUrl": "",
      "userId": "10274312836707434279"
     },
     "user_tz": 420
    },
    "id": "RHP0In-82POU",
    "outputId": "93ef81e0-44d5-445d-9c2c-3fb8e323d794"
   },
   "outputs": [
    {
     "name": "stdout",
     "output_type": "stream",
     "text": [
      "Best model with all features:  LR 98/02 Ratio All features\n",
      "Best model with feature selection:  LR 98/02 Ratio with Feature Selection\n"
     ]
    }
   ],
   "source": [
    "print('Best model with all features: ', lr_results_test.sort_values(by='F1', axis=0, ascending=False).loc[lr_results_test['# features']==64].index[0])\n",
    "print('Best model with feature selection: ', lr_results_test.sort_values(by='F1', axis=0, ascending=False).loc[lr_results_test['# features']==53].index[0])\n"
   ]
  },
  {
   "cell_type": "markdown",
   "metadata": {
    "colab_type": "text",
    "id": "ixQcckn_5tOW"
   },
   "source": [
    "### Let's compare these 2 features using AIC and BIC"
   ]
  },
  {
   "cell_type": "code",
   "execution_count": 0,
   "metadata": {
    "colab": {},
    "colab_type": "code",
    "id": "MANknAqg8ENj"
   },
   "outputs": [],
   "source": [
    "import statsmodels.api as sm"
   ]
  },
  {
   "cell_type": "markdown",
   "metadata": {
    "colab_type": "text",
    "id": "8h9yYMIj8J6I"
   },
   "source": [
    "### AIC & BIC of logistic regression trained on all variables"
   ]
  },
  {
   "cell_type": "code",
   "execution_count": 0,
   "metadata": {
    "colab": {},
    "colab_type": "code",
    "id": "2e1uCua18F-L"
   },
   "outputs": [],
   "source": [
    "logit_all_vars = sm.Logit(y_all, X_all)\n",
    "result_all = logit_all_vars.fit()\n",
    "result_all.summary2()"
   ]
  },
  {
   "cell_type": "markdown",
   "metadata": {
    "colab_type": "text",
    "id": "ZMSZmB588Wu3"
   },
   "source": [
    "### AIC & BIC of logistic regression trained on selected features"
   ]
  },
  {
   "cell_type": "code",
   "execution_count": 89,
   "metadata": {
    "colab": {
     "base_uri": "https://localhost:8080/",
     "height": 1000
    },
    "colab_type": "code",
    "executionInfo": {
     "elapsed": 14915,
     "status": "ok",
     "timestamp": 1588385718463,
     "user": {
      "displayName": "An Tran",
      "photoUrl": "",
      "userId": "10274312836707434279"
     },
     "user_tz": 420
    },
    "id": "YFtHvJ-48eGh",
    "outputId": "06d233b8-8a8b-4e61-9379-4de40fe4600e"
   },
   "outputs": [
    {
     "name": "stdout",
     "output_type": "stream",
     "text": [
      "Optimization terminated successfully.\n",
      "         Current function value: 0.356127\n",
      "         Iterations 8\n"
     ]
    },
    {
     "data": {
      "text/html": [
       "<table class=\"simpletable\">\n",
       "<tr>\n",
       "        <td>Model:</td>              <td>Logit</td>      <td>Pseudo R-squared:</td>   <td>-2.846</td>   \n",
       "</tr>\n",
       "<tr>\n",
       "  <td>Dependent Variable:</td>    <td>SepsisLabel</td>         <td>AIC:</td>        <td>769643.1241</td>\n",
       "</tr>\n",
       "<tr>\n",
       "         <td>Date:</td>        <td>2020-05-02 02:15</td>       <td>BIC:</td>        <td>770273.4459</td>\n",
       "</tr>\n",
       "<tr>\n",
       "   <td>No. Observations:</td>       <td>1080424</td>      <td>Log-Likelihood:</td>  <td>-3.8477e+05</td>\n",
       "</tr>\n",
       "<tr>\n",
       "       <td>Df Model:</td>             <td>52</td>            <td>LL-Null:</td>      <td>-1.0003e+05</td>\n",
       "</tr>\n",
       "<tr>\n",
       "     <td>Df Residuals:</td>         <td>1080371</td>       <td>LLR p-value:</td>      <td>1.0000</td>   \n",
       "</tr>\n",
       "<tr>\n",
       "      <td>Converged:</td>           <td>1.0000</td>           <td>Scale:</td>         <td>1.0000</td>   \n",
       "</tr>\n",
       "<tr>\n",
       "    <td>No. Iterations:</td>        <td>8.0000</td>              <td></td>               <td></td>      \n",
       "</tr>\n",
       "</table>\n",
       "<table class=\"simpletable\">\n",
       "<tr>\n",
       "       <td></td>        <th>Coef.</th>  <th>Std.Err.</th>     <th>z</th>      <th>P>|z|</th> <th>[0.025</th>  <th>0.975]</th> \n",
       "</tr>\n",
       "<tr>\n",
       "  <th>Temp_diff3</th>  <td>0.0116</td>   <td>0.0028</td>   <td>4.1281</td>   <td>0.0000</td> <td>0.0061</td>  <td>0.0171</td> \n",
       "</tr>\n",
       "<tr>\n",
       "  <th>Resp_std</th>    <td>-0.0275</td>  <td>0.0054</td>   <td>-5.0972</td>  <td>0.0000</td> <td>-0.0381</td> <td>-0.0169</td>\n",
       "</tr>\n",
       "<tr>\n",
       "  <th>O2Sat_std</th>   <td>0.0268</td>   <td>0.0092</td>   <td>2.9078</td>   <td>0.0036</td> <td>0.0087</td>  <td>0.0449</td> \n",
       "</tr>\n",
       "<tr>\n",
       "  <th>DBP_std</th>     <td>0.1551</td>   <td>0.0092</td>   <td>16.9242</td>  <td>0.0000</td> <td>0.1371</td>  <td>0.1731</td> \n",
       "</tr>\n",
       "<tr>\n",
       "  <th>SBP_std</th>     <td>-0.1478</td>  <td>0.0097</td>  <td>-15.2853</td>  <td>0.0000</td> <td>-0.1668</td> <td>-0.1289</td>\n",
       "</tr>\n",
       "<tr>\n",
       "  <th>HR_diff1</th>    <td>0.0078</td>   <td>0.0031</td>   <td>2.5403</td>   <td>0.0111</td> <td>0.0018</td>  <td>0.0138</td> \n",
       "</tr>\n",
       "<tr>\n",
       "  <th>O2Sat_diff1</th> <td>-0.0048</td>  <td>0.0030</td>   <td>-1.5802</td>  <td>0.1141</td> <td>-0.0107</td> <td>0.0011</td> \n",
       "</tr>\n",
       "<tr>\n",
       "  <th>Temp_diff2</th>  <td>0.0105</td>   <td>0.0028</td>   <td>3.7285</td>   <td>0.0002</td> <td>0.0050</td>  <td>0.0160</td> \n",
       "</tr>\n",
       "<tr>\n",
       "  <th>HR_diff5</th>    <td>0.0093</td>   <td>0.0031</td>   <td>2.9795</td>   <td>0.0029</td> <td>0.0032</td>  <td>0.0155</td> \n",
       "</tr>\n",
       "<tr>\n",
       "  <th>Temp_diff4</th>  <td>0.0145</td>   <td>0.0028</td>   <td>5.1770</td>   <td>0.0000</td> <td>0.0090</td>  <td>0.0201</td> \n",
       "</tr>\n",
       "<tr>\n",
       "  <th>Resp_diff5</th>  <td>-0.0036</td>  <td>0.0031</td>   <td>-1.1811</td>  <td>0.2376</td> <td>-0.0096</td> <td>0.0024</td> \n",
       "</tr>\n",
       "<tr>\n",
       "  <th>HR_diff4</th>    <td>0.0159</td>   <td>0.0032</td>   <td>4.9747</td>   <td>0.0000</td> <td>0.0096</td>  <td>0.0221</td> \n",
       "</tr>\n",
       "<tr>\n",
       "  <th>HR_diff2</th>    <td>0.0132</td>   <td>0.0032</td>   <td>4.1183</td>   <td>0.0000</td> <td>0.0069</td>  <td>0.0194</td> \n",
       "</tr>\n",
       "<tr>\n",
       "  <th>HR_diff3</th>    <td>0.0147</td>   <td>0.0032</td>   <td>4.6058</td>   <td>0.0000</td> <td>0.0085</td>  <td>0.0210</td> \n",
       "</tr>\n",
       "<tr>\n",
       "  <th>Resp_min</th>    <td>-0.0505</td>  <td>0.0100</td>   <td>-5.0358</td>  <td>0.0000</td> <td>-0.0702</td> <td>-0.0309</td>\n",
       "</tr>\n",
       "<tr>\n",
       "  <th>O2Sat_diff2</th> <td>-0.0040</td>  <td>0.0032</td>   <td>-1.2555</td>  <td>0.2093</td> <td>-0.0104</td> <td>0.0023</td> \n",
       "</tr>\n",
       "<tr>\n",
       "  <th>O2Sat_diff3</th> <td>-0.0042</td>  <td>0.0030</td>   <td>-1.3963</td>  <td>0.1626</td> <td>-0.0101</td> <td>0.0017</td> \n",
       "</tr>\n",
       "<tr>\n",
       "  <th>Resp_diff4</th>  <td>-0.0006</td>  <td>0.0030</td>   <td>-0.2091</td>  <td>0.8344</td> <td>-0.0066</td> <td>0.0053</td> \n",
       "</tr>\n",
       "<tr>\n",
       "  <th>O2Sat_mean</th>  <td>-0.0873</td>  <td>0.0115</td>   <td>-7.5650</td>  <td>0.0000</td> <td>-0.1100</td> <td>-0.0647</td>\n",
       "</tr>\n",
       "<tr>\n",
       "  <th>Resp_mean</th>   <td>0.1043</td>   <td>0.0102</td>   <td>10.2566</td>  <td>0.0000</td> <td>0.0844</td>  <td>0.1243</td> \n",
       "</tr>\n",
       "<tr>\n",
       "  <th>Temp_diff1</th>  <td>0.0040</td>   <td>0.0028</td>   <td>1.4254</td>   <td>0.1540</td> <td>-0.0015</td> <td>0.0096</td> \n",
       "</tr>\n",
       "<tr>\n",
       "  <th>Temp_diff5</th>  <td>0.0116</td>   <td>0.0028</td>   <td>4.1391</td>   <td>0.0000</td> <td>0.0061</td>  <td>0.0171</td> \n",
       "</tr>\n",
       "<tr>\n",
       "  <th>MAP_min</th>     <td>-0.0538</td>  <td>0.0129</td>   <td>-4.1587</td>  <td>0.0000</td> <td>-0.0791</td> <td>-0.0284</td>\n",
       "</tr>\n",
       "<tr>\n",
       "  <th>DBP_diff1</th>   <td>0.0085</td>   <td>0.0041</td>   <td>2.0741</td>   <td>0.0381</td> <td>0.0005</td>  <td>0.0166</td> \n",
       "</tr>\n",
       "<tr>\n",
       "  <th>SBP_diff1</th>   <td>-0.0023</td>  <td>0.0042</td>   <td>-0.5447</td>  <td>0.5860</td> <td>-0.0105</td> <td>0.0059</td> \n",
       "</tr>\n",
       "<tr>\n",
       "  <th>O2Sat_min</th>   <td>0.0202</td>   <td>0.0140</td>   <td>1.4466</td>   <td>0.1480</td> <td>-0.0072</td> <td>0.0476</td> \n",
       "</tr>\n",
       "<tr>\n",
       "  <th>SBP_min</th>     <td>-0.1250</td>  <td>0.0140</td>   <td>-8.9079</td>  <td>0.0000</td> <td>-0.1526</td> <td>-0.0975</td>\n",
       "</tr>\n",
       "<tr>\n",
       "  <th>DBP_diff2</th>   <td>0.0077</td>   <td>0.0044</td>   <td>1.7675</td>   <td>0.0771</td> <td>-0.0008</td> <td>0.0163</td> \n",
       "</tr>\n",
       "<tr>\n",
       "  <th>DBP_min</th>     <td>0.1185</td>   <td>0.0147</td>   <td>8.0537</td>   <td>0.0000</td> <td>0.0897</td>  <td>0.1473</td> \n",
       "</tr>\n",
       "<tr>\n",
       "  <th>DBP_diff3</th>   <td>0.0040</td>   <td>0.0041</td>   <td>0.9912</td>   <td>0.3216</td> <td>-0.0039</td> <td>0.0120</td> \n",
       "</tr>\n",
       "<tr>\n",
       "  <th>SBP_diff2</th>   <td>0.0042</td>   <td>0.0046</td>   <td>0.9078</td>   <td>0.3640</td> <td>-0.0048</td> <td>0.0132</td> \n",
       "</tr>\n",
       "<tr>\n",
       "  <th>SBP_diff4</th>   <td>0.0051</td>   <td>0.0042</td>   <td>1.2113</td>   <td>0.2258</td> <td>-0.0031</td> <td>0.0132</td> \n",
       "</tr>\n",
       "<tr>\n",
       "  <th>SBP_diff3</th>   <td>0.0045</td>   <td>0.0046</td>   <td>0.9865</td>   <td>0.3239</td> <td>-0.0045</td> <td>0.0135</td> \n",
       "</tr>\n",
       "<tr>\n",
       "  <th>MAP_max</th>     <td>-0.0049</td>  <td>0.0152</td>   <td>-0.3187</td>  <td>0.7500</td> <td>-0.0347</td> <td>0.0250</td> \n",
       "</tr>\n",
       "<tr>\n",
       "  <th>MAP_diff1</th>   <td>-0.0075</td>  <td>0.0050</td>   <td>-1.4965</td>  <td>0.1345</td> <td>-0.0172</td> <td>0.0023</td> \n",
       "</tr>\n",
       "<tr>\n",
       "  <th>DBP_max</th>     <td>-0.3152</td>  <td>0.0165</td>  <td>-19.1387</td>  <td>0.0000</td> <td>-0.3475</td> <td>-0.2829</td>\n",
       "</tr>\n",
       "<tr>\n",
       "  <th>HR_max</th>      <td>0.2237</td>   <td>0.0175</td>   <td>12.7470</td>  <td>0.0000</td> <td>0.1893</td>  <td>0.2581</td> \n",
       "</tr>\n",
       "<tr>\n",
       "  <th>HR_min</th>      <td>-0.2356</td>  <td>0.0174</td>  <td>-13.5568</td>  <td>0.0000</td> <td>-0.2696</td> <td>-0.2015</td>\n",
       "</tr>\n",
       "<tr>\n",
       "  <th>Temp_max</th>    <td>0.1610</td>   <td>0.0099</td>   <td>16.2765</td>  <td>0.0000</td> <td>0.1416</td>  <td>0.1803</td> \n",
       "</tr>\n",
       "<tr>\n",
       "  <th>Temp_min</th>    <td>0.0227</td>   <td>0.0096</td>   <td>2.3672</td>   <td>0.0179</td> <td>0.0039</td>  <td>0.0416</td> \n",
       "</tr>\n",
       "<tr>\n",
       "  <th>MAP_diff2</th>   <td>-0.0143</td>  <td>0.0055</td>   <td>-2.5935</td>  <td>0.0095</td> <td>-0.0251</td> <td>-0.0035</td>\n",
       "</tr>\n",
       "<tr>\n",
       "  <th>SBP_mean</th>    <td>-0.2252</td>  <td>0.0177</td>  <td>-12.7520</td>  <td>0.0000</td> <td>-0.2598</td> <td>-0.1906</td>\n",
       "</tr>\n",
       "<tr>\n",
       "  <th>MAP_diff4</th>   <td>-0.0079</td>  <td>0.0043</td>   <td>-1.8590</td>  <td>0.0630</td> <td>-0.0163</td> <td>0.0004</td> \n",
       "</tr>\n",
       "<tr>\n",
       "  <th>MAP_diff3</th>   <td>-0.0130</td>  <td>0.0054</td>   <td>-2.3964</td>  <td>0.0166</td> <td>-0.0236</td> <td>-0.0024</td>\n",
       "</tr>\n",
       "<tr>\n",
       "  <th>MAP_mean</th>    <td>0.0835</td>   <td>0.0180</td>   <td>4.6313</td>   <td>0.0000</td> <td>0.0482</td>  <td>0.1189</td> \n",
       "</tr>\n",
       "<tr>\n",
       "  <th>SBP_max</th>     <td>0.3014</td>   <td>0.0185</td>   <td>16.2855</td>  <td>0.0000</td> <td>0.2651</td>  <td>0.3377</td> \n",
       "</tr>\n",
       "<tr>\n",
       "  <th>Temp_std</th>    <td>0.0178</td>   <td>0.0063</td>   <td>2.8450</td>   <td>0.0044</td> <td>0.0055</td>  <td>0.0301</td> \n",
       "</tr>\n",
       "<tr>\n",
       "  <th>DBP_mean</th>    <td>0.2304</td>   <td>0.0189</td>   <td>12.1945</td>  <td>0.0000</td> <td>0.1934</td>  <td>0.2675</td> \n",
       "</tr>\n",
       "<tr>\n",
       "  <th>HR_mean</th>     <td>-0.0556</td>  <td>0.0226</td>   <td>-2.4664</td>  <td>0.0136</td> <td>-0.0999</td> <td>-0.0114</td>\n",
       "</tr>\n",
       "<tr>\n",
       "  <th>HR_std</th>      <td>-0.1345</td>  <td>0.0075</td>  <td>-17.8466</td>  <td>0.0000</td> <td>-0.1493</td> <td>-0.1197</td>\n",
       "</tr>\n",
       "<tr>\n",
       "  <th>O2Sat_max</th>   <td>-0.0386</td>  <td>0.0078</td>   <td>-4.9436</td>  <td>0.0000</td> <td>-0.0540</td> <td>-0.0233</td>\n",
       "</tr>\n",
       "<tr>\n",
       "  <th>MAP_std</th>     <td>-0.0612</td>  <td>0.0078</td>   <td>-7.8826</td>  <td>0.0000</td> <td>-0.0764</td> <td>-0.0460</td>\n",
       "</tr>\n",
       "<tr>\n",
       "  <th>Gender</th>      <td>-3.9587</td>  <td>0.0093</td>  <td>-425.6240</td> <td>0.0000</td> <td>-3.9769</td> <td>-3.9405</td>\n",
       "</tr>\n",
       "</table>"
      ],
      "text/plain": [
       "<class 'statsmodels.iolib.summary2.Summary'>\n",
       "\"\"\"\n",
       "                          Results: Logit\n",
       "==================================================================\n",
       "Model:              Logit            Pseudo R-squared: -2.846     \n",
       "Dependent Variable: SepsisLabel      AIC:              769643.1241\n",
       "Date:               2020-05-02 02:15 BIC:              770273.4459\n",
       "No. Observations:   1080424          Log-Likelihood:   -3.8477e+05\n",
       "Df Model:           52               LL-Null:          -1.0003e+05\n",
       "Df Residuals:       1080371          LLR p-value:      1.0000     \n",
       "Converged:          1.0000           Scale:            1.0000     \n",
       "No. Iterations:     8.0000                                        \n",
       "-------------------------------------------------------------------\n",
       "              Coef.   Std.Err.      z      P>|z|    [0.025   0.975]\n",
       "-------------------------------------------------------------------\n",
       "Temp_diff3    0.0116    0.0028     4.1281  0.0000   0.0061   0.0171\n",
       "Resp_std     -0.0275    0.0054    -5.0972  0.0000  -0.0381  -0.0169\n",
       "O2Sat_std     0.0268    0.0092     2.9078  0.0036   0.0087   0.0449\n",
       "DBP_std       0.1551    0.0092    16.9242  0.0000   0.1371   0.1731\n",
       "SBP_std      -0.1478    0.0097   -15.2853  0.0000  -0.1668  -0.1289\n",
       "HR_diff1      0.0078    0.0031     2.5403  0.0111   0.0018   0.0138\n",
       "O2Sat_diff1  -0.0048    0.0030    -1.5802  0.1141  -0.0107   0.0011\n",
       "Temp_diff2    0.0105    0.0028     3.7285  0.0002   0.0050   0.0160\n",
       "HR_diff5      0.0093    0.0031     2.9795  0.0029   0.0032   0.0155\n",
       "Temp_diff4    0.0145    0.0028     5.1770  0.0000   0.0090   0.0201\n",
       "Resp_diff5   -0.0036    0.0031    -1.1811  0.2376  -0.0096   0.0024\n",
       "HR_diff4      0.0159    0.0032     4.9747  0.0000   0.0096   0.0221\n",
       "HR_diff2      0.0132    0.0032     4.1183  0.0000   0.0069   0.0194\n",
       "HR_diff3      0.0147    0.0032     4.6058  0.0000   0.0085   0.0210\n",
       "Resp_min     -0.0505    0.0100    -5.0358  0.0000  -0.0702  -0.0309\n",
       "O2Sat_diff2  -0.0040    0.0032    -1.2555  0.2093  -0.0104   0.0023\n",
       "O2Sat_diff3  -0.0042    0.0030    -1.3963  0.1626  -0.0101   0.0017\n",
       "Resp_diff4   -0.0006    0.0030    -0.2091  0.8344  -0.0066   0.0053\n",
       "O2Sat_mean   -0.0873    0.0115    -7.5650  0.0000  -0.1100  -0.0647\n",
       "Resp_mean     0.1043    0.0102    10.2566  0.0000   0.0844   0.1243\n",
       "Temp_diff1    0.0040    0.0028     1.4254  0.1540  -0.0015   0.0096\n",
       "Temp_diff5    0.0116    0.0028     4.1391  0.0000   0.0061   0.0171\n",
       "MAP_min      -0.0538    0.0129    -4.1587  0.0000  -0.0791  -0.0284\n",
       "DBP_diff1     0.0085    0.0041     2.0741  0.0381   0.0005   0.0166\n",
       "SBP_diff1    -0.0023    0.0042    -0.5447  0.5860  -0.0105   0.0059\n",
       "O2Sat_min     0.0202    0.0140     1.4466  0.1480  -0.0072   0.0476\n",
       "SBP_min      -0.1250    0.0140    -8.9079  0.0000  -0.1526  -0.0975\n",
       "DBP_diff2     0.0077    0.0044     1.7675  0.0771  -0.0008   0.0163\n",
       "DBP_min       0.1185    0.0147     8.0537  0.0000   0.0897   0.1473\n",
       "DBP_diff3     0.0040    0.0041     0.9912  0.3216  -0.0039   0.0120\n",
       "SBP_diff2     0.0042    0.0046     0.9078  0.3640  -0.0048   0.0132\n",
       "SBP_diff4     0.0051    0.0042     1.2113  0.2258  -0.0031   0.0132\n",
       "SBP_diff3     0.0045    0.0046     0.9865  0.3239  -0.0045   0.0135\n",
       "MAP_max      -0.0049    0.0152    -0.3187  0.7500  -0.0347   0.0250\n",
       "MAP_diff1    -0.0075    0.0050    -1.4965  0.1345  -0.0172   0.0023\n",
       "DBP_max      -0.3152    0.0165   -19.1387  0.0000  -0.3475  -0.2829\n",
       "HR_max        0.2237    0.0175    12.7470  0.0000   0.1893   0.2581\n",
       "HR_min       -0.2356    0.0174   -13.5568  0.0000  -0.2696  -0.2015\n",
       "Temp_max      0.1610    0.0099    16.2765  0.0000   0.1416   0.1803\n",
       "Temp_min      0.0227    0.0096     2.3672  0.0179   0.0039   0.0416\n",
       "MAP_diff2    -0.0143    0.0055    -2.5935  0.0095  -0.0251  -0.0035\n",
       "SBP_mean     -0.2252    0.0177   -12.7520  0.0000  -0.2598  -0.1906\n",
       "MAP_diff4    -0.0079    0.0043    -1.8590  0.0630  -0.0163   0.0004\n",
       "MAP_diff3    -0.0130    0.0054    -2.3964  0.0166  -0.0236  -0.0024\n",
       "MAP_mean      0.0835    0.0180     4.6313  0.0000   0.0482   0.1189\n",
       "SBP_max       0.3014    0.0185    16.2855  0.0000   0.2651   0.3377\n",
       "Temp_std      0.0178    0.0063     2.8450  0.0044   0.0055   0.0301\n",
       "DBP_mean      0.2304    0.0189    12.1945  0.0000   0.1934   0.2675\n",
       "HR_mean      -0.0556    0.0226    -2.4664  0.0136  -0.0999  -0.0114\n",
       "HR_std       -0.1345    0.0075   -17.8466  0.0000  -0.1493  -0.1197\n",
       "O2Sat_max    -0.0386    0.0078    -4.9436  0.0000  -0.0540  -0.0233\n",
       "MAP_std      -0.0612    0.0078    -7.8826  0.0000  -0.0764  -0.0460\n",
       "Gender       -3.9587    0.0093  -425.6240  0.0000  -3.9769  -3.9405\n",
       "==================================================================\n",
       "\n",
       "\"\"\""
      ]
     },
     "execution_count": 89,
     "metadata": {
      "tags": []
     },
     "output_type": "execute_result"
    }
   ],
   "source": [
    "logit_selected_vars = sm.Logit(y_9802_rfe, X_9802_rfe)\n",
    "result_selected = logit_selected_vars.fit()\n",
    "result_selected.summary2()"
   ]
  },
  {
   "cell_type": "code",
   "execution_count": 0,
   "metadata": {
    "colab": {},
    "colab_type": "code",
    "id": "bjhJfDi6KgKU"
   },
   "outputs": [],
   "source": [
    "result_selected.summary2().tables[1].to_csv('lr_coef.csv')"
   ]
  },
  {
   "cell_type": "markdown",
   "metadata": {
    "colab_type": "text",
    "id": "GSm3GZUs_tG2"
   },
   "source": [
    "### The lower AIC and BIC; the better the model is. Therefore; LR with 98/02 Ratio with feature selection is the best model"
   ]
  },
  {
   "cell_type": "markdown",
   "metadata": {
    "colab_type": "text",
    "id": "vhk5A1-VYz0S"
   },
   "source": [
    "### Get the coefficients of the best model"
   ]
  },
  {
   "cell_type": "code",
   "execution_count": 0,
   "metadata": {
    "colab": {
     "base_uri": "https://localhost:8080/",
     "height": 170
    },
    "colab_type": "code",
    "executionInfo": {
     "elapsed": 243,
     "status": "ok",
     "timestamp": 1587511218969,
     "user": {
      "displayName": "An Tran",
      "photoUrl": "",
      "userId": "13330980052857741458"
     },
     "user_tz": 420
    },
    "id": "6youz1--YYVr",
    "outputId": "37ce5160-f8ea-4555-8230-9330ccea4942"
   },
   "outputs": [
    {
     "name": "stdout",
     "output_type": "stream",
     "text": [
      "[-4.2522331] [[ 0.0273132  -0.09475531 -0.18429773  0.06899934 -0.34958888  0.0509571\n",
      "   0.01462624  0.04133731  0.02204986  0.02793    -0.01639357  0.04982173\n",
      "   0.06681459  0.06152225  0.03949524  0.01998314  0.0081092  -0.0093974\n",
      "   0.00099393  0.21354619  0.01504744  0.02238265 -0.14908041 -0.00552092\n",
      "  -0.0105962  -0.32243284 -0.37673323 -0.00511115  0.05570539 -0.00635306\n",
      "  -0.02102389 -0.02163516 -0.034085    0.03754144 -0.02163936 -0.08448537\n",
      "   0.21812868 -0.11492859  0.172092    0.10636017 -0.03380169  0.00889866\n",
      "  -0.00781163 -0.02295897 -0.09627947  0.52380046  0.15940737 -0.03367086\n",
      "   0.14263971 -0.0249039   0.2266222   0.09033941  0.15094894]]\n"
     ]
    }
   ],
   "source": [
    "print(lr_9802_rfe.intercept_, lr_9802_rfe.coef_)"
   ]
  },
  {
   "cell_type": "code",
   "execution_count": 0,
   "metadata": {
    "colab": {
     "base_uri": "https://localhost:8080/",
     "height": 221
    },
    "colab_type": "code",
    "executionInfo": {
     "elapsed": 1312,
     "status": "ok",
     "timestamp": 1587510511572,
     "user": {
      "displayName": "An Tran",
      "photoUrl": "",
      "userId": "13330980052857741458"
     },
     "user_tz": 420
    },
    "id": "RZmH2KTVZrA0",
    "outputId": "fffadb15-c466-4f04-b09f-3e16d187c9c5"
   },
   "outputs": [
    {
     "name": "stdout",
     "output_type": "stream",
     "text": [
      "53\n",
      "Index(['Temp_diff3', 'Resp_std', 'O2Sat_std', 'DBP_std', 'SBP_std', 'HR_diff1',\n",
      "       'O2Sat_diff1', 'Temp_diff2', 'HR_diff5', 'Temp_diff4', 'Resp_diff5',\n",
      "       'HR_diff4', 'HR_diff2', 'HR_diff3', 'Resp_min', 'O2Sat_diff2',\n",
      "       'O2Sat_diff3', 'Resp_diff4', 'O2Sat_mean', 'Resp_mean', 'Temp_diff1',\n",
      "       'Temp_diff5', 'MAP_min', 'DBP_diff1', 'SBP_diff1', 'O2Sat_min',\n",
      "       'SBP_min', 'DBP_diff2', 'DBP_min', 'DBP_diff3', 'SBP_diff2',\n",
      "       'SBP_diff4', 'SBP_diff3', 'MAP_max', 'MAP_diff1', 'DBP_max', 'HR_max',\n",
      "       'HR_min', 'Temp_max', 'Temp_min', 'MAP_diff2', 'SBP_mean', 'MAP_diff4',\n",
      "       'MAP_diff3', 'MAP_mean', 'SBP_max', 'Temp_std', 'DBP_mean', 'HR_mean',\n",
      "       'HR_std', 'O2Sat_max', 'MAP_std', 'Gender'],\n",
      "      dtype='object')\n"
     ]
    }
   ],
   "source": [
    "print(len(X_9802_rfe.columns))\n",
    "print(X_9802_rfe.columns)"
   ]
  },
  {
   "cell_type": "markdown",
   "metadata": {
    "colab_type": "text",
    "id": "Z9B7ZIMCAB8h"
   },
   "source": [
    "### The final Logistic Regression is something like this:\n",
    "\n",
    "y = -4.25 + 0.02 * Temp_diff3 - 0.09 * Resp_std - 0.18 * O2Sat_std + 0.06 * DBP_std - 0.34 * SBP_std + 0.05 * HR_diff1 + 0.01 * O2Sat_diff1 + 0.04 * Temp_diff2 ... + 0.15 * Gender "
   ]
  },
  {
   "cell_type": "code",
   "execution_count": null,
   "metadata": {},
   "outputs": [],
   "source": []
  }
 ],
 "metadata": {
  "accelerator": "TPU",
  "colab": {
   "collapsed_sections": [],
   "machine_shape": "hm",
   "name": "log_reg.ipynb",
   "provenance": [],
   "toc_visible": true
  },
  "kernelspec": {
   "display_name": "Python 3",
   "language": "python",
   "name": "python3"
  },
  "language_info": {
   "codemirror_mode": {
    "name": "ipython",
    "version": 3
   },
   "file_extension": ".py",
   "mimetype": "text/x-python",
   "name": "python",
   "nbconvert_exporter": "python",
   "pygments_lexer": "ipython3",
   "version": "3.6.8"
  }
 },
 "nbformat": 4,
 "nbformat_minor": 1
}
