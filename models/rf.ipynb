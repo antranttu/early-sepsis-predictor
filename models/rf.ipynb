{
 "cells": [
  {
   "cell_type": "code",
   "execution_count": null,
   "metadata": {
    "colab": {
     "base_uri": "https://localhost:8080/",
     "height": 139
    },
    "colab_type": "code",
    "executionInfo": {
     "elapsed": 1249,
     "status": "ok",
     "timestamp": 1588386845651,
     "user": {
      "displayName": "An Tran",
      "photoUrl": "",
      "userId": "10274312836707434279"
     },
     "user_tz": 420
    },
    "id": "g4KXhwA1C_QZ",
    "outputId": "b450afb6-8c06-44b4-cf73-08f0c574d6b3"
   },
   "outputs": [],
   "source": [
    "import pandas as pd\n",
    "import numpy as np\n",
    "import seaborn as sns\n",
    "\n",
    "from sklearn.ensemble import RandomForestClassifier\n",
    "from sklearn.model_selection import GroupKFold, StratifiedKFold, train_test_split, cross_val_score, cross_val_predict, GridSearchCV\n",
    "from sklearn.metrics import classification_report, precision_score, recall_score, accuracy_score, confusion_matrix, roc_curve, precision_recall_curve, auc, f1_score, cohen_kappa_score\n",
    "from imblearn.under_sampling import RandomUnderSampler\n",
    "from imblearn.over_sampling import RandomOverSampler\n",
    "from sklearn.preprocessing import StandardScaler, OneHotEncoder, PowerTransformer\n",
    "from sklearn.feature_selection import RFE, SelectFromModel, RFECV\n",
    "from xgboost import XGBClassifier, plot_importance\n",
    "from IPython import display\n",
    "from datetime import datetime\n",
    "\n",
    "import matplotlib.pyplot as plt\n",
    "from matplotlib import cm\n",
    "\n",
    "from pylab import rcParams\n",
    "\n",
    "import os\n",
    "import re\n",
    "import time\n",
    "import warnings\n",
    "warnings.filterwarnings('ignore')\n",
    "\n",
    "seed = 9001\n",
    "np.random.seed(seed)"
   ]
  },
  {
   "cell_type": "markdown",
   "metadata": {
    "colab_type": "text",
    "id": "7sMQQcsvOVch"
   },
   "source": [
    "### Read in processed extracted 6 hour window data training and test set"
   ]
  },
  {
   "cell_type": "code",
   "execution_count": null,
   "metadata": {
    "colab": {
     "base_uri": "https://localhost:8080/",
     "height": 34
    },
    "colab_type": "code",
    "executionInfo": {
     "elapsed": 25802,
     "status": "ok",
     "timestamp": 1588386870232,
     "user": {
      "displayName": "An Tran",
      "photoUrl": "",
      "userId": "10274312836707434279"
     },
     "user_tz": 420
    },
    "id": "vz5oL0UHOcQ0",
    "outputId": "57ee99bd-327f-4873-a31b-403f57ff3013"
   },
   "outputs": [],
   "source": [
    "# training set\n",
    "X_all = pd.read_csv('6hour_Xtrain.csv')\n",
    "y_all = pd.read_csv('6hour_ytrain.csv')\n",
    "\n",
    "# test set\n",
    "X_test = pd.read_csv('6hour_Xtest.csv')\n",
    "y_test = pd.read_csv('6hour_ytest.csv')"
   ]
  },
  {
   "cell_type": "markdown",
   "metadata": {
    "colab_type": "text",
    "id": "SK8kRQTl_W3I"
   },
   "source": [
    "### Define threshold that gives best F1-score"
   ]
  },
  {
   "cell_type": "code",
   "execution_count": null,
   "metadata": {
    "colab": {},
    "colab_type": "code",
    "id": "xZzoxztr--D4"
   },
   "outputs": [],
   "source": [
    "def performance2(y, y_pred, print_ = 1, *args):   \n",
    "    \"\"\" Calculate performance measures for a given ground truth classification y and predicted \n",
    "    probabilities y_pred. If *args is provided a pre-defined threshold is used to calculate the performance.\n",
    "    If not, the threshold giving the best mean sensitivity and specificity is selected. The AUC is calculated\n",
    "    for a range of thresholds using the metrics package from sklearn. \"\"\"\n",
    "\n",
    "    # xx and yy values for ROC curve\n",
    "    fpr, tpr, thresholds = roc_curve(y, y_pred, pos_label=1)\n",
    "    # area under the ROC curve\n",
    "    AUC = auc(fpr, tpr)\n",
    "\n",
    "    # xx and yy values for AUPR\n",
    "    precision, recall, thresholds = precision_recall_curve(y, y_pred, pos_label=1)\n",
    "    # convert to f1-score\n",
    "    fscore = (2*precision*recall) / (precision+recall)\n",
    "    fscore[np.isnan(fscore)] = 0\n",
    "\n",
    "    # if a threshold is specified, use it\n",
    "    if args:\n",
    "        threshold = args[0]\n",
    "    else:\n",
    "    # if a threshold is not specified, we will choose the threshold that gives the best f1-score\n",
    "        ix = np.argmax(fscore)\n",
    "        threshold = thresholds[ix]        \n",
    "        \n",
    "    # transform the predicted probability into a binary classification\n",
    "    y_pred[y_pred >= threshold] = 1\n",
    "    y_pred[y_pred < threshold] = 0\n",
    "    \n",
    "    tn, fp, fn, tp = confusion_matrix(y, y_pred).ravel()\n",
    "        \n",
    "    # basic accuracy\n",
    "    accuracy = (tp + tn) / (tp + tn + fp + fn)\n",
    "    \n",
    "    # for auc\n",
    "    sensitivity = tp/(tp+fn)\n",
    "    specificity = tn/(tn+fp)\n",
    "    \n",
    "    # for f1-score\n",
    "    precision1 = tp/(tp+fp)\n",
    "    recall1 = sensitivity # detection rate\n",
    "    \n",
    "    # for false alarm rate\n",
    "    fpr2 = fp/(fp+tn) # distinguish with false positive rate from calculating AUC\n",
    "    fnr = fn/(fn+tp)\n",
    "    \n",
    "    # f1-score\n",
    "    f1 = max(fscore)\n",
    "\n",
    "    # kappa score\n",
    "    kappa = cohen_kappa_score(y, y_pred)\n",
    "\n",
    "    \n",
    "    # print the performance and plot the ROC curve    \n",
    "    if print_ == 1:\n",
    "        print('Threshold: ' + str(round(threshold, 2)))\n",
    "        print('TP: ' + str(tp))\n",
    "        print('TN: ' + str(tn))\n",
    "        print('FP: ' + str(fp))\n",
    "        print('FN: ' + str(fn))\n",
    "        \n",
    "        print(\"Accuracy: \" + str(round(accuracy, 2)))\n",
    "        print('Sensitivity: ' + str(round(sensitivity, 2)))\n",
    "        print('Specificity: ' + str(round(specificity, 2)))\n",
    "        print('Precision: ' + str(round(precision1, 2)))\n",
    "        print('Recall (Detection rate): ' + str(round(recall1, 2)))\n",
    "        print('F1-score: ' + str(round(f1, 2)))\n",
    "        print('AUC: ' + str(round(AUC, 2)))\n",
    "        print('FPR (False alarm rate): ' + str(round(fpr2, 2)))\n",
    "        print('FNR: ' + str(round(fnr, 2)))\n",
    "        print('Kappa: ' + str(round(kappa, 2)))\n",
    "    \n",
    "        plt.figure(figsize = (4,3))\n",
    "        plt.scatter(x = fpr, y = tpr, label = None)\n",
    "        plt.plot(fpr, tpr, label = 'Classifier', zorder = 1)\n",
    "        plt.plot([0, 1], [0, 1], 'k--', label = 'Random classifier')\n",
    "        plt.scatter(x = 1 - specificity, y = sensitivity, c = 'black', label = 'Operating point', zorder = 2)\n",
    "        plt.legend()\n",
    "        plt.xlabel('1 - specificity')\n",
    "        plt.ylabel('sensitivity')\n",
    "        plt.show()\n",
    "        \n",
    "\n",
    "    return threshold, accuracy, sensitivity, specificity, AUC, precision1, recall1, f1, fpr2, fnr, kappa"
   ]
  },
  {
   "cell_type": "markdown",
   "metadata": {
    "colab_type": "text",
    "id": "qCkKP9_oEZ_B"
   },
   "source": [
    "### Create function to evaluate model performance on training and test set maximizing F1-score"
   ]
  },
  {
   "cell_type": "code",
   "execution_count": null,
   "metadata": {
    "colab": {},
    "colab_type": "code",
    "id": "-5c6O_DwEkQz"
   },
   "outputs": [],
   "source": [
    "def model_evaluation2(model, X_train, y_train, X_test, y_test, print_):\n",
    "    \n",
    "    # tune - parameter estimation \n",
    "    print('TRAINING SET')\n",
    "    y_pred_prob_train = model.predict_proba(X_train)\n",
    "    threshold, accuracy_tr, sensitivity_tr, specificity_tr, AUC_tr, precision_tr, \\\n",
    "    recall_tr, f1_tr, fpr_tr, fnr_tr, kappa_tr = performance2(y_train, np.delete(y_pred_prob_train, 0, 1), print_) # retain the probabilities of positive class only\n",
    "\n",
    "    # test\n",
    "    print('TEST SET')\n",
    "    y_pred_prob_test = model.predict_proba(X_test)\n",
    "    _, accuracy_test, sensitivity_test, specificity_test, AUC_test, precision_test, \\\n",
    "     recall_test, f1_test, fpr_test, fnr_test, kappa_test = performance2(y_test, np.delete(y_pred_prob_test, 0, 1), print_, threshold)\n",
    "    \n",
    "    # save the results\n",
    "    results_train = pd.DataFrame(data = [[threshold, accuracy_tr, sensitivity_tr, specificity_tr, AUC_tr,\n",
    "                                          precision_tr, recall_tr, f1_tr, fpr_tr, fnr_tr, kappa_tr, X_train.shape[1]]],\n",
    "                                 columns = ['Threshold','Accuracy', 'Sensitivity', 'Specificity', 'AUROC',\n",
    "                                            'Precision', 'Recall', 'F1', 'FPR (False Alarm)', 'FNR', 'Kappa', '# features'])\n",
    "\n",
    "    results_test = pd.DataFrame(data = [[threshold, accuracy_test, sensitivity_test, specificity_test, AUC_test,\n",
    "                                          precision_test, recall_test, f1_test, fpr_test, fnr_test, kappa_test, X_train.shape[1]]],\n",
    "                                columns = ['Threshold','Accuracy', 'Sensitivity', 'Specificity', 'AUROC',\n",
    "                                           'Precision', 'Recall', 'F1', 'FPR (False Alarm)', 'FNR', 'Kappa', '# features'])\n",
    "        \n",
    "    return results_train, results_test, y_pred_prob_train, y_pred_prob_test"
   ]
  },
  {
   "cell_type": "markdown",
   "metadata": {
    "colab_type": "text",
    "id": "96UA2samGp-a"
   },
   "source": [
    "### Create a stratified cv (to preserve class distribution during Cross-validation)"
   ]
  },
  {
   "cell_type": "code",
   "execution_count": null,
   "metadata": {
    "colab": {},
    "colab_type": "code",
    "id": "ckOpYUfHGp-a"
   },
   "outputs": [],
   "source": [
    "kfold = StratifiedKFold(n_splits=10, shuffle=True, random_state=seed)"
   ]
  },
  {
   "cell_type": "markdown",
   "metadata": {
    "colab_type": "text",
    "id": "Tt-ZiBcgkmvn"
   },
   "source": [
    "# 50/50 Ratio"
   ]
  },
  {
   "cell_type": "markdown",
   "metadata": {
    "colab_type": "text",
    "id": "40QNcNL8cLUw"
   },
   "source": [
    "### Create balanced data using Random Undersampling"
   ]
  },
  {
   "cell_type": "code",
   "execution_count": null,
   "metadata": {
    "colab": {},
    "colab_type": "code",
    "id": "oU-c5QdkcKc9"
   },
   "outputs": [],
   "source": [
    "rus = RandomUnderSampler(sampling_strategy='majority', random_state=seed)"
   ]
  },
  {
   "cell_type": "code",
   "execution_count": null,
   "metadata": {
    "colab": {},
    "colab_type": "code",
    "id": "dAYM0mYUcnPL"
   },
   "outputs": [],
   "source": [
    "X_uds, y_uds = rus.fit_resample(X_all, y_all)"
   ]
  },
  {
   "cell_type": "code",
   "execution_count": null,
   "metadata": {
    "colab": {
     "base_uri": "https://localhost:8080/",
     "height": 51
    },
    "colab_type": "code",
    "executionInfo": {
     "elapsed": 26679,
     "status": "ok",
     "timestamp": 1588386871158,
     "user": {
      "displayName": "An Tran",
      "photoUrl": "",
      "userId": "10274312836707434279"
     },
     "user_tz": 420
    },
    "id": "0L2z9k0hkRLc",
    "outputId": "d7f44305-7a4f-4a70-b9d6-fe931f732e84"
   },
   "outputs": [],
   "source": [
    "print('Sepsis patterns after Random Under-sampling:', np.count_nonzero(y_uds == 1))\n",
    "print('Non-sepsis patterns after Random Under-sampling:', np.count_nonzero(y_uds == 0))"
   ]
  },
  {
   "cell_type": "markdown",
   "metadata": {
    "colab_type": "text",
    "id": "qanMzAz-kspP"
   },
   "source": [
    "# 80/20 Ratio"
   ]
  },
  {
   "cell_type": "code",
   "execution_count": null,
   "metadata": {
    "colab": {},
    "colab_type": "code",
    "id": "BldxOZ7ykvHn"
   },
   "outputs": [],
   "source": [
    "ratio8020 = RandomUnderSampler(sampling_strategy=1/4, random_state=seed)"
   ]
  },
  {
   "cell_type": "code",
   "execution_count": null,
   "metadata": {
    "colab": {},
    "colab_type": "code",
    "id": "EhmDV1Xenc3s"
   },
   "outputs": [],
   "source": [
    "X_8020, y_8020 = ratio8020.fit_resample(X_all, y_all)"
   ]
  },
  {
   "cell_type": "code",
   "execution_count": null,
   "metadata": {
    "colab": {
     "base_uri": "https://localhost:8080/",
     "height": 51
    },
    "colab_type": "code",
    "executionInfo": {
     "elapsed": 27134,
     "status": "ok",
     "timestamp": 1588386871662,
     "user": {
      "displayName": "An Tran",
      "photoUrl": "",
      "userId": "10274312836707434279"
     },
     "user_tz": 420
    },
    "id": "8ZO8t8Mdni2Q",
    "outputId": "0fc797ed-8629-4cbf-a130-71fff4d94eb8"
   },
   "outputs": [],
   "source": [
    "print('Sepsis patterns for 80/20 ratio:', np.count_nonzero(y_8020 == 1))\n",
    "print('Non-sepsis patterns for 80/20 ratio:', np.count_nonzero(y_8020 == 0))"
   ]
  },
  {
   "cell_type": "markdown",
   "metadata": {
    "colab_type": "text",
    "id": "eWOeKii7n8Ux"
   },
   "source": [
    "# 90/10 Ratio"
   ]
  },
  {
   "cell_type": "code",
   "execution_count": null,
   "metadata": {
    "colab": {},
    "colab_type": "code",
    "id": "zIiIP8I8n_mh"
   },
   "outputs": [],
   "source": [
    "ratio9010 = RandomUnderSampler(sampling_strategy=1/9, random_state=seed)"
   ]
  },
  {
   "cell_type": "code",
   "execution_count": null,
   "metadata": {
    "colab": {},
    "colab_type": "code",
    "id": "70J9T4jWoE-I"
   },
   "outputs": [],
   "source": [
    "X_9010, y_9010 = ratio9010.fit_resample(X_all, y_all)"
   ]
  },
  {
   "cell_type": "code",
   "execution_count": null,
   "metadata": {
    "colab": {
     "base_uri": "https://localhost:8080/",
     "height": 51
    },
    "colab_type": "code",
    "executionInfo": {
     "elapsed": 27829,
     "status": "ok",
     "timestamp": 1588386872386,
     "user": {
      "displayName": "An Tran",
      "photoUrl": "",
      "userId": "10274312836707434279"
     },
     "user_tz": 420
    },
    "id": "5JcGEeLeoMxg",
    "outputId": "bf3ec3d7-e5e3-4e0f-e821-fbc32ee6a53c"
   },
   "outputs": [],
   "source": [
    "print('Sepsis patterns for 90/10 ratio:', np.count_nonzero(y_9010 == 1))\n",
    "print('Non-sepsis patterns for 90/10 ratio:', np.count_nonzero(y_9010 == 0))"
   ]
  },
  {
   "cell_type": "markdown",
   "metadata": {
    "colab_type": "text",
    "id": "O8dnFhEgobxz"
   },
   "source": [
    "# 95/5 Ratio"
   ]
  },
  {
   "cell_type": "code",
   "execution_count": null,
   "metadata": {
    "colab": {},
    "colab_type": "code",
    "id": "5KEo37IdosKR"
   },
   "outputs": [],
   "source": [
    "ratio9505 = RandomUnderSampler(sampling_strategy=5/95, random_state=seed)"
   ]
  },
  {
   "cell_type": "code",
   "execution_count": null,
   "metadata": {
    "colab": {},
    "colab_type": "code",
    "id": "FT1mjcRRosHu"
   },
   "outputs": [],
   "source": [
    "X_9505, y_9505 = ratio9505.fit_resample(X_all, y_all)"
   ]
  },
  {
   "cell_type": "code",
   "execution_count": null,
   "metadata": {
    "colab": {
     "base_uri": "https://localhost:8080/",
     "height": 51
    },
    "colab_type": "code",
    "executionInfo": {
     "elapsed": 28660,
     "status": "ok",
     "timestamp": 1588386873242,
     "user": {
      "displayName": "An Tran",
      "photoUrl": "",
      "userId": "10274312836707434279"
     },
     "user_tz": 420
    },
    "id": "Ti3oizsqosFF",
    "outputId": "cc858e60-beb1-45fb-8211-6fe01abe608b"
   },
   "outputs": [],
   "source": [
    "print('Sepsis patterns for 95/05 ratio:', np.count_nonzero(y_9505 == 1))\n",
    "print('Non-sepsis patterns for 95/05 ratio:', np.count_nonzero(y_9505 == 0))"
   ]
  },
  {
   "cell_type": "markdown",
   "metadata": {
    "colab_type": "text",
    "id": "faoyxujopCs3"
   },
   "source": [
    "# 98/02: original dataset"
   ]
  },
  {
   "cell_type": "code",
   "execution_count": null,
   "metadata": {
    "colab": {
     "base_uri": "https://localhost:8080/",
     "height": 51
    },
    "colab_type": "code",
    "executionInfo": {
     "elapsed": 29172,
     "status": "ok",
     "timestamp": 1588386873777,
     "user": {
      "displayName": "An Tran",
      "photoUrl": "",
      "userId": "10274312836707434279"
     },
     "user_tz": 420
    },
    "id": "X9T_pXBRpFx6",
    "outputId": "2b1c65a1-823a-4de8-bdc2-ea87a3c820f7"
   },
   "outputs": [],
   "source": [
    "print('Sepsis patterns for original ratio:', np.count_nonzero(y_all == 1))\n",
    "print('Non-sepsis patterns for original ratio:', np.count_nonzero(y_all == 0))"
   ]
  },
  {
   "cell_type": "markdown",
   "metadata": {
    "colab_type": "text",
    "id": "CQTaKUByigFB"
   },
   "source": [
    "# 2. Random Forest"
   ]
  },
  {
   "cell_type": "markdown",
   "metadata": {
    "colab_type": "text",
    "id": "BLpN400cGp-a"
   },
   "source": [
    "### Random Undersampling with All variables"
   ]
  },
  {
   "cell_type": "code",
   "execution_count": null,
   "metadata": {
    "colab": {},
    "colab_type": "code",
    "id": "Kaw5vOyLmRuX"
   },
   "outputs": [],
   "source": [
    "# create the model/estimator\n",
    "rf_uds = RandomForestClassifier(random_state=seed,\n",
    "                                oob_score=True,\n",
    "                                # class_weight='balanced',\n",
    "                                n_jobs=-1)"
   ]
  },
  {
   "cell_type": "code",
   "execution_count": null,
   "metadata": {
    "colab": {},
    "colab_type": "code",
    "id": "RmubzFNTmjhb"
   },
   "outputs": [],
   "source": [
    "# create a parameters grid to do GridSearch\n",
    "param_rf = {'n_estimators': [100, 500, 1000], # number of trees in the forest\n",
    "            'max_depth' : [10, 15, 20],\n",
    "            'min_samples_leaf': [1, 3, 5]}"
   ]
  },
  {
   "cell_type": "code",
   "execution_count": null,
   "metadata": {
    "colab": {},
    "colab_type": "code",
    "id": "VYyhZ5bypISe"
   },
   "outputs": [],
   "source": [
    "grid_rf_uds = GridSearchCV(estimator=rf_uds,\n",
    "                           param_grid=param_rf,\n",
    "                           cv=kfold,\n",
    "                           scoring='f1',\n",
    "                           n_jobs=-1) # use all processors"
   ]
  },
  {
   "cell_type": "code",
   "execution_count": null,
   "metadata": {
    "colab": {
     "base_uri": "https://localhost:8080/",
     "height": 34
    },
    "colab_type": "code",
    "executionInfo": {
     "elapsed": 928017,
     "status": "ok",
     "timestamp": 1588387772651,
     "user": {
      "displayName": "An Tran",
      "photoUrl": "",
      "userId": "10274312836707434279"
     },
     "user_tz": 420
    },
    "id": "Idqi-DcPpRGE",
    "outputId": "0a212c80-d47d-466b-a600-48dddf3dc407"
   },
   "outputs": [],
   "source": [
    "start = datetime.now()\n",
    "\n",
    "grid_rf_uds.fit(X_uds, y_uds)\n",
    "\n",
    "print('Training took: ', datetime.now()-start)"
   ]
  },
  {
   "cell_type": "code",
   "execution_count": null,
   "metadata": {
    "colab": {
     "base_uri": "https://localhost:8080/",
     "height": 34
    },
    "colab_type": "code",
    "executionInfo": {
     "elapsed": 928000,
     "status": "ok",
     "timestamp": 1588387772654,
     "user": {
      "displayName": "An Tran",
      "photoUrl": "",
      "userId": "10274312836707434279"
     },
     "user_tz": 420
    },
    "id": "CcSr52AqPO2P",
    "outputId": "7450adcf-0686-4567-822a-cd7545c29ecc"
   },
   "outputs": [],
   "source": [
    "print('Best: %f using %s' % (grid_rf_uds.best_score_, grid_rf_uds.best_params_))"
   ]
  },
  {
   "cell_type": "code",
   "execution_count": null,
   "metadata": {
    "colab": {},
    "colab_type": "code",
    "id": "GM-4uB8nPO2f"
   },
   "outputs": [],
   "source": [
    "mean_f1 = grid_rf_uds.cv_results_['mean_test_score']\n",
    "std_f1 = grid_rf_uds.cv_results_['std_test_score']\n",
    "params = grid_rf_uds.cv_results_['params']"
   ]
  },
  {
   "cell_type": "code",
   "execution_count": null,
   "metadata": {
    "colab": {
     "base_uri": "https://localhost:8080/",
     "height": 476
    },
    "colab_type": "code",
    "executionInfo": {
     "elapsed": 927971,
     "status": "ok",
     "timestamp": 1588387772655,
     "user": {
      "displayName": "An Tran",
      "photoUrl": "",
      "userId": "10274312836707434279"
     },
     "user_tz": 420
    },
    "id": "mJGHTcbDPO2n",
    "outputId": "2ed28611-d51e-405f-bea4-cd6f0055f653"
   },
   "outputs": [],
   "source": [
    "for mean, stdev, param in zip(mean_f1, std_f1, params): # zip: create tuples of value pairs\n",
    "    print('%f (+-%f) with: %r' % (mean, stdev, param))"
   ]
  },
  {
   "cell_type": "code",
   "execution_count": null,
   "metadata": {
    "colab": {},
    "colab_type": "code",
    "id": "qLw8cchfPma-"
   },
   "outputs": [],
   "source": [
    "best_rf_uds = grid_rf_uds.best_estimator_"
   ]
  },
  {
   "cell_type": "markdown",
   "metadata": {
    "colab_type": "text",
    "id": "1flznBkemRur"
   },
   "source": [
    "### Performance on training and test sets"
   ]
  },
  {
   "cell_type": "code",
   "execution_count": null,
   "metadata": {
    "colab": {
     "base_uri": "https://localhost:8080/",
     "height": 977
    },
    "colab_type": "code",
    "executionInfo": {
     "elapsed": 934198,
     "status": "ok",
     "timestamp": 1588387778910,
     "user": {
      "displayName": "An Tran",
      "photoUrl": "",
      "userId": "10274312836707434279"
     },
     "user_tz": 420
    },
    "id": "beJvoiitmRut",
    "outputId": "2d6b85e3-61e4-41d4-9270-6a48fce073b7"
   },
   "outputs": [],
   "source": [
    "results_train_rf_uds_all, results_test_rf_uds_all, \\\n",
    "y_pred_prob_train_rf_uds, y_pred_prob_test_rf_uds = model_evaluation2(best_rf_uds, \n",
    "                                                                      X_uds, y_uds,\n",
    "                                                                      X_test, y_test,\n",
    "                                                                      print_ = 1)"
   ]
  },
  {
   "cell_type": "markdown",
   "metadata": {
    "colab_type": "text",
    "id": "RIKrGOtmmRu1"
   },
   "source": [
    "### Save results to dataframe"
   ]
  },
  {
   "cell_type": "code",
   "execution_count": null,
   "metadata": {
    "colab": {},
    "colab_type": "code",
    "id": "bW-mTAH9v5Zw"
   },
   "outputs": [],
   "source": [
    "rf_results_train = pd.DataFrame()\n",
    "rf_results_test = pd.DataFrame()"
   ]
  },
  {
   "cell_type": "code",
   "execution_count": null,
   "metadata": {
    "colab": {},
    "colab_type": "code",
    "id": "P2ihAxNCmRu3"
   },
   "outputs": [],
   "source": [
    "rf_results_train = rf_results_train.append(results_train_rf_uds_all.rename(index={results_train_rf_uds_all.index[-1]: 'RF 50/50 Ratio All features'}))\n",
    "rf_results_test = rf_results_test.append(results_test_rf_uds_all.rename(index={results_test_rf_uds_all.index[-1]: 'RF 50/50 Ratio All features'}))"
   ]
  },
  {
   "cell_type": "markdown",
   "metadata": {
    "colab_type": "text",
    "id": "cJ2ZQs4EwXcd"
   },
   "source": [
    "### Random Under-sampling with Feature selection by Recursive Feature Elimination (RFE)"
   ]
  },
  {
   "cell_type": "markdown",
   "metadata": {
    "colab_type": "text",
    "id": "cQTUe6JowXcg"
   },
   "source": [
    "### Take a look at the feature importance by Random Forest"
   ]
  },
  {
   "cell_type": "code",
   "execution_count": null,
   "metadata": {
    "colab": {
     "base_uri": "https://localhost:8080/",
     "height": 34
    },
    "colab_type": "code",
    "executionInfo": {
     "elapsed": 934295,
     "status": "ok",
     "timestamp": 1588387779035,
     "user": {
      "displayName": "An Tran",
      "photoUrl": "",
      "userId": "10274312836707434279"
     },
     "user_tz": 420
    },
    "id": "q6e2yvD4zpJr",
    "outputId": "33fc952a-f555-4e5a-c4f5-bcd99a991d99"
   },
   "outputs": [],
   "source": [
    "grid_rf_uds.best_params_"
   ]
  },
  {
   "cell_type": "code",
   "execution_count": null,
   "metadata": {
    "colab": {},
    "colab_type": "code",
    "id": "ZpSYpYzR1HN4"
   },
   "outputs": [],
   "source": [
    "rf_uds_fs = RFECV(estimator=best_rf_uds, step=1, cv=kfold, scoring='f1', n_jobs=-1)"
   ]
  },
  {
   "cell_type": "code",
   "execution_count": null,
   "metadata": {
    "colab": {
     "base_uri": "https://localhost:8080/",
     "height": 34
    },
    "colab_type": "code",
    "executionInfo": {
     "elapsed": 5494597,
     "status": "ok",
     "timestamp": 1588392339363,
     "user": {
      "displayName": "An Tran",
      "photoUrl": "",
      "userId": "10274312836707434279"
     },
     "user_tz": 420
    },
    "id": "bxfLNdAJ1Pjh",
    "outputId": "86eef8f9-b40d-4742-e17d-5932d136c7ab"
   },
   "outputs": [],
   "source": [
    "start = datetime.now()\n",
    "\n",
    "rf_uds_fs.fit(X_uds, y_uds)\n",
    "\n",
    "print('Training took: ', datetime.now()-start)"
   ]
  },
  {
   "cell_type": "markdown",
   "metadata": {
    "colab_type": "text",
    "id": "-_jOb5CuMXCh"
   },
   "source": [
    "### Optimal Number of features"
   ]
  },
  {
   "cell_type": "code",
   "execution_count": null,
   "metadata": {
    "colab": {
     "base_uri": "https://localhost:8080/",
     "height": 34
    },
    "colab_type": "code",
    "executionInfo": {
     "elapsed": 5494578,
     "status": "ok",
     "timestamp": 1588392339366,
     "user": {
      "displayName": "An Tran",
      "photoUrl": "",
      "userId": "10274312836707434279"
     },
     "user_tz": 420
    },
    "id": "HPUdhrpsLOAc",
    "outputId": "d0b81533-5c35-4cc3-d81f-738e8f093094"
   },
   "outputs": [],
   "source": [
    "print('Optimal number of features: {}'.format(rf_uds_fs.n_features_))"
   ]
  },
  {
   "cell_type": "markdown",
   "metadata": {
    "colab_type": "text",
    "id": "UWsgyUZoMm-0"
   },
   "source": [
    "### Plot the optimal number of features against F1-score"
   ]
  },
  {
   "cell_type": "code",
   "execution_count": null,
   "metadata": {
    "colab": {
     "base_uri": "https://localhost:8080/",
     "height": 622
    },
    "colab_type": "code",
    "executionInfo": {
     "elapsed": 5494871,
     "status": "ok",
     "timestamp": 1588392339681,
     "user": {
      "displayName": "An Tran",
      "photoUrl": "",
      "userId": "10274312836707434279"
     },
     "user_tz": 420
    },
    "id": "1jiDOYLMMm-1",
    "outputId": "2d81b25e-3f00-442d-a260-19b3e0d1322c"
   },
   "outputs": [],
   "source": [
    "plt.figure(figsize=(16, 9))\n",
    "plt.title('Recursive Feature Elimination with Cross-Validation', fontsize=18, fontweight='bold', pad=20)\n",
    "plt.xlabel('Number of features selected', fontsize=14, labelpad=20)\n",
    "plt.ylabel('F1-Score', fontsize=14, labelpad=20)\n",
    "plt.plot(range(1, len(rf_uds_fs.grid_scores_) + 1), rf_uds_fs.grid_scores_, color='#303F9F', linewidth=3)"
   ]
  },
  {
   "cell_type": "markdown",
   "metadata": {
    "colab_type": "text",
    "id": "SQud-hbPOHR7"
   },
   "source": [
    "### Now only select the important features according to the model"
   ]
  },
  {
   "cell_type": "code",
   "execution_count": null,
   "metadata": {
    "colab": {},
    "colab_type": "code",
    "id": "40n-3wM3OHSC"
   },
   "outputs": [],
   "source": [
    "rfe_feat = rf_uds_fs.support_"
   ]
  },
  {
   "cell_type": "markdown",
   "metadata": {
    "colab_type": "text",
    "id": "UiN0LOC_OHSG"
   },
   "source": [
    "### Use these selected features for Random Undersample dataset"
   ]
  },
  {
   "cell_type": "code",
   "execution_count": null,
   "metadata": {
    "colab": {},
    "colab_type": "code",
    "id": "LPatWlE4OHSG"
   },
   "outputs": [],
   "source": [
    "X_uds_rfe, y_uds_rfe = rus.fit_resample(X_all.loc[:, rfe_feat], y_all)"
   ]
  },
  {
   "cell_type": "code",
   "execution_count": null,
   "metadata": {
    "colab": {
     "base_uri": "https://localhost:8080/",
     "height": 439
    },
    "colab_type": "code",
    "executionInfo": {
     "elapsed": 5495599,
     "status": "ok",
     "timestamp": 1588392340436,
     "user": {
      "displayName": "An Tran",
      "photoUrl": "",
      "userId": "10274312836707434279"
     },
     "user_tz": 420
    },
    "id": "lUk_QIynWSLg",
    "outputId": "72fd659b-38f7-4691-fea9-b03710ec7a85"
   },
   "outputs": [],
   "source": [
    "X_all.loc[:, rfe_feat]"
   ]
  },
  {
   "cell_type": "code",
   "execution_count": null,
   "metadata": {
    "colab": {},
    "colab_type": "code",
    "id": "mEY-qcORqPXX"
   },
   "outputs": [],
   "source": [
    "rfe_features = X_all.loc[:, rfe_feat].columns"
   ]
  },
  {
   "cell_type": "code",
   "execution_count": null,
   "metadata": {
    "colab": {
     "base_uri": "https://localhost:8080/",
     "height": 119
    },
    "colab_type": "code",
    "executionInfo": {
     "elapsed": 5495695,
     "status": "ok",
     "timestamp": 1588392340550,
     "user": {
      "displayName": "An Tran",
      "photoUrl": "",
      "userId": "10274312836707434279"
     },
     "user_tz": 420
    },
    "id": "EeggLg5xl0OV",
    "outputId": "f8e22d77-f5ee-4a6d-b0ed-39f84a5c5eb3"
   },
   "outputs": [],
   "source": [
    "rfe_features"
   ]
  },
  {
   "cell_type": "markdown",
   "metadata": {
    "colab_type": "text",
    "id": "llJv8d7COHSK"
   },
   "source": [
    "### Model"
   ]
  },
  {
   "cell_type": "code",
   "execution_count": null,
   "metadata": {
    "colab": {
     "base_uri": "https://localhost:8080/",
     "height": 34
    },
    "colab_type": "code",
    "executionInfo": {
     "elapsed": 5510685,
     "status": "ok",
     "timestamp": 1588392355557,
     "user": {
      "displayName": "An Tran",
      "photoUrl": "",
      "userId": "10274312836707434279"
     },
     "user_tz": 420
    },
    "id": "DlV3cZzYOHSN",
    "outputId": "2c39e55d-7fc4-4954-8b01-21f4b60d4763"
   },
   "outputs": [],
   "source": [
    "start = datetime.now()\n",
    "\n",
    "best_rf_uds.fit(X_uds_rfe, y_uds_rfe)\n",
    "\n",
    "print('Training took: ', datetime.now()-start)"
   ]
  },
  {
   "cell_type": "markdown",
   "metadata": {
    "colab_type": "text",
    "id": "nZx7JSinMoQb"
   },
   "source": [
    "### Feature importance determined by the model"
   ]
  },
  {
   "cell_type": "code",
   "execution_count": null,
   "metadata": {
    "colab": {
     "base_uri": "https://localhost:8080/",
     "height": 638
    },
    "colab_type": "code",
    "executionInfo": {
     "elapsed": 896,
     "status": "ok",
     "timestamp": 1588392467787,
     "user": {
      "displayName": "An Tran",
      "photoUrl": "",
      "userId": "10274312836707434279"
     },
     "user_tz": 420
    },
    "id": "os74m_koMrEY",
    "outputId": "f34087a5-78a1-43fe-9ee9-822f1bbc3e92"
   },
   "outputs": [],
   "source": [
    "rcParams['figure.figsize'] = 10, 10\n",
    "features = rfe_features\n",
    "importances = best_rf_uds.feature_importances_\n",
    "indices = np.argsort(importances)\n",
    "\n",
    "plt.title('Feature importance of each variable in Random Forest model')\n",
    "plt.barh(range(len(indices)), importances[indices], color='b', align='center')\n",
    "plt.yticks(range(len(indices)), [features[i] for i in indices])\n",
    "plt.xlabel('Relative Importance')"
   ]
  },
  {
   "cell_type": "markdown",
   "metadata": {
    "colab_type": "text",
    "id": "4Co0jXBfOHSQ"
   },
   "source": [
    "### Model Performance"
   ]
  },
  {
   "cell_type": "code",
   "execution_count": null,
   "metadata": {
    "colab": {
     "base_uri": "https://localhost:8080/",
     "height": 977
    },
    "colab_type": "code",
    "executionInfo": {
     "elapsed": 5867,
     "status": "ok",
     "timestamp": 1587411163705,
     "user": {
      "displayName": "An Tran",
      "photoUrl": "",
      "userId": "13330980052857741458"
     },
     "user_tz": 420
    },
    "id": "4IbtbrmNOHSR",
    "outputId": "4a46347a-78a9-4025-ef60-d33fda7a7991"
   },
   "outputs": [],
   "source": [
    "results_train_rf_uds_rfe, results_test_rf_uds_rfe, \\\n",
    "y_pred_prob_train_rf_rfe, y_pred_prob_test_rf_rfe = model_evaluation2(best_rf_uds, \n",
    "                                                                      X_uds_rfe, y_uds_rfe,\n",
    "                                                                      X_test.loc[:, rfe_feat], y_test,\n",
    "                                                                      print_ = 1)"
   ]
  },
  {
   "cell_type": "markdown",
   "metadata": {
    "colab_type": "text",
    "id": "9UF8JIYyOHST"
   },
   "source": [
    "### Save results to dataframe"
   ]
  },
  {
   "cell_type": "code",
   "execution_count": null,
   "metadata": {
    "colab": {},
    "colab_type": "code",
    "id": "OuaCfCUiOHST"
   },
   "outputs": [],
   "source": [
    "rf_results_train = rf_results_train.append(results_train_rf_uds_rfe.rename(index={results_train_rf_uds_rfe.index[-1]: 'RF 50/50 Ratio with Feature selection'}))\n",
    "rf_results_test = rf_results_test.append(results_test_rf_uds_rfe.rename(index={results_test_rf_uds_rfe.index[-1]: 'RF 50/50 Ratio with Feature selection'}))"
   ]
  },
  {
   "cell_type": "markdown",
   "metadata": {
    "colab_type": "text",
    "id": "YXcckL8GbFpe"
   },
   "source": [
    "# 80/20 Ratio: All features"
   ]
  },
  {
   "cell_type": "code",
   "execution_count": null,
   "metadata": {
    "colab": {
     "base_uri": "https://localhost:8080/",
     "height": 34
    },
    "colab_type": "code",
    "executionInfo": {
     "elapsed": 73,
     "status": "ok",
     "timestamp": 1587411163706,
     "user": {
      "displayName": "An Tran",
      "photoUrl": "",
      "userId": "13330980052857741458"
     },
     "user_tz": 420
    },
    "id": "_NfI36nMrYP4",
    "outputId": "7b7d107d-8576-4223-9ffd-aa5d8485d8bd"
   },
   "outputs": [],
   "source": [
    "grid_rf_uds.best_params_"
   ]
  },
  {
   "cell_type": "code",
   "execution_count": null,
   "metadata": {
    "colab": {},
    "colab_type": "code",
    "id": "5VDdUzL3bFpg"
   },
   "outputs": [],
   "source": [
    "# create the model/estimator\n",
    "rf_8020 = RandomForestClassifier(random_state=seed,\n",
    "                                 oob_score=True,\n",
    "                                #  class_weight='balanced',\n",
    "                                 n_jobs=-1,\n",
    "                                 max_depth=20,\n",
    "                                 min_samples_leaf=1,\n",
    "                                 n_estimators=1000)"
   ]
  },
  {
   "cell_type": "code",
   "execution_count": null,
   "metadata": {
    "colab": {
     "base_uri": "https://localhost:8080/",
     "height": 34
    },
    "colab_type": "code",
    "executionInfo": {
     "elapsed": 43055,
     "status": "ok",
     "timestamp": 1587411206755,
     "user": {
      "displayName": "An Tran",
      "photoUrl": "",
      "userId": "13330980052857741458"
     },
     "user_tz": 420
    },
    "id": "lIUwk6ENcP9j",
    "outputId": "060052d8-ff27-4c06-fec0-7f908007dfd5"
   },
   "outputs": [],
   "source": [
    "start = datetime.now()\n",
    "\n",
    "rf_8020.fit(X_8020, y_8020)\n",
    "\n",
    "print('Training took: ', datetime.now()-start)"
   ]
  },
  {
   "cell_type": "markdown",
   "metadata": {
    "colab_type": "text",
    "id": "Vg6rj5EPbFpn"
   },
   "source": [
    "### Performance on training and test set"
   ]
  },
  {
   "cell_type": "code",
   "execution_count": null,
   "metadata": {
    "colab": {
     "base_uri": "https://localhost:8080/",
     "height": 977
    },
    "colab_type": "code",
    "executionInfo": {
     "elapsed": 7715,
     "status": "ok",
     "timestamp": 1587411214456,
     "user": {
      "displayName": "An Tran",
      "photoUrl": "",
      "userId": "13330980052857741458"
     },
     "user_tz": 420
    },
    "id": "_32vEVeDbFpn",
    "outputId": "1b7aaf4b-505f-45f3-81dc-b577c899685c"
   },
   "outputs": [],
   "source": [
    "results_train_rf_8020, results_test_rf_8020, \\\n",
    "y_pred_prob_train_rf_8020, y_pred_prob_test_rf_8020 = model_evaluation2(rf_8020, \n",
    "                                                                        X_8020, y_8020,\n",
    "                                                                        X_test, y_test,\n",
    "                                                                        print_ = 1)"
   ]
  },
  {
   "cell_type": "markdown",
   "metadata": {
    "colab_type": "text",
    "id": "bHk5sK3QbFpp"
   },
   "source": [
    "### Save results to dataframe"
   ]
  },
  {
   "cell_type": "code",
   "execution_count": null,
   "metadata": {
    "colab": {},
    "colab_type": "code",
    "id": "PmS2-5ltbFpq"
   },
   "outputs": [],
   "source": [
    "rf_results_train = rf_results_train.append(results_train_rf_8020.rename(index={results_train_rf_8020.index[-1]: 'RF 80/20 Ratio All features'}))\n",
    "rf_results_test = rf_results_test.append(results_test_rf_8020.rename(index={results_test_rf_8020.index[-1]: 'RF 80/20 Ratio All features'}))"
   ]
  },
  {
   "cell_type": "markdown",
   "metadata": {
    "colab_type": "text",
    "id": "kXqpbDtDbFps"
   },
   "source": [
    "# 80/20 Ratio: Feature selection"
   ]
  },
  {
   "cell_type": "code",
   "execution_count": null,
   "metadata": {
    "colab": {},
    "colab_type": "code",
    "id": "kN5z2OVGtiYE"
   },
   "outputs": [],
   "source": [
    "# create the model/estimator\n",
    "rf_8020_rfe = RandomForestClassifier(random_state=seed,\n",
    "                                     oob_score=True,\n",
    "                                     # class_weight='balanced',\n",
    "                                     n_jobs=-1,\n",
    "                                     max_depth=20,\n",
    "                                     min_samples_leaf=1,\n",
    "                                     n_estimators=1000)"
   ]
  },
  {
   "cell_type": "markdown",
   "metadata": {
    "colab_type": "text",
    "id": "oQuQ9p2ibFps"
   },
   "source": [
    "### Use the selected features for 80/20 dataset"
   ]
  },
  {
   "cell_type": "code",
   "execution_count": null,
   "metadata": {
    "colab": {},
    "colab_type": "code",
    "id": "S0JcDfnrbFpt"
   },
   "outputs": [],
   "source": [
    "X_8020_rfe, y_8020_rfe = ratio8020.fit_resample(X_all.loc[:, rfe_feat], y_all)"
   ]
  },
  {
   "cell_type": "markdown",
   "metadata": {
    "colab_type": "text",
    "id": "r0kwjn58bFpv"
   },
   "source": [
    "### Model"
   ]
  },
  {
   "cell_type": "code",
   "execution_count": null,
   "metadata": {
    "colab": {
     "base_uri": "https://localhost:8080/",
     "height": 34
    },
    "colab_type": "code",
    "executionInfo": {
     "elapsed": 34390,
     "status": "ok",
     "timestamp": 1587411249842,
     "user": {
      "displayName": "An Tran",
      "photoUrl": "",
      "userId": "13330980052857741458"
     },
     "user_tz": 420
    },
    "id": "24R_2GzLbFpy",
    "outputId": "9662e4c3-3434-4ef0-f443-ad3dcc2c86b2"
   },
   "outputs": [],
   "source": [
    "start = datetime.now()\n",
    "\n",
    "rf_8020_rfe.fit(X_8020_rfe, y_8020_rfe)\n",
    "\n",
    "print('Training took: ', datetime.now()-start)"
   ]
  },
  {
   "cell_type": "markdown",
   "metadata": {
    "colab_type": "text",
    "id": "4YV349E0bFp1"
   },
   "source": [
    "### Model Performance"
   ]
  },
  {
   "cell_type": "code",
   "execution_count": null,
   "metadata": {
    "colab": {
     "base_uri": "https://localhost:8080/",
     "height": 977
    },
    "colab_type": "code",
    "executionInfo": {
     "elapsed": 6593,
     "status": "ok",
     "timestamp": 1587411256420,
     "user": {
      "displayName": "An Tran",
      "photoUrl": "",
      "userId": "13330980052857741458"
     },
     "user_tz": 420
    },
    "id": "rWm-y2dlbFp1",
    "outputId": "f71a2474-2ead-430a-aa6e-f9557c789553"
   },
   "outputs": [],
   "source": [
    "results_train_rf_8020_rfe, results_test_rf_8020_rfe, \\\n",
    "y_pred_prob_train_rf_8020_rfe, y_pred_prob_test_rf_8020_rfe = model_evaluation2(rf_8020_rfe, \n",
    "                                                                                X_8020_rfe, y_8020_rfe,\n",
    "                                                                                X_test.loc[:, rfe_feat], y_test,\n",
    "                                                                                print_ = 1)"
   ]
  },
  {
   "cell_type": "markdown",
   "metadata": {
    "colab_type": "text",
    "id": "ziHBgcR5bFp3"
   },
   "source": [
    "### Save results to dataframe"
   ]
  },
  {
   "cell_type": "code",
   "execution_count": null,
   "metadata": {
    "colab": {},
    "colab_type": "code",
    "id": "BC8qo1fvbFp4"
   },
   "outputs": [],
   "source": [
    "rf_results_train = rf_results_train.append(results_train_rf_8020_rfe.rename(index={results_train_rf_8020_rfe.index[-1]: 'RF 80/20 Ratio with Feature Selection'}))\n",
    "rf_results_test = rf_results_test.append(results_test_rf_8020_rfe.rename(index={results_test_rf_8020_rfe.index[-1]: 'RF 80/20 Ratio with Feature Selection'}))"
   ]
  },
  {
   "cell_type": "markdown",
   "metadata": {
    "colab_type": "text",
    "id": "yleRN2fa3Rk5"
   },
   "source": [
    "# 90/10 Ratio: All features"
   ]
  },
  {
   "cell_type": "code",
   "execution_count": null,
   "metadata": {
    "colab": {
     "base_uri": "https://localhost:8080/",
     "height": 34
    },
    "colab_type": "code",
    "executionInfo": {
     "elapsed": 82,
     "status": "ok",
     "timestamp": 1587411256421,
     "user": {
      "displayName": "An Tran",
      "photoUrl": "",
      "userId": "13330980052857741458"
     },
     "user_tz": 420
    },
    "id": "e0PjymsW3Rk6",
    "outputId": "c9c3b447-c446-4e9a-8bf4-f7ba736ebe84"
   },
   "outputs": [],
   "source": [
    "grid_rf_uds.best_params_"
   ]
  },
  {
   "cell_type": "code",
   "execution_count": null,
   "metadata": {
    "colab": {},
    "colab_type": "code",
    "id": "avDlWu7m3Rk8"
   },
   "outputs": [],
   "source": [
    "# create the model/estimator\n",
    "rf_9010 = RandomForestClassifier(random_state=seed,\n",
    "                                 oob_score=True,\n",
    "                                #  class_weight='balanced',\n",
    "                                 n_jobs=-1,\n",
    "                                 max_depth=20,\n",
    "                                 min_samples_leaf=1,\n",
    "                                 n_estimators=1000)"
   ]
  },
  {
   "cell_type": "code",
   "execution_count": null,
   "metadata": {
    "colab": {
     "base_uri": "https://localhost:8080/",
     "height": 34
    },
    "colab_type": "code",
    "executionInfo": {
     "elapsed": 89379,
     "status": "ok",
     "timestamp": 1587411345793,
     "user": {
      "displayName": "An Tran",
      "photoUrl": "",
      "userId": "13330980052857741458"
     },
     "user_tz": 420
    },
    "id": "Am1UawXB3RlA",
    "outputId": "87268bd3-dab4-4175-dbc8-e561bae8ff68"
   },
   "outputs": [],
   "source": [
    "start = datetime.now()\n",
    "\n",
    "rf_9010.fit(X_9010, y_9010)\n",
    "\n",
    "print('Training took: ', datetime.now()-start)"
   ]
  },
  {
   "cell_type": "markdown",
   "metadata": {
    "colab_type": "text",
    "id": "5swZUJ3v3RlB"
   },
   "source": [
    "### Performance on training and test set"
   ]
  },
  {
   "cell_type": "code",
   "execution_count": null,
   "metadata": {
    "colab": {
     "base_uri": "https://localhost:8080/",
     "height": 977
    },
    "colab_type": "code",
    "executionInfo": {
     "elapsed": 8648,
     "status": "ok",
     "timestamp": 1587411354429,
     "user": {
      "displayName": "An Tran",
      "photoUrl": "",
      "userId": "13330980052857741458"
     },
     "user_tz": 420
    },
    "id": "MRuY1tIw3RlB",
    "outputId": "1aed272b-5d3e-48fa-ae07-4ad48474a165"
   },
   "outputs": [],
   "source": [
    "results_train_rf_9010, results_test_rf_9010, \\\n",
    "y_pred_prob_train_rf_9010, y_pred_prob_test_rf_9010 = model_evaluation2(rf_9010, \n",
    "                                                                        X_9010, y_9010,\n",
    "                                                                        X_test, y_test,\n",
    "                                                                        print_ = 1)"
   ]
  },
  {
   "cell_type": "markdown",
   "metadata": {
    "colab_type": "text",
    "id": "4rZzkXJ33RlD"
   },
   "source": [
    "### Save results to dataframe"
   ]
  },
  {
   "cell_type": "code",
   "execution_count": null,
   "metadata": {
    "colab": {},
    "colab_type": "code",
    "id": "3RmxIEdj3RlD"
   },
   "outputs": [],
   "source": [
    "rf_results_train = rf_results_train.append(results_train_rf_9010.rename(index={results_train_rf_9010.index[-1]: 'RF 90/10 Ratio All features'}))\n",
    "rf_results_test = rf_results_test.append(results_test_rf_9010.rename(index={results_test_rf_9010.index[-1]: 'RF 90/10 Ratio All features'}))"
   ]
  },
  {
   "cell_type": "markdown",
   "metadata": {
    "colab_type": "text",
    "id": "na6DNFeo3RlG"
   },
   "source": [
    "# 90/10 Ratio: Feature selection"
   ]
  },
  {
   "cell_type": "code",
   "execution_count": null,
   "metadata": {
    "colab": {},
    "colab_type": "code",
    "id": "c738bFTK3RlG"
   },
   "outputs": [],
   "source": [
    "# create the model/estimator\n",
    "rf_9010_rfe = RandomForestClassifier(random_state=seed,\n",
    "                                     oob_score=True,\n",
    "                                     # class_weight='balanced',\n",
    "                                     n_jobs=-1,\n",
    "                                     max_depth=20,\n",
    "                                     min_samples_leaf=1,\n",
    "                                     n_estimators=1000)"
   ]
  },
  {
   "cell_type": "markdown",
   "metadata": {
    "colab_type": "text",
    "id": "DG9G_0nh3RlI"
   },
   "source": [
    "### Use the selected features for 90/10 dataset"
   ]
  },
  {
   "cell_type": "code",
   "execution_count": null,
   "metadata": {
    "colab": {},
    "colab_type": "code",
    "id": "iIj2GrFz3RlI"
   },
   "outputs": [],
   "source": [
    "X_9010_rfe, y_9010_rfe = ratio9010.fit_resample(X_all.loc[:, rfe_feat], y_all)"
   ]
  },
  {
   "cell_type": "markdown",
   "metadata": {
    "colab_type": "text",
    "id": "EO5WAJtl3RlJ"
   },
   "source": [
    "### Model"
   ]
  },
  {
   "cell_type": "code",
   "execution_count": null,
   "metadata": {
    "colab": {
     "base_uri": "https://localhost:8080/",
     "height": 34
    },
    "colab_type": "code",
    "executionInfo": {
     "elapsed": 75912,
     "status": "ok",
     "timestamp": 1587411431009,
     "user": {
      "displayName": "An Tran",
      "photoUrl": "",
      "userId": "13330980052857741458"
     },
     "user_tz": 420
    },
    "id": "z3T4i6RJ3RlK",
    "outputId": "ef320f8d-5b96-4b8e-b272-938a28b16602"
   },
   "outputs": [],
   "source": [
    "start = datetime.now()\n",
    "\n",
    "rf_9010_rfe.fit(X_9010_rfe, y_9010_rfe)\n",
    "\n",
    "print('Training took: ', datetime.now()-start)"
   ]
  },
  {
   "cell_type": "markdown",
   "metadata": {
    "colab_type": "text",
    "id": "BgU5XDMo3RlL"
   },
   "source": [
    "### Model Performance"
   ]
  },
  {
   "cell_type": "code",
   "execution_count": null,
   "metadata": {
    "colab": {
     "base_uri": "https://localhost:8080/",
     "height": 977
    },
    "colab_type": "code",
    "executionInfo": {
     "elapsed": 7903,
     "status": "ok",
     "timestamp": 1587411438906,
     "user": {
      "displayName": "An Tran",
      "photoUrl": "",
      "userId": "13330980052857741458"
     },
     "user_tz": 420
    },
    "id": "quDJN_P83RlL",
    "outputId": "3cd12be9-0e85-4aa1-e4bf-fd2354451287"
   },
   "outputs": [],
   "source": [
    "results_train_rf_9010_rfe, results_test_rf_9010_rfe, \\\n",
    "y_pred_prob_train_rf_9010_rfe, y_pred_prob_test_rf_9010_rfe = model_evaluation2(rf_9010_rfe, \n",
    "                                                                                X_9010_rfe, y_9010_rfe,\n",
    "                                                                                X_test.loc[:, rfe_feat], y_test,\n",
    "                                                                                print_ = 1)"
   ]
  },
  {
   "cell_type": "markdown",
   "metadata": {
    "colab_type": "text",
    "id": "J3AhWrCg3RlM"
   },
   "source": [
    "### Save results to dataframe"
   ]
  },
  {
   "cell_type": "code",
   "execution_count": null,
   "metadata": {
    "colab": {},
    "colab_type": "code",
    "id": "Z7JUubVz3RlN"
   },
   "outputs": [],
   "source": [
    "rf_results_train = rf_results_train.append(results_train_rf_9010_rfe.rename(index={results_train_rf_9010_rfe.index[-1]: 'RF 90/10 Ratio with Feature Selection'}))\n",
    "rf_results_test = rf_results_test.append(results_test_rf_9010_rfe.rename(index={results_test_rf_9010_rfe.index[-1]: 'RF 90/10 Ratio with Feature Selection'}))"
   ]
  },
  {
   "cell_type": "markdown",
   "metadata": {
    "colab_type": "text",
    "id": "aipv5L4L53dO"
   },
   "source": [
    "# 95/05 Ratio: All features"
   ]
  },
  {
   "cell_type": "code",
   "execution_count": null,
   "metadata": {
    "colab": {
     "base_uri": "https://localhost:8080/",
     "height": 34
    },
    "colab_type": "code",
    "executionInfo": {
     "elapsed": 87,
     "status": "ok",
     "timestamp": 1587411438908,
     "user": {
      "displayName": "An Tran",
      "photoUrl": "",
      "userId": "13330980052857741458"
     },
     "user_tz": 420
    },
    "id": "N7S2eehP53dP",
    "outputId": "bb80c19f-4efe-44a0-f83a-c7c691c6f308"
   },
   "outputs": [],
   "source": [
    "grid_rf_uds.best_params_"
   ]
  },
  {
   "cell_type": "code",
   "execution_count": null,
   "metadata": {
    "colab": {},
    "colab_type": "code",
    "id": "TQ7-ey5S53dR"
   },
   "outputs": [],
   "source": [
    "# create the model/estimator\n",
    "rf_9505 = RandomForestClassifier(random_state=seed,\n",
    "                                 oob_score=True,\n",
    "                                #  class_weight='balanced',\n",
    "                                 n_jobs=-1,\n",
    "                                 max_depth=20,\n",
    "                                 min_samples_leaf=1,\n",
    "                                 n_estimators=1000)"
   ]
  },
  {
   "cell_type": "code",
   "execution_count": null,
   "metadata": {
    "colab": {
     "base_uri": "https://localhost:8080/",
     "height": 34
    },
    "colab_type": "code",
    "executionInfo": {
     "elapsed": 233635,
     "status": "ok",
     "timestamp": 1587411672535,
     "user": {
      "displayName": "An Tran",
      "photoUrl": "",
      "userId": "13330980052857741458"
     },
     "user_tz": 420
    },
    "id": "Dm_d1hTq53dV",
    "outputId": "56e46228-a0e8-4c01-857d-3a74bc808d30"
   },
   "outputs": [],
   "source": [
    "start = datetime.now()\n",
    "\n",
    "rf_9505.fit(X_9505, y_9505)\n",
    "\n",
    "print('Training took: ', datetime.now()-start)"
   ]
  },
  {
   "cell_type": "markdown",
   "metadata": {
    "colab_type": "text",
    "id": "TuxAFe_-53dY"
   },
   "source": [
    "### Performance on training and test set"
   ]
  },
  {
   "cell_type": "code",
   "execution_count": null,
   "metadata": {
    "colab": {
     "base_uri": "https://localhost:8080/",
     "height": 977
    },
    "colab_type": "code",
    "executionInfo": {
     "elapsed": 11901,
     "status": "ok",
     "timestamp": 1587411684430,
     "user": {
      "displayName": "An Tran",
      "photoUrl": "",
      "userId": "13330980052857741458"
     },
     "user_tz": 420
    },
    "id": "fnSx3eJd53dY",
    "outputId": "7bd61008-771f-4e7e-b144-2af73a7e4275"
   },
   "outputs": [],
   "source": [
    "results_train_rf_9505, results_test_rf_9505, \\\n",
    "y_pred_prob_train_rf_9505, y_pred_prob_test_rf_9505 = model_evaluation2(rf_9505, \n",
    "                                                                        X_9505, y_9505,\n",
    "                                                                        X_test, y_test,\n",
    "                                                                        print_ = 1)"
   ]
  },
  {
   "cell_type": "markdown",
   "metadata": {
    "colab_type": "text",
    "id": "NEUs1IAc53db"
   },
   "source": [
    "### Save results to dataframe"
   ]
  },
  {
   "cell_type": "code",
   "execution_count": null,
   "metadata": {
    "colab": {},
    "colab_type": "code",
    "id": "oj-SzIJ353db"
   },
   "outputs": [],
   "source": [
    "rf_results_train = rf_results_train.append(results_train_rf_9505.rename(index={results_train_rf_9505.index[-1]: 'RF 95/05 Ratio All features'}))\n",
    "rf_results_test = rf_results_test.append(results_test_rf_9505.rename(index={results_test_rf_9505.index[-1]: 'RF 95/05 Ratio All features'}))"
   ]
  },
  {
   "cell_type": "markdown",
   "metadata": {
    "colab_type": "text",
    "id": "m_OBx9dG53dc"
   },
   "source": [
    "# 95/05 Ratio: Feature selection"
   ]
  },
  {
   "cell_type": "code",
   "execution_count": null,
   "metadata": {
    "colab": {},
    "colab_type": "code",
    "id": "xKYkl5ZB53dc"
   },
   "outputs": [],
   "source": [
    "# create the model/estimator\n",
    "rf_9505_rfe = RandomForestClassifier(random_state=seed,\n",
    "                                     oob_score=True,\n",
    "                                     # class_weight='balanced',\n",
    "                                     n_jobs=-1,\n",
    "                                     max_depth=20,\n",
    "                                     min_samples_leaf=1,\n",
    "                                     n_estimators=1000)"
   ]
  },
  {
   "cell_type": "markdown",
   "metadata": {
    "colab_type": "text",
    "id": "5SgkVLcO53de"
   },
   "source": [
    "### Use the selected features for 95/05 dataset"
   ]
  },
  {
   "cell_type": "code",
   "execution_count": null,
   "metadata": {
    "colab": {},
    "colab_type": "code",
    "id": "JLUYckCa53de"
   },
   "outputs": [],
   "source": [
    "X_9505_rfe, y_9505_rfe = ratio9505.fit_resample(X_all.loc[:, rfe_feat], y_all)"
   ]
  },
  {
   "cell_type": "markdown",
   "metadata": {
    "colab_type": "text",
    "id": "E9rwkknT53df"
   },
   "source": [
    "### Model"
   ]
  },
  {
   "cell_type": "code",
   "execution_count": null,
   "metadata": {
    "colab": {
     "base_uri": "https://localhost:8080/",
     "height": 34
    },
    "colab_type": "code",
    "executionInfo": {
     "elapsed": 177300,
     "status": "ok",
     "timestamp": 1587411862318,
     "user": {
      "displayName": "An Tran",
      "photoUrl": "",
      "userId": "13330980052857741458"
     },
     "user_tz": 420
    },
    "id": "GCVxFsCP53df",
    "outputId": "cbcbbc74-3755-4441-bbac-adc7d27d7836"
   },
   "outputs": [],
   "source": [
    "start = datetime.now()\n",
    "\n",
    "rf_9505_rfe.fit(X_9505_rfe, y_9505_rfe)\n",
    "\n",
    "print('Training took: ', datetime.now()-start)"
   ]
  },
  {
   "cell_type": "markdown",
   "metadata": {
    "colab_type": "text",
    "id": "rbzMrn6c53di"
   },
   "source": [
    "### Model Performance"
   ]
  },
  {
   "cell_type": "code",
   "execution_count": null,
   "metadata": {
    "colab": {
     "base_uri": "https://localhost:8080/",
     "height": 977
    },
    "colab_type": "code",
    "executionInfo": {
     "elapsed": 10025,
     "status": "ok",
     "timestamp": 1587411872330,
     "user": {
      "displayName": "An Tran",
      "photoUrl": "",
      "userId": "13330980052857741458"
     },
     "user_tz": 420
    },
    "id": "Bx8bMqmP53di",
    "outputId": "a2f5d119-62cf-4ace-83ab-a8e6d0ed99a3"
   },
   "outputs": [],
   "source": [
    "results_train_rf_9505_rfe, results_test_rf_9505_rfe, \\\n",
    "y_pred_prob_train_rf_9505_rfe, y_pred_prob_test_rf_9505_rfe = model_evaluation2(rf_9505_rfe, \n",
    "                                                                                X_9505_rfe, y_9505_rfe,\n",
    "                                                                                X_test.loc[:, rfe_feat], y_test,\n",
    "                                                                                print_ = 1)"
   ]
  },
  {
   "cell_type": "markdown",
   "metadata": {
    "colab_type": "text",
    "id": "BaJrlUH053dj"
   },
   "source": [
    "### Save results to dataframe"
   ]
  },
  {
   "cell_type": "code",
   "execution_count": null,
   "metadata": {
    "colab": {},
    "colab_type": "code",
    "id": "uhSVJ8dY53dj"
   },
   "outputs": [],
   "source": [
    "rf_results_train = rf_results_train.append(results_train_rf_9505_rfe.rename(index={results_train_rf_9505_rfe.index[-1]: 'RF 95/05 Ratio with Feature Selection'}))\n",
    "rf_results_test = rf_results_test.append(results_test_rf_9505_rfe.rename(index={results_test_rf_9505_rfe.index[-1]: 'RF 95/05 Ratio with Feature Selection'}))"
   ]
  },
  {
   "cell_type": "markdown",
   "metadata": {
    "colab_type": "text",
    "id": "NKWZoc6B-H7r"
   },
   "source": [
    "# 98/02 Ratio: All features"
   ]
  },
  {
   "cell_type": "code",
   "execution_count": null,
   "metadata": {
    "colab": {
     "base_uri": "https://localhost:8080/",
     "height": 34
    },
    "colab_type": "code",
    "executionInfo": {
     "elapsed": 75,
     "status": "ok",
     "timestamp": 1587411872331,
     "user": {
      "displayName": "An Tran",
      "photoUrl": "",
      "userId": "13330980052857741458"
     },
     "user_tz": 420
    },
    "id": "AHv3ZsQJ-H7v",
    "outputId": "6acf0bc4-077f-4aca-ee92-cae5d347c570"
   },
   "outputs": [],
   "source": [
    "grid_rf_uds.best_params_"
   ]
  },
  {
   "cell_type": "code",
   "execution_count": null,
   "metadata": {
    "colab": {},
    "colab_type": "code",
    "id": "z_1wvYSx-H7y"
   },
   "outputs": [],
   "source": [
    "# create the model/estimator\n",
    "rf_9802 = RandomForestClassifier(random_state=seed,\n",
    "                                 oob_score=True,\n",
    "                                #  class_weight='balanced',\n",
    "                                 n_jobs=-1,\n",
    "                                 max_depth=20,\n",
    "                                 min_samples_leaf=1,\n",
    "                                 n_estimators=1000)"
   ]
  },
  {
   "cell_type": "code",
   "execution_count": null,
   "metadata": {
    "colab": {
     "base_uri": "https://localhost:8080/",
     "height": 34
    },
    "colab_type": "code",
    "executionInfo": {
     "elapsed": 751485,
     "status": "ok",
     "timestamp": 1587412623810,
     "user": {
      "displayName": "An Tran",
      "photoUrl": "",
      "userId": "13330980052857741458"
     },
     "user_tz": 420
    },
    "id": "ALmVE3db-H72",
    "outputId": "820d734b-28f7-4601-809e-03b8182a6479"
   },
   "outputs": [],
   "source": [
    "start = datetime.now()\n",
    "\n",
    "rf_9802.fit(X_all, y_all)\n",
    "\n",
    "print('Training took: ', datetime.now()-start)"
   ]
  },
  {
   "cell_type": "markdown",
   "metadata": {
    "colab_type": "text",
    "id": "i39kvP4A-H74"
   },
   "source": [
    "### Performance on training and test set"
   ]
  },
  {
   "cell_type": "code",
   "execution_count": null,
   "metadata": {
    "colab": {
     "base_uri": "https://localhost:8080/",
     "height": 977
    },
    "colab_type": "code",
    "executionInfo": {
     "elapsed": 22696,
     "status": "ok",
     "timestamp": 1587412646497,
     "user": {
      "displayName": "An Tran",
      "photoUrl": "",
      "userId": "13330980052857741458"
     },
     "user_tz": 420
    },
    "id": "IRM_RxGi-H75",
    "outputId": "fd747268-9836-4293-cef2-cb4337db040c"
   },
   "outputs": [],
   "source": [
    "results_train_rf_9802, results_test_rf_9802, \\\n",
    "y_pred_prob_train_rf_9802, y_pred_prob_test_rf_9802 = model_evaluation2(rf_9802, \n",
    "                                                                        X_all, y_all,\n",
    "                                                                        X_test, y_test,\n",
    "                                                                        print_ = 1)"
   ]
  },
  {
   "cell_type": "markdown",
   "metadata": {
    "colab_type": "text",
    "id": "l7I7Q-pb-H76"
   },
   "source": [
    "### Save results to dataframe"
   ]
  },
  {
   "cell_type": "code",
   "execution_count": null,
   "metadata": {
    "colab": {},
    "colab_type": "code",
    "id": "G7OqiK_e-H76"
   },
   "outputs": [],
   "source": [
    "rf_results_train = rf_results_train.append(results_train_rf_9802.rename(index={results_train_rf_9802.index[-1]: 'RF 98/02 Ratio All features'}))\n",
    "rf_results_test = rf_results_test.append(results_test_rf_9802.rename(index={results_test_rf_9802.index[-1]: 'RF 98/02 Ratio All features'}))"
   ]
  },
  {
   "cell_type": "markdown",
   "metadata": {
    "colab_type": "text",
    "id": "02Y7-YhU-H77"
   },
   "source": [
    "# 98/02 Ratio: Feature selection"
   ]
  },
  {
   "cell_type": "code",
   "execution_count": null,
   "metadata": {
    "colab": {},
    "colab_type": "code",
    "id": "jFaVZ7CY-H77"
   },
   "outputs": [],
   "source": [
    "# create the model/estimator\n",
    "rf_9802_rfe = RandomForestClassifier(random_state=seed,\n",
    "                                     oob_score=True,\n",
    "                                     # class_weight='balanced',\n",
    "                                     n_jobs=-1,\n",
    "                                     max_depth=20,\n",
    "                                     min_samples_leaf=1,\n",
    "                                     n_estimators=1000)"
   ]
  },
  {
   "cell_type": "markdown",
   "metadata": {
    "colab_type": "text",
    "id": "UQqGKXpi-H79"
   },
   "source": [
    "### Use the selected features for 98/02 dataset"
   ]
  },
  {
   "cell_type": "code",
   "execution_count": null,
   "metadata": {
    "colab": {},
    "colab_type": "code",
    "id": "1zirZ3OW-H79"
   },
   "outputs": [],
   "source": [
    "X_9802_rfe, y_9802_rfe = X_all.loc[:, rfe_feat], y_all"
   ]
  },
  {
   "cell_type": "markdown",
   "metadata": {
    "colab_type": "text",
    "id": "wNUyUg8w-H7-"
   },
   "source": [
    "### Model"
   ]
  },
  {
   "cell_type": "code",
   "execution_count": null,
   "metadata": {
    "colab": {
     "base_uri": "https://localhost:8080/",
     "height": 34
    },
    "colab_type": "code",
    "executionInfo": {
     "elapsed": 445738,
     "status": "ok",
     "timestamp": 1587520913393,
     "user": {
      "displayName": "An Tran",
      "photoUrl": "",
      "userId": "10274312836707434279"
     },
     "user_tz": 420
    },
    "id": "RnH40v22-H7-",
    "outputId": "582f1979-d1a6-4388-e367-155ae5ae87f3"
   },
   "outputs": [],
   "source": [
    "start = datetime.now()\n",
    "\n",
    "rf_9802_rfe.fit(X_9802_rfe, y_9802_rfe)\n",
    "\n",
    "print('Training took: ', datetime.now()-start)"
   ]
  },
  {
   "cell_type": "markdown",
   "metadata": {
    "colab_type": "text",
    "id": "G9vZaHz6-H8A"
   },
   "source": [
    "### Model Performance"
   ]
  },
  {
   "cell_type": "code",
   "execution_count": null,
   "metadata": {
    "colab": {
     "base_uri": "https://localhost:8080/",
     "height": 977
    },
    "colab_type": "code",
    "executionInfo": {
     "elapsed": 18973,
     "status": "ok",
     "timestamp": 1587520938204,
     "user": {
      "displayName": "An Tran",
      "photoUrl": "",
      "userId": "10274312836707434279"
     },
     "user_tz": 420
    },
    "id": "NuWDM7oZ-H8A",
    "outputId": "6aa81146-ff4b-46e5-ce54-e8f338549c23"
   },
   "outputs": [],
   "source": [
    "results_train_rf_9802_rfe, results_test_rf_9802_rfe, \\\n",
    "y_pred_prob_train_rf_9802_rfe, y_pred_prob_test_rf_9802_rfe = model_evaluation2(rf_9802_rfe, \n",
    "                                                                                X_9802_rfe, y_9802_rfe,\n",
    "                                                                                X_test.loc[:, rfe_feat], y_test,\n",
    "                                                                                print_ = 1)"
   ]
  },
  {
   "cell_type": "markdown",
   "metadata": {
    "colab_type": "text",
    "id": "kkwmQP_6-H8C"
   },
   "source": [
    "### Save results to dataframe"
   ]
  },
  {
   "cell_type": "code",
   "execution_count": null,
   "metadata": {
    "colab": {},
    "colab_type": "code",
    "id": "wdRiS3Xj-H8C"
   },
   "outputs": [],
   "source": [
    "rf_results_train = rf_results_train.append(results_train_rf_9802_rfe.rename(index={results_train_rf_9802_rfe.index[-1]: 'RF 98/02 Ratio with Feature Selection'}))\n",
    "rf_results_test = rf_results_test.append(results_test_rf_9802_rfe.rename(index={results_test_rf_9802_rfe.index[-1]: 'RF 98/02 Ratio with Feature Selection'}))"
   ]
  },
  {
   "cell_type": "markdown",
   "metadata": {
    "colab_type": "text",
    "id": "ztn6Mt_5EQXB"
   },
   "source": [
    "### Save the training and test dataframes to csv files"
   ]
  },
  {
   "cell_type": "code",
   "execution_count": null,
   "metadata": {
    "colab": {},
    "colab_type": "code",
    "id": "wjN-79F_EPE6"
   },
   "outputs": [],
   "source": [
    "rf_results_train.to_csv('RF_Train_Results.csv', index=True)\n",
    "rf_results_test.to_csv('RF_Test_Results.csv', index=True)"
   ]
  },
  {
   "cell_type": "code",
   "execution_count": null,
   "metadata": {},
   "outputs": [],
   "source": []
  }
 ],
 "metadata": {
  "accelerator": "TPU",
  "colab": {
   "collapsed_sections": [],
   "machine_shape": "hm",
   "name": "rf.ipynb",
   "provenance": [],
   "toc_visible": true
  },
  "kernelspec": {
   "display_name": "Python 3",
   "language": "python",
   "name": "python3"
  },
  "language_info": {
   "codemirror_mode": {
    "name": "ipython",
    "version": 3
   },
   "file_extension": ".py",
   "mimetype": "text/x-python",
   "name": "python",
   "nbconvert_exporter": "python",
   "pygments_lexer": "ipython3",
   "version": "3.6.8"
  }
 },
 "nbformat": 4,
 "nbformat_minor": 1
}
