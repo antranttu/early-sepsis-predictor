{
 "cells": [
  {
   "cell_type": "code",
   "execution_count": 2,
   "metadata": {
    "colab": {
     "base_uri": "https://localhost:8080/",
     "height": 139
    },
    "colab_type": "code",
    "executionInfo": {
     "elapsed": 1179,
     "status": "ok",
     "timestamp": 1588440601669,
     "user": {
      "displayName": "An Tran",
      "photoUrl": "",
      "userId": "13330980052857741458"
     },
     "user_tz": 420
    },
    "id": "g4KXhwA1C_QZ",
    "outputId": "b7374685-288c-4d5e-b251-bcd18d9d9fa9"
   },
   "outputs": [
    {
     "name": "stderr",
     "output_type": "stream",
     "text": [
      "/usr/local/lib/python3.6/dist-packages/statsmodels/tools/_testing.py:19: FutureWarning: pandas.util.testing is deprecated. Use the functions in the public API at pandas.testing instead.\n",
      "  import pandas.util.testing as tm\n",
      "/usr/local/lib/python3.6/dist-packages/sklearn/externals/six.py:31: FutureWarning: The module is deprecated in version 0.21 and will be removed in version 0.23 since we've dropped support for Python 2.7. Please rely on the official version of six (https://pypi.org/project/six/).\n",
      "  \"(https://pypi.org/project/six/).\", FutureWarning)\n",
      "/usr/local/lib/python3.6/dist-packages/sklearn/utils/deprecation.py:144: FutureWarning: The sklearn.neighbors.base module is  deprecated in version 0.22 and will be removed in version 0.24. The corresponding classes / functions should instead be imported from sklearn.neighbors. Anything that cannot be imported from sklearn.neighbors is now part of the private API.\n",
      "  warnings.warn(message, FutureWarning)\n"
     ]
    }
   ],
   "source": [
    "import pandas as pd\n",
    "import numpy as np\n",
    "import seaborn as sns\n",
    "\n",
    "from sklearn.linear_model import LogisticRegression\n",
    "from sklearn.ensemble import RandomForestClassifier, GradientBoostingClassifier\n",
    "from sklearn.neighbors import KNeighborsClassifier\n",
    "from sklearn.model_selection import GroupKFold, StratifiedKFold, train_test_split, cross_val_score, cross_val_predict, GridSearchCV\n",
    "from sklearn.metrics import classification_report, precision_score, recall_score, accuracy_score, confusion_matrix, roc_curve, precision_recall_curve, auc, f1_score, cohen_kappa_score\n",
    "from imblearn.under_sampling import RandomUnderSampler\n",
    "from imblearn.over_sampling import RandomOverSampler, SMOTE\n",
    "from sklearn.preprocessing import StandardScaler, OneHotEncoder, PowerTransformer\n",
    "from sklearn.feature_selection import RFE, SelectFromModel, RFECV\n",
    "from xgboost import XGBClassifier, plot_importance, plot_tree\n",
    "\n",
    "from IPython import display\n",
    "from datetime import datetime\n",
    "\n",
    "import matplotlib.pyplot as plt\n",
    "from matplotlib import cm\n",
    "\n",
    "from pylab import rcParams\n",
    "\n",
    "import os\n",
    "import re\n",
    "import time\n",
    "import warnings\n",
    "warnings.filterwarnings('ignore')\n",
    "\n",
    "seed = 9001\n",
    "np.random.seed(seed)"
   ]
  },
  {
   "cell_type": "markdown",
   "metadata": {
    "colab_type": "text",
    "id": "7sMQQcsvOVch"
   },
   "source": [
    "### Read in processed extracted 6 hour window data training and test set"
   ]
  },
  {
   "cell_type": "code",
   "execution_count": 3,
   "metadata": {
    "colab": {
     "base_uri": "https://localhost:8080/",
     "height": 34
    },
    "colab_type": "code",
    "executionInfo": {
     "elapsed": 25416,
     "status": "ok",
     "timestamp": 1588440625949,
     "user": {
      "displayName": "An Tran",
      "photoUrl": "",
      "userId": "13330980052857741458"
     },
     "user_tz": 420
    },
    "id": "vz5oL0UHOcQ0",
    "outputId": "14783659-a509-4d5c-f03c-b891c5ba86a7"
   },
   "outputs": [
    {
     "name": "stdout",
     "output_type": "stream",
     "text": [
      "/content/drive/My Drive/sepsis\n"
     ]
    }
   ],
   "source": [
    "# training set\n",
    "X_all = pd.read_csv('6hour_Xtrain.csv')\n",
    "y_all = pd.read_csv('6hour_ytrain.csv')\n",
    "\n",
    "# test set\n",
    "X_test = pd.read_csv('6hour_Xtest.csv')\n",
    "y_test = pd.read_csv('6hour_ytest.csv')"
   ]
  },
  {
   "cell_type": "code",
   "execution_count": 4,
   "metadata": {
    "colab": {
     "base_uri": "https://localhost:8080/",
     "height": 51
    },
    "colab_type": "code",
    "executionInfo": {
     "elapsed": 25393,
     "status": "ok",
     "timestamp": 1588440625950,
     "user": {
      "displayName": "An Tran",
      "photoUrl": "",
      "userId": "13330980052857741458"
     },
     "user_tz": 420
    },
    "id": "vuLbtgnNUI0D",
    "outputId": "87b0e916-bc1d-4962-f84f-eed9a9bc7505"
   },
   "outputs": [
    {
     "name": "stdout",
     "output_type": "stream",
     "text": [
      "(1080424, 64)\n",
      "(270106, 64)\n"
     ]
    }
   ],
   "source": [
    "print(X_all.shape)\n",
    "print(X_test.shape)"
   ]
  },
  {
   "cell_type": "markdown",
   "metadata": {
    "colab_type": "text",
    "id": "SK8kRQTl_W3I"
   },
   "source": [
    "### Define threshold that gives best F1-score"
   ]
  },
  {
   "cell_type": "code",
   "execution_count": 0,
   "metadata": {
    "colab": {},
    "colab_type": "code",
    "id": "xZzoxztr--D4"
   },
   "outputs": [],
   "source": [
    "def performance2(y, y_pred, print_ = 1, *args):   \n",
    "    \"\"\" Calculate performance measures for a given ground truth classification y and predicted \n",
    "    probabilities y_pred. If *args is provided a pre-defined threshold is used to calculate the performance.\n",
    "    If not, the threshold giving the best mean sensitivity and specificity is selected. The AUC is calculated\n",
    "    for a range of thresholds using the metrics package from sklearn. \"\"\"\n",
    "\n",
    "    # xx and yy values for ROC curve\n",
    "    fpr, tpr, thresholds = roc_curve(y, y_pred, pos_label=1)\n",
    "    # area under the ROC curve\n",
    "    AUC = auc(fpr, tpr)\n",
    "\n",
    "    # xx and yy values for AUPR\n",
    "    precision, recall, thresholds = precision_recall_curve(y, y_pred, pos_label=1)\n",
    "    # convert to f1-score\n",
    "    fscore = (2*precision*recall) / (precision+recall)\n",
    "    fscore[np.isnan(fscore)] = 0\n",
    "\n",
    "    # if a threshold is specified, use it\n",
    "    if args:\n",
    "        threshold = args[0]\n",
    "    else:\n",
    "    # if a threshold is not specified, we will choose the threshold that gives the best f1-score\n",
    "        ix = np.argmax(fscore)\n",
    "        threshold = thresholds[ix]        \n",
    "        \n",
    "    # transform the predicted probability into a binary classification\n",
    "    y_pred[y_pred >= threshold] = 1\n",
    "    y_pred[y_pred < threshold] = 0\n",
    "    \n",
    "    tn, fp, fn, tp = confusion_matrix(y, y_pred).ravel()\n",
    "        \n",
    "    # basic accuracy\n",
    "    accuracy = (tp + tn) / (tp + tn + fp + fn)\n",
    "    \n",
    "    # for auc\n",
    "    sensitivity = tp/(tp+fn)\n",
    "    specificity = tn/(tn+fp)\n",
    "    \n",
    "    # for f1-score\n",
    "    precision1 = tp/(tp+fp)\n",
    "    recall1 = sensitivity # detection rate\n",
    "    \n",
    "    # for false alarm rate\n",
    "    fpr2 = fp/(fp+tn) # distinguish with false positive rate from calculating AUC\n",
    "    fnr = fn/(fn+tp)\n",
    "    \n",
    "    # f1-score\n",
    "    f1 = max(fscore)\n",
    "\n",
    "    # kappa score\n",
    "    kappa = cohen_kappa_score(y, y_pred)\n",
    "\n",
    "    \n",
    "    # print the performance and plot the ROC curve    \n",
    "    if print_ == 1:\n",
    "        print('Threshold: ' + str(round(threshold, 2)))\n",
    "        print('TP: ' + str(tp))\n",
    "        print('TN: ' + str(tn))\n",
    "        print('FP: ' + str(fp))\n",
    "        print('FN: ' + str(fn))\n",
    "        \n",
    "        print(\"Accuracy: \" + str(round(accuracy, 2)))\n",
    "        print('Sensitivity: ' + str(round(sensitivity, 2)))\n",
    "        print('Specificity: ' + str(round(specificity, 2)))\n",
    "        print('Precision: ' + str(round(precision1, 2)))\n",
    "        print('Recall (Detection rate): ' + str(round(recall1, 2)))\n",
    "        print('F1-score: ' + str(round(f1, 2)))\n",
    "        print('AUC: ' + str(round(AUC, 2)))\n",
    "        print('FPR (False alarm rate): ' + str(round(fpr2, 2)))\n",
    "        print('FNR: ' + str(round(fnr, 2)))\n",
    "        print('Kappa: ' + str(round(kappa, 2)))\n",
    "    \n",
    "        plt.figure(figsize = (4,3))\n",
    "        plt.scatter(x = fpr, y = tpr, label = None)\n",
    "        plt.plot(fpr, tpr, label = 'Classifier', zorder = 1)\n",
    "        plt.plot([0, 1], [0, 1], 'k--', label = 'Random classifier')\n",
    "        plt.scatter(x = 1 - specificity, y = sensitivity, c = 'black', label = 'Operating point', zorder = 2)\n",
    "        plt.legend()\n",
    "        plt.xlabel('1 - specificity')\n",
    "        plt.ylabel('sensitivity')\n",
    "        plt.show()\n",
    "        \n",
    "\n",
    "    return threshold, accuracy, sensitivity, specificity, AUC, precision1, recall1, f1, fpr2, fnr, kappa"
   ]
  },
  {
   "cell_type": "markdown",
   "metadata": {
    "colab_type": "text",
    "id": "qCkKP9_oEZ_B"
   },
   "source": [
    "### Create function to evaluate model performance on training and test set maximizing F1-score"
   ]
  },
  {
   "cell_type": "code",
   "execution_count": 0,
   "metadata": {
    "colab": {},
    "colab_type": "code",
    "id": "-5c6O_DwEkQz"
   },
   "outputs": [],
   "source": [
    "def model_evaluation2(model, X_train, y_train, X_test, y_test, print_):\n",
    "    \n",
    "    # tune - parameter estimation \n",
    "    print('TRAINING SET')\n",
    "    y_pred_prob_train = model.predict_proba(X_train)\n",
    "    threshold, accuracy_tr, sensitivity_tr, specificity_tr, AUC_tr, precision_tr, \\\n",
    "    recall_tr, f1_tr, fpr_tr, fnr_tr, kappa_tr = performance2(y_train, np.delete(y_pred_prob_train, 0, 1), print_) # retain the probabilities of positive class only\n",
    "\n",
    "    # test\n",
    "    print('TEST SET')\n",
    "    y_pred_prob_test = model.predict_proba(X_test)\n",
    "    _, accuracy_test, sensitivity_test, specificity_test, AUC_test, precision_test, \\\n",
    "     recall_test, f1_test, fpr_test, fnr_test, kappa_test = performance2(y_test, np.delete(y_pred_prob_test, 0, 1), print_, threshold)\n",
    "    \n",
    "    # save the results\n",
    "    results_train = pd.DataFrame(data = [[threshold, accuracy_tr, sensitivity_tr, specificity_tr, AUC_tr,\n",
    "                                          precision_tr, recall_tr, f1_tr, fpr_tr, fnr_tr, kappa_tr, X_train.shape[1]]],\n",
    "                                 columns = ['Threshold','Accuracy', 'Sensitivity', 'Specificity', 'AUROC',\n",
    "                                            'Precision', 'Recall', 'F1', 'FPR (False Alarm)', 'FNR', 'Kappa', '# features'])\n",
    "\n",
    "    results_test = pd.DataFrame(data = [[threshold, accuracy_test, sensitivity_test, specificity_test, AUC_test,\n",
    "                                          precision_test, recall_test, f1_test, fpr_test, fnr_test, kappa_test, X_train.shape[1]]],\n",
    "                                columns = ['Threshold','Accuracy', 'Sensitivity', 'Specificity', 'AUROC',\n",
    "                                           'Precision', 'Recall', 'F1', 'FPR (False Alarm)', 'FNR', 'Kappa', '# features'])\n",
    "        \n",
    "    return results_train, results_test, y_pred_prob_train, y_pred_prob_test"
   ]
  },
  {
   "cell_type": "markdown",
   "metadata": {
    "colab_type": "text",
    "id": "96UA2samGp-a"
   },
   "source": [
    "### Create a stratified cv (to preserve class distribution during Cross-validation)"
   ]
  },
  {
   "cell_type": "code",
   "execution_count": 0,
   "metadata": {
    "colab": {},
    "colab_type": "code",
    "id": "ckOpYUfHGp-a"
   },
   "outputs": [],
   "source": [
    "kfold = StratifiedKFold(n_splits=10, shuffle=True, random_state=seed)"
   ]
  },
  {
   "cell_type": "markdown",
   "metadata": {
    "colab_type": "text",
    "id": "Tt-ZiBcgkmvn"
   },
   "source": [
    "# 50/50 Ratio"
   ]
  },
  {
   "cell_type": "markdown",
   "metadata": {
    "colab_type": "text",
    "id": "40QNcNL8cLUw"
   },
   "source": [
    "### Create balanced data using Random Undersampling"
   ]
  },
  {
   "cell_type": "code",
   "execution_count": 0,
   "metadata": {
    "colab": {},
    "colab_type": "code",
    "id": "oU-c5QdkcKc9"
   },
   "outputs": [],
   "source": [
    "rus = RandomUnderSampler(sampling_strategy='majority', random_state=seed)"
   ]
  },
  {
   "cell_type": "code",
   "execution_count": 0,
   "metadata": {
    "colab": {},
    "colab_type": "code",
    "id": "dAYM0mYUcnPL"
   },
   "outputs": [],
   "source": [
    "X_uds, y_uds = rus.fit_resample(X_all, y_all)"
   ]
  },
  {
   "cell_type": "code",
   "execution_count": 10,
   "metadata": {
    "colab": {
     "base_uri": "https://localhost:8080/",
     "height": 51
    },
    "colab_type": "code",
    "executionInfo": {
     "elapsed": 26233,
     "status": "ok",
     "timestamp": 1588440626835,
     "user": {
      "displayName": "An Tran",
      "photoUrl": "",
      "userId": "13330980052857741458"
     },
     "user_tz": 420
    },
    "id": "0L2z9k0hkRLc",
    "outputId": "ea0d9978-6957-4fd2-ad46-b49dc39d4b27"
   },
   "outputs": [
    {
     "name": "stdout",
     "output_type": "stream",
     "text": [
      "Sepsis patterns after Random Under-sampling: 20109\n",
      "Non-sepsis patterns after Random Under-sampling: 20109\n"
     ]
    }
   ],
   "source": [
    "print('Sepsis patterns after Random Under-sampling:', np.count_nonzero(y_uds == 1))\n",
    "print('Non-sepsis patterns after Random Under-sampling:', np.count_nonzero(y_uds == 0))"
   ]
  },
  {
   "cell_type": "markdown",
   "metadata": {
    "colab_type": "text",
    "id": "qanMzAz-kspP"
   },
   "source": [
    "# 80/20 Ratio"
   ]
  },
  {
   "cell_type": "code",
   "execution_count": 0,
   "metadata": {
    "colab": {},
    "colab_type": "code",
    "id": "BldxOZ7ykvHn"
   },
   "outputs": [],
   "source": [
    "ratio8020 = RandomUnderSampler(sampling_strategy=1/4, random_state=seed)"
   ]
  },
  {
   "cell_type": "code",
   "execution_count": 0,
   "metadata": {
    "colab": {},
    "colab_type": "code",
    "id": "EhmDV1Xenc3s"
   },
   "outputs": [],
   "source": [
    "X_8020, y_8020 = ratio8020.fit_resample(X_all, y_all)"
   ]
  },
  {
   "cell_type": "code",
   "execution_count": 13,
   "metadata": {
    "colab": {
     "base_uri": "https://localhost:8080/",
     "height": 51
    },
    "colab_type": "code",
    "executionInfo": {
     "elapsed": 26619,
     "status": "ok",
     "timestamp": 1588440627373,
     "user": {
      "displayName": "An Tran",
      "photoUrl": "",
      "userId": "13330980052857741458"
     },
     "user_tz": 420
    },
    "id": "8ZO8t8Mdni2Q",
    "outputId": "d24bb133-ae7f-45a8-b0c8-74392a4bcd77"
   },
   "outputs": [
    {
     "name": "stdout",
     "output_type": "stream",
     "text": [
      "Sepsis patterns for 80/20 ratio: 20109\n",
      "Non-sepsis patterns for 80/20 ratio: 80436\n"
     ]
    }
   ],
   "source": [
    "print('Sepsis patterns for 80/20 ratio:', np.count_nonzero(y_8020 == 1))\n",
    "print('Non-sepsis patterns for 80/20 ratio:', np.count_nonzero(y_8020 == 0))"
   ]
  },
  {
   "cell_type": "markdown",
   "metadata": {
    "colab_type": "text",
    "id": "eWOeKii7n8Ux"
   },
   "source": [
    "# 90/10 Ratio"
   ]
  },
  {
   "cell_type": "code",
   "execution_count": 0,
   "metadata": {
    "colab": {},
    "colab_type": "code",
    "id": "zIiIP8I8n_mh"
   },
   "outputs": [],
   "source": [
    "ratio9010 = RandomUnderSampler(sampling_strategy=1/9, random_state=seed)"
   ]
  },
  {
   "cell_type": "code",
   "execution_count": 0,
   "metadata": {
    "colab": {},
    "colab_type": "code",
    "id": "70J9T4jWoE-I"
   },
   "outputs": [],
   "source": [
    "X_9010, y_9010 = ratio9010.fit_resample(X_all, y_all)"
   ]
  },
  {
   "cell_type": "code",
   "execution_count": 16,
   "metadata": {
    "colab": {
     "base_uri": "https://localhost:8080/",
     "height": 51
    },
    "colab_type": "code",
    "executionInfo": {
     "elapsed": 27284,
     "status": "ok",
     "timestamp": 1588440628066,
     "user": {
      "displayName": "An Tran",
      "photoUrl": "",
      "userId": "13330980052857741458"
     },
     "user_tz": 420
    },
    "id": "5JcGEeLeoMxg",
    "outputId": "e6fb8232-c9d0-48bb-cb2a-b71df9e6b5bb"
   },
   "outputs": [
    {
     "name": "stdout",
     "output_type": "stream",
     "text": [
      "Sepsis patterns for 90/10 ratio: 20109\n",
      "Non-sepsis patterns for 90/10 ratio: 180981\n"
     ]
    }
   ],
   "source": [
    "print('Sepsis patterns for 90/10 ratio:', np.count_nonzero(y_9010 == 1))\n",
    "print('Non-sepsis patterns for 90/10 ratio:', np.count_nonzero(y_9010 == 0))"
   ]
  },
  {
   "cell_type": "markdown",
   "metadata": {
    "colab_type": "text",
    "id": "O8dnFhEgobxz"
   },
   "source": [
    "# 95/5 Ratio"
   ]
  },
  {
   "cell_type": "code",
   "execution_count": 0,
   "metadata": {
    "colab": {},
    "colab_type": "code",
    "id": "5KEo37IdosKR"
   },
   "outputs": [],
   "source": [
    "ratio9505 = RandomUnderSampler(sampling_strategy=5/95, random_state=seed)"
   ]
  },
  {
   "cell_type": "code",
   "execution_count": 0,
   "metadata": {
    "colab": {},
    "colab_type": "code",
    "id": "FT1mjcRRosHu"
   },
   "outputs": [],
   "source": [
    "X_9505, y_9505 = ratio9505.fit_resample(X_all, y_all)"
   ]
  },
  {
   "cell_type": "code",
   "execution_count": 19,
   "metadata": {
    "colab": {
     "base_uri": "https://localhost:8080/",
     "height": 51
    },
    "colab_type": "code",
    "executionInfo": {
     "elapsed": 28068,
     "status": "ok",
     "timestamp": 1588440628877,
     "user": {
      "displayName": "An Tran",
      "photoUrl": "",
      "userId": "13330980052857741458"
     },
     "user_tz": 420
    },
    "id": "Ti3oizsqosFF",
    "outputId": "696061a3-6865-43dd-bab6-8c992773d00c"
   },
   "outputs": [
    {
     "name": "stdout",
     "output_type": "stream",
     "text": [
      "Sepsis patterns for 95/05 ratio: 20109\n",
      "Non-sepsis patterns for 95/05 ratio: 382071\n"
     ]
    }
   ],
   "source": [
    "print('Sepsis patterns for 95/05 ratio:', np.count_nonzero(y_9505 == 1))\n",
    "print('Non-sepsis patterns for 95/05 ratio:', np.count_nonzero(y_9505 == 0))"
   ]
  },
  {
   "cell_type": "markdown",
   "metadata": {
    "colab_type": "text",
    "id": "faoyxujopCs3"
   },
   "source": [
    "# 98/02: original dataset"
   ]
  },
  {
   "cell_type": "code",
   "execution_count": 20,
   "metadata": {
    "colab": {
     "base_uri": "https://localhost:8080/",
     "height": 51
    },
    "colab_type": "code",
    "executionInfo": {
     "elapsed": 28343,
     "status": "ok",
     "timestamp": 1588440629173,
     "user": {
      "displayName": "An Tran",
      "photoUrl": "",
      "userId": "13330980052857741458"
     },
     "user_tz": 420
    },
    "id": "X9T_pXBRpFx6",
    "outputId": "c58b8807-2fd5-444f-e5f4-82ee95fb0c77"
   },
   "outputs": [
    {
     "name": "stdout",
     "output_type": "stream",
     "text": [
      "Sepsis patterns for original ratio: 20109\n",
      "Non-sepsis patterns for original ratio: 1060315\n"
     ]
    }
   ],
   "source": [
    "print('Sepsis patterns for original ratio:', np.count_nonzero(y_all == 1))\n",
    "print('Non-sepsis patterns for original ratio:', np.count_nonzero(y_all == 0))"
   ]
  },
  {
   "cell_type": "markdown",
   "metadata": {
    "colab_type": "text",
    "id": "CQTaKUByigFB"
   },
   "source": [
    "# 4. XGBoost"
   ]
  },
  {
   "cell_type": "markdown",
   "metadata": {
    "colab_type": "text",
    "id": "BLpN400cGp-a"
   },
   "source": [
    "### Random Undersampling with All variables"
   ]
  },
  {
   "cell_type": "code",
   "execution_count": 0,
   "metadata": {
    "colab": {},
    "colab_type": "code",
    "id": "Kaw5vOyLmRuX"
   },
   "outputs": [],
   "source": [
    "# create the model/estimator\n",
    "xgb_uds = XGBClassifier(booster='gbtree',\n",
    "                        subsample=0.8,\n",
    "                        colsample_bytree=0.8,\n",
    "                        objective='binary:logistic',\n",
    "                        nthread=-1,\n",
    "                        seed=seed)"
   ]
  },
  {
   "cell_type": "code",
   "execution_count": 0,
   "metadata": {
    "colab": {},
    "colab_type": "code",
    "id": "GKqTO7DpNWPs"
   },
   "outputs": [],
   "source": [
    "# create parameters grid to do GridSearch\n",
    "learning_rate = [0.01, 0.05, 0.1, 0.3]\n",
    "max_depth = [6, 8, 10]\n",
    "min_child_weight = [1, 3, 5]\n",
    "n_estimators = [100, 500, 1000]"
   ]
  },
  {
   "cell_type": "code",
   "execution_count": 0,
   "metadata": {
    "colab": {},
    "colab_type": "code",
    "id": "RmubzFNTmjhb"
   },
   "outputs": [],
   "source": [
    "param_xgb = dict(max_depth=max_depth,\n",
    "                 min_child_weight=min_child_weight,\n",
    "                 n_estimators=n_estimators,\n",
    "                 learning_rate=learning_rate)"
   ]
  },
  {
   "cell_type": "code",
   "execution_count": 0,
   "metadata": {
    "colab": {},
    "colab_type": "code",
    "id": "VYyhZ5bypISe"
   },
   "outputs": [],
   "source": [
    "grid_xgb_uds = GridSearchCV(estimator=xgb_uds,\n",
    "                            param_grid=param_xgb,\n",
    "                            cv=kfold,\n",
    "                            scoring='f1',\n",
    "                            n_jobs=-1) # use all processors"
   ]
  },
  {
   "cell_type": "code",
   "execution_count": 25,
   "metadata": {
    "colab": {
     "base_uri": "https://localhost:8080/",
     "height": 34
    },
    "colab_type": "code",
    "executionInfo": {
     "elapsed": 4610221,
     "status": "ok",
     "timestamp": 1588445211112,
     "user": {
      "displayName": "An Tran",
      "photoUrl": "",
      "userId": "13330980052857741458"
     },
     "user_tz": 420
    },
    "id": "Idqi-DcPpRGE",
    "outputId": "6e6299d0-6aea-4588-8ae1-ff89ea1befff"
   },
   "outputs": [
    {
     "name": "stdout",
     "output_type": "stream",
     "text": [
      "Training took:  1:16:21.163358\n"
     ]
    }
   ],
   "source": [
    "start = datetime.now()\n",
    "\n",
    "grid_xgb_uds.fit(X_uds, y_uds)\n",
    "\n",
    "print('Training took: ', datetime.now()-start)"
   ]
  },
  {
   "cell_type": "code",
   "execution_count": 26,
   "metadata": {
    "colab": {
     "base_uri": "https://localhost:8080/",
     "height": 34
    },
    "colab_type": "code",
    "executionInfo": {
     "elapsed": 4610203,
     "status": "ok",
     "timestamp": 1588445211114,
     "user": {
      "displayName": "An Tran",
      "photoUrl": "",
      "userId": "13330980052857741458"
     },
     "user_tz": 420
    },
    "id": "CcSr52AqPO2P",
    "outputId": "630ff16a-8775-44cb-9900-0b9fb8d522af"
   },
   "outputs": [
    {
     "name": "stdout",
     "output_type": "stream",
     "text": [
      "Best: 0.774854 using {'learning_rate': 0.1, 'max_depth': 10, 'min_child_weight': 1, 'n_estimators': 1000}\n"
     ]
    }
   ],
   "source": [
    "print('Best: %f using %s' % (grid_xgb_uds.best_score_, grid_xgb_uds.best_params_))"
   ]
  },
  {
   "cell_type": "code",
   "execution_count": 0,
   "metadata": {
    "colab": {},
    "colab_type": "code",
    "id": "GM-4uB8nPO2f"
   },
   "outputs": [],
   "source": [
    "mean_f1 = grid_xgb_uds.cv_results_['mean_test_score']\n",
    "std_f1 = grid_xgb_uds.cv_results_['std_test_score']\n",
    "params = grid_xgb_uds.cv_results_['params']"
   ]
  },
  {
   "cell_type": "code",
   "execution_count": 28,
   "metadata": {
    "colab": {
     "base_uri": "https://localhost:8080/",
     "height": 1000
    },
    "colab_type": "code",
    "executionInfo": {
     "elapsed": 4610183,
     "status": "ok",
     "timestamp": 1588445211115,
     "user": {
      "displayName": "An Tran",
      "photoUrl": "",
      "userId": "13330980052857741458"
     },
     "user_tz": 420
    },
    "id": "mJGHTcbDPO2n",
    "outputId": "9a1a8cf8-2e0b-4422-8c95-9a138c7447b0"
   },
   "outputs": [
    {
     "name": "stdout",
     "output_type": "stream",
     "text": [
      "0.650598 (+-0.009621) with: {'learning_rate': 0.01, 'max_depth': 6, 'min_child_weight': 1, 'n_estimators': 100}\n",
      "0.682607 (+-0.007583) with: {'learning_rate': 0.01, 'max_depth': 6, 'min_child_weight': 1, 'n_estimators': 500}\n",
      "0.695359 (+-0.007035) with: {'learning_rate': 0.01, 'max_depth': 6, 'min_child_weight': 1, 'n_estimators': 1000}\n",
      "0.649571 (+-0.009776) with: {'learning_rate': 0.01, 'max_depth': 6, 'min_child_weight': 3, 'n_estimators': 100}\n",
      "0.681570 (+-0.007009) with: {'learning_rate': 0.01, 'max_depth': 6, 'min_child_weight': 3, 'n_estimators': 500}\n",
      "0.693638 (+-0.007488) with: {'learning_rate': 0.01, 'max_depth': 6, 'min_child_weight': 3, 'n_estimators': 1000}\n",
      "0.649732 (+-0.009108) with: {'learning_rate': 0.01, 'max_depth': 6, 'min_child_weight': 5, 'n_estimators': 100}\n",
      "0.681135 (+-0.007876) with: {'learning_rate': 0.01, 'max_depth': 6, 'min_child_weight': 5, 'n_estimators': 500}\n",
      "0.693427 (+-0.006745) with: {'learning_rate': 0.01, 'max_depth': 6, 'min_child_weight': 5, 'n_estimators': 1000}\n",
      "0.669062 (+-0.008923) with: {'learning_rate': 0.01, 'max_depth': 8, 'min_child_weight': 1, 'n_estimators': 100}\n",
      "0.706359 (+-0.007744) with: {'learning_rate': 0.01, 'max_depth': 8, 'min_child_weight': 1, 'n_estimators': 500}\n",
      "0.721813 (+-0.006123) with: {'learning_rate': 0.01, 'max_depth': 8, 'min_child_weight': 1, 'n_estimators': 1000}\n",
      "0.667404 (+-0.008923) with: {'learning_rate': 0.01, 'max_depth': 8, 'min_child_weight': 3, 'n_estimators': 100}\n",
      "0.705465 (+-0.006992) with: {'learning_rate': 0.01, 'max_depth': 8, 'min_child_weight': 3, 'n_estimators': 500}\n",
      "0.718849 (+-0.005558) with: {'learning_rate': 0.01, 'max_depth': 8, 'min_child_weight': 3, 'n_estimators': 1000}\n",
      "0.666218 (+-0.009197) with: {'learning_rate': 0.01, 'max_depth': 8, 'min_child_weight': 5, 'n_estimators': 100}\n",
      "0.703291 (+-0.008211) with: {'learning_rate': 0.01, 'max_depth': 8, 'min_child_weight': 5, 'n_estimators': 500}\n",
      "0.715983 (+-0.006135) with: {'learning_rate': 0.01, 'max_depth': 8, 'min_child_weight': 5, 'n_estimators': 1000}\n",
      "0.693116 (+-0.009878) with: {'learning_rate': 0.01, 'max_depth': 10, 'min_child_weight': 1, 'n_estimators': 100}\n",
      "0.731090 (+-0.008692) with: {'learning_rate': 0.01, 'max_depth': 10, 'min_child_weight': 1, 'n_estimators': 500}\n",
      "0.746826 (+-0.005961) with: {'learning_rate': 0.01, 'max_depth': 10, 'min_child_weight': 1, 'n_estimators': 1000}\n",
      "0.689890 (+-0.008470) with: {'learning_rate': 0.01, 'max_depth': 10, 'min_child_weight': 3, 'n_estimators': 100}\n",
      "0.726863 (+-0.006907) with: {'learning_rate': 0.01, 'max_depth': 10, 'min_child_weight': 3, 'n_estimators': 500}\n",
      "0.742269 (+-0.005246) with: {'learning_rate': 0.01, 'max_depth': 10, 'min_child_weight': 3, 'n_estimators': 1000}\n",
      "0.686951 (+-0.009296) with: {'learning_rate': 0.01, 'max_depth': 10, 'min_child_weight': 5, 'n_estimators': 100}\n",
      "0.724042 (+-0.007929) with: {'learning_rate': 0.01, 'max_depth': 10, 'min_child_weight': 5, 'n_estimators': 500}\n",
      "0.737193 (+-0.006096) with: {'learning_rate': 0.01, 'max_depth': 10, 'min_child_weight': 5, 'n_estimators': 1000}\n",
      "0.681847 (+-0.007248) with: {'learning_rate': 0.05, 'max_depth': 6, 'min_child_weight': 1, 'n_estimators': 100}\n",
      "0.717331 (+-0.005905) with: {'learning_rate': 0.05, 'max_depth': 6, 'min_child_weight': 1, 'n_estimators': 500}\n",
      "0.734863 (+-0.007007) with: {'learning_rate': 0.05, 'max_depth': 6, 'min_child_weight': 1, 'n_estimators': 1000}\n",
      "0.680391 (+-0.007914) with: {'learning_rate': 0.05, 'max_depth': 6, 'min_child_weight': 3, 'n_estimators': 100}\n",
      "0.713780 (+-0.006872) with: {'learning_rate': 0.05, 'max_depth': 6, 'min_child_weight': 3, 'n_estimators': 500}\n",
      "0.732119 (+-0.004612) with: {'learning_rate': 0.05, 'max_depth': 6, 'min_child_weight': 3, 'n_estimators': 1000}\n",
      "0.680640 (+-0.008548) with: {'learning_rate': 0.05, 'max_depth': 6, 'min_child_weight': 5, 'n_estimators': 100}\n",
      "0.713896 (+-0.008050) with: {'learning_rate': 0.05, 'max_depth': 6, 'min_child_weight': 5, 'n_estimators': 500}\n",
      "0.729323 (+-0.005802) with: {'learning_rate': 0.05, 'max_depth': 6, 'min_child_weight': 5, 'n_estimators': 1000}\n",
      "0.703963 (+-0.009188) with: {'learning_rate': 0.05, 'max_depth': 8, 'min_child_weight': 1, 'n_estimators': 100}\n",
      "0.744288 (+-0.007482) with: {'learning_rate': 0.05, 'max_depth': 8, 'min_child_weight': 1, 'n_estimators': 500}\n",
      "0.763031 (+-0.007158) with: {'learning_rate': 0.05, 'max_depth': 8, 'min_child_weight': 1, 'n_estimators': 1000}\n",
      "0.704442 (+-0.008036) with: {'learning_rate': 0.05, 'max_depth': 8, 'min_child_weight': 3, 'n_estimators': 100}\n",
      "0.740777 (+-0.006731) with: {'learning_rate': 0.05, 'max_depth': 8, 'min_child_weight': 3, 'n_estimators': 500}\n",
      "0.757304 (+-0.007217) with: {'learning_rate': 0.05, 'max_depth': 8, 'min_child_weight': 3, 'n_estimators': 1000}\n",
      "0.700256 (+-0.010665) with: {'learning_rate': 0.05, 'max_depth': 8, 'min_child_weight': 5, 'n_estimators': 100}\n",
      "0.737956 (+-0.005617) with: {'learning_rate': 0.05, 'max_depth': 8, 'min_child_weight': 5, 'n_estimators': 500}\n",
      "0.752934 (+-0.006442) with: {'learning_rate': 0.05, 'max_depth': 8, 'min_child_weight': 5, 'n_estimators': 1000}\n",
      "0.727910 (+-0.008812) with: {'learning_rate': 0.05, 'max_depth': 10, 'min_child_weight': 1, 'n_estimators': 100}\n",
      "0.762035 (+-0.007069) with: {'learning_rate': 0.05, 'max_depth': 10, 'min_child_weight': 1, 'n_estimators': 500}\n",
      "0.774721 (+-0.006590) with: {'learning_rate': 0.05, 'max_depth': 10, 'min_child_weight': 1, 'n_estimators': 1000}\n",
      "0.724480 (+-0.007428) with: {'learning_rate': 0.05, 'max_depth': 10, 'min_child_weight': 3, 'n_estimators': 100}\n",
      "0.759414 (+-0.005548) with: {'learning_rate': 0.05, 'max_depth': 10, 'min_child_weight': 3, 'n_estimators': 500}\n",
      "0.770337 (+-0.006624) with: {'learning_rate': 0.05, 'max_depth': 10, 'min_child_weight': 3, 'n_estimators': 1000}\n",
      "0.719694 (+-0.008975) with: {'learning_rate': 0.05, 'max_depth': 10, 'min_child_weight': 5, 'n_estimators': 100}\n",
      "0.752908 (+-0.007556) with: {'learning_rate': 0.05, 'max_depth': 10, 'min_child_weight': 5, 'n_estimators': 500}\n",
      "0.768186 (+-0.005556) with: {'learning_rate': 0.05, 'max_depth': 10, 'min_child_weight': 5, 'n_estimators': 1000}\n",
      "0.693835 (+-0.008729) with: {'learning_rate': 0.1, 'max_depth': 6, 'min_child_weight': 1, 'n_estimators': 100}\n",
      "0.730608 (+-0.005261) with: {'learning_rate': 0.1, 'max_depth': 6, 'min_child_weight': 1, 'n_estimators': 500}\n",
      "0.746160 (+-0.005594) with: {'learning_rate': 0.1, 'max_depth': 6, 'min_child_weight': 1, 'n_estimators': 1000}\n",
      "0.691747 (+-0.006961) with: {'learning_rate': 0.1, 'max_depth': 6, 'min_child_weight': 3, 'n_estimators': 100}\n",
      "0.729484 (+-0.007126) with: {'learning_rate': 0.1, 'max_depth': 6, 'min_child_weight': 3, 'n_estimators': 500}\n",
      "0.743243 (+-0.005496) with: {'learning_rate': 0.1, 'max_depth': 6, 'min_child_weight': 3, 'n_estimators': 1000}\n",
      "0.690115 (+-0.009020) with: {'learning_rate': 0.1, 'max_depth': 6, 'min_child_weight': 5, 'n_estimators': 100}\n",
      "0.725710 (+-0.006196) with: {'learning_rate': 0.1, 'max_depth': 6, 'min_child_weight': 5, 'n_estimators': 500}\n",
      "0.740724 (+-0.005502) with: {'learning_rate': 0.1, 'max_depth': 6, 'min_child_weight': 5, 'n_estimators': 1000}\n",
      "0.716810 (+-0.007386) with: {'learning_rate': 0.1, 'max_depth': 8, 'min_child_weight': 1, 'n_estimators': 100}\n",
      "0.753752 (+-0.006822) with: {'learning_rate': 0.1, 'max_depth': 8, 'min_child_weight': 1, 'n_estimators': 500}\n",
      "0.764718 (+-0.006397) with: {'learning_rate': 0.1, 'max_depth': 8, 'min_child_weight': 1, 'n_estimators': 1000}\n",
      "0.715416 (+-0.007527) with: {'learning_rate': 0.1, 'max_depth': 8, 'min_child_weight': 3, 'n_estimators': 100}\n",
      "0.751364 (+-0.006384) with: {'learning_rate': 0.1, 'max_depth': 8, 'min_child_weight': 3, 'n_estimators': 500}\n",
      "0.763708 (+-0.006898) with: {'learning_rate': 0.1, 'max_depth': 8, 'min_child_weight': 3, 'n_estimators': 1000}\n",
      "0.709596 (+-0.006514) with: {'learning_rate': 0.1, 'max_depth': 8, 'min_child_weight': 5, 'n_estimators': 100}\n",
      "0.746058 (+-0.005223) with: {'learning_rate': 0.1, 'max_depth': 8, 'min_child_weight': 5, 'n_estimators': 500}\n",
      "0.758052 (+-0.005908) with: {'learning_rate': 0.1, 'max_depth': 8, 'min_child_weight': 5, 'n_estimators': 1000}\n",
      "0.733715 (+-0.006136) with: {'learning_rate': 0.1, 'max_depth': 10, 'min_child_weight': 1, 'n_estimators': 100}\n",
      "0.767918 (+-0.005805) with: {'learning_rate': 0.1, 'max_depth': 10, 'min_child_weight': 1, 'n_estimators': 500}\n",
      "0.774854 (+-0.005597) with: {'learning_rate': 0.1, 'max_depth': 10, 'min_child_weight': 1, 'n_estimators': 1000}\n",
      "0.731431 (+-0.007102) with: {'learning_rate': 0.1, 'max_depth': 10, 'min_child_weight': 3, 'n_estimators': 100}\n",
      "0.761799 (+-0.007070) with: {'learning_rate': 0.1, 'max_depth': 10, 'min_child_weight': 3, 'n_estimators': 500}\n",
      "0.770994 (+-0.006674) with: {'learning_rate': 0.1, 'max_depth': 10, 'min_child_weight': 3, 'n_estimators': 1000}\n",
      "0.725882 (+-0.005698) with: {'learning_rate': 0.1, 'max_depth': 10, 'min_child_weight': 5, 'n_estimators': 100}\n",
      "0.759192 (+-0.006055) with: {'learning_rate': 0.1, 'max_depth': 10, 'min_child_weight': 5, 'n_estimators': 500}\n",
      "0.765769 (+-0.004065) with: {'learning_rate': 0.1, 'max_depth': 10, 'min_child_weight': 5, 'n_estimators': 1000}\n",
      "0.704399 (+-0.007551) with: {'learning_rate': 0.3, 'max_depth': 6, 'min_child_weight': 1, 'n_estimators': 100}\n",
      "0.732960 (+-0.004213) with: {'learning_rate': 0.3, 'max_depth': 6, 'min_child_weight': 1, 'n_estimators': 500}\n",
      "0.744556 (+-0.004444) with: {'learning_rate': 0.3, 'max_depth': 6, 'min_child_weight': 1, 'n_estimators': 1000}\n",
      "0.701586 (+-0.008427) with: {'learning_rate': 0.3, 'max_depth': 6, 'min_child_weight': 3, 'n_estimators': 100}\n",
      "0.728540 (+-0.005110) with: {'learning_rate': 0.3, 'max_depth': 6, 'min_child_weight': 3, 'n_estimators': 500}\n",
      "0.741928 (+-0.007017) with: {'learning_rate': 0.3, 'max_depth': 6, 'min_child_weight': 3, 'n_estimators': 1000}\n",
      "0.701232 (+-0.006324) with: {'learning_rate': 0.3, 'max_depth': 6, 'min_child_weight': 5, 'n_estimators': 100}\n",
      "0.727499 (+-0.003146) with: {'learning_rate': 0.3, 'max_depth': 6, 'min_child_weight': 5, 'n_estimators': 500}\n",
      "0.739734 (+-0.005163) with: {'learning_rate': 0.3, 'max_depth': 6, 'min_child_weight': 5, 'n_estimators': 1000}\n",
      "0.717925 (+-0.008099) with: {'learning_rate': 0.3, 'max_depth': 8, 'min_child_weight': 1, 'n_estimators': 100}\n",
      "0.749663 (+-0.006111) with: {'learning_rate': 0.3, 'max_depth': 8, 'min_child_weight': 1, 'n_estimators': 500}\n",
      "0.757623 (+-0.004845) with: {'learning_rate': 0.3, 'max_depth': 8, 'min_child_weight': 1, 'n_estimators': 1000}\n",
      "0.718307 (+-0.007714) with: {'learning_rate': 0.3, 'max_depth': 8, 'min_child_weight': 3, 'n_estimators': 100}\n",
      "0.743722 (+-0.006654) with: {'learning_rate': 0.3, 'max_depth': 8, 'min_child_weight': 3, 'n_estimators': 500}\n",
      "0.751566 (+-0.005366) with: {'learning_rate': 0.3, 'max_depth': 8, 'min_child_weight': 3, 'n_estimators': 1000}\n",
      "0.714641 (+-0.006366) with: {'learning_rate': 0.3, 'max_depth': 8, 'min_child_weight': 5, 'n_estimators': 100}\n",
      "0.739225 (+-0.006403) with: {'learning_rate': 0.3, 'max_depth': 8, 'min_child_weight': 5, 'n_estimators': 500}\n",
      "0.748470 (+-0.004674) with: {'learning_rate': 0.3, 'max_depth': 8, 'min_child_weight': 5, 'n_estimators': 1000}\n",
      "0.734228 (+-0.008041) with: {'learning_rate': 0.3, 'max_depth': 10, 'min_child_weight': 1, 'n_estimators': 100}\n",
      "0.759381 (+-0.007920) with: {'learning_rate': 0.3, 'max_depth': 10, 'min_child_weight': 1, 'n_estimators': 500}\n",
      "0.763079 (+-0.006377) with: {'learning_rate': 0.3, 'max_depth': 10, 'min_child_weight': 1, 'n_estimators': 1000}\n",
      "0.727384 (+-0.008639) with: {'learning_rate': 0.3, 'max_depth': 10, 'min_child_weight': 3, 'n_estimators': 100}\n",
      "0.751363 (+-0.006626) with: {'learning_rate': 0.3, 'max_depth': 10, 'min_child_weight': 3, 'n_estimators': 500}\n",
      "0.753661 (+-0.007015) with: {'learning_rate': 0.3, 'max_depth': 10, 'min_child_weight': 3, 'n_estimators': 1000}\n",
      "0.722288 (+-0.004896) with: {'learning_rate': 0.3, 'max_depth': 10, 'min_child_weight': 5, 'n_estimators': 100}\n",
      "0.748744 (+-0.004191) with: {'learning_rate': 0.3, 'max_depth': 10, 'min_child_weight': 5, 'n_estimators': 500}\n",
      "0.752721 (+-0.005645) with: {'learning_rate': 0.3, 'max_depth': 10, 'min_child_weight': 5, 'n_estimators': 1000}\n"
     ]
    }
   ],
   "source": [
    "for mean, stdev, param in zip(mean_f1, std_f1, params): # zip: create tuples of value pairs\n",
    "    print('%f (+-%f) with: %r' % (mean, stdev, param))"
   ]
  },
  {
   "cell_type": "code",
   "execution_count": 0,
   "metadata": {
    "colab": {},
    "colab_type": "code",
    "id": "qLw8cchfPma-"
   },
   "outputs": [],
   "source": [
    "best_xgb_uds = grid_xgb_uds.best_estimator_"
   ]
  },
  {
   "cell_type": "markdown",
   "metadata": {
    "colab_type": "text",
    "id": "1flznBkemRur"
   },
   "source": [
    "### Performance on training and test sets"
   ]
  },
  {
   "cell_type": "code",
   "execution_count": 30,
   "metadata": {
    "colab": {
     "base_uri": "https://localhost:8080/",
     "height": 977
    },
    "colab_type": "code",
    "executionInfo": {
     "elapsed": 4614568,
     "status": "ok",
     "timestamp": 1588445215520,
     "user": {
      "displayName": "An Tran",
      "photoUrl": "",
      "userId": "13330980052857741458"
     },
     "user_tz": 420
    },
    "id": "beJvoiitmRut",
    "outputId": "431af4b7-14a7-4dcf-9316-cd92c67c1673"
   },
   "outputs": [
    {
     "name": "stdout",
     "output_type": "stream",
     "text": [
      "TRAINING SET\n",
      "Threshold: 0.75\n",
      "TP: 20109\n",
      "TN: 20107\n",
      "FP: 2\n",
      "FN: 0\n",
      "Accuracy: 1.0\n",
      "Sensitivity: 1.0\n",
      "Specificity: 1.0\n",
      "Precision: 1.0\n",
      "Recall (Detection rate): 1.0\n",
      "F1-score: 1.0\n",
      "AUC: 1.0\n",
      "FPR (False alarm rate): 0.0\n",
      "FNR: 0.0\n",
      "Kappa: 1.0\n"
     ]
    },
    {
     "data": {
      "image/png": "[encoded data removed]",
      "text/plain": [
       "<Figure size 288x216 with 1 Axes>"
      ]
     },
     "metadata": {
      "needs_background": "light",
      "tags": []
     },
     "output_type": "display_data"
    },
    {
     "name": "stdout",
     "output_type": "stream",
     "text": [
      "TEST SET\n",
      "Threshold: 0.75\n",
      "TP: 3140\n",
      "TN: 232591\n",
      "FP: 32488\n",
      "FN: 1887\n",
      "Accuracy: 0.87\n",
      "Sensitivity: 0.62\n",
      "Specificity: 0.88\n",
      "Precision: 0.09\n",
      "Recall (Detection rate): 0.62\n",
      "F1-score: 0.2\n",
      "AUC: 0.86\n",
      "FPR (False alarm rate): 0.12\n",
      "FNR: 0.38\n",
      "Kappa: 0.13\n"
     ]
    },
    {
     "data": {
      "image/png": "[encoded data removed]",
      "text/plain": [
       "<Figure size 288x216 with 1 Axes>"
      ]
     },
     "metadata": {
      "needs_background": "light",
      "tags": []
     },
     "output_type": "display_data"
    }
   ],
   "source": [
    "results_train_xgb_uds_all, results_test_xgb_uds_all, \\\n",
    "y_pred_prob_train_xgb_uds, y_pred_prob_test_xgb_uds = model_evaluation2(best_xgb_uds, \n",
    "                                                                        X_uds, y_uds,\n",
    "                                                                        X_test.values, y_test.values,\n",
    "                                                                        print_ = 1)"
   ]
  },
  {
   "cell_type": "markdown",
   "metadata": {
    "colab_type": "text",
    "id": "RIKrGOtmmRu1"
   },
   "source": [
    "### Save results to dataframe"
   ]
  },
  {
   "cell_type": "code",
   "execution_count": 0,
   "metadata": {
    "colab": {},
    "colab_type": "code",
    "id": "bW-mTAH9v5Zw"
   },
   "outputs": [],
   "source": [
    "xgb_results_train = pd.DataFrame()\n",
    "xgb_results_test = pd.DataFrame()"
   ]
  },
  {
   "cell_type": "code",
   "execution_count": 0,
   "metadata": {
    "colab": {},
    "colab_type": "code",
    "id": "P2ihAxNCmRu3"
   },
   "outputs": [],
   "source": [
    "xgb_results_train = xgb_results_train.append(results_train_xgb_uds_all.rename(index={results_train_xgb_uds_all.index[-1]: 'XGB 50/50 Ratio All features'}))\n",
    "xgb_results_test = xgb_results_test.append(results_test_xgb_uds_all.rename(index={results_test_xgb_uds_all.index[-1]: 'XGB 50/50 Ratio All features'}))"
   ]
  },
  {
   "cell_type": "markdown",
   "metadata": {
    "colab_type": "text",
    "id": "cJ2ZQs4EwXcd"
   },
   "source": [
    "### Random Under-sampling with Feature selection by Recursive Feature Elimination (RFE)"
   ]
  },
  {
   "cell_type": "code",
   "execution_count": 37,
   "metadata": {
    "colab": {
     "base_uri": "https://localhost:8080/",
     "height": 85
    },
    "colab_type": "code",
    "executionInfo": {
     "elapsed": 333,
     "status": "ok",
     "timestamp": 1588451532241,
     "user": {
      "displayName": "An Tran",
      "photoUrl": "",
      "userId": "13330980052857741458"
     },
     "user_tz": 420
    },
    "id": "HhhX0ZxZ0yUu",
    "outputId": "06733d5f-4f87-4443-bb82-0300078f726e"
   },
   "outputs": [
    {
     "data": {
      "text/plain": [
       "{'learning_rate': 0.1,\n",
       " 'max_depth': 10,\n",
       " 'min_child_weight': 1,\n",
       " 'n_estimators': 1000}"
      ]
     },
     "execution_count": 37,
     "metadata": {
      "tags": []
     },
     "output_type": "execute_result"
    }
   ],
   "source": [
    "grid_xgb_uds.best_params_"
   ]
  },
  {
   "cell_type": "code",
   "execution_count": 0,
   "metadata": {
    "colab": {},
    "colab_type": "code",
    "id": "ZpSYpYzR1HN4"
   },
   "outputs": [],
   "source": [
    "xgb_uds_fs = RFECV(estimator=best_xgb_uds, step=1, cv=kfold, scoring='f1', n_jobs=-1)"
   ]
  },
  {
   "cell_type": "code",
   "execution_count": 38,
   "metadata": {
    "colab": {
     "base_uri": "https://localhost:8080/",
     "height": 34
    },
    "colab_type": "code",
    "executionInfo": {
     "elapsed": 9893933,
     "status": "ok",
     "timestamp": 1588461443230,
     "user": {
      "displayName": "An Tran",
      "photoUrl": "",
      "userId": "13330980052857741458"
     },
     "user_tz": 420
    },
    "id": "bxfLNdAJ1Pjh",
    "outputId": "373d5bf0-7476-42b4-f3e1-5c44295d1055"
   },
   "outputs": [
    {
     "name": "stdout",
     "output_type": "stream",
     "text": [
      "Training took:  2:44:53.418835\n"
     ]
    }
   ],
   "source": [
    "start = datetime.now()\n",
    "\n",
    "xgb_uds_fs.fit(X_uds, y_uds)\n",
    "\n",
    "print('Training took: ', datetime.now()-start)"
   ]
  },
  {
   "cell_type": "markdown",
   "metadata": {
    "colab_type": "text",
    "id": "-_jOb5CuMXCh"
   },
   "source": [
    "### Optimal Number of features"
   ]
  },
  {
   "cell_type": "code",
   "execution_count": 39,
   "metadata": {
    "colab": {
     "base_uri": "https://localhost:8080/",
     "height": 34
    },
    "colab_type": "code",
    "executionInfo": {
     "elapsed": 9893905,
     "status": "ok",
     "timestamp": 1588461443233,
     "user": {
      "displayName": "An Tran",
      "photoUrl": "",
      "userId": "13330980052857741458"
     },
     "user_tz": 420
    },
    "id": "HPUdhrpsLOAc",
    "outputId": "45a7a7ce-7e63-4a6c-de82-6d930b9297d9"
   },
   "outputs": [
    {
     "name": "stdout",
     "output_type": "stream",
     "text": [
      "Optimal number of features: 22\n"
     ]
    }
   ],
   "source": [
    "print('Optimal number of features: {}'.format(xgb_uds_fs.n_features_))"
   ]
  },
  {
   "cell_type": "markdown",
   "metadata": {
    "colab_type": "text",
    "id": "UWsgyUZoMm-0"
   },
   "source": [
    "### Plot the optimal number of features against F1-score"
   ]
  },
  {
   "cell_type": "code",
   "execution_count": 40,
   "metadata": {
    "colab": {
     "base_uri": "https://localhost:8080/",
     "height": 622
    },
    "colab_type": "code",
    "executionInfo": {
     "elapsed": 9894126,
     "status": "ok",
     "timestamp": 1588461443468,
     "user": {
      "displayName": "An Tran",
      "photoUrl": "",
      "userId": "13330980052857741458"
     },
     "user_tz": 420
    },
    "id": "1jiDOYLMMm-1",
    "outputId": "e9140ddf-e66d-4339-dbff-f0af3383be4a"
   },
   "outputs": [
    {
     "data": {
      "text/plain": [
       "[<matplotlib.lines.Line2D at 0x7f6b09588e10>]"
      ]
     },
     "execution_count": 40,
     "metadata": {
      "tags": []
     },
     "output_type": "execute_result"
    },
    {
     "data": {
      "image/png": "[encoded data removed]",
      "text/plain": [
       "<Figure size 1152x648 with 1 Axes>"
      ]
     },
     "metadata": {
      "needs_background": "light",
      "tags": []
     },
     "output_type": "display_data"
    }
   ],
   "source": [
    "plt.figure(figsize=(16, 9))\n",
    "plt.title('Recursive Feature Elimination with Cross-Validation', fontsize=18, fontweight='bold', pad=20)\n",
    "plt.xlabel('Number of features selected', fontsize=14, labelpad=20)\n",
    "plt.ylabel('F1-Score', fontsize=14, labelpad=20)\n",
    "plt.plot(range(1, len(xgb_uds_fs.grid_scores_) + 1), xgb_uds_fs.grid_scores_, color='#303F9F', linewidth=3)"
   ]
  },
  {
   "cell_type": "markdown",
   "metadata": {
    "colab_type": "text",
    "id": "SQud-hbPOHR7"
   },
   "source": [
    "### Now only select the important features according to the model"
   ]
  },
  {
   "cell_type": "code",
   "execution_count": 0,
   "metadata": {
    "colab": {},
    "colab_type": "code",
    "id": "40n-3wM3OHSC"
   },
   "outputs": [],
   "source": [
    "rfe_feat = xgb_uds_fs.support_"
   ]
  },
  {
   "cell_type": "markdown",
   "metadata": {
    "colab_type": "text",
    "id": "UiN0LOC_OHSG"
   },
   "source": [
    "### Use these selected features for Random Undersample dataset"
   ]
  },
  {
   "cell_type": "code",
   "execution_count": 0,
   "metadata": {
    "colab": {},
    "colab_type": "code",
    "id": "LPatWlE4OHSG"
   },
   "outputs": [],
   "source": [
    "X_uds_rfe, y_uds_rfe = rus.fit_resample(X_all.loc[:, rfe_feat], y_all)"
   ]
  },
  {
   "cell_type": "code",
   "execution_count": 0,
   "metadata": {
    "colab": {},
    "colab_type": "code",
    "id": "mEY-qcORqPXX"
   },
   "outputs": [],
   "source": [
    "rfe_features = X_all.loc[:, rfe_feat].columns"
   ]
  },
  {
   "cell_type": "code",
   "execution_count": 44,
   "metadata": {
    "colab": {
     "base_uri": "https://localhost:8080/",
     "height": 102
    },
    "colab_type": "code",
    "executionInfo": {
     "elapsed": 227,
     "status": "ok",
     "timestamp": 1588462117320,
     "user": {
      "displayName": "An Tran",
      "photoUrl": "",
      "userId": "13330980052857741458"
     },
     "user_tz": 420
    },
    "id": "xcUofDFnRdwH",
    "outputId": "8fc2db25-9a66-42f3-95ea-157ecb8a3cc6"
   },
   "outputs": [
    {
     "data": {
      "text/plain": [
       "Index(['Temp_diff3', 'DBP_std', 'Age', 'Temp_diff2', 'Temp_diff4', 'Resp_min',\n",
       "       'Resp_mean', 'Temp_diff1', 'Temp_diff5', 'Resp_max', 'MAP_min',\n",
       "       'O2Sat_min', 'SBP_min', 'DBP_min', 'MAP_max', 'DBP_max', 'HR_max',\n",
       "       'Temp_max', 'Temp_min', 'SBP_max', 'HR_mean', 'O2Sat_max'],\n",
       "      dtype='object')"
      ]
     },
     "execution_count": 44,
     "metadata": {
      "tags": []
     },
     "output_type": "execute_result"
    }
   ],
   "source": [
    "rfe_features"
   ]
  },
  {
   "cell_type": "markdown",
   "metadata": {
    "colab_type": "text",
    "id": "llJv8d7COHSK"
   },
   "source": [
    "### Model"
   ]
  },
  {
   "cell_type": "code",
   "execution_count": 47,
   "metadata": {
    "colab": {
     "base_uri": "https://localhost:8080/",
     "height": 34
    },
    "colab_type": "code",
    "executionInfo": {
     "elapsed": 17806,
     "status": "ok",
     "timestamp": 1588462195936,
     "user": {
      "displayName": "An Tran",
      "photoUrl": "",
      "userId": "13330980052857741458"
     },
     "user_tz": 420
    },
    "id": "DlV3cZzYOHSN",
    "outputId": "4af3ecae-790e-4593-cec5-2b34b64e1619"
   },
   "outputs": [
    {
     "name": "stdout",
     "output_type": "stream",
     "text": [
      "Training took:  0:00:17.534663\n"
     ]
    }
   ],
   "source": [
    "start = datetime.now()\n",
    "\n",
    "best_xgb_uds.fit(X_uds_rfe, y_uds_rfe)\n",
    "\n",
    "print('Training took: ', datetime.now()-start)"
   ]
  },
  {
   "cell_type": "markdown",
   "metadata": {
    "colab_type": "text",
    "id": "nZx7JSinMoQb"
   },
   "source": [
    "### Feature importance determined by the model"
   ]
  },
  {
   "cell_type": "code",
   "execution_count": 48,
   "metadata": {
    "colab": {
     "base_uri": "https://localhost:8080/",
     "height": 638
    },
    "colab_type": "code",
    "executionInfo": {
     "elapsed": 3921,
     "status": "ok",
     "timestamp": 1588462204348,
     "user": {
      "displayName": "An Tran",
      "photoUrl": "",
      "userId": "13330980052857741458"
     },
     "user_tz": 420
    },
    "id": "os74m_koMrEY",
    "outputId": "4438dea3-1a55-4c72-d6ed-810436bc7afd"
   },
   "outputs": [
    {
     "data": {
      "text/plain": [
       "Text(0.5, 0, 'Relative Importance')"
      ]
     },
     "execution_count": 48,
     "metadata": {
      "tags": []
     },
     "output_type": "execute_result"
    },
    {
     "data": {
      "image/png": "[encoded data removed]",
      "text/plain": [
       "<Figure size 720x720 with 1 Axes>"
      ]
     },
     "metadata": {
      "needs_background": "light",
      "tags": []
     },
     "output_type": "display_data"
    }
   ],
   "source": [
    "rcParams['figure.figsize'] = 10, 10\n",
    "features = rfe_features\n",
    "importances = best_xgb_uds.feature_importances_\n",
    "indices = np.argsort(importances)\n",
    "\n",
    "plt.title('Feature importance of each variable in XGBoost model')\n",
    "plt.barh(range(len(indices)), importances[indices], color='b', align='center')\n",
    "plt.yticks(range(len(indices)), [features[i] for i in indices])\n",
    "plt.xlabel('Relative Importance')"
   ]
  },
  {
   "cell_type": "markdown",
   "metadata": {
    "colab_type": "text",
    "id": "4Co0jXBfOHSQ"
   },
   "source": [
    "### Model Performance"
   ]
  },
  {
   "cell_type": "code",
   "execution_count": 0,
   "metadata": {
    "colab": {
     "base_uri": "https://localhost:8080/",
     "height": 977
    },
    "colab_type": "code",
    "executionInfo": {
     "elapsed": 4470,
     "status": "ok",
     "timestamp": 1587431332467,
     "user": {
      "displayName": "Quyen Tran",
      "photoUrl": "",
      "userId": "06127584536630807118"
     },
     "user_tz": 420
    },
    "id": "4IbtbrmNOHSR",
    "outputId": "222a8cb5-e46b-4a5d-ae73-332dce278522"
   },
   "outputs": [
    {
     "name": "stdout",
     "output_type": "stream",
     "text": [
      "TRAINING SET\n",
      "Threshold: 0.74\n",
      "TP: 20109\n",
      "TN: 20107\n",
      "FP: 2\n",
      "FN: 0\n",
      "Accuracy: 1.0\n",
      "Sensitivity: 1.0\n",
      "Specificity: 1.0\n",
      "Precision: 1.0\n",
      "Recall (Detection rate): 1.0\n",
      "F1-score: 1.0\n",
      "AUC: 1.0\n",
      "FPR (False alarm rate): 0.0\n",
      "FNR: 0.0\n",
      "Kappa: 1.0\n"
     ]
    },
    {
     "data": {
      "image/png": "[encoded data removed]",
      "text/plain": [
       "<Figure size 288x216 with 1 Axes>"
      ]
     },
     "metadata": {
      "needs_background": "light",
      "tags": []
     },
     "output_type": "display_data"
    },
    {
     "name": "stdout",
     "output_type": "stream",
     "text": [
      "TEST SET\n",
      "Threshold: 0.74\n",
      "TP: 3982\n",
      "TN: 243641\n",
      "FP: 21438\n",
      "FN: 1045\n",
      "Accuracy: 0.92\n",
      "Sensitivity: 0.79\n",
      "Specificity: 0.92\n",
      "Precision: 0.16\n",
      "Recall (Detection rate): 0.79\n",
      "F1-score: 0.38\n",
      "AUC: 0.94\n",
      "FPR (False alarm rate): 0.08\n",
      "FNR: 0.21\n",
      "Kappa: 0.24\n"
     ]
    },
    {
     "data": {
      "image/png": "[encoded data removed]",
      "text/plain": [
       "<Figure size 288x216 with 1 Axes>"
      ]
     },
     "metadata": {
      "needs_background": "light",
      "tags": []
     },
     "output_type": "display_data"
    }
   ],
   "source": [
    "results_train_xgb_uds_rfe, results_test_xgb_uds_rfe, \\\n",
    "y_pred_prob_train_xgb_rfe, y_pred_prob_test_xgb_rfe = model_evaluation2(best_xgb_uds, \n",
    "                                                                        X_uds_rfe, y_uds_rfe,\n",
    "                                                                        X_test.loc[:, rfe_feat].values, y_test.values,\n",
    "                                                                        print_ = 1)"
   ]
  },
  {
   "cell_type": "markdown",
   "metadata": {
    "colab_type": "text",
    "id": "9UF8JIYyOHST"
   },
   "source": [
    "### Save results to dataframe"
   ]
  },
  {
   "cell_type": "code",
   "execution_count": 0,
   "metadata": {
    "colab": {},
    "colab_type": "code",
    "id": "OuaCfCUiOHST"
   },
   "outputs": [],
   "source": [
    "xgb_results_train = xgb_results_train.append(results_train_xgb_uds_rfe.rename(index={results_train_xgb_uds_rfe.index[-1]: 'XGB 50/50 Ratio with Feature selection'}))\n",
    "xgb_results_test = xgb_results_test.append(results_test_xgb_uds_rfe.rename(index={results_test_xgb_uds_rfe.index[-1]: 'XGB 50/50 Ratio with Feature selection'}))"
   ]
  },
  {
   "cell_type": "markdown",
   "metadata": {
    "colab_type": "text",
    "id": "YXcckL8GbFpe"
   },
   "source": [
    "# 80/20 Ratio: All features"
   ]
  },
  {
   "cell_type": "code",
   "execution_count": 0,
   "metadata": {
    "colab": {
     "base_uri": "https://localhost:8080/",
     "height": 85
    },
    "colab_type": "code",
    "executionInfo": {
     "elapsed": 274,
     "status": "ok",
     "timestamp": 1587429115939,
     "user": {
      "displayName": "Quyen Tran",
      "photoUrl": "",
      "userId": "06127584536630807118"
     },
     "user_tz": 420
    },
    "id": "_NfI36nMrYP4",
    "outputId": "80da7ac7-80d2-48e1-a6c9-523793a98490"
   },
   "outputs": [
    {
     "data": {
      "text/plain": [
       "{'learning_rate': 0.1,\n",
       " 'max_depth': 10,\n",
       " 'min_child_weight': 1,\n",
       " 'n_estimators': 1000}"
      ]
     },
     "execution_count": 96,
     "metadata": {
      "tags": []
     },
     "output_type": "execute_result"
    }
   ],
   "source": [
    "grid_xgb_uds.best_params_"
   ]
  },
  {
   "cell_type": "code",
   "execution_count": 0,
   "metadata": {
    "colab": {},
    "colab_type": "code",
    "id": "5VDdUzL3bFpg"
   },
   "outputs": [],
   "source": [
    "# create the model/estimator\n",
    "xgb_8020 = XGBClassifier(booster='gbtree',\n",
    "                         subsample=0.8,\n",
    "                         colsample_bytree=0.8,\n",
    "                         objective='binary:logistic',\n",
    "                         nthread=-1,\n",
    "                         seed=seed,\n",
    "                         learning_rate=0.1,\n",
    "                         max_depth=10,\n",
    "                         min_child_weight=1,\n",
    "                         n_estimators=1000)"
   ]
  },
  {
   "cell_type": "code",
   "execution_count": 0,
   "metadata": {
    "colab": {
     "base_uri": "https://localhost:8080/",
     "height": 34
    },
    "colab_type": "code",
    "executionInfo": {
     "elapsed": 49231,
     "status": "ok",
     "timestamp": 1587431418473,
     "user": {
      "displayName": "Quyen Tran",
      "photoUrl": "",
      "userId": "06127584536630807118"
     },
     "user_tz": 420
    },
    "id": "lIUwk6ENcP9j",
    "outputId": "005f7acd-1293-4d54-b84e-44776cd15e65"
   },
   "outputs": [
    {
     "name": "stdout",
     "output_type": "stream",
     "text": [
      "Training took:  0:00:49.008179\n"
     ]
    }
   ],
   "source": [
    "start = datetime.now()\n",
    "\n",
    "xgb_8020.fit(X_8020, y_8020)\n",
    "\n",
    "print('Training took: ', datetime.now()-start)"
   ]
  },
  {
   "cell_type": "markdown",
   "metadata": {
    "colab_type": "text",
    "id": "Vg6rj5EPbFpn"
   },
   "source": [
    "### Performance on training and test set"
   ]
  },
  {
   "cell_type": "code",
   "execution_count": 0,
   "metadata": {
    "colab": {
     "base_uri": "https://localhost:8080/",
     "height": 977
    },
    "colab_type": "code",
    "executionInfo": {
     "elapsed": 4631,
     "status": "ok",
     "timestamp": 1587431430916,
     "user": {
      "displayName": "Quyen Tran",
      "photoUrl": "",
      "userId": "06127584536630807118"
     },
     "user_tz": 420
    },
    "id": "_32vEVeDbFpn",
    "outputId": "a7be142b-4ace-4e57-be40-ec9849c35651"
   },
   "outputs": [
    {
     "name": "stdout",
     "output_type": "stream",
     "text": [
      "TRAINING SET\n",
      "Threshold: 0.3\n",
      "TP: 20095\n",
      "TN: 80425\n",
      "FP: 11\n",
      "FN: 14\n",
      "Accuracy: 1.0\n",
      "Sensitivity: 1.0\n",
      "Specificity: 1.0\n",
      "Precision: 1.0\n",
      "Recall (Detection rate): 1.0\n",
      "F1-score: 1.0\n",
      "AUC: 1.0\n",
      "FPR (False alarm rate): 0.0\n",
      "FNR: 0.0\n",
      "Kappa: 1.0\n"
     ]
    },
    {
     "data": {
      "image/png": "[encoded data removed]",
      "text/plain": [
       "<Figure size 288x216 with 1 Axes>"
      ]
     },
     "metadata": {
      "needs_background": "light",
      "tags": []
     },
     "output_type": "display_data"
    },
    {
     "name": "stdout",
     "output_type": "stream",
     "text": [
      "TEST SET\n",
      "Threshold: 0.3\n",
      "TP: 2945\n",
      "TN: 247874\n",
      "FP: 17205\n",
      "FN: 2082\n",
      "Accuracy: 0.93\n",
      "Sensitivity: 0.59\n",
      "Specificity: 0.94\n",
      "Precision: 0.15\n",
      "Recall (Detection rate): 0.59\n",
      "F1-score: 0.29\n",
      "AUC: 0.9\n",
      "FPR (False alarm rate): 0.06\n",
      "FNR: 0.41\n",
      "Kappa: 0.21\n"
     ]
    },
    {
     "data": {
      "image/png": "[encoded data removed]",
      "text/plain": [
       "<Figure size 288x216 with 1 Axes>"
      ]
     },
     "metadata": {
      "needs_background": "light",
      "tags": []
     },
     "output_type": "display_data"
    }
   ],
   "source": [
    "results_train_xgb_8020, results_test_xgb_8020, \\\n",
    "y_pred_prob_train_xgb_8020, y_pred_prob_test_xgb_8020 = model_evaluation2(xgb_8020, \n",
    "                                                                          X_8020, y_8020,\n",
    "                                                                          X_test.values, y_test.values,\n",
    "                                                                          print_ = 1)"
   ]
  },
  {
   "cell_type": "markdown",
   "metadata": {
    "colab_type": "text",
    "id": "bHk5sK3QbFpp"
   },
   "source": [
    "### Save results to dataframe"
   ]
  },
  {
   "cell_type": "code",
   "execution_count": 0,
   "metadata": {
    "colab": {},
    "colab_type": "code",
    "id": "PmS2-5ltbFpq"
   },
   "outputs": [],
   "source": [
    "xgb_results_train = xgb_results_train.append(results_train_xgb_8020.rename(index={results_train_xgb_8020.index[-1]: 'XGB 80/20 Ratio All features'}))\n",
    "xgb_results_test = xgb_results_test.append(results_test_xgb_8020.rename(index={results_test_xgb_8020.index[-1]: 'XGB 80/20 Ratio All features'}))"
   ]
  },
  {
   "cell_type": "markdown",
   "metadata": {
    "colab_type": "text",
    "id": "kXqpbDtDbFps"
   },
   "source": [
    "# 80/20 Ratio: Feature selection"
   ]
  },
  {
   "cell_type": "code",
   "execution_count": 0,
   "metadata": {
    "colab": {},
    "colab_type": "code",
    "id": "kN5z2OVGtiYE"
   },
   "outputs": [],
   "source": [
    "# create the model/estimator\n",
    "xgb_8020_rfe = XGBClassifier(booster='gbtree',\n",
    "                             subsample=0.8,\n",
    "                             colsample_bytree=0.8,\n",
    "                             objective='binary:logistic',\n",
    "                             nthread=-1,\n",
    "                             seed=seed,\n",
    "                             learning_rate=0.1,\n",
    "                             max_depth=10,\n",
    "                             min_child_weight=1,\n",
    "                             n_estimators=1000)"
   ]
  },
  {
   "cell_type": "markdown",
   "metadata": {
    "colab_type": "text",
    "id": "oQuQ9p2ibFps"
   },
   "source": [
    "### Use the selected features for 80/20 dataset"
   ]
  },
  {
   "cell_type": "code",
   "execution_count": 0,
   "metadata": {
    "colab": {},
    "colab_type": "code",
    "id": "S0JcDfnrbFpt"
   },
   "outputs": [],
   "source": [
    "X_8020_rfe, y_8020_rfe = ratio8020.fit_resample(X_all.loc[:, rfe_feat], y_all)"
   ]
  },
  {
   "cell_type": "markdown",
   "metadata": {
    "colab_type": "text",
    "id": "r0kwjn58bFpv"
   },
   "source": [
    "### Model"
   ]
  },
  {
   "cell_type": "code",
   "execution_count": 0,
   "metadata": {
    "colab": {
     "base_uri": "https://localhost:8080/",
     "height": 34
    },
    "colab_type": "code",
    "executionInfo": {
     "elapsed": 39422,
     "status": "ok",
     "timestamp": 1587431490557,
     "user": {
      "displayName": "Quyen Tran",
      "photoUrl": "",
      "userId": "06127584536630807118"
     },
     "user_tz": 420
    },
    "id": "24R_2GzLbFpy",
    "outputId": "38cd4a81-6f32-4cd8-cede-b73c0f5aed18"
   },
   "outputs": [
    {
     "name": "stdout",
     "output_type": "stream",
     "text": [
      "Training took:  0:00:39.198816\n"
     ]
    }
   ],
   "source": [
    "start = datetime.now()\n",
    "\n",
    "xgb_8020_rfe.fit(X_8020_rfe, y_8020_rfe)\n",
    "\n",
    "print('Training took: ', datetime.now()-start)"
   ]
  },
  {
   "cell_type": "markdown",
   "metadata": {
    "colab_type": "text",
    "id": "4YV349E0bFp1"
   },
   "source": [
    "### Model Performance"
   ]
  },
  {
   "cell_type": "code",
   "execution_count": 0,
   "metadata": {
    "colab": {
     "base_uri": "https://localhost:8080/",
     "height": 977
    },
    "colab_type": "code",
    "executionInfo": {
     "elapsed": 5319,
     "status": "ok",
     "timestamp": 1587431500842,
     "user": {
      "displayName": "Quyen Tran",
      "photoUrl": "",
      "userId": "06127584536630807118"
     },
     "user_tz": 420
    },
    "id": "rWm-y2dlbFp1",
    "outputId": "31a479c8-9b5f-4e12-b489-7fc00a3d64f1"
   },
   "outputs": [
    {
     "name": "stdout",
     "output_type": "stream",
     "text": [
      "TRAINING SET\n",
      "Threshold: 0.41\n",
      "TP: 20109\n",
      "TN: 80432\n",
      "FP: 4\n",
      "FN: 0\n",
      "Accuracy: 1.0\n",
      "Sensitivity: 1.0\n",
      "Specificity: 1.0\n",
      "Precision: 1.0\n",
      "Recall (Detection rate): 1.0\n",
      "F1-score: 1.0\n",
      "AUC: 1.0\n",
      "FPR (False alarm rate): 0.0\n",
      "FNR: 0.0\n",
      "Kappa: 1.0\n"
     ]
    },
    {
     "data": {
      "image/png": "[encoded data removed]",
      "text/plain": [
       "<Figure size 288x216 with 1 Axes>"
      ]
     },
     "metadata": {
      "needs_background": "light",
      "tags": []
     },
     "output_type": "display_data"
    },
    {
     "name": "stdout",
     "output_type": "stream",
     "text": [
      "TEST SET\n",
      "Threshold: 0.41\n",
      "TP: 3835\n",
      "TN: 259827\n",
      "FP: 5252\n",
      "FN: 1192\n",
      "Accuracy: 0.98\n",
      "Sensitivity: 0.76\n",
      "Specificity: 0.98\n",
      "Precision: 0.42\n",
      "Recall (Detection rate): 0.76\n",
      "F1-score: 0.62\n",
      "AUC: 0.97\n",
      "FPR (False alarm rate): 0.02\n",
      "FNR: 0.24\n",
      "Kappa: 0.53\n"
     ]
    },
    {
     "data": {
      "image/png": "[encoded data removed]",
      "text/plain": [
       "<Figure size 288x216 with 1 Axes>"
      ]
     },
     "metadata": {
      "needs_background": "light",
      "tags": []
     },
     "output_type": "display_data"
    }
   ],
   "source": [
    "results_train_xgb_8020_rfe, results_test_xgb_8020_rfe, \\\n",
    "y_pred_prob_train_xgb_8020_rfe, y_pred_prob_test_xgb_8020_rfe = model_evaluation2(xgb_8020_rfe, \n",
    "                                                                                  X_8020_rfe, y_8020_rfe,\n",
    "                                                                                  X_test.loc[:, rfe_feat].values, y_test.values,\n",
    "                                                                                  print_ = 1)"
   ]
  },
  {
   "cell_type": "markdown",
   "metadata": {
    "colab_type": "text",
    "id": "ziHBgcR5bFp3"
   },
   "source": [
    "### Save results to dataframe"
   ]
  },
  {
   "cell_type": "code",
   "execution_count": 0,
   "metadata": {
    "colab": {},
    "colab_type": "code",
    "id": "BC8qo1fvbFp4"
   },
   "outputs": [],
   "source": [
    "xgb_results_train = xgb_results_train.append(results_train_xgb_8020_rfe.rename(index={results_train_xgb_8020_rfe.index[-1]: 'XGB 80/20 Ratio with Feature Selection'}))\n",
    "xgb_results_test = xgb_results_test.append(results_test_xgb_8020_rfe.rename(index={results_test_xgb_8020_rfe.index[-1]: 'XGB 80/20 Ratio with Feature Selection'}))"
   ]
  },
  {
   "cell_type": "markdown",
   "metadata": {
    "colab_type": "text",
    "id": "yleRN2fa3Rk5"
   },
   "source": [
    "# 90/10 Ratio: All features"
   ]
  },
  {
   "cell_type": "code",
   "execution_count": 0,
   "metadata": {
    "colab": {
     "base_uri": "https://localhost:8080/",
     "height": 85
    },
    "colab_type": "code",
    "executionInfo": {
     "elapsed": 404,
     "status": "ok",
     "timestamp": 1587430113551,
     "user": {
      "displayName": "Quyen Tran",
      "photoUrl": "",
      "userId": "06127584536630807118"
     },
     "user_tz": 420
    },
    "id": "e0PjymsW3Rk6",
    "outputId": "8e555440-ccb7-4754-c92a-f94f9918b4ca"
   },
   "outputs": [
    {
     "data": {
      "text/plain": [
       "{'learning_rate': 0.1,\n",
       " 'max_depth': 10,\n",
       " 'min_child_weight': 1,\n",
       " 'n_estimators': 1000}"
      ]
     },
     "execution_count": 106,
     "metadata": {
      "tags": []
     },
     "output_type": "execute_result"
    }
   ],
   "source": [
    "grid_xgb_uds.best_params_"
   ]
  },
  {
   "cell_type": "code",
   "execution_count": 0,
   "metadata": {
    "colab": {},
    "colab_type": "code",
    "id": "avDlWu7m3Rk8"
   },
   "outputs": [],
   "source": [
    "# create the model/estimator\n",
    "xgb_9010 = XGBClassifier(booster='gbtree',\n",
    "                         subsample=0.8,\n",
    "                         colsample_bytree=0.8,\n",
    "                         objective='binary:logistic',\n",
    "                         nthread=-1,\n",
    "                         seed=seed,\n",
    "                         learning_rate=0.1,\n",
    "                         max_depth=10,\n",
    "                         min_child_weight=1,\n",
    "                         n_estimators=1000)"
   ]
  },
  {
   "cell_type": "code",
   "execution_count": 0,
   "metadata": {
    "colab": {
     "base_uri": "https://localhost:8080/",
     "height": 34
    },
    "colab_type": "code",
    "executionInfo": {
     "elapsed": 94784,
     "status": "ok",
     "timestamp": 1587431607824,
     "user": {
      "displayName": "Quyen Tran",
      "photoUrl": "",
      "userId": "06127584536630807118"
     },
     "user_tz": 420
    },
    "id": "Am1UawXB3RlA",
    "outputId": "fe34eb15-2fbe-4f73-e666-8fab79006d91"
   },
   "outputs": [
    {
     "name": "stdout",
     "output_type": "stream",
     "text": [
      "Training took:  0:01:34.566193\n"
     ]
    }
   ],
   "source": [
    "start = datetime.now()\n",
    "\n",
    "xgb_9010.fit(X_9010, y_9010)\n",
    "\n",
    "print('Training took: ', datetime.now()-start)"
   ]
  },
  {
   "cell_type": "markdown",
   "metadata": {
    "colab_type": "text",
    "id": "5swZUJ3v3RlB"
   },
   "source": [
    "### Performance on training and test set"
   ]
  },
  {
   "cell_type": "code",
   "execution_count": 0,
   "metadata": {
    "colab": {
     "base_uri": "https://localhost:8080/",
     "height": 977
    },
    "colab_type": "code",
    "executionInfo": {
     "elapsed": 5347,
     "status": "ok",
     "timestamp": 1587431616374,
     "user": {
      "displayName": "Quyen Tran",
      "photoUrl": "",
      "userId": "06127584536630807118"
     },
     "user_tz": 420
    },
    "id": "MRuY1tIw3RlB",
    "outputId": "84d2574c-b891-44b0-ddf5-151592354a26"
   },
   "outputs": [
    {
     "name": "stdout",
     "output_type": "stream",
     "text": [
      "TRAINING SET\n",
      "Threshold: 0.24\n",
      "TP: 19483\n",
      "TN: 180643\n",
      "FP: 338\n",
      "FN: 626\n",
      "Accuracy: 1.0\n",
      "Sensitivity: 0.97\n",
      "Specificity: 1.0\n",
      "Precision: 0.98\n",
      "Recall (Detection rate): 0.97\n",
      "F1-score: 0.98\n",
      "AUC: 1.0\n",
      "FPR (False alarm rate): 0.0\n",
      "FNR: 0.03\n",
      "Kappa: 0.97\n"
     ]
    },
    {
     "data": {
      "image/png": "[encoded data removed]",
      "text/plain": [
       "<Figure size 288x216 with 1 Axes>"
      ]
     },
     "metadata": {
      "needs_background": "light",
      "tags": []
     },
     "output_type": "display_data"
    },
    {
     "name": "stdout",
     "output_type": "stream",
     "text": [
      "TEST SET\n",
      "Threshold: 0.24\n",
      "TP: 2312\n",
      "TN: 258016\n",
      "FP: 7063\n",
      "FN: 2715\n",
      "Accuracy: 0.96\n",
      "Sensitivity: 0.46\n",
      "Specificity: 0.97\n",
      "Precision: 0.25\n",
      "Recall (Detection rate): 0.46\n",
      "F1-score: 0.34\n",
      "AUC: 0.9\n",
      "FPR (False alarm rate): 0.03\n",
      "FNR: 0.54\n",
      "Kappa: 0.3\n"
     ]
    },
    {
     "data": {
      "image/png": "[encoded data removed]",
      "text/plain": [
       "<Figure size 288x216 with 1 Axes>"
      ]
     },
     "metadata": {
      "needs_background": "light",
      "tags": []
     },
     "output_type": "display_data"
    }
   ],
   "source": [
    "results_train_xgb_9010, results_test_xgb_9010, \\\n",
    "y_pred_prob_train_xgb_9010, y_pred_prob_test_xgb_9010 = model_evaluation2(xgb_9010, \n",
    "                                                                          X_9010, y_9010,\n",
    "                                                                          X_test.values, y_test.values,\n",
    "                                                                          print_ = 1)"
   ]
  },
  {
   "cell_type": "markdown",
   "metadata": {
    "colab_type": "text",
    "id": "4rZzkXJ33RlD"
   },
   "source": [
    "### Save results to dataframe"
   ]
  },
  {
   "cell_type": "code",
   "execution_count": 0,
   "metadata": {
    "colab": {},
    "colab_type": "code",
    "id": "3RmxIEdj3RlD"
   },
   "outputs": [],
   "source": [
    "xgb_results_train = xgb_results_train.append(results_train_xgb_9010.rename(index={results_train_xgb_9010.index[-1]: 'XGB 90/10 Ratio All features'}))\n",
    "xgb_results_test = xgb_results_test.append(results_test_xgb_9010.rename(index={results_test_xgb_9010.index[-1]: 'XGB 90/10 Ratio All features'}))"
   ]
  },
  {
   "cell_type": "markdown",
   "metadata": {
    "colab_type": "text",
    "id": "na6DNFeo3RlG"
   },
   "source": [
    "# 90/10 Ratio: Feature selection"
   ]
  },
  {
   "cell_type": "code",
   "execution_count": 0,
   "metadata": {
    "colab": {},
    "colab_type": "code",
    "id": "c738bFTK3RlG"
   },
   "outputs": [],
   "source": [
    "# create the model/estimator\n",
    "xgb_9010_rfe = XGBClassifier(booster='gbtree',\n",
    "                             subsample=0.8,\n",
    "                             colsample_bytree=0.8,\n",
    "                             objective='binary:logistic',\n",
    "                             nthread=-1,\n",
    "                             seed=seed,\n",
    "                             learning_rate=0.1,\n",
    "                             max_depth=10,\n",
    "                             min_child_weight=1,\n",
    "                             n_estimators=1000)"
   ]
  },
  {
   "cell_type": "markdown",
   "metadata": {
    "colab_type": "text",
    "id": "DG9G_0nh3RlI"
   },
   "source": [
    "### Use the selected features for 90/10 dataset"
   ]
  },
  {
   "cell_type": "code",
   "execution_count": 0,
   "metadata": {
    "colab": {},
    "colab_type": "code",
    "id": "iIj2GrFz3RlI"
   },
   "outputs": [],
   "source": [
    "X_9010_rfe, y_9010_rfe = ratio9010.fit_resample(X_all.loc[:, rfe_feat], y_all)"
   ]
  },
  {
   "cell_type": "markdown",
   "metadata": {
    "colab_type": "text",
    "id": "EO5WAJtl3RlJ"
   },
   "source": [
    "### Model"
   ]
  },
  {
   "cell_type": "code",
   "execution_count": 0,
   "metadata": {
    "colab": {
     "base_uri": "https://localhost:8080/",
     "height": 34
    },
    "colab_type": "code",
    "executionInfo": {
     "elapsed": 76761,
     "status": "ok",
     "timestamp": 1587431707187,
     "user": {
      "displayName": "Quyen Tran",
      "photoUrl": "",
      "userId": "06127584536630807118"
     },
     "user_tz": 420
    },
    "id": "z3T4i6RJ3RlK",
    "outputId": "5ce86296-ac0a-48bd-8257-73a920cb7c6f"
   },
   "outputs": [
    {
     "name": "stdout",
     "output_type": "stream",
     "text": [
      "Training took:  0:01:16.543656\n"
     ]
    }
   ],
   "source": [
    "start = datetime.now()\n",
    "\n",
    "xgb_9010_rfe.fit(X_9010_rfe, y_9010_rfe)\n",
    "\n",
    "print('Training took: ', datetime.now()-start)"
   ]
  },
  {
   "cell_type": "markdown",
   "metadata": {
    "colab_type": "text",
    "id": "BgU5XDMo3RlL"
   },
   "source": [
    "### Model Performance"
   ]
  },
  {
   "cell_type": "code",
   "execution_count": 0,
   "metadata": {
    "colab": {
     "base_uri": "https://localhost:8080/",
     "height": 977
    },
    "colab_type": "code",
    "executionInfo": {
     "elapsed": 6438,
     "status": "ok",
     "timestamp": 1587431716703,
     "user": {
      "displayName": "Quyen Tran",
      "photoUrl": "",
      "userId": "06127584536630807118"
     },
     "user_tz": 420
    },
    "id": "quDJN_P83RlL",
    "outputId": "4654a9a5-ed76-4eba-efe1-7be220c49bc2"
   },
   "outputs": [
    {
     "name": "stdout",
     "output_type": "stream",
     "text": [
      "TRAINING SET\n",
      "Threshold: 0.34\n",
      "TP: 20107\n",
      "TN: 180973\n",
      "FP: 8\n",
      "FN: 2\n",
      "Accuracy: 1.0\n",
      "Sensitivity: 1.0\n",
      "Specificity: 1.0\n",
      "Precision: 1.0\n",
      "Recall (Detection rate): 1.0\n",
      "F1-score: 1.0\n",
      "AUC: 1.0\n",
      "FPR (False alarm rate): 0.0\n",
      "FNR: 0.0\n",
      "Kappa: 1.0\n"
     ]
    },
    {
     "data": {
      "image/png": "[encoded data removed]",
      "text/plain": [
       "<Figure size 288x216 with 1 Axes>"
      ]
     },
     "metadata": {
      "needs_background": "light",
      "tags": []
     },
     "output_type": "display_data"
    },
    {
     "name": "stdout",
     "output_type": "stream",
     "text": [
      "TEST SET\n",
      "Threshold: 0.34\n",
      "TP: 3483\n",
      "TN: 263826\n",
      "FP: 1253\n",
      "FN: 1544\n",
      "Accuracy: 0.99\n",
      "Sensitivity: 0.69\n",
      "Specificity: 1.0\n",
      "Precision: 0.74\n",
      "Recall (Detection rate): 0.69\n",
      "F1-score: 0.72\n",
      "AUC: 0.98\n",
      "FPR (False alarm rate): 0.0\n",
      "FNR: 0.31\n",
      "Kappa: 0.71\n"
     ]
    },
    {
     "data": {
      "image/png": "[encoded data removed]",
      "text/plain": [
       "<Figure size 288x216 with 1 Axes>"
      ]
     },
     "metadata": {
      "needs_background": "light",
      "tags": []
     },
     "output_type": "display_data"
    }
   ],
   "source": [
    "results_train_xgb_9010_rfe, results_test_xgb_9010_rfe, \\\n",
    "y_pred_prob_train_xgb_9010_rfe, y_pred_prob_test_xgb_9010_rfe = model_evaluation2(xgb_9010_rfe, \n",
    "                                                                                  X_9010_rfe, y_9010_rfe,\n",
    "                                                                                  X_test.loc[:, rfe_feat].values, y_test.values,\n",
    "                                                                                  print_ = 1)"
   ]
  },
  {
   "cell_type": "markdown",
   "metadata": {
    "colab_type": "text",
    "id": "J3AhWrCg3RlM"
   },
   "source": [
    "### Save results to dataframe"
   ]
  },
  {
   "cell_type": "code",
   "execution_count": 0,
   "metadata": {
    "colab": {},
    "colab_type": "code",
    "id": "Z7JUubVz3RlN"
   },
   "outputs": [],
   "source": [
    "xgb_results_train = xgb_results_train.append(results_train_xgb_9010_rfe.rename(index={results_train_xgb_9010_rfe.index[-1]: 'XGB 90/10 Ratio with Feature Selection'}))\n",
    "xgb_results_test = xgb_results_test.append(results_test_xgb_9010_rfe.rename(index={results_test_xgb_9010_rfe.index[-1]: 'XGB 90/10 Ratio with Feature Selection'}))"
   ]
  },
  {
   "cell_type": "markdown",
   "metadata": {
    "colab_type": "text",
    "id": "aipv5L4L53dO"
   },
   "source": [
    "# 95/05 Ratio: All features"
   ]
  },
  {
   "cell_type": "code",
   "execution_count": 0,
   "metadata": {
    "colab": {
     "base_uri": "https://localhost:8080/",
     "height": 85
    },
    "colab_type": "code",
    "executionInfo": {
     "elapsed": 223,
     "status": "ok",
     "timestamp": 1587430517129,
     "user": {
      "displayName": "Quyen Tran",
      "photoUrl": "",
      "userId": "06127584536630807118"
     },
     "user_tz": 420
    },
    "id": "N7S2eehP53dP",
    "outputId": "02d50616-0c50-4d26-cfd6-c3fed91649ae"
   },
   "outputs": [
    {
     "data": {
      "text/plain": [
       "{'learning_rate': 0.1,\n",
       " 'max_depth': 10,\n",
       " 'min_child_weight': 1,\n",
       " 'n_estimators': 1000}"
      ]
     },
     "execution_count": 117,
     "metadata": {
      "tags": []
     },
     "output_type": "execute_result"
    }
   ],
   "source": [
    "grid_xgb_uds.best_params_"
   ]
  },
  {
   "cell_type": "code",
   "execution_count": 0,
   "metadata": {
    "colab": {},
    "colab_type": "code",
    "id": "TQ7-ey5S53dR"
   },
   "outputs": [],
   "source": [
    "# create the model/estimator\n",
    "xgb_9505 = XGBClassifier(booster='gbtree',\n",
    "                         subsample=0.8,\n",
    "                         colsample_bytree=0.8,\n",
    "                         objective='binary:logistic',\n",
    "                         nthread=-1,\n",
    "                         seed=seed,\n",
    "                         learning_rate=0.1,\n",
    "                         max_depth=10,\n",
    "                         min_child_weight=1,\n",
    "                         n_estimators=1000)"
   ]
  },
  {
   "cell_type": "code",
   "execution_count": 0,
   "metadata": {
    "colab": {
     "base_uri": "https://localhost:8080/",
     "height": 34
    },
    "colab_type": "code",
    "executionInfo": {
     "elapsed": 197058,
     "status": "ok",
     "timestamp": 1587431930650,
     "user": {
      "displayName": "Quyen Tran",
      "photoUrl": "",
      "userId": "06127584536630807118"
     },
     "user_tz": 420
    },
    "id": "Dm_d1hTq53dV",
    "outputId": "ecb3e0a1-ade5-4583-aff1-77c2d3b1fadd"
   },
   "outputs": [
    {
     "name": "stdout",
     "output_type": "stream",
     "text": [
      "Training took:  0:03:16.341157\n"
     ]
    }
   ],
   "source": [
    "start = datetime.now()\n",
    "\n",
    "xgb_9505.fit(X_9505, y_9505)\n",
    "\n",
    "print('Training took: ', datetime.now()-start)"
   ]
  },
  {
   "cell_type": "markdown",
   "metadata": {
    "colab_type": "text",
    "id": "TuxAFe_-53dY"
   },
   "source": [
    "### Performance on training and test set"
   ]
  },
  {
   "cell_type": "code",
   "execution_count": 0,
   "metadata": {
    "colab": {
     "base_uri": "https://localhost:8080/",
     "height": 977
    },
    "colab_type": "code",
    "executionInfo": {
     "elapsed": 7542,
     "status": "ok",
     "timestamp": 1587431949339,
     "user": {
      "displayName": "Quyen Tran",
      "photoUrl": "",
      "userId": "06127584536630807118"
     },
     "user_tz": 420
    },
    "id": "fnSx3eJd53dY",
    "outputId": "087895c9-2696-4ceb-dac4-e6dacdac02c3"
   },
   "outputs": [
    {
     "name": "stdout",
     "output_type": "stream",
     "text": [
      "TRAINING SET\n",
      "Threshold: 0.19\n",
      "TP: 18769\n",
      "TN: 381575\n",
      "FP: 496\n",
      "FN: 1340\n",
      "Accuracy: 1.0\n",
      "Sensitivity: 0.93\n",
      "Specificity: 1.0\n",
      "Precision: 0.97\n",
      "Recall (Detection rate): 0.93\n",
      "F1-score: 0.95\n",
      "AUC: 1.0\n",
      "FPR (False alarm rate): 0.0\n",
      "FNR: 0.07\n",
      "Kappa: 0.95\n"
     ]
    },
    {
     "data": {
      "image/png": "[encoded data removed]",
      "text/plain": [
       "<Figure size 288x216 with 1 Axes>"
      ]
     },
     "metadata": {
      "needs_background": "light",
      "tags": []
     },
     "output_type": "display_data"
    },
    {
     "name": "stdout",
     "output_type": "stream",
     "text": [
      "TEST SET\n",
      "Threshold: 0.19\n",
      "TP: 1821\n",
      "TN: 262551\n",
      "FP: 2528\n",
      "FN: 3206\n",
      "Accuracy: 0.98\n",
      "Sensitivity: 0.36\n",
      "Specificity: 0.99\n",
      "Precision: 0.42\n",
      "Recall (Detection rate): 0.36\n",
      "F1-score: 0.39\n",
      "AUC: 0.9\n",
      "FPR (False alarm rate): 0.01\n",
      "FNR: 0.64\n",
      "Kappa: 0.38\n"
     ]
    },
    {
     "data": {
      "image/png": "[encoded data removed]",
      "text/plain": [
       "<Figure size 288x216 with 1 Axes>"
      ]
     },
     "metadata": {
      "needs_background": "light",
      "tags": []
     },
     "output_type": "display_data"
    }
   ],
   "source": [
    "results_train_xgb_9505, results_test_xgb_9505, \\\n",
    "y_pred_prob_train_xgb_9505, y_pred_prob_test_xgb_9505 = model_evaluation2(xgb_9505, \n",
    "                                                                          X_9505, y_9505,\n",
    "                                                                          X_test.values, y_test.values,\n",
    "                                                                          print_ = 1)"
   ]
  },
  {
   "cell_type": "markdown",
   "metadata": {
    "colab_type": "text",
    "id": "NEUs1IAc53db"
   },
   "source": [
    "### Save results to dataframe"
   ]
  },
  {
   "cell_type": "code",
   "execution_count": 0,
   "metadata": {
    "colab": {},
    "colab_type": "code",
    "id": "oj-SzIJ353db"
   },
   "outputs": [],
   "source": [
    "xgb_results_train = xgb_results_train.append(results_train_xgb_9505.rename(index={results_train_xgb_9505.index[-1]: 'XGB 95/05 Ratio All features'}))\n",
    "xgb_results_test = xgb_results_test.append(results_test_xgb_9505.rename(index={results_test_xgb_9505.index[-1]: 'XGB 95/05 Ratio All features'}))"
   ]
  },
  {
   "cell_type": "markdown",
   "metadata": {
    "colab_type": "text",
    "id": "m_OBx9dG53dc"
   },
   "source": [
    "# 95/05 Ratio: Feature selection"
   ]
  },
  {
   "cell_type": "code",
   "execution_count": 0,
   "metadata": {
    "colab": {},
    "colab_type": "code",
    "id": "xKYkl5ZB53dc"
   },
   "outputs": [],
   "source": [
    "# create the model/estimator\n",
    "xgb_9505_rfe = XGBClassifier(booster='gbtree',\n",
    "                             subsample=0.8,\n",
    "                             colsample_bytree=0.8,\n",
    "                             objective='binary:logistic',\n",
    "                             nthread=-1,\n",
    "                             seed=seed,\n",
    "                             learning_rate=0.1,\n",
    "                             max_depth=10,\n",
    "                             min_child_weight=1,\n",
    "                             n_estimators=1000)"
   ]
  },
  {
   "cell_type": "markdown",
   "metadata": {
    "colab_type": "text",
    "id": "5SgkVLcO53de"
   },
   "source": [
    "### Use the selected features for 95/05 dataset"
   ]
  },
  {
   "cell_type": "code",
   "execution_count": 0,
   "metadata": {
    "colab": {},
    "colab_type": "code",
    "id": "JLUYckCa53de"
   },
   "outputs": [],
   "source": [
    "X_9505_rfe, y_9505_rfe = ratio9505.fit_resample(X_all.loc[:, rfe_feat], y_all)"
   ]
  },
  {
   "cell_type": "markdown",
   "metadata": {
    "colab_type": "text",
    "id": "E9rwkknT53df"
   },
   "source": [
    "### Model"
   ]
  },
  {
   "cell_type": "code",
   "execution_count": 0,
   "metadata": {
    "colab": {
     "base_uri": "https://localhost:8080/",
     "height": 34
    },
    "colab_type": "code",
    "executionInfo": {
     "elapsed": 153916,
     "status": "ok",
     "timestamp": 1587432160525,
     "user": {
      "displayName": "Quyen Tran",
      "photoUrl": "",
      "userId": "06127584536630807118"
     },
     "user_tz": 420
    },
    "id": "GCVxFsCP53df",
    "outputId": "8f5c2917-823b-4893-f5b0-28290050ed47"
   },
   "outputs": [
    {
     "name": "stdout",
     "output_type": "stream",
     "text": [
      "Training took:  0:02:33.700391\n"
     ]
    }
   ],
   "source": [
    "start = datetime.now()\n",
    "\n",
    "xgb_9505_rfe.fit(X_9505_rfe, y_9505_rfe)\n",
    "\n",
    "print('Training took: ', datetime.now()-start)"
   ]
  },
  {
   "cell_type": "markdown",
   "metadata": {
    "colab_type": "text",
    "id": "rbzMrn6c53di"
   },
   "source": [
    "### Model Performance"
   ]
  },
  {
   "cell_type": "code",
   "execution_count": 0,
   "metadata": {
    "colab": {
     "base_uri": "https://localhost:8080/",
     "height": 977
    },
    "colab_type": "code",
    "executionInfo": {
     "elapsed": 9382,
     "status": "ok",
     "timestamp": 1587433319979,
     "user": {
      "displayName": "Quyen Tran",
      "photoUrl": "",
      "userId": "06127584536630807118"
     },
     "user_tz": 420
    },
    "id": "Bx8bMqmP53di",
    "outputId": "ae8bf0d1-8d6a-4610-8eb4-07e468033d15"
   },
   "outputs": [
    {
     "name": "stdout",
     "output_type": "stream",
     "text": [
      "TRAINING SET\n",
      "Threshold: 0.3\n",
      "TP: 20096\n",
      "TN: 382062\n",
      "FP: 9\n",
      "FN: 13\n",
      "Accuracy: 1.0\n",
      "Sensitivity: 1.0\n",
      "Specificity: 1.0\n",
      "Precision: 1.0\n",
      "Recall (Detection rate): 1.0\n",
      "F1-score: 1.0\n",
      "AUC: 1.0\n",
      "FPR (False alarm rate): 0.0\n",
      "FNR: 0.0\n",
      "Kappa: 1.0\n"
     ]
    },
    {
     "data": {
      "image/png": "[encoded data removed]",
      "text/plain": [
       "<Figure size 288x216 with 1 Axes>"
      ]
     },
     "metadata": {
      "needs_background": "light",
      "tags": []
     },
     "output_type": "display_data"
    },
    {
     "name": "stdout",
     "output_type": "stream",
     "text": [
      "TEST SET\n",
      "Threshold: 0.3\n",
      "TP: 3146\n",
      "TN: 264709\n",
      "FP: 370\n",
      "FN: 1881\n",
      "Accuracy: 0.99\n",
      "Sensitivity: 0.63\n",
      "Specificity: 1.0\n",
      "Precision: 0.89\n",
      "Recall (Detection rate): 0.63\n",
      "F1-score: 0.77\n",
      "AUC: 0.98\n",
      "FPR (False alarm rate): 0.0\n",
      "FNR: 0.37\n",
      "Kappa: 0.73\n"
     ]
    },
    {
     "data": {
      "image/png": "[encoded data removed]",
      "text/plain": [
       "<Figure size 288x216 with 1 Axes>"
      ]
     },
     "metadata": {
      "needs_background": "light",
      "tags": []
     },
     "output_type": "display_data"
    }
   ],
   "source": [
    "results_train_xgb_9505_rfe, results_test_xgb_9505_rfe, \\\n",
    "y_pred_prob_train_xgb_9505_rfe, y_pred_prob_test_xgb_9505_rfe = model_evaluation2(xgb_9505_rfe, \n",
    "                                                                                  X_9505_rfe, y_9505_rfe,\n",
    "                                                                                  X_test.loc[:, rfe_feat].values, y_test.values,\n",
    "                                                                                  print_ = 1)"
   ]
  },
  {
   "cell_type": "markdown",
   "metadata": {
    "colab_type": "text",
    "id": "BaJrlUH053dj"
   },
   "source": [
    "### Save results to dataframe"
   ]
  },
  {
   "cell_type": "code",
   "execution_count": 0,
   "metadata": {
    "colab": {},
    "colab_type": "code",
    "id": "uhSVJ8dY53dj"
   },
   "outputs": [],
   "source": [
    "xgb_results_train = xgb_results_train.append(results_train_xgb_9505_rfe.rename(index={results_train_xgb_9505_rfe.index[-1]: 'XGB 95/05 Ratio with Feature Selection'}))\n",
    "xgb_results_test = xgb_results_test.append(results_test_xgb_9505_rfe.rename(index={results_test_xgb_9505_rfe.index[-1]: 'XGB 95/05 Ratio with Feature Selection'}))"
   ]
  },
  {
   "cell_type": "markdown",
   "metadata": {
    "colab_type": "text",
    "id": "NKWZoc6B-H7r"
   },
   "source": [
    "# 98/02 Ratio: All features"
   ]
  },
  {
   "cell_type": "code",
   "execution_count": 0,
   "metadata": {
    "colab": {
     "base_uri": "https://localhost:8080/",
     "height": 85
    },
    "colab_type": "code",
    "executionInfo": {
     "elapsed": 206657,
     "status": "ok",
     "timestamp": 1587365029473,
     "user": {
      "displayName": "An Tran",
      "photoUrl": "",
      "userId": "10274312836707434279"
     },
     "user_tz": 420
    },
    "id": "AHv3ZsQJ-H7v",
    "outputId": "dc117355-b534-431f-fc41-8c495fe03eb8"
   },
   "outputs": [
    {
     "data": {
      "text/plain": [
       "{'criterion': 'entropy',\n",
       " 'max_depth': 20,\n",
       " 'max_features': 'sqrt',\n",
       " 'min_samples_leaf': 1}"
      ]
     },
     "execution_count": 353,
     "metadata": {
      "tags": []
     },
     "output_type": "execute_result"
    }
   ],
   "source": [
    "grid_xgb_uds.best_params_"
   ]
  },
  {
   "cell_type": "code",
   "execution_count": 0,
   "metadata": {
    "colab": {},
    "colab_type": "code",
    "id": "z_1wvYSx-H7y"
   },
   "outputs": [],
   "source": [
    "# create the model/estimator\n",
    "xgb_9802 = XGBClassifier(booster='gbtree',\n",
    "                         subsample=0.8,\n",
    "                         colsample_bytree=0.8,\n",
    "                         objective='binary:logistic',\n",
    "                         nthread=-1,\n",
    "                         seed=seed,\n",
    "                         learning_rate=0.1,\n",
    "                         max_depth=10,\n",
    "                         min_child_weight=1,\n",
    "                         n_estimators=1000)"
   ]
  },
  {
   "cell_type": "code",
   "execution_count": 0,
   "metadata": {
    "colab": {
     "base_uri": "https://localhost:8080/",
     "height": 34
    },
    "colab_type": "code",
    "executionInfo": {
     "elapsed": 581796,
     "status": "ok",
     "timestamp": 1587432943704,
     "user": {
      "displayName": "Quyen Tran",
      "photoUrl": "",
      "userId": "06127584536630807118"
     },
     "user_tz": 420
    },
    "id": "ALmVE3db-H72",
    "outputId": "0b77011b-4516-4706-d9da-a40c2edbae0b"
   },
   "outputs": [
    {
     "name": "stdout",
     "output_type": "stream",
     "text": [
      "Training took:  0:09:41.529923\n"
     ]
    }
   ],
   "source": [
    "start = datetime.now()\n",
    "\n",
    "xgb_9802.fit(X_all, y_all)\n",
    "\n",
    "print('Training took: ', datetime.now()-start)"
   ]
  },
  {
   "cell_type": "markdown",
   "metadata": {
    "colab_type": "text",
    "id": "i39kvP4A-H74"
   },
   "source": [
    "### Performance on training and test set"
   ]
  },
  {
   "cell_type": "code",
   "execution_count": 0,
   "metadata": {
    "colab": {
     "base_uri": "https://localhost:8080/",
     "height": 977
    },
    "colab_type": "code",
    "executionInfo": {
     "elapsed": 17005,
     "status": "ok",
     "timestamp": 1587433520926,
     "user": {
      "displayName": "Quyen Tran",
      "photoUrl": "",
      "userId": "06127584536630807118"
     },
     "user_tz": 420
    },
    "id": "IRM_RxGi-H75",
    "outputId": "18c61f85-5d7f-40b8-ed92-76f6c4214932"
   },
   "outputs": [
    {
     "name": "stdout",
     "output_type": "stream",
     "text": [
      "TRAINING SET\n",
      "Threshold: 0.12\n",
      "TP: 18330\n",
      "TN: 1059675\n",
      "FP: 640\n",
      "FN: 1779\n",
      "Accuracy: 1.0\n",
      "Sensitivity: 0.91\n",
      "Specificity: 1.0\n",
      "Precision: 0.97\n",
      "Recall (Detection rate): 0.91\n",
      "F1-score: 0.94\n",
      "AUC: 1.0\n",
      "FPR (False alarm rate): 0.0\n",
      "FNR: 0.09\n",
      "Kappa: 0.94\n"
     ]
    },
    {
     "data": {
      "image/png": "[encoded data removed]",
      "text/plain": [
       "<Figure size 288x216 with 1 Axes>"
      ]
     },
     "metadata": {
      "needs_background": "light",
      "tags": []
     },
     "output_type": "display_data"
    },
    {
     "name": "stdout",
     "output_type": "stream",
     "text": [
      "TEST SET\n",
      "Threshold: 0.12\n",
      "TP: 1510\n",
      "TN: 264478\n",
      "FP: 601\n",
      "FN: 3517\n",
      "Accuracy: 0.98\n",
      "Sensitivity: 0.3\n",
      "Specificity: 1.0\n",
      "Precision: 0.72\n",
      "Recall (Detection rate): 0.3\n",
      "F1-score: 0.46\n",
      "AUC: 0.91\n",
      "FPR (False alarm rate): 0.0\n",
      "FNR: 0.7\n",
      "Kappa: 0.42\n"
     ]
    },
    {
     "data": {
      "image/png": "[encoded data removed]",
      "text/plain": [
       "<Figure size 288x216 with 1 Axes>"
      ]
     },
     "metadata": {
      "needs_background": "light",
      "tags": []
     },
     "output_type": "display_data"
    }
   ],
   "source": [
    "results_train_xgb_9802, results_test_xgb_9802, \\\n",
    "y_pred_prob_train_xgb_9802, y_pred_prob_test_xgb_9802 = model_evaluation2(xgb_9802, \n",
    "                                                                          X_all, y_all,\n",
    "                                                                          X_test, y_test,\n",
    "                                                                          print_ = 1)"
   ]
  },
  {
   "cell_type": "markdown",
   "metadata": {
    "colab_type": "text",
    "id": "l7I7Q-pb-H76"
   },
   "source": [
    "### Save results to dataframe"
   ]
  },
  {
   "cell_type": "code",
   "execution_count": 0,
   "metadata": {
    "colab": {},
    "colab_type": "code",
    "id": "G7OqiK_e-H76"
   },
   "outputs": [],
   "source": [
    "xgb_results_train = xgb_results_train.append(results_train_xgb_9802.rename(index={results_train_xgb_9802.index[-1]: 'XGB 98/02 Ratio All features'}))\n",
    "xgb_results_test = xgb_results_test.append(results_test_xgb_9802.rename(index={results_test_xgb_9802.index[-1]: 'XGB 98/02 Ratio All features'}))"
   ]
  },
  {
   "cell_type": "markdown",
   "metadata": {
    "colab_type": "text",
    "id": "02Y7-YhU-H77"
   },
   "source": [
    "# 98/02 Ratio: Feature selection"
   ]
  },
  {
   "cell_type": "code",
   "execution_count": 0,
   "metadata": {
    "colab": {},
    "colab_type": "code",
    "id": "jFaVZ7CY-H77"
   },
   "outputs": [],
   "source": [
    "# create the model/estimator\n",
    "xgb_9802_rfe = XGBClassifier(booster='gbtree',\n",
    "                             subsample=0.8,\n",
    "                             colsample_bytree=0.8,\n",
    "                             objective='binary:logistic',\n",
    "                             nthread=-1,\n",
    "                             seed=seed,\n",
    "                             learning_rate=0.1,\n",
    "                             max_depth=10,\n",
    "                             min_child_weight=1,\n",
    "                             n_estimators=1000)"
   ]
  },
  {
   "cell_type": "markdown",
   "metadata": {
    "colab_type": "text",
    "id": "UQqGKXpi-H79"
   },
   "source": [
    "### Use the selected features for 98/02 dataset"
   ]
  },
  {
   "cell_type": "code",
   "execution_count": 0,
   "metadata": {
    "colab": {},
    "colab_type": "code",
    "id": "1zirZ3OW-H79"
   },
   "outputs": [],
   "source": [
    "X_9802_rfe, y_9802_rfe = X_all.loc[:, rfe_feat], y_all"
   ]
  },
  {
   "cell_type": "markdown",
   "metadata": {
    "colab_type": "text",
    "id": "wNUyUg8w-H7-"
   },
   "source": [
    "### Model"
   ]
  },
  {
   "cell_type": "code",
   "execution_count": 0,
   "metadata": {
    "colab": {
     "base_uri": "https://localhost:8080/",
     "height": 34
    },
    "colab_type": "code",
    "executionInfo": {
     "elapsed": 404380,
     "status": "ok",
     "timestamp": 1587525169265,
     "user": {
      "displayName": "Quyen Tran",
      "photoUrl": "",
      "userId": "06127584536630807118"
     },
     "user_tz": 420
    },
    "id": "RnH40v22-H7-",
    "outputId": "0f858f52-6da3-4112-8800-a946e39f19a0"
   },
   "outputs": [
    {
     "name": "stdout",
     "output_type": "stream",
     "text": [
      "Training took:  0:06:44.158436\n"
     ]
    }
   ],
   "source": [
    "start = datetime.now()\n",
    "\n",
    "xgb_9802_rfe.fit(X_9802_rfe, y_9802_rfe)\n",
    "\n",
    "print('Training took: ', datetime.now()-start)"
   ]
  },
  {
   "cell_type": "markdown",
   "metadata": {
    "colab_type": "text",
    "id": "G9vZaHz6-H8A"
   },
   "source": [
    "### Model Performance"
   ]
  },
  {
   "cell_type": "code",
   "execution_count": 0,
   "metadata": {
    "colab": {
     "base_uri": "https://localhost:8080/",
     "height": 977
    },
    "colab_type": "code",
    "executionInfo": {
     "elapsed": 19516,
     "status": "ok",
     "timestamp": 1587525204424,
     "user": {
      "displayName": "Quyen Tran",
      "photoUrl": "",
      "userId": "06127584536630807118"
     },
     "user_tz": 420
    },
    "id": "NuWDM7oZ-H8A",
    "outputId": "21e79bd5-edd8-45de-a36b-b61d05b02921"
   },
   "outputs": [
    {
     "name": "stdout",
     "output_type": "stream",
     "text": [
      "TRAINING SET\n",
      "Threshold: 0.26\n",
      "TP: 20062\n",
      "TN: 1060282\n",
      "FP: 33\n",
      "FN: 47\n",
      "Accuracy: 1.0\n",
      "Sensitivity: 1.0\n",
      "Specificity: 1.0\n",
      "Precision: 1.0\n",
      "Recall (Detection rate): 1.0\n",
      "F1-score: 1.0\n",
      "AUC: 1.0\n",
      "FPR (False alarm rate): 0.0\n",
      "FNR: 0.0\n",
      "Kappa: 1.0\n"
     ]
    },
    {
     "data": {
      "image/png": "[encoded data removed]",
      "text/plain": [
       "<Figure size 288x216 with 1 Axes>"
      ]
     },
     "metadata": {
      "needs_background": "light",
      "tags": []
     },
     "output_type": "display_data"
    },
    {
     "name": "stdout",
     "output_type": "stream",
     "text": [
      "TEST SET\n",
      "Threshold: 0.26\n",
      "TP: 2702\n",
      "TN: 264969\n",
      "FP: 110\n",
      "FN: 2325\n",
      "Accuracy: 0.99\n",
      "Sensitivity: 0.54\n",
      "Specificity: 1.0\n",
      "Precision: 0.96\n",
      "Recall (Detection rate): 0.54\n",
      "F1-score: 0.81\n",
      "AUC: 0.99\n",
      "FPR (False alarm rate): 0.0\n",
      "FNR: 0.46\n",
      "Kappa: 0.69\n"
     ]
    },
    {
     "data": {
      "image/png": "[encoded data removed]",
      "text/plain": [
       "<Figure size 288x216 with 1 Axes>"
      ]
     },
     "metadata": {
      "needs_background": "light",
      "tags": []
     },
     "output_type": "display_data"
    }
   ],
   "source": [
    "results_train_xgb_9802_rfe, results_test_xgb_9802_rfe, \\\n",
    "y_pred_prob_train_xgb_9802_rfe, y_pred_prob_test_xgb_9802_rfe = model_evaluation2(xgb_9802_rfe, \n",
    "                                                                                  X_9802_rfe, y_9802_rfe,\n",
    "                                                                                  X_test.loc[:, rfe_feat], y_test,\n",
    "                                                                                  print_ = 1)"
   ]
  },
  {
   "cell_type": "markdown",
   "metadata": {
    "colab_type": "text",
    "id": "kkwmQP_6-H8C"
   },
   "source": [
    "### Save results to dataframe"
   ]
  },
  {
   "cell_type": "code",
   "execution_count": 0,
   "metadata": {
    "colab": {},
    "colab_type": "code",
    "id": "wdRiS3Xj-H8C"
   },
   "outputs": [],
   "source": [
    "xgb_results_train = xgb_results_train.append(results_train_xgb_9802_rfe.rename(index={results_train_xgb_9802_rfe.index[-1]: 'XGB 98/02 Ratio with Feature Selection'}))\n",
    "xgb_results_test = xgb_results_test.append(results_test_xgb_9802_rfe.rename(index={results_test_xgb_9802_rfe.index[-1]: 'XGB 98/02 Ratio with Feature Selection'}))"
   ]
  },
  {
   "cell_type": "markdown",
   "metadata": {
    "colab_type": "text",
    "id": "ztn6Mt_5EQXB"
   },
   "source": [
    "### Save the training and test dataframes to csv files"
   ]
  },
  {
   "cell_type": "code",
   "execution_count": 0,
   "metadata": {
    "colab": {},
    "colab_type": "code",
    "id": "wjN-79F_EPE6"
   },
   "outputs": [],
   "source": [
    "xgb_results_train.to_csv('XGB_Train_Results.csv', index=True)\n",
    "xgb_results_test.to_csv('XGB_Test_Results.csv', index=True)"
   ]
  },
  {
   "cell_type": "markdown",
   "metadata": {
    "colab_type": "text",
    "id": "Dk2ZMEKKDanT"
   },
   "source": [
    "### Save the best XGBoost model (model with highest F1-score on test set)"
   ]
  },
  {
   "cell_type": "code",
   "execution_count": 0,
   "metadata": {
    "colab": {
     "base_uri": "https://localhost:8080/",
     "height": 34
    },
    "colab_type": "code",
    "executionInfo": {
     "elapsed": 431,
     "status": "ok",
     "timestamp": 1587521244986,
     "user": {
      "displayName": "An Tran",
      "photoUrl": "",
      "userId": "10274312836707434279"
     },
     "user_tz": 420
    },
    "id": "xRl41Fhnd1nU",
    "outputId": "5c4352b2-a364-4d63-e3c0-2d0894f884e6"
   },
   "outputs": [
    {
     "name": "stdout",
     "output_type": "stream",
     "text": [
      "Best model:  XGB 98/02 Ratio with Feature Selection\n"
     ]
    }
   ],
   "source": [
    "print('Best model: ', xgb_results_test.sort_values(by='F1', axis=0, ascending=False).index[0])"
   ]
  },
  {
   "cell_type": "code",
   "execution_count": null,
   "metadata": {},
   "outputs": [],
   "source": []
  }
 ],
 "metadata": {
  "accelerator": "TPU",
  "colab": {
   "collapsed_sections": [],
   "machine_shape": "hm",
   "name": "xgb.ipynb",
   "provenance": [],
   "toc_visible": true
  },
  "kernelspec": {
   "display_name": "Python 3",
   "language": "python",
   "name": "python3"
  },
  "language_info": {
   "codemirror_mode": {
    "name": "ipython",
    "version": 3
   },
   "file_extension": ".py",
   "mimetype": "text/x-python",
   "name": "python",
   "nbconvert_exporter": "python",
   "pygments_lexer": "ipython3",
   "version": "3.6.8"
  }
 },
 "nbformat": 4,
 "nbformat_minor": 1
}
